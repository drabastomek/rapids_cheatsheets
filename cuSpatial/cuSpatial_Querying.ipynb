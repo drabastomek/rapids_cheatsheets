{
 "cells": [
  {
   "cell_type": "markdown",
   "metadata": {},
   "source": [
    "# cuSpatial Cheat Sheets sample code\n",
    "\n",
    "(c) 2020 NVIDIA, Blazing SQL\n",
    "\n",
    "Distributed under Apache License 2.0"
   ]
  },
  {
   "cell_type": "markdown",
   "metadata": {},
   "source": [
    "## Imports"
   ]
  },
  {
   "cell_type": "code",
   "execution_count": 1,
   "metadata": {},
   "outputs": [],
   "source": [
    "import cudf\n",
    "import cuspatial\n",
    "import numpy as np\n",
    "import math\n",
    "import cupy as cp"
   ]
  },
  {
   "cell_type": "markdown",
   "metadata": {},
   "source": [
    "# Read data"
   ]
  },
  {
   "cell_type": "code",
   "execution_count": 2,
   "metadata": {},
   "outputs": [],
   "source": [
    "ring, poly_idx, polygons = cuspatial.io.shapefile.read_polygon_shapefile('../data/gadm36_USA_1.shp')\n",
    "polygons = polygons.rename(columns={'x': 'longitude', 'y': 'latitude'})\n",
    "polygons['line'] = cp.random.randint(10,240, len(polygons))\n",
    "polygons = polygons.query(\n",
    "        'longitude > -130'\n",
    "        ' and longitude < 70'\n",
    "        ' and latitude < 50'\n",
    "    )"
   ]
  },
  {
   "cell_type": "markdown",
   "metadata": {},
   "source": [
    "## Querying geospatial data"
   ]
  },
  {
   "cell_type": "code",
   "execution_count": 72,
   "metadata": {},
   "outputs": [
    {
     "name": "stdout",
     "output_type": "stream",
     "text": [
      "min_size:   50\n",
      "num_points: 120\n",
      "min_x:      -1276.4949079170394\n",
      "max_x:      1134.877311993804\n",
      "min_y:      -1111.7015761122134\n",
      "max_y:      1191.572387431971\n",
      "scale:      301.0\n",
      "\n"
     ]
    }
   ],
   "source": [
    "np.random.seed(0)\n",
    "points = cudf.DataFrame({\n",
    "        \"x\": cudf.Series(np.random.normal(size=120)) * 500,\n",
    "        \"y\": cudf.Series(np.random.normal(size=120)) * 500,\n",
    "    })\n",
    "\n",
    "max_depth = 3\n",
    "min_size = 50\n",
    "min_x, min_y, max_x, max_y = (points[\"x\"].min(),\n",
    "                                  points[\"y\"].min(),\n",
    "                                  points[\"x\"].max(),\n",
    "                                  points[\"y\"].max())\n",
    "scale = max(max_x - min_x, max_y - min_y) // (1 << max_depth)\n",
    "print(\n",
    "        \"min_size:   \" + str(min_size) + \"\\n\"\n",
    "        \"num_points: \" + str(len(points)) + \"\\n\"\n",
    "        \"min_x:      \" + str(min_x) + \"\\n\"\n",
    "        \"max_x:      \" + str(max_x) + \"\\n\"\n",
    "        \"min_y:      \" + str(min_y) + \"\\n\"\n",
    "        \"max_y:      \" + str(max_y) + \"\\n\"\n",
    "        \"scale:      \" + str(scale) + \"\\n\"\n",
    "    )"
   ]
  },
  {
   "cell_type": "code",
   "execution_count": 150,
   "metadata": {},
   "outputs": [
    {
     "name": "stdout",
     "output_type": "stream",
     "text": [
      "    key  level  is_quad  length  offset\n",
      "0     0      0    False      33       0\n",
      "1     1      0    False      37      33\n",
      "2     2      0    False      18      70\n",
      "3     3      0    False      31      97\n",
      "4     6      0    False       1     159\n",
      "5    38      2    False       1      88\n",
      "6    39      2    False       5      89\n",
      "7    41      2    False       1      94\n",
      "8    45      2    False       1      95\n",
      "9    47      2    False       1      96\n",
      "10   48      2    False      10     128\n",
      "11   49      2    False       6     138\n",
      "12   50      2    False       1     144\n",
      "13   51      2    False       1     145\n",
      "14   52      2    False       4     146\n",
      "15   53      2    False       3     150\n",
      "16   54      2    False       1     153\n",
      "17   55      2    False       1     154\n",
      "18   56      2    False       2     155\n",
      "19   57      2    False       1     157\n",
      "20   58      2    False       1     158\n",
      "21  106      2    False       1     160\n",
      "0       63\n",
      "1       20\n",
      "2       66\n",
      "3      117\n",
      "4       19\n",
      "      ... \n",
      "115     31\n",
      "116     69\n",
      "117    116\n",
      "118     98\n",
      "119     24\n",
      "Length: 120, dtype: uint32\n"
     ]
    }
   ],
   "source": [
    "key_to_point, quadtree = cuspatial.quadtree_on_points(\n",
    "        points[\"x\"],\n",
    "        points[\"y\"],\n",
    "        min_x,\n",
    "        max_x,\n",
    "        min_y,\n",
    "        max_y,\n",
    "        scale, max_depth, min_size\n",
    "    )\n",
    "\n",
    "print(quadtree)\n",
    "print(key_to_point)"
   ]
  },
  {
   "cell_type": "code",
   "execution_count": 111,
   "metadata": {},
   "outputs": [
    {
     "data": {
      "text/html": [
       "<div>\n",
       "<style scoped>\n",
       "    .dataframe tbody tr th:only-of-type {\n",
       "        vertical-align: middle;\n",
       "    }\n",
       "\n",
       "    .dataframe tbody tr th {\n",
       "        vertical-align: top;\n",
       "    }\n",
       "\n",
       "    .dataframe thead th {\n",
       "        text-align: right;\n",
       "    }\n",
       "</style>\n",
       "<table border=\"1\" class=\"dataframe\">\n",
       "  <thead>\n",
       "    <tr style=\"text-align: right;\">\n",
       "      <th></th>\n",
       "      <th>key</th>\n",
       "      <th>level</th>\n",
       "      <th>is_quad</th>\n",
       "      <th>length</th>\n",
       "      <th>offset</th>\n",
       "    </tr>\n",
       "  </thead>\n",
       "  <tbody>\n",
       "    <tr>\n",
       "      <th>0</th>\n",
       "      <td>0</td>\n",
       "      <td>0</td>\n",
       "      <td>False</td>\n",
       "      <td>33</td>\n",
       "      <td>0</td>\n",
       "    </tr>\n",
       "    <tr>\n",
       "      <th>1</th>\n",
       "      <td>1</td>\n",
       "      <td>0</td>\n",
       "      <td>False</td>\n",
       "      <td>37</td>\n",
       "      <td>33</td>\n",
       "    </tr>\n",
       "    <tr>\n",
       "      <th>2</th>\n",
       "      <td>2</td>\n",
       "      <td>0</td>\n",
       "      <td>False</td>\n",
       "      <td>18</td>\n",
       "      <td>70</td>\n",
       "    </tr>\n",
       "    <tr>\n",
       "      <th>3</th>\n",
       "      <td>3</td>\n",
       "      <td>0</td>\n",
       "      <td>False</td>\n",
       "      <td>31</td>\n",
       "      <td>88</td>\n",
       "    </tr>\n",
       "    <tr>\n",
       "      <th>4</th>\n",
       "      <td>6</td>\n",
       "      <td>0</td>\n",
       "      <td>False</td>\n",
       "      <td>1</td>\n",
       "      <td>119</td>\n",
       "    </tr>\n",
       "  </tbody>\n",
       "</table>\n",
       "</div>"
      ],
      "text/plain": [
       "   key  level  is_quad  length  offset\n",
       "0    0      0    False      33       0\n",
       "1    1      0    False      37      33\n",
       "2    2      0    False      18      70\n",
       "3    3      0    False      31      88\n",
       "4    6      0    False       1     119"
      ]
     },
     "execution_count": 111,
     "metadata": {},
     "output_type": "execute_result"
    }
   ],
   "source": [
    "quadtree"
   ]
  },
  {
   "cell_type": "markdown",
   "metadata": {},
   "source": [
    "#### cuspatial.core.CubicSpline"
   ]
  },
  {
   "cell_type": "code",
   "execution_count": 3,
   "metadata": {},
   "outputs": [],
   "source": [
    "t = cudf.Series(np.repeat(cp.arange(100), 1000)).astype('float32')\n",
    "y = cudf.Series(np.random.random(100*1000)).astype('float32')\n",
    "\n",
    "prefix_sum = cudf.Series(cp.arange(1000)*100).astype('int32')\n",
    "\n",
    "new_samples = cudf.Series(\n",
    "    np.repeat(np.linspace(0, 100, 1000), 1000)\n",
    ").astype('float32')\n",
    "\n",
    "curve = cuspatial.CubicSpline(t, y, prefixes=prefix_sum)\n",
    "# new_points = curve(new_samples, prefix_sum*10)"
   ]
  },
  {
   "cell_type": "markdown",
   "metadata": {},
   "source": [
    "#### cuspatial.core.spatial_window.points_in_spatial_window"
   ]
  },
  {
   "cell_type": "code",
   "execution_count": 10,
   "metadata": {},
   "outputs": [
    {
     "data": {
      "text/html": [
       "<div>\n",
       "<style scoped>\n",
       "    .dataframe tbody tr th:only-of-type {\n",
       "        vertical-align: middle;\n",
       "    }\n",
       "\n",
       "    .dataframe tbody tr th {\n",
       "        vertical-align: top;\n",
       "    }\n",
       "\n",
       "    .dataframe thead th {\n",
       "        text-align: right;\n",
       "    }\n",
       "</style>\n",
       "<table border=\"1\" class=\"dataframe\">\n",
       "  <thead>\n",
       "    <tr style=\"text-align: right;\">\n",
       "      <th></th>\n",
       "      <th>x</th>\n",
       "      <th>y</th>\n",
       "      <th>line</th>\n",
       "    </tr>\n",
       "  </thead>\n",
       "  <tbody>\n",
       "    <tr>\n",
       "      <th>0</th>\n",
       "      <td>49.000416</td>\n",
       "      <td>-116.942093</td>\n",
       "      <td>42</td>\n",
       "    </tr>\n",
       "    <tr>\n",
       "      <th>1</th>\n",
       "      <td>49.000031</td>\n",
       "      <td>-116.981636</td>\n",
       "      <td>82</td>\n",
       "    </tr>\n",
       "    <tr>\n",
       "      <th>2</th>\n",
       "      <td>48.999596</td>\n",
       "      <td>-117.026794</td>\n",
       "      <td>63</td>\n",
       "    </tr>\n",
       "    <tr>\n",
       "      <th>3</th>\n",
       "      <td>48.999615</td>\n",
       "      <td>-117.029434</td>\n",
       "      <td>50</td>\n",
       "    </tr>\n",
       "    <tr>\n",
       "      <th>4</th>\n",
       "      <td>48.942539</td>\n",
       "      <td>-117.030739</td>\n",
       "      <td>145</td>\n",
       "    </tr>\n",
       "  </tbody>\n",
       "</table>\n",
       "</div>"
      ],
      "text/plain": [
       "           x           y  line\n",
       "0  49.000416 -116.942093    42\n",
       "1  49.000031 -116.981636    82\n",
       "2  48.999596 -117.026794    63\n",
       "3  48.999615 -117.029434    50\n",
       "4  48.942539 -117.030739   145"
      ]
     },
     "execution_count": 10,
     "metadata": {},
     "output_type": "execute_result"
    }
   ],
   "source": [
    "wa_state = cuspatial.points_in_spatial_window(\n",
    "    45.543541\n",
    "    , 49.002494\n",
    "    , -116.915989\n",
    "    , -124.763068\n",
    "    , polygons['latitude']\n",
    "    , polygons['longitude']\n",
    ").reset_index(drop=True)\n",
    "\n",
    "wa_state['line'] = cp.random.randint(10,240, len(wa_state))\n",
    "wa_state.head()"
   ]
  },
  {
   "cell_type": "code",
   "execution_count": 14,
   "metadata": {},
   "outputs": [
    {
     "data": {
      "image/png": "[encoded data removed]",
      "text/html": [
       "<img style=\"margin: auto; border:1px solid\" src='data:image/png;base64,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'/>"
      ],
      "text/plain": [
       "<xarray.Image (y: 625, x: 700)>\n",
       "array([[         0,          0,          0, ...,          0,          0,\n",
       "                 0],\n",
       "       [         0,          0,          0, ...,          0,          0,\n",
       "                 0],\n",
       "       [         0,          0,          0, ...,          0,          0,\n",
       "                 0],\n",
       "       ...,\n",
       "       [         0,          0,          0, ...,          0,          0,\n",
       "                 0],\n",
       "       [         0,          0,          0, ...,          0,          0,\n",
       "        4293252523],\n",
       "       [         0,          0,          0, ...,          0,          0,\n",
       "                 0]], dtype=uint32)\n",
       "Coordinates:\n",
       "  * x        (x) float64 45.55 45.55 45.56 45.56 45.57 ... 48.99 48.99 49.0 49.0\n",
       "  * y        (y) float64 -124.8 -124.7 -124.7 -124.7 ... -116.9 -116.9 -116.9"
      ]
     },
     "execution_count": 14,
     "metadata": {},
     "output_type": "execute_result"
    }
   ],
   "source": [
    "import datashader as ds\n",
    "from datashader import transfer_functions as tf\n",
    "from datashader.colors import Hot\n",
    "\n",
    "cvs = ds.Canvas(plot_width=700, plot_height=625)\n",
    "agg = cvs.points(wa_state, 'x', 'y', ds.mean('line')) # Perform aggregation\n",
    "img = tf.shade(agg, cmap=['lightblue', 'darkblue'], how='eq_hist') # Produce image from aggregation\n",
    "\n",
    "img"
   ]
  },
  {
   "cell_type": "markdown",
   "metadata": {},
   "source": [
    "#### cuspatial.core.spatial_join.join_quadtree_and_bounding_boxes"
   ]
  },
  {
   "cell_type": "code",
   "execution_count": 3,
   "metadata": {},
   "outputs": [
    {
     "ename": "RuntimeError",
     "evalue": "transform: failed to synchronize: cudaErrorIllegalAddress: an illegal memory access was encountered",
     "output_type": "error",
     "traceback": [
      "\u001b[0;31m---------------------------------------------------------------------------\u001b[0m",
      "\u001b[0;31mRuntimeError\u001b[0m                              Traceback (most recent call last)",
      "\u001b[0;32m<ipython-input-3-73bb385a0a25>\u001b[0m in \u001b[0;36m<module>\u001b[0;34m\u001b[0m\n\u001b[1;32m      3\u001b[0m     \u001b[0;34m,\u001b[0m \u001b[0mpolygons\u001b[0m\u001b[0;34m[\u001b[0m\u001b[0;34m'longitude'\u001b[0m\u001b[0;34m]\u001b[0m\u001b[0;34m\u001b[0m\u001b[0;34m\u001b[0m\u001b[0m\n\u001b[1;32m      4\u001b[0m     \u001b[0;34m,\u001b[0m \u001b[0mpolygons\u001b[0m\u001b[0;34m[\u001b[0m\u001b[0;34m'latitude'\u001b[0m\u001b[0;34m]\u001b[0m\u001b[0;34m\u001b[0m\u001b[0;34m\u001b[0m\u001b[0m\n\u001b[0;32m----> 5\u001b[0;31m     \u001b[0;34m,\u001b[0m \u001b[0;36m0.01\u001b[0m\u001b[0;34m\u001b[0m\u001b[0;34m\u001b[0m\u001b[0m\n\u001b[0m\u001b[1;32m      6\u001b[0m )\n",
      "\u001b[0;32m/opt/conda/envs/rapids/lib/python3.7/site-packages/cuspatial/core/gis.py\u001b[0m in \u001b[0;36mpolyline_bounding_boxes\u001b[0;34m(poly_offsets, xs, ys, expansion_radius)\u001b[0m\n\u001b[1;32m    324\u001b[0m     \u001b[0mxs\u001b[0m\u001b[0;34m,\u001b[0m \u001b[0mys\u001b[0m \u001b[0;34m=\u001b[0m \u001b[0mnormalize_point_columns\u001b[0m\u001b[0;34m(\u001b[0m\u001b[0mas_column\u001b[0m\u001b[0;34m(\u001b[0m\u001b[0mxs\u001b[0m\u001b[0;34m)\u001b[0m\u001b[0;34m,\u001b[0m \u001b[0mas_column\u001b[0m\u001b[0;34m(\u001b[0m\u001b[0mys\u001b[0m\u001b[0;34m)\u001b[0m\u001b[0;34m)\u001b[0m\u001b[0;34m\u001b[0m\u001b[0;34m\u001b[0m\u001b[0m\n\u001b[1;32m    325\u001b[0m     return DataFrame._from_table(\n\u001b[0;32m--> 326\u001b[0;31m         \u001b[0mcpp_polyline_bounding_boxes\u001b[0m\u001b[0;34m(\u001b[0m\u001b[0mpoly_offsets\u001b[0m\u001b[0;34m,\u001b[0m \u001b[0mxs\u001b[0m\u001b[0;34m,\u001b[0m \u001b[0mys\u001b[0m\u001b[0;34m,\u001b[0m \u001b[0mexpansion_radius\u001b[0m\u001b[0;34m)\u001b[0m\u001b[0;34m\u001b[0m\u001b[0;34m\u001b[0m\u001b[0m\n\u001b[0m\u001b[1;32m    327\u001b[0m     )\n",
      "\u001b[0;32mcuspatial/_lib/polyline_bounding_boxes.pyx\u001b[0m in \u001b[0;36mcuspatial._lib.polyline_bounding_boxes.polyline_bounding_boxes\u001b[0;34m()\u001b[0m\n",
      "\u001b[0;32mcuspatial/_lib/polyline_bounding_boxes.pyx\u001b[0m in \u001b[0;36mcuspatial._lib.polyline_bounding_boxes.polyline_bounding_boxes\u001b[0;34m()\u001b[0m\n",
      "\u001b[0;31mRuntimeError\u001b[0m: transform: failed to synchronize: cudaErrorIllegalAddress: an illegal memory access was encountered"
     ]
    }
   ],
   "source": [
    "bounding_boxes = cuspatial.polyline_bounding_boxes(\n",
    "    poly_idx\n",
    "    , polygons['longitude']\n",
    "    , polygons['latitude']\n",
    "    , 0.01\n",
    ")"
   ]
  },
  {
   "cell_type": "markdown",
   "metadata": {},
   "source": [
    "#### cuspatial.core.spatial_join.quadtree_point_in_polygon"
   ]
  },
  {
   "cell_type": "code",
   "execution_count": null,
   "metadata": {},
   "outputs": [],
   "source": []
  },
  {
   "cell_type": "markdown",
   "metadata": {},
   "source": [
    "#### cuspatial.core.spatial_join.quadtree_point_to_nearest_polyline"
   ]
  },
  {
   "cell_type": "code",
   "execution_count": null,
   "metadata": {},
   "outputs": [],
   "source": []
  },
  {
   "cell_type": "code",
   "execution_count": null,
   "metadata": {},
   "outputs": [],
   "source": []
  },
  {
   "cell_type": "code",
   "execution_count": null,
   "metadata": {},
   "outputs": [],
   "source": []
  },
  {
   "cell_type": "code",
   "execution_count": null,
   "metadata": {},
   "outputs": [],
   "source": []
  },
  {
   "cell_type": "code",
   "execution_count": null,
   "metadata": {},
   "outputs": [],
   "source": []
  },
  {
   "cell_type": "markdown",
   "metadata": {},
   "source": [
    "#### cuspatial.core.trajectory.derive_trajectories\n",
    "#### cuspatial.core.trajectory.trajectory_bounding_boxes\n",
    "#### cuspatial.core.trajectory.trajectory_distances_and_speeds"
   ]
  },
  {
   "cell_type": "code",
   "execution_count": null,
   "metadata": {},
   "outputs": [],
   "source": []
  },
  {
   "cell_type": "code",
   "execution_count": null,
   "metadata": {},
   "outputs": [],
   "source": []
  },
  {
   "cell_type": "code",
   "execution_count": null,
   "metadata": {},
   "outputs": [],
   "source": []
  },
  {
   "cell_type": "code",
   "execution_count": null,
   "metadata": {},
   "outputs": [],
   "source": []
  },
  {
   "cell_type": "code",
   "execution_count": null,
   "metadata": {},
   "outputs": [],
   "source": []
  },
  {
   "cell_type": "code",
   "execution_count": null,
   "metadata": {},
   "outputs": [],
   "source": []
  },
  {
   "cell_type": "code",
   "execution_count": null,
   "metadata": {},
   "outputs": [],
   "source": []
  }
 ],
 "metadata": {
  "kernelspec": {
   "display_name": "Python 3",
   "language": "python",
   "name": "python3"
  },
  "language_info": {
   "codemirror_mode": {
    "name": "ipython",
    "version": 3
   },
   "file_extension": ".py",
   "mimetype": "text/x-python",
   "name": "python",
   "nbconvert_exporter": "python",
   "pygments_lexer": "ipython3",
   "version": "3.7.8"
  }
 },
 "nbformat": 4,
 "nbformat_minor": 4
}
