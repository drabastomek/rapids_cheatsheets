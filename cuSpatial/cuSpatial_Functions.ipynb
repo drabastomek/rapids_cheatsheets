{
 "cells": [
  {
   "cell_type": "markdown",
   "metadata": {},
   "source": [
    "# cuSpatial Cheat Sheets sample code\n",
    "\n",
    "(c) 2020 NVIDIA, Blazing SQL\n",
    "\n",
    "Distributed under Apache License 2.0"
   ]
  },
  {
   "cell_type": "markdown",
   "metadata": {},
   "source": [
    "## Imports"
   ]
  },
  {
   "cell_type": "code",
   "execution_count": 1,
   "metadata": {},
   "outputs": [],
   "source": [
    "import cudf\n",
    "import cuspatial\n",
    "import numpy as np\n",
    "import math\n",
    "import cupy as cp"
   ]
  },
  {
   "cell_type": "markdown",
   "metadata": {},
   "source": [
    "# Read data"
   ]
  },
  {
   "cell_type": "code",
   "execution_count": 2,
   "metadata": {},
   "outputs": [],
   "source": [
    "ring, poly_idx, polygons = cuspatial.io.shapefile.read_polygon_shapefile('../data/gadm36_USA_1.shp')\n",
    "polygons = polygons.rename(columns={'x': 'longitude', 'y': 'latitude'})\n",
    "polygons['line'] = cp.random.randint(10,240, len(polygons))\n",
    "polygons = polygons.query(\n",
    "        'longitude > -130'\n",
    "        ' and longitude < 70'\n",
    "        ' and latitude < 50'\n",
    "    )"
   ]
  },
  {
   "cell_type": "markdown",
   "metadata": {},
   "source": [
    "## GeoSpatial functions"
   ]
  },
  {
   "cell_type": "markdown",
   "metadata": {},
   "source": [
    "#### cuspatial.core.gis.directed_hausdorff_distance"
   ]
  },
  {
   "cell_type": "code",
   "execution_count": 3,
   "metadata": {},
   "outputs": [
    {
     "data": {
      "text/html": [
       "<div>\n",
       "<style scoped>\n",
       "    .dataframe tbody tr th:only-of-type {\n",
       "        vertical-align: middle;\n",
       "    }\n",
       "\n",
       "    .dataframe tbody tr th {\n",
       "        vertical-align: top;\n",
       "    }\n",
       "\n",
       "    .dataframe thead th {\n",
       "        text-align: right;\n",
       "    }\n",
       "</style>\n",
       "<table border=\"1\" class=\"dataframe\">\n",
       "  <thead>\n",
       "    <tr style=\"text-align: right;\">\n",
       "      <th></th>\n",
       "      <th>0</th>\n",
       "      <th>1</th>\n",
       "    </tr>\n",
       "  </thead>\n",
       "  <tbody>\n",
       "    <tr>\n",
       "      <th>0</th>\n",
       "      <td>2.350696e-308</td>\n",
       "      <td>2.476726e-308</td>\n",
       "    </tr>\n",
       "    <tr>\n",
       "      <th>1</th>\n",
       "      <td>2.602755e-308</td>\n",
       "      <td>0.000000e+00</td>\n",
       "    </tr>\n",
       "  </tbody>\n",
       "</table>\n",
       "</div>"
      ],
      "text/plain": [
       "               0              1\n",
       "0  2.350696e-308  2.476726e-308\n",
       "1  2.602755e-308   0.000000e+00"
      ]
     },
     "execution_count": 3,
     "metadata": {},
     "output_type": "execute_result"
    }
   ],
   "source": [
    "cuspatial.directed_hausdorff_distance(cudf.Series([0,1,0,0]), cudf.Series([0,0,1,2]), [2,2])"
   ]
  },
  {
   "cell_type": "markdown",
   "metadata": {},
   "source": [
    "#### cuspatial.core.gis.haversine_distance"
   ]
  },
  {
   "cell_type": "code",
   "execution_count": 5,
   "metadata": {},
   "outputs": [
    {
     "data": {
      "text/html": [
       "<div>\n",
       "<style scoped>\n",
       "    .dataframe tbody tr th:only-of-type {\n",
       "        vertical-align: middle;\n",
       "    }\n",
       "\n",
       "    .dataframe tbody tr th {\n",
       "        vertical-align: top;\n",
       "    }\n",
       "\n",
       "    .dataframe thead th {\n",
       "        text-align: right;\n",
       "    }\n",
       "</style>\n",
       "<table border=\"1\" class=\"dataframe\">\n",
       "  <thead>\n",
       "    <tr style=\"text-align: right;\">\n",
       "      <th></th>\n",
       "      <th>longitude</th>\n",
       "      <th>latitude</th>\n",
       "      <th>line</th>\n",
       "      <th>us_center_lat</th>\n",
       "      <th>us_center_lon</th>\n",
       "      <th>distance</th>\n",
       "    </tr>\n",
       "  </thead>\n",
       "  <tbody>\n",
       "    <tr>\n",
       "      <th>0</th>\n",
       "      <td>-87.970001</td>\n",
       "      <td>30.676666</td>\n",
       "      <td>106</td>\n",
       "      <td>39.833333</td>\n",
       "      <td>-98.585522</td>\n",
       "      <td>1178.059263</td>\n",
       "    </tr>\n",
       "    <tr>\n",
       "      <th>1</th>\n",
       "      <td>-87.971664</td>\n",
       "      <td>30.676666</td>\n",
       "      <td>124</td>\n",
       "      <td>39.833333</td>\n",
       "      <td>-98.585522</td>\n",
       "      <td>1177.875874</td>\n",
       "    </tr>\n",
       "    <tr>\n",
       "      <th>2</th>\n",
       "      <td>-87.971947</td>\n",
       "      <td>30.676390</td>\n",
       "      <td>64</td>\n",
       "      <td>39.833333</td>\n",
       "      <td>-98.585522</td>\n",
       "      <td>1177.844607</td>\n",
       "    </tr>\n",
       "    <tr>\n",
       "      <th>3</th>\n",
       "      <td>-87.972221</td>\n",
       "      <td>30.676390</td>\n",
       "      <td>168</td>\n",
       "      <td>39.833333</td>\n",
       "      <td>-98.585522</td>\n",
       "      <td>1177.814323</td>\n",
       "    </tr>\n",
       "    <tr>\n",
       "      <th>4</th>\n",
       "      <td>-87.972221</td>\n",
       "      <td>30.675278</td>\n",
       "      <td>161</td>\n",
       "      <td>39.833333</td>\n",
       "      <td>-98.585522</td>\n",
       "      <td>1177.813758</td>\n",
       "    </tr>\n",
       "  </tbody>\n",
       "</table>\n",
       "</div>"
      ],
      "text/plain": [
       "   longitude   latitude  line  us_center_lat  us_center_lon     distance\n",
       "0 -87.970001  30.676666   106      39.833333     -98.585522  1178.059263\n",
       "1 -87.971664  30.676666   124      39.833333     -98.585522  1177.875874\n",
       "2 -87.971947  30.676390    64      39.833333     -98.585522  1177.844607\n",
       "3 -87.972221  30.676390   168      39.833333     -98.585522  1177.814323\n",
       "4 -87.972221  30.675278   161      39.833333     -98.585522  1177.813758"
      ]
     },
     "execution_count": 5,
     "metadata": {},
     "output_type": "execute_result"
    }
   ],
   "source": [
    "us_center = [39.8333333, -98.585522]\n",
    "polygons['us_center_lat'] = us_center[0]\n",
    "polygons['us_center_lon'] = us_center[1]\n",
    "\n",
    "polygons['distance'] = cuspatial.haversine_distance(\n",
    "    polygons['latitude']\n",
    "    , polygons['longitude']\n",
    "    , polygons['us_center_lat']\n",
    "    , polygons['us_center_lon']\n",
    ")\n",
    "polygons.head()"
   ]
  },
  {
   "cell_type": "markdown",
   "metadata": {},
   "source": [
    "#### cuspatial.core.gis.lonlat_to_cartesian"
   ]
  },
  {
   "cell_type": "code",
   "execution_count": 6,
   "metadata": {},
   "outputs": [
    {
     "data": {
      "text/html": [
       "<div>\n",
       "<style scoped>\n",
       "    .dataframe tbody tr th:only-of-type {\n",
       "        vertical-align: middle;\n",
       "    }\n",
       "\n",
       "    .dataframe tbody tr th {\n",
       "        vertical-align: top;\n",
       "    }\n",
       "\n",
       "    .dataframe thead th {\n",
       "        text-align: right;\n",
       "    }\n",
       "</style>\n",
       "<table border=\"1\" class=\"dataframe\">\n",
       "  <thead>\n",
       "    <tr style=\"text-align: right;\">\n",
       "      <th></th>\n",
       "      <th>x</th>\n",
       "      <th>y</th>\n",
       "    </tr>\n",
       "  </thead>\n",
       "  <tbody>\n",
       "    <tr>\n",
       "      <th>0</th>\n",
       "      <td>-963.171193</td>\n",
       "      <td>1017.407449</td>\n",
       "    </tr>\n",
       "    <tr>\n",
       "      <th>1</th>\n",
       "      <td>-963.020286</td>\n",
       "      <td>1017.407449</td>\n",
       "    </tr>\n",
       "    <tr>\n",
       "      <th>2</th>\n",
       "      <td>-962.996316</td>\n",
       "      <td>1017.438179</td>\n",
       "    </tr>\n",
       "    <tr>\n",
       "      <th>3</th>\n",
       "      <td>-962.971396</td>\n",
       "      <td>1017.438179</td>\n",
       "    </tr>\n",
       "    <tr>\n",
       "      <th>4</th>\n",
       "      <td>-962.978001</td>\n",
       "      <td>1017.561732</td>\n",
       "    </tr>\n",
       "    <tr>\n",
       "      <th>...</th>\n",
       "      <td>...</td>\n",
       "      <td>...</td>\n",
       "    </tr>\n",
       "    <tr>\n",
       "      <th>1298509</th>\n",
       "      <td>984.061842</td>\n",
       "      <td>-129.321914</td>\n",
       "    </tr>\n",
       "    <tr>\n",
       "      <th>1298510</th>\n",
       "      <td>982.117386</td>\n",
       "      <td>-129.358366</td>\n",
       "    </tr>\n",
       "    <tr>\n",
       "      <th>1298511</th>\n",
       "      <td>979.216187</td>\n",
       "      <td>-129.398632</td>\n",
       "    </tr>\n",
       "    <tr>\n",
       "      <th>1298512</th>\n",
       "      <td>970.456382</td>\n",
       "      <td>-129.491880</td>\n",
       "    </tr>\n",
       "    <tr>\n",
       "      <th>1298513</th>\n",
       "      <td>969.712375</td>\n",
       "      <td>-129.499510</td>\n",
       "    </tr>\n",
       "  </tbody>\n",
       "</table>\n",
       "<p>1298514 rows × 2 columns</p>\n",
       "</div>"
      ],
      "text/plain": [
       "                  x            y\n",
       "0       -963.171193  1017.407449\n",
       "1       -963.020286  1017.407449\n",
       "2       -962.996316  1017.438179\n",
       "3       -962.971396  1017.438179\n",
       "4       -962.978001  1017.561732\n",
       "...             ...          ...\n",
       "1298509  984.061842  -129.321914\n",
       "1298510  982.117386  -129.358366\n",
       "1298511  979.216187  -129.398632\n",
       "1298512  970.456382  -129.491880\n",
       "1298513  969.712375  -129.499510\n",
       "\n",
       "[1298514 rows x 2 columns]"
      ]
     },
     "execution_count": 6,
     "metadata": {},
     "output_type": "execute_result"
    }
   ],
   "source": [
    "cuspatial.core.gis.lonlat_to_cartesian(\n",
    "    us_center[1]\n",
    "    , us_center[0]\n",
    "    , polygons['longitude']\n",
    "    , polygons['latitude']\n",
    ")\n"
   ]
  },
  {
   "cell_type": "markdown",
   "metadata": {},
   "source": [
    "#### cuspatial.core.gis.point_in_polygon"
   ]
  },
  {
   "cell_type": "code",
   "execution_count": 7,
   "metadata": {},
   "outputs": [
    {
     "data": {
      "text/html": [
       "<div>\n",
       "<style scoped>\n",
       "    .dataframe tbody tr th:only-of-type {\n",
       "        vertical-align: middle;\n",
       "    }\n",
       "\n",
       "    .dataframe tbody tr th {\n",
       "        vertical-align: top;\n",
       "    }\n",
       "\n",
       "    .dataframe thead th {\n",
       "        text-align: right;\n",
       "    }\n",
       "</style>\n",
       "<table border=\"1\" class=\"dataframe\">\n",
       "  <thead>\n",
       "    <tr style=\"text-align: right;\">\n",
       "      <th></th>\n",
       "      <th>WA</th>\n",
       "      <th>SD</th>\n",
       "      <th>NY</th>\n",
       "    </tr>\n",
       "  </thead>\n",
       "  <tbody>\n",
       "    <tr>\n",
       "      <th>0</th>\n",
       "      <td>True</td>\n",
       "      <td>False</td>\n",
       "      <td>False</td>\n",
       "    </tr>\n",
       "    <tr>\n",
       "      <th>1</th>\n",
       "      <td>False</td>\n",
       "      <td>True</td>\n",
       "      <td>False</td>\n",
       "    </tr>\n",
       "    <tr>\n",
       "      <th>2</th>\n",
       "      <td>False</td>\n",
       "      <td>False</td>\n",
       "      <td>True</td>\n",
       "    </tr>\n",
       "  </tbody>\n",
       "</table>\n",
       "</div>"
      ],
      "text/plain": [
       "      WA     SD     NY\n",
       "0   True  False  False\n",
       "1  False   True  False\n",
       "2  False  False   True"
      ]
     },
     "execution_count": 7,
     "metadata": {},
     "output_type": "execute_result"
    }
   ],
   "source": [
    "poi = [\n",
    "    [47.620422, -122.349358]     ### Space Needle\n",
    "    , [43.8802654, -103.4588021] ### Mt Rushmore\n",
    "    , [40.689247, -74.044502]    ### Statue of Liberty\n",
    "]\n",
    "\n",
    "poi = list(map(list, zip(*poi))) # transpose\n",
    "poi\n",
    "\n",
    "cuspatial.point_in_polygon(\n",
    "      poi[0]\n",
    "    , poi[1]\n",
    "    , cudf.Series([0,1,2], index=['WA','SD','NY'])\n",
    "    , [0,3,8]\n",
    "    , [50,46,46,47,45,39,40,44,41,38,39,42]\n",
    "    , [-124,-123,-120,-121,-104,-105,-100,-101,-75,-76,-70,-69]\n",
    ")"
   ]
  },
  {
   "cell_type": "markdown",
   "metadata": {},
   "source": [
    "#### cuspatial.core.gis.polygon_bounding_boxes"
   ]
  },
  {
   "cell_type": "code",
   "execution_count": 9,
   "metadata": {},
   "outputs": [
    {
     "ename": "TypeError",
     "evalue": "polygon_bounding_boxes() takes 4 positional arguments but 6 were given",
     "output_type": "error",
     "traceback": [
      "\u001b[0;31m---------------------------------------------------------------------------\u001b[0m",
      "\u001b[0;31mTypeError\u001b[0m                                 Traceback (most recent call last)",
      "\u001b[0;32m<ipython-input-9-d6f9ab531305>\u001b[0m in \u001b[0;36m<module>\u001b[0;34m\u001b[0m\n\u001b[1;32m      5\u001b[0m     \u001b[0;34m[\u001b[0m\u001b[0;36m0\u001b[0m\u001b[0;34m,\u001b[0m \u001b[0;36m3\u001b[0m\u001b[0;34m]\u001b[0m\u001b[0;34m,\u001b[0m                                   \u001b[0;31m# ring_offsets\u001b[0m\u001b[0;34m\u001b[0m\u001b[0;34m\u001b[0m\u001b[0m\n\u001b[1;32m      6\u001b[0m     \u001b[0;34m[\u001b[0m\u001b[0;34m-\u001b[0m\u001b[0;36m10\u001b[0m\u001b[0;34m,\u001b[0m \u001b[0;36m5\u001b[0m\u001b[0;34m,\u001b[0m \u001b[0;36m5\u001b[0m\u001b[0;34m,\u001b[0m \u001b[0;34m-\u001b[0m\u001b[0;36m10\u001b[0m\u001b[0;34m,\u001b[0m \u001b[0;36m0\u001b[0m\u001b[0;34m,\u001b[0m \u001b[0;36m10\u001b[0m\u001b[0;34m,\u001b[0m \u001b[0;36m10\u001b[0m\u001b[0;34m,\u001b[0m \u001b[0;36m0\u001b[0m\u001b[0;34m]\u001b[0m\u001b[0;34m,\u001b[0m           \u001b[0;31m# poly_points_x\u001b[0m\u001b[0;34m\u001b[0m\u001b[0;34m\u001b[0m\u001b[0m\n\u001b[0;32m----> 7\u001b[0;31m     \u001b[0;34m[\u001b[0m\u001b[0;34m-\u001b[0m\u001b[0;36m10\u001b[0m\u001b[0;34m,\u001b[0m \u001b[0;34m-\u001b[0m\u001b[0;36m10\u001b[0m\u001b[0;34m,\u001b[0m \u001b[0;36m5\u001b[0m\u001b[0;34m,\u001b[0m \u001b[0;36m5\u001b[0m\u001b[0;34m,\u001b[0m \u001b[0;36m0\u001b[0m\u001b[0;34m,\u001b[0m \u001b[0;36m0\u001b[0m\u001b[0;34m,\u001b[0m \u001b[0;36m10\u001b[0m\u001b[0;34m,\u001b[0m \u001b[0;36m10\u001b[0m\u001b[0;34m]\u001b[0m           \u001b[0;31m# poly_points_y\u001b[0m\u001b[0;34m\u001b[0m\u001b[0;34m\u001b[0m\u001b[0m\n\u001b[0m\u001b[1;32m      8\u001b[0m )\n\u001b[1;32m      9\u001b[0m \u001b[0;34m\u001b[0m\u001b[0m\n",
      "\u001b[0;31mTypeError\u001b[0m: polygon_bounding_boxes() takes 4 positional arguments but 6 were given"
     ]
    }
   ],
   "source": [
    "result = cuspatial.polygon_bounding_boxes(\n",
    "    [0, -8, 6.0],                             # test_points_x\n",
    "    [0, -8, 6.0],                             # test_points_y\n",
    "    cudf.Series([0, 1], index=['nyc', 'hudson river']), # poly_offsets\n",
    "    [0, 3],                                   # ring_offsets\n",
    "    [-10, 5, 5, -10, 0, 10, 10, 0],           # poly_points_x\n",
    "    [-10, -10, 5, 5, 0, 0, 10, 10]           # poly_points_y\n",
    ")\n",
    "\n",
    "result"
   ]
  },
  {
   "cell_type": "markdown",
   "metadata": {},
   "source": [
    "#### cuspatial.core.gis.polyline_bounding_boxes"
   ]
  },
  {
   "cell_type": "code",
   "execution_count": 10,
   "metadata": {},
   "outputs": [
    {
     "ename": "RuntimeError",
     "evalue": "transform: failed to synchronize: cudaErrorIllegalAddress: an illegal memory access was encountered",
     "output_type": "error",
     "traceback": [
      "\u001b[0;31m---------------------------------------------------------------------------\u001b[0m",
      "\u001b[0;31mRuntimeError\u001b[0m                              Traceback (most recent call last)",
      "\u001b[0;32m<ipython-input-10-072315057a1d>\u001b[0m in \u001b[0;36m<module>\u001b[0;34m\u001b[0m\n\u001b[1;32m      3\u001b[0m     \u001b[0;34m,\u001b[0m \u001b[0mpolygons\u001b[0m\u001b[0;34m[\u001b[0m\u001b[0;34m'longitude'\u001b[0m\u001b[0;34m]\u001b[0m\u001b[0;34m\u001b[0m\u001b[0;34m\u001b[0m\u001b[0m\n\u001b[1;32m      4\u001b[0m     \u001b[0;34m,\u001b[0m \u001b[0mpolygons\u001b[0m\u001b[0;34m[\u001b[0m\u001b[0;34m'latitude'\u001b[0m\u001b[0;34m]\u001b[0m\u001b[0;34m\u001b[0m\u001b[0;34m\u001b[0m\u001b[0m\n\u001b[0;32m----> 5\u001b[0;31m     \u001b[0;34m,\u001b[0m \u001b[0;36m0.01\u001b[0m\u001b[0;34m\u001b[0m\u001b[0;34m\u001b[0m\u001b[0m\n\u001b[0m\u001b[1;32m      6\u001b[0m )\n",
      "\u001b[0;32m/opt/conda/envs/rapids/lib/python3.7/site-packages/cuspatial/core/gis.py\u001b[0m in \u001b[0;36mpolyline_bounding_boxes\u001b[0;34m(poly_offsets, xs, ys, expansion_radius)\u001b[0m\n\u001b[1;32m    324\u001b[0m     \u001b[0mxs\u001b[0m\u001b[0;34m,\u001b[0m \u001b[0mys\u001b[0m \u001b[0;34m=\u001b[0m \u001b[0mnormalize_point_columns\u001b[0m\u001b[0;34m(\u001b[0m\u001b[0mas_column\u001b[0m\u001b[0;34m(\u001b[0m\u001b[0mxs\u001b[0m\u001b[0;34m)\u001b[0m\u001b[0;34m,\u001b[0m \u001b[0mas_column\u001b[0m\u001b[0;34m(\u001b[0m\u001b[0mys\u001b[0m\u001b[0;34m)\u001b[0m\u001b[0;34m)\u001b[0m\u001b[0;34m\u001b[0m\u001b[0;34m\u001b[0m\u001b[0m\n\u001b[1;32m    325\u001b[0m     return DataFrame._from_table(\n\u001b[0;32m--> 326\u001b[0;31m         \u001b[0mcpp_polyline_bounding_boxes\u001b[0m\u001b[0;34m(\u001b[0m\u001b[0mpoly_offsets\u001b[0m\u001b[0;34m,\u001b[0m \u001b[0mxs\u001b[0m\u001b[0;34m,\u001b[0m \u001b[0mys\u001b[0m\u001b[0;34m,\u001b[0m \u001b[0mexpansion_radius\u001b[0m\u001b[0;34m)\u001b[0m\u001b[0;34m\u001b[0m\u001b[0;34m\u001b[0m\u001b[0m\n\u001b[0m\u001b[1;32m    327\u001b[0m     )\n",
      "\u001b[0;32mcuspatial/_lib/polyline_bounding_boxes.pyx\u001b[0m in \u001b[0;36mcuspatial._lib.polyline_bounding_boxes.polyline_bounding_boxes\u001b[0;34m()\u001b[0m\n",
      "\u001b[0;32mcuspatial/_lib/polyline_bounding_boxes.pyx\u001b[0m in \u001b[0;36mcuspatial._lib.polyline_bounding_boxes.polyline_bounding_boxes\u001b[0;34m()\u001b[0m\n",
      "\u001b[0;31mRuntimeError\u001b[0m: transform: failed to synchronize: cudaErrorIllegalAddress: an illegal memory access was encountered"
     ]
    }
   ],
   "source": [
    "cuspatial.polyline_bounding_boxes(\n",
    "    poly_idx\n",
    "    , polygons['longitude']\n",
    "    , polygons['latitude']\n",
    "    , 0.01\n",
    ")"
   ]
  },
  {
   "cell_type": "code",
   "execution_count": null,
   "metadata": {},
   "outputs": [],
   "source": []
  },
  {
   "cell_type": "code",
   "execution_count": null,
   "metadata": {},
   "outputs": [],
   "source": []
  },
  {
   "cell_type": "code",
   "execution_count": null,
   "metadata": {},
   "outputs": [],
   "source": []
  },
  {
   "cell_type": "code",
   "execution_count": null,
   "metadata": {},
   "outputs": [],
   "source": []
  },
  {
   "cell_type": "markdown",
   "metadata": {},
   "source": [
    "#### cuspatial.core.indexing.quadtree_on_points\n",
    "CubicSpline\n",
    "CubicSpline.__init__\n",
    "CubicSpline.__call__\n",
    "\n",
    "#### cuspatial.core.spatial_window.points_in_spatial_window\n",
    "\n",
    "#### cuspatial.core.spatial_join.join_quadtree_and_bounding_boxes\n",
    "#### cuspatial.core.spatial_join.quadtree_point_in_polygon\n",
    "#### cuspatial.core.spatial_join.quadtree_point_to_nearest_polyline\n",
    "\n",
    "#### cuspatial.core.trajectory.derive_trajectories\n",
    "#### cuspatial.core.trajectory.trajectory_bounding_boxes\n",
    "#### cuspatial.core.trajectory.trajectory_distances_and_speeds\n",
    "\n",
    "#### cuspatial.io.shapefile.read_polygon_shapefile"
   ]
  },
  {
   "cell_type": "code",
   "execution_count": null,
   "metadata": {},
   "outputs": [],
   "source": []
  },
  {
   "cell_type": "code",
   "execution_count": null,
   "metadata": {},
   "outputs": [],
   "source": []
  },
  {
   "cell_type": "code",
   "execution_count": null,
   "metadata": {},
   "outputs": [],
   "source": []
  },
  {
   "cell_type": "code",
   "execution_count": null,
   "metadata": {},
   "outputs": [],
   "source": []
  },
  {
   "cell_type": "code",
   "execution_count": null,
   "metadata": {},
   "outputs": [],
   "source": []
  },
  {
   "cell_type": "code",
   "execution_count": null,
   "metadata": {},
   "outputs": [],
   "source": []
  },
  {
   "cell_type": "code",
   "execution_count": null,
   "metadata": {},
   "outputs": [],
   "source": []
  }
 ],
 "metadata": {
  "kernelspec": {
   "display_name": "Python 3",
   "language": "python",
   "name": "python3"
  },
  "language_info": {
   "codemirror_mode": {
    "name": "ipython",
    "version": 3
   },
   "file_extension": ".py",
   "mimetype": "text/x-python",
   "name": "python",
   "nbconvert_exporter": "python",
   "pygments_lexer": "ipython3",
   "version": "3.7.8"
  }
 },
 "nbformat": 4,
 "nbformat_minor": 4
}
