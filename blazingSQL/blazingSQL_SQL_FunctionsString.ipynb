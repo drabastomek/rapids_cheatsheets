{
 "cells": [
  {
   "cell_type": "markdown",
   "metadata": {},
   "source": [
    "# BlazingSQL Cheat Sheets sample code\n",
    "\n",
    "(c) 2020 NVIDIA, Blazing SQL\n",
    "\n",
    "Distributed under Apache License 2.0"
   ]
  },
  {
   "cell_type": "markdown",
   "metadata": {},
   "source": [
    "### Imports"
   ]
  },
  {
   "cell_type": "code",
   "execution_count": 2,
   "metadata": {},
   "outputs": [],
   "source": [
    "import cudf\n",
    "import numpy as np\n",
    "from blazingsql import BlazingContext"
   ]
  },
  {
   "cell_type": "markdown",
   "metadata": {},
   "source": [
    "### Sample Data Table"
   ]
  },
  {
   "cell_type": "code",
   "execution_count": 3,
   "metadata": {},
   "outputs": [],
   "source": [
    "df = cudf.DataFrame(\n",
    "    [\n",
    "          (39, -6.88, np.datetime64('2020-10-08T12:12:01'), 'C', 'D', 'data'\n",
    "            , 'RAPIDS.ai is a suite of open-source libraries that allow you to run your end to end data science and analytics pipelines on GPUs.')\n",
    "        , (11, 4.21, None,                                 'A', 'D', 'cuDF'\n",
    "            , 'cuDF is a Python GPU DataFrame (built on the Apache Arrow columnar memory format)')\n",
    "        , (31, 4.71, np.datetime64('2020-10-10T09:26:43'), 'U', 'D', 'memory'\n",
    "            , 'cuDF allows for loading, joining, aggregating, filtering, and otherwise manipulating tabular data using a DataFrame style API.')\n",
    "        , (40, 0.93, np.datetime64('2020-10-11T17:10:00'), 'P', 'B', 'tabular'\n",
    "            , '''If your workflow is fast enough on a single GPU or your data comfortably fits in memory on \n",
    "                 a single GPU, you would want to use cuDF.''')\n",
    "        , (33, 9.26, np.datetime64('2020-10-15T10:58:02'), 'O', 'D', 'parallel'\n",
    "            , '''If you want to distribute your workflow across multiple GPUs or have more data than you can fit \n",
    "                 in memory on a single GPU you would want to use Dask-cuDF''')\n",
    "        , (42, 4.21, np.datetime64('2020-10-01T10:02:23'), 'U', 'C', 'GPUs'\n",
    "            , 'BlazingSQL provides a high-performance distributed SQL engine in Python')\n",
    "        , (36, 3.01, np.datetime64('2020-09-30T14:36:26'), 'T', 'D', None\n",
    "            , 'BlazingSQL is built on the RAPIDS GPU data science ecosystem')\n",
    "        , (38, 6.44, np.datetime64('2020-10-10T08:34:36'), 'X', 'B', 'csv'\n",
    "            , 'BlazingSQL lets you ETL raw data directly into GPU memory as a GPU DataFrame (GDF)')\n",
    "        , (17, -5.28, np.datetime64('2020-10-09T08:34:40'), 'P', 'D', 'dataframes'\n",
    "            , 'Dask is a flexible library for parallel computing in Python')\n",
    "        , (10, 8.28, np.datetime64('2020-10-03T03:31:21'), 'W', 'B', 'python'\n",
    "            , None)\n",
    "    ]\n",
    "    , columns = ['number', 'float_number', 'datetime', 'letter', 'category', 'word', 'string']\n",
    ")"
   ]
  },
  {
   "cell_type": "code",
   "execution_count": 4,
   "metadata": {},
   "outputs": [
    {
     "name": "stdout",
     "output_type": "stream",
     "text": [
      "BlazingContext ready\n"
     ]
    }
   ],
   "source": [
    "bc = BlazingContext()"
   ]
  },
  {
   "cell_type": "code",
   "execution_count": 5,
   "metadata": {},
   "outputs": [],
   "source": [
    "bc.create_table('df', df)"
   ]
  },
  {
   "cell_type": "markdown",
   "metadata": {},
   "source": [
    "# SQL String Functions"
   ]
  },
  {
   "cell_type": "markdown",
   "metadata": {},
   "source": [
    "#### CONCAT"
   ]
  },
  {
   "cell_type": "code",
   "execution_count": 10,
   "metadata": {},
   "outputs": [
    {
     "data": {
      "text/html": [
       "<div>\n",
       "<style scoped>\n",
       "    .dataframe tbody tr th:only-of-type {\n",
       "        vertical-align: middle;\n",
       "    }\n",
       "\n",
       "    .dataframe tbody tr th {\n",
       "        vertical-align: top;\n",
       "    }\n",
       "\n",
       "    .dataframe thead th {\n",
       "        text-align: right;\n",
       "    }\n",
       "</style>\n",
       "<table border=\"1\" class=\"dataframe\">\n",
       "  <thead>\n",
       "    <tr style=\"text-align: right;\">\n",
       "      <th></th>\n",
       "      <th>string</th>\n",
       "      <th>r</th>\n",
       "    </tr>\n",
       "  </thead>\n",
       "  <tbody>\n",
       "    <tr>\n",
       "      <th>0</th>\n",
       "      <td>RAPIDS.ai is a suite of open-source libraries ...</td>\n",
       "      <td>INFO: RAPIDS.ai is a suite of open-source libr...</td>\n",
       "    </tr>\n",
       "    <tr>\n",
       "      <th>1</th>\n",
       "      <td>cuDF is a Python GPU DataFrame (built on the A...</td>\n",
       "      <td>INFO: cuDF is a Python GPU DataFrame (built on...</td>\n",
       "    </tr>\n",
       "    <tr>\n",
       "      <th>2</th>\n",
       "      <td>cuDF allows for loading, joining, aggregating,...</td>\n",
       "      <td>INFO: cuDF allows for loading, joining, aggreg...</td>\n",
       "    </tr>\n",
       "    <tr>\n",
       "      <th>3</th>\n",
       "      <td>If your workflow is fast enough on a single GP...</td>\n",
       "      <td>INFO: If your workflow is fast enough on a sin...</td>\n",
       "    </tr>\n",
       "    <tr>\n",
       "      <th>4</th>\n",
       "      <td>If you want to distribute your workflow across...</td>\n",
       "      <td>INFO: If you want to distribute your workflow ...</td>\n",
       "    </tr>\n",
       "    <tr>\n",
       "      <th>5</th>\n",
       "      <td>BlazingSQL provides a high-performance distrib...</td>\n",
       "      <td>INFO: BlazingSQL provides a high-performance d...</td>\n",
       "    </tr>\n",
       "    <tr>\n",
       "      <th>6</th>\n",
       "      <td>BlazingSQL is built on the RAPIDS GPU data sci...</td>\n",
       "      <td>INFO: BlazingSQL is built on the RAPIDS GPU da...</td>\n",
       "    </tr>\n",
       "    <tr>\n",
       "      <th>7</th>\n",
       "      <td>BlazingSQL lets you ETL raw data directly into...</td>\n",
       "      <td>INFO: BlazingSQL lets you ETL raw data directl...</td>\n",
       "    </tr>\n",
       "    <tr>\n",
       "      <th>8</th>\n",
       "      <td>Dask is a flexible library for parallel comput...</td>\n",
       "      <td>INFO: Dask is a flexible library for parallel ...</td>\n",
       "    </tr>\n",
       "    <tr>\n",
       "      <th>9</th>\n",
       "      <td>&lt;NA&gt;</td>\n",
       "      <td>&lt;NA&gt;</td>\n",
       "    </tr>\n",
       "  </tbody>\n",
       "</table>\n",
       "</div>"
      ],
      "text/plain": [
       "                                              string  \\\n",
       "0  RAPIDS.ai is a suite of open-source libraries ...   \n",
       "1  cuDF is a Python GPU DataFrame (built on the A...   \n",
       "2  cuDF allows for loading, joining, aggregating,...   \n",
       "3  If your workflow is fast enough on a single GP...   \n",
       "4  If you want to distribute your workflow across...   \n",
       "5  BlazingSQL provides a high-performance distrib...   \n",
       "6  BlazingSQL is built on the RAPIDS GPU data sci...   \n",
       "7  BlazingSQL lets you ETL raw data directly into...   \n",
       "8  Dask is a flexible library for parallel comput...   \n",
       "9                                               <NA>   \n",
       "\n",
       "                                                   r  \n",
       "0  INFO: RAPIDS.ai is a suite of open-source libr...  \n",
       "1  INFO: cuDF is a Python GPU DataFrame (built on...  \n",
       "2  INFO: cuDF allows for loading, joining, aggreg...  \n",
       "3  INFO: If your workflow is fast enough on a sin...  \n",
       "4  INFO: If you want to distribute your workflow ...  \n",
       "5  INFO: BlazingSQL provides a high-performance d...  \n",
       "6  INFO: BlazingSQL is built on the RAPIDS GPU da...  \n",
       "7  INFO: BlazingSQL lets you ETL raw data directl...  \n",
       "8  INFO: Dask is a flexible library for parallel ...  \n",
       "9                                               <NA>  "
      ]
     },
     "execution_count": 10,
     "metadata": {},
     "output_type": "execute_result"
    }
   ],
   "source": [
    "query = '''\n",
    "    SELECT string\n",
    "        , 'INFO: ' || string AS r\n",
    "    FROM df\n",
    "'''\n",
    "\n",
    "bc.sql(query)"
   ]
  },
  {
   "cell_type": "markdown",
   "metadata": {},
   "source": [
    "#### SUBSTRING"
   ]
  },
  {
   "cell_type": "code",
   "execution_count": 12,
   "metadata": {},
   "outputs": [
    {
     "data": {
      "text/html": [
       "<div>\n",
       "<style scoped>\n",
       "    .dataframe tbody tr th:only-of-type {\n",
       "        vertical-align: middle;\n",
       "    }\n",
       "\n",
       "    .dataframe tbody tr th {\n",
       "        vertical-align: top;\n",
       "    }\n",
       "\n",
       "    .dataframe thead th {\n",
       "        text-align: right;\n",
       "    }\n",
       "</style>\n",
       "<table border=\"1\" class=\"dataframe\">\n",
       "  <thead>\n",
       "    <tr style=\"text-align: right;\">\n",
       "      <th></th>\n",
       "      <th>string</th>\n",
       "      <th>r</th>\n",
       "    </tr>\n",
       "  </thead>\n",
       "  <tbody>\n",
       "    <tr>\n",
       "      <th>0</th>\n",
       "      <td>RAPIDS.ai is a suite of open-source libraries ...</td>\n",
       "      <td>RA</td>\n",
       "    </tr>\n",
       "    <tr>\n",
       "      <th>1</th>\n",
       "      <td>cuDF is a Python GPU DataFrame (built on the A...</td>\n",
       "      <td>cu</td>\n",
       "    </tr>\n",
       "    <tr>\n",
       "      <th>2</th>\n",
       "      <td>cuDF allows for loading, joining, aggregating,...</td>\n",
       "      <td>cu</td>\n",
       "    </tr>\n",
       "    <tr>\n",
       "      <th>3</th>\n",
       "      <td>If your workflow is fast enough on a single GP...</td>\n",
       "      <td>If</td>\n",
       "    </tr>\n",
       "    <tr>\n",
       "      <th>4</th>\n",
       "      <td>If you want to distribute your workflow across...</td>\n",
       "      <td>If</td>\n",
       "    </tr>\n",
       "    <tr>\n",
       "      <th>5</th>\n",
       "      <td>BlazingSQL provides a high-performance distrib...</td>\n",
       "      <td>Bl</td>\n",
       "    </tr>\n",
       "    <tr>\n",
       "      <th>6</th>\n",
       "      <td>BlazingSQL is built on the RAPIDS GPU data sci...</td>\n",
       "      <td>Bl</td>\n",
       "    </tr>\n",
       "    <tr>\n",
       "      <th>7</th>\n",
       "      <td>BlazingSQL lets you ETL raw data directly into...</td>\n",
       "      <td>Bl</td>\n",
       "    </tr>\n",
       "    <tr>\n",
       "      <th>8</th>\n",
       "      <td>Dask is a flexible library for parallel comput...</td>\n",
       "      <td>Da</td>\n",
       "    </tr>\n",
       "    <tr>\n",
       "      <th>9</th>\n",
       "      <td>&lt;NA&gt;</td>\n",
       "      <td>&lt;NA&gt;</td>\n",
       "    </tr>\n",
       "  </tbody>\n",
       "</table>\n",
       "</div>"
      ],
      "text/plain": [
       "                                              string     r\n",
       "0  RAPIDS.ai is a suite of open-source libraries ...    RA\n",
       "1  cuDF is a Python GPU DataFrame (built on the A...    cu\n",
       "2  cuDF allows for loading, joining, aggregating,...    cu\n",
       "3  If your workflow is fast enough on a single GP...    If\n",
       "4  If you want to distribute your workflow across...    If\n",
       "5  BlazingSQL provides a high-performance distrib...    Bl\n",
       "6  BlazingSQL is built on the RAPIDS GPU data sci...    Bl\n",
       "7  BlazingSQL lets you ETL raw data directly into...    Bl\n",
       "8  Dask is a flexible library for parallel comput...    Da\n",
       "9                                               <NA>  <NA>"
      ]
     },
     "execution_count": 12,
     "metadata": {},
     "output_type": "execute_result"
    }
   ],
   "source": [
    "query = '''\n",
    "    SELECT string\n",
    "        , SUBSTRING(string, 0, 2) AS r\n",
    "    FROM df\n",
    "'''\n",
    "\n",
    "bc.sql(query)"
   ]
  },
  {
   "cell_type": "markdown",
   "metadata": {},
   "source": [
    "#### CHAR_LENGTH"
   ]
  },
  {
   "cell_type": "code",
   "execution_count": 13,
   "metadata": {},
   "outputs": [
    {
     "data": {
      "text/html": [
       "<div>\n",
       "<style scoped>\n",
       "    .dataframe tbody tr th:only-of-type {\n",
       "        vertical-align: middle;\n",
       "    }\n",
       "\n",
       "    .dataframe tbody tr th {\n",
       "        vertical-align: top;\n",
       "    }\n",
       "\n",
       "    .dataframe thead th {\n",
       "        text-align: right;\n",
       "    }\n",
       "</style>\n",
       "<table border=\"1\" class=\"dataframe\">\n",
       "  <thead>\n",
       "    <tr style=\"text-align: right;\">\n",
       "      <th></th>\n",
       "      <th>string</th>\n",
       "      <th>r</th>\n",
       "    </tr>\n",
       "  </thead>\n",
       "  <tbody>\n",
       "    <tr>\n",
       "      <th>0</th>\n",
       "      <td>RAPIDS.ai is a suite of open-source libraries ...</td>\n",
       "      <td>129</td>\n",
       "    </tr>\n",
       "    <tr>\n",
       "      <th>1</th>\n",
       "      <td>cuDF is a Python GPU DataFrame (built on the A...</td>\n",
       "      <td>81</td>\n",
       "    </tr>\n",
       "    <tr>\n",
       "      <th>2</th>\n",
       "      <td>cuDF allows for loading, joining, aggregating,...</td>\n",
       "      <td>126</td>\n",
       "    </tr>\n",
       "    <tr>\n",
       "      <th>3</th>\n",
       "      <td>If your workflow is fast enough on a single GP...</td>\n",
       "      <td>150</td>\n",
       "    </tr>\n",
       "    <tr>\n",
       "      <th>4</th>\n",
       "      <td>If you want to distribute your workflow across...</td>\n",
       "      <td>171</td>\n",
       "    </tr>\n",
       "    <tr>\n",
       "      <th>5</th>\n",
       "      <td>BlazingSQL provides a high-performance distrib...</td>\n",
       "      <td>71</td>\n",
       "    </tr>\n",
       "    <tr>\n",
       "      <th>6</th>\n",
       "      <td>BlazingSQL is built on the RAPIDS GPU data sci...</td>\n",
       "      <td>60</td>\n",
       "    </tr>\n",
       "    <tr>\n",
       "      <th>7</th>\n",
       "      <td>BlazingSQL lets you ETL raw data directly into...</td>\n",
       "      <td>82</td>\n",
       "    </tr>\n",
       "    <tr>\n",
       "      <th>8</th>\n",
       "      <td>Dask is a flexible library for parallel comput...</td>\n",
       "      <td>59</td>\n",
       "    </tr>\n",
       "    <tr>\n",
       "      <th>9</th>\n",
       "      <td>&lt;NA&gt;</td>\n",
       "      <td>&lt;NA&gt;</td>\n",
       "    </tr>\n",
       "  </tbody>\n",
       "</table>\n",
       "</div>"
      ],
      "text/plain": [
       "                                              string     r\n",
       "0  RAPIDS.ai is a suite of open-source libraries ...   129\n",
       "1  cuDF is a Python GPU DataFrame (built on the A...    81\n",
       "2  cuDF allows for loading, joining, aggregating,...   126\n",
       "3  If your workflow is fast enough on a single GP...   150\n",
       "4  If you want to distribute your workflow across...   171\n",
       "5  BlazingSQL provides a high-performance distrib...    71\n",
       "6  BlazingSQL is built on the RAPIDS GPU data sci...    60\n",
       "7  BlazingSQL lets you ETL raw data directly into...    82\n",
       "8  Dask is a flexible library for parallel comput...    59\n",
       "9                                               <NA>  <NA>"
      ]
     },
     "execution_count": 13,
     "metadata": {},
     "output_type": "execute_result"
    }
   ],
   "source": [
    "query = '''\n",
    "    SELECT string\n",
    "        , CHAR_LENGTH(string) AS r\n",
    "    FROM df\n",
    "'''\n",
    "\n",
    "bc.sql(query)"
   ]
  },
  {
   "cell_type": "markdown",
   "metadata": {},
   "source": [
    "#### LEFT"
   ]
  },
  {
   "cell_type": "code",
   "execution_count": 14,
   "metadata": {},
   "outputs": [
    {
     "ename": "Exception",
     "evalue": "No match found for function signature LEFT(<CHARACTER>, <NUMERIC>)",
     "output_type": "error",
     "traceback": [
      "\u001b[0;31m\u001b[0m",
      "\u001b[0;31mException\u001b[0mTraceback (most recent call last)",
      "\u001b[0;32m/usr/local/envs/bsql/lib/python3.8/site-packages/_jpype.cpython-38-x86_64-linux-gnu.so\u001b[0m in \u001b[0;36mcom.blazingdb.calcite.application.RelationalAlgebraGenerator.getRelationalAlgebraString\u001b[0;34m()\u001b[0m\n",
      "\u001b[0;32m/usr/local/envs/bsql/lib/python3.8/site-packages/_jpype.cpython-38-x86_64-linux-gnu.so\u001b[0m in \u001b[0;36mcom.blazingdb.calcite.application.RelationalAlgebraGenerator.getRelationalAlgebra\u001b[0;34m()\u001b[0m\n",
      "\u001b[0;32m/usr/local/envs/bsql/lib/python3.8/site-packages/_jpype.cpython-38-x86_64-linux-gnu.so\u001b[0m in \u001b[0;36mcom.blazingdb.calcite.application.RelationalAlgebraGenerator.getNonOptimizedRelationalAlgebra\u001b[0;34m()\u001b[0m\n",
      "\u001b[0;32m/usr/local/envs/bsql/lib/python3.8/site-packages/_jpype.cpython-38-x86_64-linux-gnu.so\u001b[0m in \u001b[0;36mcom.blazingdb.calcite.application.RelationalAlgebraGenerator.validateQuery\u001b[0;34m()\u001b[0m\n",
      "\u001b[0;31mException\u001b[0m: Java Exception",
      "\nThe above exception was the direct cause of the following exception:\n",
      "\u001b[0;31mcom.blazingdb.calcite.application.SqlValidationException\u001b[0mTraceback (most recent call last)",
      "\u001b[0;32m/usr/local/envs/bsql/lib/python3.8/site-packages/pyblazing/apiv2/context.py\u001b[0m in \u001b[0;36mexplain\u001b[0;34m(self, sql)\u001b[0m\n\u001b[1;32m   1621\u001b[0m         \u001b[0;32mtry\u001b[0m\u001b[0;34m:\u001b[0m\u001b[0;34m\u001b[0m\u001b[0;34m\u001b[0m\u001b[0m\n\u001b[0;32m-> 1622\u001b[0;31m             \u001b[0malgebra\u001b[0m \u001b[0;34m=\u001b[0m \u001b[0mself\u001b[0m\u001b[0;34m.\u001b[0m\u001b[0mgenerator\u001b[0m\u001b[0;34m.\u001b[0m\u001b[0mgetRelationalAlgebraString\u001b[0m\u001b[0;34m(\u001b[0m\u001b[0msql\u001b[0m\u001b[0;34m)\u001b[0m\u001b[0;34m\u001b[0m\u001b[0;34m\u001b[0m\u001b[0m\n\u001b[0m\u001b[1;32m   1623\u001b[0m \u001b[0;34m\u001b[0m\u001b[0m\n",
      "\u001b[0;31mcom.blazingdb.calcite.application.SqlValidationException\u001b[0m: com.blazingdb.calcite.application.SqlValidationException: No match found for function signature LEFT(<CHARACTER>, <NUMERIC>)",
      "\nDuring handling of the above exception, another exception occurred:\n",
      "\u001b[0;31mException\u001b[0mTraceback (most recent call last)",
      "\u001b[0;32m<ipython-input-14-125d2ec29045>\u001b[0m in \u001b[0;36m<module>\u001b[0;34m\u001b[0m\n\u001b[1;32m      5\u001b[0m '''\n\u001b[1;32m      6\u001b[0m \u001b[0;34m\u001b[0m\u001b[0m\n\u001b[0;32m----> 7\u001b[0;31m \u001b[0mbc\u001b[0m\u001b[0;34m.\u001b[0m\u001b[0msql\u001b[0m\u001b[0;34m(\u001b[0m\u001b[0mquery\u001b[0m\u001b[0;34m)\u001b[0m\u001b[0;34m\u001b[0m\u001b[0;34m\u001b[0m\u001b[0m\n\u001b[0m",
      "\u001b[0;32m/usr/local/envs/bsql/lib/python3.8/site-packages/pyblazing/apiv2/context.py\u001b[0m in \u001b[0;36msql\u001b[0;34m(self, query, algebra, return_futures, single_gpu, config_options)\u001b[0m\n\u001b[1;32m   2641\u001b[0m \u001b[0;34m\u001b[0m\u001b[0m\n\u001b[1;32m   2642\u001b[0m         \u001b[0;32mif\u001b[0m \u001b[0malgebra\u001b[0m \u001b[0;32mis\u001b[0m \u001b[0;32mNone\u001b[0m\u001b[0;34m:\u001b[0m\u001b[0;34m\u001b[0m\u001b[0;34m\u001b[0m\u001b[0m\n\u001b[0;32m-> 2643\u001b[0;31m             \u001b[0malgebra\u001b[0m \u001b[0;34m=\u001b[0m \u001b[0mself\u001b[0m\u001b[0;34m.\u001b[0m\u001b[0mexplain\u001b[0m\u001b[0;34m(\u001b[0m\u001b[0mquery\u001b[0m\u001b[0;34m)\u001b[0m\u001b[0;34m\u001b[0m\u001b[0;34m\u001b[0m\u001b[0m\n\u001b[0m\u001b[1;32m   2644\u001b[0m \u001b[0;34m\u001b[0m\u001b[0m\n\u001b[1;32m   2645\u001b[0m         \u001b[0;31m# when an empty `LogicalValues` appears on the optimized plan\u001b[0m\u001b[0;34m\u001b[0m\u001b[0;34m\u001b[0m\u001b[0;34m\u001b[0m\u001b[0m\n",
      "\u001b[0;32m/usr/local/envs/bsql/lib/python3.8/site-packages/pyblazing/apiv2/context.py\u001b[0m in \u001b[0;36mexplain\u001b[0;34m(self, sql)\u001b[0m\n\u001b[1;32m   1624\u001b[0m         \u001b[0;32mexcept\u001b[0m \u001b[0mSqlValidationExceptionClass\u001b[0m \u001b[0;32mas\u001b[0m \u001b[0mexception\u001b[0m\u001b[0;34m:\u001b[0m\u001b[0;34m\u001b[0m\u001b[0;34m\u001b[0m\u001b[0m\n\u001b[1;32m   1625\u001b[0m             \u001b[0;31m# jpype.JException as exception:\u001b[0m\u001b[0;34m\u001b[0m\u001b[0;34m\u001b[0m\u001b[0;34m\u001b[0m\u001b[0m\n\u001b[0;32m-> 1626\u001b[0;31m             \u001b[0;32mraise\u001b[0m \u001b[0mException\u001b[0m\u001b[0;34m(\u001b[0m\u001b[0mexception\u001b[0m\u001b[0;34m.\u001b[0m\u001b[0mmessage\u001b[0m\u001b[0;34m(\u001b[0m\u001b[0;34m)\u001b[0m\u001b[0;34m)\u001b[0m\u001b[0;34m\u001b[0m\u001b[0;34m\u001b[0m\u001b[0m\n\u001b[0m\u001b[1;32m   1627\u001b[0m             \u001b[0;31m# algebra = \"\"\u001b[0m\u001b[0;34m\u001b[0m\u001b[0;34m\u001b[0m\u001b[0;34m\u001b[0m\u001b[0m\n\u001b[1;32m   1628\u001b[0m             \u001b[0;31m# print(\"SQL Parsing Error\")\u001b[0m\u001b[0;34m\u001b[0m\u001b[0;34m\u001b[0m\u001b[0;34m\u001b[0m\u001b[0m\n",
      "\u001b[0;31mException\u001b[0m: No match found for function signature LEFT(<CHARACTER>, <NUMERIC>)"
     ]
    }
   ],
   "source": [
    "query = '''\n",
    "    SELECT string\n",
    "        , LEFT(string, 3) AS r\n",
    "    FROM df\n",
    "'''\n",
    "\n",
    "bc.sql(query)"
   ]
  },
  {
   "cell_type": "markdown",
   "metadata": {},
   "source": [
    "#### RIGHT"
   ]
  },
  {
   "cell_type": "code",
   "execution_count": 15,
   "metadata": {},
   "outputs": [
    {
     "ename": "Exception",
     "evalue": "No match found for function signature RIGHT(<CHARACTER>, <NUMERIC>)",
     "output_type": "error",
     "traceback": [
      "\u001b[0;31m\u001b[0m",
      "\u001b[0;31mException\u001b[0mTraceback (most recent call last)",
      "\u001b[0;32m/usr/local/envs/bsql/lib/python3.8/site-packages/_jpype.cpython-38-x86_64-linux-gnu.so\u001b[0m in \u001b[0;36mcom.blazingdb.calcite.application.RelationalAlgebraGenerator.getRelationalAlgebraString\u001b[0;34m()\u001b[0m\n",
      "\u001b[0;32m/usr/local/envs/bsql/lib/python3.8/site-packages/_jpype.cpython-38-x86_64-linux-gnu.so\u001b[0m in \u001b[0;36mcom.blazingdb.calcite.application.RelationalAlgebraGenerator.getRelationalAlgebra\u001b[0;34m()\u001b[0m\n",
      "\u001b[0;32m/usr/local/envs/bsql/lib/python3.8/site-packages/_jpype.cpython-38-x86_64-linux-gnu.so\u001b[0m in \u001b[0;36mcom.blazingdb.calcite.application.RelationalAlgebraGenerator.getNonOptimizedRelationalAlgebra\u001b[0;34m()\u001b[0m\n",
      "\u001b[0;32m/usr/local/envs/bsql/lib/python3.8/site-packages/_jpype.cpython-38-x86_64-linux-gnu.so\u001b[0m in \u001b[0;36mcom.blazingdb.calcite.application.RelationalAlgebraGenerator.validateQuery\u001b[0;34m()\u001b[0m\n",
      "\u001b[0;31mException\u001b[0m: Java Exception",
      "\nThe above exception was the direct cause of the following exception:\n",
      "\u001b[0;31mcom.blazingdb.calcite.application.SqlValidationException\u001b[0mTraceback (most recent call last)",
      "\u001b[0;32m/usr/local/envs/bsql/lib/python3.8/site-packages/pyblazing/apiv2/context.py\u001b[0m in \u001b[0;36mexplain\u001b[0;34m(self, sql)\u001b[0m\n\u001b[1;32m   1621\u001b[0m         \u001b[0;32mtry\u001b[0m\u001b[0;34m:\u001b[0m\u001b[0;34m\u001b[0m\u001b[0;34m\u001b[0m\u001b[0m\n\u001b[0;32m-> 1622\u001b[0;31m             \u001b[0malgebra\u001b[0m \u001b[0;34m=\u001b[0m \u001b[0mself\u001b[0m\u001b[0;34m.\u001b[0m\u001b[0mgenerator\u001b[0m\u001b[0;34m.\u001b[0m\u001b[0mgetRelationalAlgebraString\u001b[0m\u001b[0;34m(\u001b[0m\u001b[0msql\u001b[0m\u001b[0;34m)\u001b[0m\u001b[0;34m\u001b[0m\u001b[0;34m\u001b[0m\u001b[0m\n\u001b[0m\u001b[1;32m   1623\u001b[0m \u001b[0;34m\u001b[0m\u001b[0m\n",
      "\u001b[0;31mcom.blazingdb.calcite.application.SqlValidationException\u001b[0m: com.blazingdb.calcite.application.SqlValidationException: No match found for function signature RIGHT(<CHARACTER>, <NUMERIC>)",
      "\nDuring handling of the above exception, another exception occurred:\n",
      "\u001b[0;31mException\u001b[0mTraceback (most recent call last)",
      "\u001b[0;32m<ipython-input-15-45db7cbd75c0>\u001b[0m in \u001b[0;36m<module>\u001b[0;34m\u001b[0m\n\u001b[1;32m      5\u001b[0m '''\n\u001b[1;32m      6\u001b[0m \u001b[0;34m\u001b[0m\u001b[0m\n\u001b[0;32m----> 7\u001b[0;31m \u001b[0mbc\u001b[0m\u001b[0;34m.\u001b[0m\u001b[0msql\u001b[0m\u001b[0;34m(\u001b[0m\u001b[0mquery\u001b[0m\u001b[0;34m)\u001b[0m\u001b[0;34m\u001b[0m\u001b[0;34m\u001b[0m\u001b[0m\n\u001b[0m",
      "\u001b[0;32m/usr/local/envs/bsql/lib/python3.8/site-packages/pyblazing/apiv2/context.py\u001b[0m in \u001b[0;36msql\u001b[0;34m(self, query, algebra, return_futures, single_gpu, config_options)\u001b[0m\n\u001b[1;32m   2641\u001b[0m \u001b[0;34m\u001b[0m\u001b[0m\n\u001b[1;32m   2642\u001b[0m         \u001b[0;32mif\u001b[0m \u001b[0malgebra\u001b[0m \u001b[0;32mis\u001b[0m \u001b[0;32mNone\u001b[0m\u001b[0;34m:\u001b[0m\u001b[0;34m\u001b[0m\u001b[0;34m\u001b[0m\u001b[0m\n\u001b[0;32m-> 2643\u001b[0;31m             \u001b[0malgebra\u001b[0m \u001b[0;34m=\u001b[0m \u001b[0mself\u001b[0m\u001b[0;34m.\u001b[0m\u001b[0mexplain\u001b[0m\u001b[0;34m(\u001b[0m\u001b[0mquery\u001b[0m\u001b[0;34m)\u001b[0m\u001b[0;34m\u001b[0m\u001b[0;34m\u001b[0m\u001b[0m\n\u001b[0m\u001b[1;32m   2644\u001b[0m \u001b[0;34m\u001b[0m\u001b[0m\n\u001b[1;32m   2645\u001b[0m         \u001b[0;31m# when an empty `LogicalValues` appears on the optimized plan\u001b[0m\u001b[0;34m\u001b[0m\u001b[0;34m\u001b[0m\u001b[0;34m\u001b[0m\u001b[0m\n",
      "\u001b[0;32m/usr/local/envs/bsql/lib/python3.8/site-packages/pyblazing/apiv2/context.py\u001b[0m in \u001b[0;36mexplain\u001b[0;34m(self, sql)\u001b[0m\n\u001b[1;32m   1624\u001b[0m         \u001b[0;32mexcept\u001b[0m \u001b[0mSqlValidationExceptionClass\u001b[0m \u001b[0;32mas\u001b[0m \u001b[0mexception\u001b[0m\u001b[0;34m:\u001b[0m\u001b[0;34m\u001b[0m\u001b[0;34m\u001b[0m\u001b[0m\n\u001b[1;32m   1625\u001b[0m             \u001b[0;31m# jpype.JException as exception:\u001b[0m\u001b[0;34m\u001b[0m\u001b[0;34m\u001b[0m\u001b[0;34m\u001b[0m\u001b[0m\n\u001b[0;32m-> 1626\u001b[0;31m             \u001b[0;32mraise\u001b[0m \u001b[0mException\u001b[0m\u001b[0;34m(\u001b[0m\u001b[0mexception\u001b[0m\u001b[0;34m.\u001b[0m\u001b[0mmessage\u001b[0m\u001b[0;34m(\u001b[0m\u001b[0;34m)\u001b[0m\u001b[0;34m)\u001b[0m\u001b[0;34m\u001b[0m\u001b[0;34m\u001b[0m\u001b[0m\n\u001b[0m\u001b[1;32m   1627\u001b[0m             \u001b[0;31m# algebra = \"\"\u001b[0m\u001b[0;34m\u001b[0m\u001b[0;34m\u001b[0m\u001b[0;34m\u001b[0m\u001b[0m\n\u001b[1;32m   1628\u001b[0m             \u001b[0;31m# print(\"SQL Parsing Error\")\u001b[0m\u001b[0;34m\u001b[0m\u001b[0;34m\u001b[0m\u001b[0;34m\u001b[0m\u001b[0m\n",
      "\u001b[0;31mException\u001b[0m: No match found for function signature RIGHT(<CHARACTER>, <NUMERIC>)"
     ]
    }
   ],
   "source": [
    "query = '''\n",
    "    SELECT string\n",
    "        , RIGHT(string, 3) AS r\n",
    "    FROM df\n",
    "'''\n",
    "\n",
    "bc.sql(query)"
   ]
  },
  {
   "cell_type": "markdown",
   "metadata": {},
   "source": [
    "#### LTRIM"
   ]
  },
  {
   "cell_type": "code",
   "execution_count": 16,
   "metadata": {},
   "outputs": [
    {
     "ename": "RuntimeError",
     "evalue": "Ral failure at: /opt/conda/envs/rapids/conda-bld/blazingsql_1603993254806/work/engine/src/parser/expression_utils.cpp:290: Unsupported operator: LEADING",
     "output_type": "error",
     "traceback": [
      "\u001b[0;31m\u001b[0m",
      "\u001b[0;31mRuntimeError\u001b[0mTraceback (most recent call last)",
      "\u001b[0;32m<ipython-input-16-29a0513845f2>\u001b[0m in \u001b[0;36m<module>\u001b[0;34m\u001b[0m\n\u001b[1;32m      5\u001b[0m '''\n\u001b[1;32m      6\u001b[0m \u001b[0;34m\u001b[0m\u001b[0m\n\u001b[0;32m----> 7\u001b[0;31m \u001b[0mbc\u001b[0m\u001b[0;34m.\u001b[0m\u001b[0msql\u001b[0m\u001b[0;34m(\u001b[0m\u001b[0mquery\u001b[0m\u001b[0;34m)\u001b[0m\u001b[0;34m\u001b[0m\u001b[0;34m\u001b[0m\u001b[0m\n\u001b[0m",
      "\u001b[0;32m/usr/local/envs/bsql/lib/python3.8/site-packages/pyblazing/apiv2/context.py\u001b[0m in \u001b[0;36msql\u001b[0;34m(self, query, algebra, return_futures, single_gpu, config_options)\u001b[0m\n\u001b[1;32m   2758\u001b[0m                 \u001b[0mresult\u001b[0m \u001b[0;34m=\u001b[0m \u001b[0mcudf\u001b[0m\u001b[0;34m.\u001b[0m\u001b[0mDataFrame\u001b[0m\u001b[0;34m(\u001b[0m\u001b[0;34m)\u001b[0m\u001b[0;34m\u001b[0m\u001b[0;34m\u001b[0m\u001b[0m\n\u001b[1;32m   2759\u001b[0m             \u001b[0;32mexcept\u001b[0m \u001b[0mException\u001b[0m \u001b[0;32mas\u001b[0m \u001b[0me\u001b[0m\u001b[0;34m:\u001b[0m\u001b[0;34m\u001b[0m\u001b[0;34m\u001b[0m\u001b[0m\n\u001b[0;32m-> 2760\u001b[0;31m                 \u001b[0;32mraise\u001b[0m \u001b[0me\u001b[0m\u001b[0;34m\u001b[0m\u001b[0;34m\u001b[0m\u001b[0m\n\u001b[0m\u001b[1;32m   2761\u001b[0m \u001b[0;34m\u001b[0m\u001b[0m\n\u001b[1;32m   2762\u001b[0m         \u001b[0;32melse\u001b[0m\u001b[0;34m:\u001b[0m\u001b[0;34m\u001b[0m\u001b[0;34m\u001b[0m\u001b[0m\n",
      "\u001b[0;32m/usr/local/envs/bsql/lib/python3.8/site-packages/pyblazing/apiv2/context.py\u001b[0m in \u001b[0;36msql\u001b[0;34m(self, query, algebra, return_futures, single_gpu, config_options)\u001b[0m\n\u001b[1;32m   2742\u001b[0m         \u001b[0;32mif\u001b[0m \u001b[0mself\u001b[0m\u001b[0;34m.\u001b[0m\u001b[0mdask_client\u001b[0m \u001b[0;32mis\u001b[0m \u001b[0;32mNone\u001b[0m\u001b[0;34m:\u001b[0m\u001b[0;34m\u001b[0m\u001b[0;34m\u001b[0m\u001b[0m\n\u001b[1;32m   2743\u001b[0m             \u001b[0;32mtry\u001b[0m\u001b[0;34m:\u001b[0m\u001b[0;34m\u001b[0m\u001b[0;34m\u001b[0m\u001b[0m\n\u001b[0;32m-> 2744\u001b[0;31m                 result = cio.runQueryCaller(\n\u001b[0m\u001b[1;32m   2745\u001b[0m                     \u001b[0mmasterIndex\u001b[0m\u001b[0;34m,\u001b[0m\u001b[0;34m\u001b[0m\u001b[0;34m\u001b[0m\u001b[0m\n\u001b[1;32m   2746\u001b[0m                     \u001b[0mself\u001b[0m\u001b[0;34m.\u001b[0m\u001b[0mnodes\u001b[0m\u001b[0;34m,\u001b[0m\u001b[0;34m\u001b[0m\u001b[0;34m\u001b[0m\u001b[0m\n",
      "\u001b[0;32m/usr/local/envs/bsql/lib/python3.8/site-packages/bsql_engine/io/io.pyx\u001b[0m in \u001b[0;36mcio.runQueryCaller\u001b[0;34m()\u001b[0m\n",
      "\u001b[0;32m/usr/local/envs/bsql/lib/python3.8/site-packages/bsql_engine/io/io.pyx\u001b[0m in \u001b[0;36mcio.runQueryCaller\u001b[0;34m()\u001b[0m\n",
      "\u001b[0;32m/usr/local/envs/bsql/lib/python3.8/site-packages/bsql_engine/io/io.pyx\u001b[0m in \u001b[0;36mcio.runQueryPython\u001b[0;34m()\u001b[0m\n",
      "\u001b[0;31mRuntimeError\u001b[0m: Ral failure at: /opt/conda/envs/rapids/conda-bld/blazingsql_1603993254806/work/engine/src/parser/expression_utils.cpp:290: Unsupported operator: LEADING"
     ]
    }
   ],
   "source": [
    "query = '''\n",
    "    SELECT string\n",
    "        , LTRIM(string) AS r\n",
    "    FROM df\n",
    "'''\n",
    "\n",
    "bc.sql(query)"
   ]
  },
  {
   "cell_type": "markdown",
   "metadata": {},
   "source": [
    "#### RTRIM"
   ]
  },
  {
   "cell_type": "code",
   "execution_count": 17,
   "metadata": {},
   "outputs": [
    {
     "ename": "RuntimeError",
     "evalue": "Ral failure at: /opt/conda/envs/rapids/conda-bld/blazingsql_1603993254806/work/engine/src/parser/expression_utils.cpp:290: Unsupported operator: TRAILING",
     "output_type": "error",
     "traceback": [
      "\u001b[0;31m\u001b[0m",
      "\u001b[0;31mRuntimeError\u001b[0mTraceback (most recent call last)",
      "\u001b[0;32m<ipython-input-17-03cbddcae2bd>\u001b[0m in \u001b[0;36m<module>\u001b[0;34m\u001b[0m\n\u001b[1;32m      5\u001b[0m '''\n\u001b[1;32m      6\u001b[0m \u001b[0;34m\u001b[0m\u001b[0m\n\u001b[0;32m----> 7\u001b[0;31m \u001b[0mbc\u001b[0m\u001b[0;34m.\u001b[0m\u001b[0msql\u001b[0m\u001b[0;34m(\u001b[0m\u001b[0mquery\u001b[0m\u001b[0;34m)\u001b[0m\u001b[0;34m\u001b[0m\u001b[0;34m\u001b[0m\u001b[0m\n\u001b[0m",
      "\u001b[0;32m/usr/local/envs/bsql/lib/python3.8/site-packages/pyblazing/apiv2/context.py\u001b[0m in \u001b[0;36msql\u001b[0;34m(self, query, algebra, return_futures, single_gpu, config_options)\u001b[0m\n\u001b[1;32m   2758\u001b[0m                 \u001b[0mresult\u001b[0m \u001b[0;34m=\u001b[0m \u001b[0mcudf\u001b[0m\u001b[0;34m.\u001b[0m\u001b[0mDataFrame\u001b[0m\u001b[0;34m(\u001b[0m\u001b[0;34m)\u001b[0m\u001b[0;34m\u001b[0m\u001b[0;34m\u001b[0m\u001b[0m\n\u001b[1;32m   2759\u001b[0m             \u001b[0;32mexcept\u001b[0m \u001b[0mException\u001b[0m \u001b[0;32mas\u001b[0m \u001b[0me\u001b[0m\u001b[0;34m:\u001b[0m\u001b[0;34m\u001b[0m\u001b[0;34m\u001b[0m\u001b[0m\n\u001b[0;32m-> 2760\u001b[0;31m                 \u001b[0;32mraise\u001b[0m \u001b[0me\u001b[0m\u001b[0;34m\u001b[0m\u001b[0;34m\u001b[0m\u001b[0m\n\u001b[0m\u001b[1;32m   2761\u001b[0m \u001b[0;34m\u001b[0m\u001b[0m\n\u001b[1;32m   2762\u001b[0m         \u001b[0;32melse\u001b[0m\u001b[0;34m:\u001b[0m\u001b[0;34m\u001b[0m\u001b[0;34m\u001b[0m\u001b[0m\n",
      "\u001b[0;32m/usr/local/envs/bsql/lib/python3.8/site-packages/pyblazing/apiv2/context.py\u001b[0m in \u001b[0;36msql\u001b[0;34m(self, query, algebra, return_futures, single_gpu, config_options)\u001b[0m\n\u001b[1;32m   2742\u001b[0m         \u001b[0;32mif\u001b[0m \u001b[0mself\u001b[0m\u001b[0;34m.\u001b[0m\u001b[0mdask_client\u001b[0m \u001b[0;32mis\u001b[0m \u001b[0;32mNone\u001b[0m\u001b[0;34m:\u001b[0m\u001b[0;34m\u001b[0m\u001b[0;34m\u001b[0m\u001b[0m\n\u001b[1;32m   2743\u001b[0m             \u001b[0;32mtry\u001b[0m\u001b[0;34m:\u001b[0m\u001b[0;34m\u001b[0m\u001b[0;34m\u001b[0m\u001b[0m\n\u001b[0;32m-> 2744\u001b[0;31m                 result = cio.runQueryCaller(\n\u001b[0m\u001b[1;32m   2745\u001b[0m                     \u001b[0mmasterIndex\u001b[0m\u001b[0;34m,\u001b[0m\u001b[0;34m\u001b[0m\u001b[0;34m\u001b[0m\u001b[0m\n\u001b[1;32m   2746\u001b[0m                     \u001b[0mself\u001b[0m\u001b[0;34m.\u001b[0m\u001b[0mnodes\u001b[0m\u001b[0;34m,\u001b[0m\u001b[0;34m\u001b[0m\u001b[0;34m\u001b[0m\u001b[0m\n",
      "\u001b[0;32m/usr/local/envs/bsql/lib/python3.8/site-packages/bsql_engine/io/io.pyx\u001b[0m in \u001b[0;36mcio.runQueryCaller\u001b[0;34m()\u001b[0m\n",
      "\u001b[0;32m/usr/local/envs/bsql/lib/python3.8/site-packages/bsql_engine/io/io.pyx\u001b[0m in \u001b[0;36mcio.runQueryCaller\u001b[0;34m()\u001b[0m\n",
      "\u001b[0;32m/usr/local/envs/bsql/lib/python3.8/site-packages/bsql_engine/io/io.pyx\u001b[0m in \u001b[0;36mcio.runQueryPython\u001b[0;34m()\u001b[0m\n",
      "\u001b[0;31mRuntimeError\u001b[0m: Ral failure at: /opt/conda/envs/rapids/conda-bld/blazingsql_1603993254806/work/engine/src/parser/expression_utils.cpp:290: Unsupported operator: TRAILING"
     ]
    }
   ],
   "source": [
    "query = '''\n",
    "    SELECT string\n",
    "        , RTRIM(string) AS r\n",
    "    FROM df\n",
    "'''\n",
    "\n",
    "bc.sql(query)"
   ]
  },
  {
   "cell_type": "markdown",
   "metadata": {},
   "source": [
    "#### REPLACE"
   ]
  },
  {
   "cell_type": "code",
   "execution_count": 18,
   "metadata": {},
   "outputs": [
    {
     "ename": "RuntimeError",
     "evalue": "Ral failure at: /opt/conda/envs/rapids/conda-bld/blazingsql_1603993254806/work/engine/src/parser/expression_utils.cpp:290: Unsupported operator: REPLACE",
     "output_type": "error",
     "traceback": [
      "\u001b[0;31m\u001b[0m",
      "\u001b[0;31mRuntimeError\u001b[0mTraceback (most recent call last)",
      "\u001b[0;32m<ipython-input-18-2fcfd4da8edc>\u001b[0m in \u001b[0;36m<module>\u001b[0;34m\u001b[0m\n\u001b[1;32m      5\u001b[0m '''\n\u001b[1;32m      6\u001b[0m \u001b[0;34m\u001b[0m\u001b[0m\n\u001b[0;32m----> 7\u001b[0;31m \u001b[0mbc\u001b[0m\u001b[0;34m.\u001b[0m\u001b[0msql\u001b[0m\u001b[0;34m(\u001b[0m\u001b[0mquery\u001b[0m\u001b[0;34m)\u001b[0m\u001b[0;34m\u001b[0m\u001b[0;34m\u001b[0m\u001b[0m\n\u001b[0m",
      "\u001b[0;32m/usr/local/envs/bsql/lib/python3.8/site-packages/pyblazing/apiv2/context.py\u001b[0m in \u001b[0;36msql\u001b[0;34m(self, query, algebra, return_futures, single_gpu, config_options)\u001b[0m\n\u001b[1;32m   2758\u001b[0m                 \u001b[0mresult\u001b[0m \u001b[0;34m=\u001b[0m \u001b[0mcudf\u001b[0m\u001b[0;34m.\u001b[0m\u001b[0mDataFrame\u001b[0m\u001b[0;34m(\u001b[0m\u001b[0;34m)\u001b[0m\u001b[0;34m\u001b[0m\u001b[0;34m\u001b[0m\u001b[0m\n\u001b[1;32m   2759\u001b[0m             \u001b[0;32mexcept\u001b[0m \u001b[0mException\u001b[0m \u001b[0;32mas\u001b[0m \u001b[0me\u001b[0m\u001b[0;34m:\u001b[0m\u001b[0;34m\u001b[0m\u001b[0;34m\u001b[0m\u001b[0m\n\u001b[0;32m-> 2760\u001b[0;31m                 \u001b[0;32mraise\u001b[0m \u001b[0me\u001b[0m\u001b[0;34m\u001b[0m\u001b[0;34m\u001b[0m\u001b[0m\n\u001b[0m\u001b[1;32m   2761\u001b[0m \u001b[0;34m\u001b[0m\u001b[0m\n\u001b[1;32m   2762\u001b[0m         \u001b[0;32melse\u001b[0m\u001b[0;34m:\u001b[0m\u001b[0;34m\u001b[0m\u001b[0;34m\u001b[0m\u001b[0m\n",
      "\u001b[0;32m/usr/local/envs/bsql/lib/python3.8/site-packages/pyblazing/apiv2/context.py\u001b[0m in \u001b[0;36msql\u001b[0;34m(self, query, algebra, return_futures, single_gpu, config_options)\u001b[0m\n\u001b[1;32m   2742\u001b[0m         \u001b[0;32mif\u001b[0m \u001b[0mself\u001b[0m\u001b[0;34m.\u001b[0m\u001b[0mdask_client\u001b[0m \u001b[0;32mis\u001b[0m \u001b[0;32mNone\u001b[0m\u001b[0;34m:\u001b[0m\u001b[0;34m\u001b[0m\u001b[0;34m\u001b[0m\u001b[0m\n\u001b[1;32m   2743\u001b[0m             \u001b[0;32mtry\u001b[0m\u001b[0;34m:\u001b[0m\u001b[0;34m\u001b[0m\u001b[0;34m\u001b[0m\u001b[0m\n\u001b[0;32m-> 2744\u001b[0;31m                 result = cio.runQueryCaller(\n\u001b[0m\u001b[1;32m   2745\u001b[0m                     \u001b[0mmasterIndex\u001b[0m\u001b[0;34m,\u001b[0m\u001b[0;34m\u001b[0m\u001b[0;34m\u001b[0m\u001b[0m\n\u001b[1;32m   2746\u001b[0m                     \u001b[0mself\u001b[0m\u001b[0;34m.\u001b[0m\u001b[0mnodes\u001b[0m\u001b[0;34m,\u001b[0m\u001b[0;34m\u001b[0m\u001b[0;34m\u001b[0m\u001b[0m\n",
      "\u001b[0;32m/usr/local/envs/bsql/lib/python3.8/site-packages/bsql_engine/io/io.pyx\u001b[0m in \u001b[0;36mcio.runQueryCaller\u001b[0;34m()\u001b[0m\n",
      "\u001b[0;32m/usr/local/envs/bsql/lib/python3.8/site-packages/bsql_engine/io/io.pyx\u001b[0m in \u001b[0;36mcio.runQueryCaller\u001b[0;34m()\u001b[0m\n",
      "\u001b[0;32m/usr/local/envs/bsql/lib/python3.8/site-packages/bsql_engine/io/io.pyx\u001b[0m in \u001b[0;36mcio.runQueryPython\u001b[0;34m()\u001b[0m\n",
      "\u001b[0;31mRuntimeError\u001b[0m: Ral failure at: /opt/conda/envs/rapids/conda-bld/blazingsql_1603993254806/work/engine/src/parser/expression_utils.cpp:290: Unsupported operator: REPLACE"
     ]
    }
   ],
   "source": [
    "query = '''\n",
    "    SELECT string\n",
    "        , REPLACE(string, 'RAPIDS', 'NVIDIA RAPIDS') AS r\n",
    "    FROM df\n",
    "'''\n",
    "\n",
    "bc.sql(query)"
   ]
  },
  {
   "cell_type": "markdown",
   "metadata": {},
   "source": [
    "#### UPPER"
   ]
  },
  {
   "cell_type": "code",
   "execution_count": 17,
   "metadata": {},
   "outputs": [
    {
     "ename": "RuntimeError",
     "evalue": "Ral failure at: /opt/conda/envs/rapids/conda-bld/blazingsql_1603993254806/work/engine/src/parser/expression_utils.cpp:290: Unsupported operator: TRAILING",
     "output_type": "error",
     "traceback": [
      "\u001b[0;31m\u001b[0m",
      "\u001b[0;31mRuntimeError\u001b[0mTraceback (most recent call last)",
      "\u001b[0;32m<ipython-input-17-03cbddcae2bd>\u001b[0m in \u001b[0;36m<module>\u001b[0;34m\u001b[0m\n\u001b[1;32m      5\u001b[0m '''\n\u001b[1;32m      6\u001b[0m \u001b[0;34m\u001b[0m\u001b[0m\n\u001b[0;32m----> 7\u001b[0;31m \u001b[0mbc\u001b[0m\u001b[0;34m.\u001b[0m\u001b[0msql\u001b[0m\u001b[0;34m(\u001b[0m\u001b[0mquery\u001b[0m\u001b[0;34m)\u001b[0m\u001b[0;34m\u001b[0m\u001b[0;34m\u001b[0m\u001b[0m\n\u001b[0m",
      "\u001b[0;32m/usr/local/envs/bsql/lib/python3.8/site-packages/pyblazing/apiv2/context.py\u001b[0m in \u001b[0;36msql\u001b[0;34m(self, query, algebra, return_futures, single_gpu, config_options)\u001b[0m\n\u001b[1;32m   2758\u001b[0m                 \u001b[0mresult\u001b[0m \u001b[0;34m=\u001b[0m \u001b[0mcudf\u001b[0m\u001b[0;34m.\u001b[0m\u001b[0mDataFrame\u001b[0m\u001b[0;34m(\u001b[0m\u001b[0;34m)\u001b[0m\u001b[0;34m\u001b[0m\u001b[0;34m\u001b[0m\u001b[0m\n\u001b[1;32m   2759\u001b[0m             \u001b[0;32mexcept\u001b[0m \u001b[0mException\u001b[0m \u001b[0;32mas\u001b[0m \u001b[0me\u001b[0m\u001b[0;34m:\u001b[0m\u001b[0;34m\u001b[0m\u001b[0;34m\u001b[0m\u001b[0m\n\u001b[0;32m-> 2760\u001b[0;31m                 \u001b[0;32mraise\u001b[0m \u001b[0me\u001b[0m\u001b[0;34m\u001b[0m\u001b[0;34m\u001b[0m\u001b[0m\n\u001b[0m\u001b[1;32m   2761\u001b[0m \u001b[0;34m\u001b[0m\u001b[0m\n\u001b[1;32m   2762\u001b[0m         \u001b[0;32melse\u001b[0m\u001b[0;34m:\u001b[0m\u001b[0;34m\u001b[0m\u001b[0;34m\u001b[0m\u001b[0m\n",
      "\u001b[0;32m/usr/local/envs/bsql/lib/python3.8/site-packages/pyblazing/apiv2/context.py\u001b[0m in \u001b[0;36msql\u001b[0;34m(self, query, algebra, return_futures, single_gpu, config_options)\u001b[0m\n\u001b[1;32m   2742\u001b[0m         \u001b[0;32mif\u001b[0m \u001b[0mself\u001b[0m\u001b[0;34m.\u001b[0m\u001b[0mdask_client\u001b[0m \u001b[0;32mis\u001b[0m \u001b[0;32mNone\u001b[0m\u001b[0;34m:\u001b[0m\u001b[0;34m\u001b[0m\u001b[0;34m\u001b[0m\u001b[0m\n\u001b[1;32m   2743\u001b[0m             \u001b[0;32mtry\u001b[0m\u001b[0;34m:\u001b[0m\u001b[0;34m\u001b[0m\u001b[0;34m\u001b[0m\u001b[0m\n\u001b[0;32m-> 2744\u001b[0;31m                 result = cio.runQueryCaller(\n\u001b[0m\u001b[1;32m   2745\u001b[0m                     \u001b[0mmasterIndex\u001b[0m\u001b[0;34m,\u001b[0m\u001b[0;34m\u001b[0m\u001b[0;34m\u001b[0m\u001b[0m\n\u001b[1;32m   2746\u001b[0m                     \u001b[0mself\u001b[0m\u001b[0;34m.\u001b[0m\u001b[0mnodes\u001b[0m\u001b[0;34m,\u001b[0m\u001b[0;34m\u001b[0m\u001b[0;34m\u001b[0m\u001b[0m\n",
      "\u001b[0;32m/usr/local/envs/bsql/lib/python3.8/site-packages/bsql_engine/io/io.pyx\u001b[0m in \u001b[0;36mcio.runQueryCaller\u001b[0;34m()\u001b[0m\n",
      "\u001b[0;32m/usr/local/envs/bsql/lib/python3.8/site-packages/bsql_engine/io/io.pyx\u001b[0m in \u001b[0;36mcio.runQueryCaller\u001b[0;34m()\u001b[0m\n",
      "\u001b[0;32m/usr/local/envs/bsql/lib/python3.8/site-packages/bsql_engine/io/io.pyx\u001b[0m in \u001b[0;36mcio.runQueryPython\u001b[0;34m()\u001b[0m\n",
      "\u001b[0;31mRuntimeError\u001b[0m: Ral failure at: /opt/conda/envs/rapids/conda-bld/blazingsql_1603993254806/work/engine/src/parser/expression_utils.cpp:290: Unsupported operator: TRAILING"
     ]
    }
   ],
   "source": [
    "query = '''\n",
    "    SELECT string\n",
    "        , UPPER(string) AS r\n",
    "    FROM df\n",
    "'''\n",
    "\n",
    "bc.sql(query)"
   ]
  },
  {
   "cell_type": "markdown",
   "metadata": {},
   "source": [
    "#### LOWER"
   ]
  },
  {
   "cell_type": "code",
   "execution_count": 19,
   "metadata": {},
   "outputs": [
    {
     "ename": "RuntimeError",
     "evalue": "Ral failure at: /opt/conda/envs/rapids/conda-bld/blazingsql_1603993254806/work/engine/src/parser/expression_utils.cpp:290: Unsupported operator: LOWER",
     "output_type": "error",
     "traceback": [
      "\u001b[0;31m\u001b[0m",
      "\u001b[0;31mRuntimeError\u001b[0mTraceback (most recent call last)",
      "\u001b[0;32m<ipython-input-19-bb1be2db0325>\u001b[0m in \u001b[0;36m<module>\u001b[0;34m\u001b[0m\n\u001b[1;32m      5\u001b[0m '''\n\u001b[1;32m      6\u001b[0m \u001b[0;34m\u001b[0m\u001b[0m\n\u001b[0;32m----> 7\u001b[0;31m \u001b[0mbc\u001b[0m\u001b[0;34m.\u001b[0m\u001b[0msql\u001b[0m\u001b[0;34m(\u001b[0m\u001b[0mquery\u001b[0m\u001b[0;34m)\u001b[0m\u001b[0;34m\u001b[0m\u001b[0;34m\u001b[0m\u001b[0m\n\u001b[0m",
      "\u001b[0;32m/usr/local/envs/bsql/lib/python3.8/site-packages/pyblazing/apiv2/context.py\u001b[0m in \u001b[0;36msql\u001b[0;34m(self, query, algebra, return_futures, single_gpu, config_options)\u001b[0m\n\u001b[1;32m   2758\u001b[0m                 \u001b[0mresult\u001b[0m \u001b[0;34m=\u001b[0m \u001b[0mcudf\u001b[0m\u001b[0;34m.\u001b[0m\u001b[0mDataFrame\u001b[0m\u001b[0;34m(\u001b[0m\u001b[0;34m)\u001b[0m\u001b[0;34m\u001b[0m\u001b[0;34m\u001b[0m\u001b[0m\n\u001b[1;32m   2759\u001b[0m             \u001b[0;32mexcept\u001b[0m \u001b[0mException\u001b[0m \u001b[0;32mas\u001b[0m \u001b[0me\u001b[0m\u001b[0;34m:\u001b[0m\u001b[0;34m\u001b[0m\u001b[0;34m\u001b[0m\u001b[0m\n\u001b[0;32m-> 2760\u001b[0;31m                 \u001b[0;32mraise\u001b[0m \u001b[0me\u001b[0m\u001b[0;34m\u001b[0m\u001b[0;34m\u001b[0m\u001b[0m\n\u001b[0m\u001b[1;32m   2761\u001b[0m \u001b[0;34m\u001b[0m\u001b[0m\n\u001b[1;32m   2762\u001b[0m         \u001b[0;32melse\u001b[0m\u001b[0;34m:\u001b[0m\u001b[0;34m\u001b[0m\u001b[0;34m\u001b[0m\u001b[0m\n",
      "\u001b[0;32m/usr/local/envs/bsql/lib/python3.8/site-packages/pyblazing/apiv2/context.py\u001b[0m in \u001b[0;36msql\u001b[0;34m(self, query, algebra, return_futures, single_gpu, config_options)\u001b[0m\n\u001b[1;32m   2742\u001b[0m         \u001b[0;32mif\u001b[0m \u001b[0mself\u001b[0m\u001b[0;34m.\u001b[0m\u001b[0mdask_client\u001b[0m \u001b[0;32mis\u001b[0m \u001b[0;32mNone\u001b[0m\u001b[0;34m:\u001b[0m\u001b[0;34m\u001b[0m\u001b[0;34m\u001b[0m\u001b[0m\n\u001b[1;32m   2743\u001b[0m             \u001b[0;32mtry\u001b[0m\u001b[0;34m:\u001b[0m\u001b[0;34m\u001b[0m\u001b[0;34m\u001b[0m\u001b[0m\n\u001b[0;32m-> 2744\u001b[0;31m                 result = cio.runQueryCaller(\n\u001b[0m\u001b[1;32m   2745\u001b[0m                     \u001b[0mmasterIndex\u001b[0m\u001b[0;34m,\u001b[0m\u001b[0;34m\u001b[0m\u001b[0;34m\u001b[0m\u001b[0m\n\u001b[1;32m   2746\u001b[0m                     \u001b[0mself\u001b[0m\u001b[0;34m.\u001b[0m\u001b[0mnodes\u001b[0m\u001b[0;34m,\u001b[0m\u001b[0;34m\u001b[0m\u001b[0;34m\u001b[0m\u001b[0m\n",
      "\u001b[0;32m/usr/local/envs/bsql/lib/python3.8/site-packages/bsql_engine/io/io.pyx\u001b[0m in \u001b[0;36mcio.runQueryCaller\u001b[0;34m()\u001b[0m\n",
      "\u001b[0;32m/usr/local/envs/bsql/lib/python3.8/site-packages/bsql_engine/io/io.pyx\u001b[0m in \u001b[0;36mcio.runQueryCaller\u001b[0;34m()\u001b[0m\n",
      "\u001b[0;32m/usr/local/envs/bsql/lib/python3.8/site-packages/bsql_engine/io/io.pyx\u001b[0m in \u001b[0;36mcio.runQueryPython\u001b[0;34m()\u001b[0m\n",
      "\u001b[0;31mRuntimeError\u001b[0m: Ral failure at: /opt/conda/envs/rapids/conda-bld/blazingsql_1603993254806/work/engine/src/parser/expression_utils.cpp:290: Unsupported operator: LOWER"
     ]
    }
   ],
   "source": [
    "query = '''\n",
    "    SELECT string\n",
    "        , LOWER(string) AS r\n",
    "    FROM df\n",
    "'''\n",
    "\n",
    "bc.sql(query)"
   ]
  },
  {
   "cell_type": "markdown",
   "metadata": {},
   "source": [
    "#### REVERSE"
   ]
  },
  {
   "cell_type": "code",
   "execution_count": 20,
   "metadata": {},
   "outputs": [
    {
     "ename": "Exception",
     "evalue": "No match found for function signature REVERS(<CHARACTER>)",
     "output_type": "error",
     "traceback": [
      "\u001b[0;31m\u001b[0m",
      "\u001b[0;31mException\u001b[0mTraceback (most recent call last)",
      "\u001b[0;32m/usr/local/envs/bsql/lib/python3.8/site-packages/_jpype.cpython-38-x86_64-linux-gnu.so\u001b[0m in \u001b[0;36mcom.blazingdb.calcite.application.RelationalAlgebraGenerator.getRelationalAlgebraString\u001b[0;34m()\u001b[0m\n",
      "\u001b[0;32m/usr/local/envs/bsql/lib/python3.8/site-packages/_jpype.cpython-38-x86_64-linux-gnu.so\u001b[0m in \u001b[0;36mcom.blazingdb.calcite.application.RelationalAlgebraGenerator.getRelationalAlgebra\u001b[0;34m()\u001b[0m\n",
      "\u001b[0;32m/usr/local/envs/bsql/lib/python3.8/site-packages/_jpype.cpython-38-x86_64-linux-gnu.so\u001b[0m in \u001b[0;36mcom.blazingdb.calcite.application.RelationalAlgebraGenerator.getNonOptimizedRelationalAlgebra\u001b[0;34m()\u001b[0m\n",
      "\u001b[0;32m/usr/local/envs/bsql/lib/python3.8/site-packages/_jpype.cpython-38-x86_64-linux-gnu.so\u001b[0m in \u001b[0;36mcom.blazingdb.calcite.application.RelationalAlgebraGenerator.validateQuery\u001b[0;34m()\u001b[0m\n",
      "\u001b[0;31mException\u001b[0m: Java Exception",
      "\nThe above exception was the direct cause of the following exception:\n",
      "\u001b[0;31mcom.blazingdb.calcite.application.SqlValidationException\u001b[0mTraceback (most recent call last)",
      "\u001b[0;32m/usr/local/envs/bsql/lib/python3.8/site-packages/pyblazing/apiv2/context.py\u001b[0m in \u001b[0;36mexplain\u001b[0;34m(self, sql)\u001b[0m\n\u001b[1;32m   1621\u001b[0m         \u001b[0;32mtry\u001b[0m\u001b[0;34m:\u001b[0m\u001b[0;34m\u001b[0m\u001b[0;34m\u001b[0m\u001b[0m\n\u001b[0;32m-> 1622\u001b[0;31m             \u001b[0malgebra\u001b[0m \u001b[0;34m=\u001b[0m \u001b[0mself\u001b[0m\u001b[0;34m.\u001b[0m\u001b[0mgenerator\u001b[0m\u001b[0;34m.\u001b[0m\u001b[0mgetRelationalAlgebraString\u001b[0m\u001b[0;34m(\u001b[0m\u001b[0msql\u001b[0m\u001b[0;34m)\u001b[0m\u001b[0;34m\u001b[0m\u001b[0;34m\u001b[0m\u001b[0m\n\u001b[0m\u001b[1;32m   1623\u001b[0m \u001b[0;34m\u001b[0m\u001b[0m\n",
      "\u001b[0;31mcom.blazingdb.calcite.application.SqlValidationException\u001b[0m: com.blazingdb.calcite.application.SqlValidationException: No match found for function signature REVERS(<CHARACTER>)",
      "\nDuring handling of the above exception, another exception occurred:\n",
      "\u001b[0;31mException\u001b[0mTraceback (most recent call last)",
      "\u001b[0;32m<ipython-input-20-af9f845b6b5a>\u001b[0m in \u001b[0;36m<module>\u001b[0;34m\u001b[0m\n\u001b[1;32m      5\u001b[0m '''\n\u001b[1;32m      6\u001b[0m \u001b[0;34m\u001b[0m\u001b[0m\n\u001b[0;32m----> 7\u001b[0;31m \u001b[0mbc\u001b[0m\u001b[0;34m.\u001b[0m\u001b[0msql\u001b[0m\u001b[0;34m(\u001b[0m\u001b[0mquery\u001b[0m\u001b[0;34m)\u001b[0m\u001b[0;34m\u001b[0m\u001b[0;34m\u001b[0m\u001b[0m\n\u001b[0m",
      "\u001b[0;32m/usr/local/envs/bsql/lib/python3.8/site-packages/pyblazing/apiv2/context.py\u001b[0m in \u001b[0;36msql\u001b[0;34m(self, query, algebra, return_futures, single_gpu, config_options)\u001b[0m\n\u001b[1;32m   2641\u001b[0m \u001b[0;34m\u001b[0m\u001b[0m\n\u001b[1;32m   2642\u001b[0m         \u001b[0;32mif\u001b[0m \u001b[0malgebra\u001b[0m \u001b[0;32mis\u001b[0m \u001b[0;32mNone\u001b[0m\u001b[0;34m:\u001b[0m\u001b[0;34m\u001b[0m\u001b[0;34m\u001b[0m\u001b[0m\n\u001b[0;32m-> 2643\u001b[0;31m             \u001b[0malgebra\u001b[0m \u001b[0;34m=\u001b[0m \u001b[0mself\u001b[0m\u001b[0;34m.\u001b[0m\u001b[0mexplain\u001b[0m\u001b[0;34m(\u001b[0m\u001b[0mquery\u001b[0m\u001b[0;34m)\u001b[0m\u001b[0;34m\u001b[0m\u001b[0;34m\u001b[0m\u001b[0m\n\u001b[0m\u001b[1;32m   2644\u001b[0m \u001b[0;34m\u001b[0m\u001b[0m\n\u001b[1;32m   2645\u001b[0m         \u001b[0;31m# when an empty `LogicalValues` appears on the optimized plan\u001b[0m\u001b[0;34m\u001b[0m\u001b[0;34m\u001b[0m\u001b[0;34m\u001b[0m\u001b[0m\n",
      "\u001b[0;32m/usr/local/envs/bsql/lib/python3.8/site-packages/pyblazing/apiv2/context.py\u001b[0m in \u001b[0;36mexplain\u001b[0;34m(self, sql)\u001b[0m\n\u001b[1;32m   1624\u001b[0m         \u001b[0;32mexcept\u001b[0m \u001b[0mSqlValidationExceptionClass\u001b[0m \u001b[0;32mas\u001b[0m \u001b[0mexception\u001b[0m\u001b[0;34m:\u001b[0m\u001b[0;34m\u001b[0m\u001b[0;34m\u001b[0m\u001b[0m\n\u001b[1;32m   1625\u001b[0m             \u001b[0;31m# jpype.JException as exception:\u001b[0m\u001b[0;34m\u001b[0m\u001b[0;34m\u001b[0m\u001b[0;34m\u001b[0m\u001b[0m\n\u001b[0;32m-> 1626\u001b[0;31m             \u001b[0;32mraise\u001b[0m \u001b[0mException\u001b[0m\u001b[0;34m(\u001b[0m\u001b[0mexception\u001b[0m\u001b[0;34m.\u001b[0m\u001b[0mmessage\u001b[0m\u001b[0;34m(\u001b[0m\u001b[0;34m)\u001b[0m\u001b[0;34m)\u001b[0m\u001b[0;34m\u001b[0m\u001b[0;34m\u001b[0m\u001b[0m\n\u001b[0m\u001b[1;32m   1627\u001b[0m             \u001b[0;31m# algebra = \"\"\u001b[0m\u001b[0;34m\u001b[0m\u001b[0;34m\u001b[0m\u001b[0;34m\u001b[0m\u001b[0m\n\u001b[1;32m   1628\u001b[0m             \u001b[0;31m# print(\"SQL Parsing Error\")\u001b[0m\u001b[0;34m\u001b[0m\u001b[0;34m\u001b[0m\u001b[0;34m\u001b[0m\u001b[0m\n",
      "\u001b[0;31mException\u001b[0m: No match found for function signature REVERS(<CHARACTER>)"
     ]
    }
   ],
   "source": [
    "query = '''\n",
    "    SELECT string\n",
    "        , REVERS(string) AS r\n",
    "    FROM df\n",
    "'''\n",
    "\n",
    "bc.sql(query)"
   ]
  },
  {
   "cell_type": "code",
   "execution_count": null,
   "metadata": {},
   "outputs": [],
   "source": []
  }
 ],
 "metadata": {
  "kernelspec": {
   "display_name": "Python 3",
   "language": "python",
   "name": "python3"
  },
  "language_info": {
   "codemirror_mode": {
    "name": "ipython",
    "version": 3
   },
   "file_extension": ".py",
   "mimetype": "text/x-python",
   "name": "python",
   "nbconvert_exporter": "python",
   "pygments_lexer": "ipython3",
   "version": "3.8.5"
  }
 },
 "nbformat": 4,
 "nbformat_minor": 4
}
