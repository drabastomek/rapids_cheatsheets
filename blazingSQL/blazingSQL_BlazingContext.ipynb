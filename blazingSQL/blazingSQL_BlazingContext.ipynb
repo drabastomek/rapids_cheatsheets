{
 "cells": [
  {
   "cell_type": "markdown",
   "metadata": {},
   "source": [
    "# BlazingSQL Cheat Sheets sample code\n",
    "\n",
    "(c) 2020 NVIDIA, Blazing SQL\n",
    "\n",
    "Distributed under Apache License 2.0"
   ]
  },
  {
   "cell_type": "markdown",
   "metadata": {},
   "source": [
    "### Imports"
   ]
  },
  {
   "cell_type": "code",
   "execution_count": 3,
   "metadata": {},
   "outputs": [],
   "source": [
    "import cudf\n",
    "import numpy as np\n",
    "from blazingsql import BlazingContext"
   ]
  },
  {
   "cell_type": "markdown",
   "metadata": {},
   "source": [
    "### Sample DataFrame"
   ]
  },
  {
   "cell_type": "code",
   "execution_count": 14,
   "metadata": {},
   "outputs": [],
   "source": [
    "df = cudf.DataFrame(\n",
    "    [\n",
    "          (39, 6.88, np.datetime64('2020-10-08T12:12:01'), np.timedelta64(14378,'s'), 'C', 'D', 'data'\n",
    "            , 'RAPIDS.ai is a suite of open-source libraries that allow you to run your end to end data science and analytics pipelines on GPUs.')\n",
    "        , (11, 4.21, None,                                 None                     , 'A', 'D', 'cuDF'\n",
    "            , 'cuDF is a Python GPU DataFrame (built on the Apache Arrow columnar memory format)')\n",
    "        , (31, 4.71, np.datetime64('2020-10-10T09:26:43'), np.timedelta64(12909,'s'), 'U', 'D', 'memory'\n",
    "            , 'cuDF allows for loading, joining, aggregating, filtering, and otherwise manipulating tabular data using a DataFrame style API.')\n",
    "        , (40, 0.93, np.datetime64('2020-10-11T17:10:00'), np.timedelta64(10466,'s'), 'P', 'B', 'tabular'\n",
    "            , '''If your workflow is fast enough on a single GPU or your data comfortably fits in memory on \n",
    "                 a single GPU, you would want to use cuDF.''')\n",
    "        , (33, 9.26, np.datetime64('2020-10-15T10:58:02'), np.timedelta64(35558,'s'), 'O', 'D', 'parallel'\n",
    "            , '''If you want to distribute your workflow across multiple GPUs or have more data than you can fit \n",
    "                 in memory on a single GPU you would want to use Dask-cuDF''')\n",
    "        , (42, 4.21, np.datetime64('2020-10-01T10:02:23'), np.timedelta64(20480,'s'), 'U', 'C', 'GPUs'\n",
    "            , 'BlazingSQL provides a high-performance distributed SQL engine in Python')\n",
    "        , (36, 3.01, np.datetime64('2020-09-30T14:36:26'), np.timedelta64(24409,'s'), 'T', 'D', None\n",
    "            , 'BlazingSQL is built on the RAPIDS GPU data science ecosystem')\n",
    "        , (38, 6.44, np.datetime64('2020-10-10T08:34:36'), np.timedelta64(90171,'s'), 'X', 'B', 'csv'\n",
    "            , 'BlazingSQL lets you ETL raw data directly into GPU memory as a GPU DataFrame (GDF)')\n",
    "        , (17, 5.28, np.datetime64('2020-10-09T08:34:40'), np.timedelta64(30532,'s'), 'P', 'D', 'dataframes'\n",
    "            , 'Dask is a flexible library for parallel computing in Python')\n",
    "        , (10, 8.28, np.datetime64('2020-10-03T03:31:21'), np.timedelta64(23552,'s'), 'W', 'B', 'python'\n",
    "            , None)\n",
    "    ]\n",
    "    , columns = ['num', 'float', 'datetime', 'timedelta', 'char', 'category', 'word', 'string']\n",
    ")"
   ]
  },
  {
   "cell_type": "markdown",
   "metadata": {},
   "source": [
    "# BlazingContext"
   ]
  },
  {
   "cell_type": "markdown",
   "metadata": {},
   "source": [
    "#### blazignsql.BlazingContext()"
   ]
  },
  {
   "cell_type": "code",
   "execution_count": 7,
   "metadata": {},
   "outputs": [
    {
     "name": "stdout",
     "output_type": "stream",
     "text": [
      "BlazingContext ready\n"
     ]
    }
   ],
   "source": [
    "bc = BlazingContext()"
   ]
  },
  {
   "cell_type": "code",
   "execution_count": 11,
   "metadata": {},
   "outputs": [
    {
     "name": "stdout",
     "output_type": "stream",
     "text": [
      "BlazingContext ready\n"
     ]
    }
   ],
   "source": [
    "bc = BlazingContext(\n",
    "    dask_client=None\n",
    "    , pool=True\n",
    "    , initial_pool_size=4*(1024**3) ## 4 GB\n",
    "    , network_interface='eth0'\n",
    ")"
   ]
  },
  {
   "cell_type": "markdown",
   "metadata": {},
   "source": [
    "#### blazignsql.BlazingContext.s3()"
   ]
  },
  {
   "cell_type": "code",
   "execution_count": 12,
   "metadata": {},
   "outputs": [
    {
     "data": {
      "text/plain": [
       "(True,\n",
       " '',\n",
       " OrderedDict([('type', 's3'),\n",
       "              ('bucket_name', 'bsql'),\n",
       "              ('access_key_id', ''),\n",
       "              ('secret_key', ''),\n",
       "              ('session_token', ''),\n",
       "              ('encryption_type', <S3EncryptionType.NONE: 1>),\n",
       "              ('kms_key_amazon_resource_name', ''),\n",
       "              ('endpoint_override', ''),\n",
       "              ('region', '')]))"
      ]
     },
     "execution_count": 12,
     "metadata": {},
     "output_type": "execute_result"
    }
   ],
   "source": [
    "_ = bc.s3(\n",
    "    'bsql'\n",
    "    , bucket_name = 'bsql'\n",
    ")"
   ]
  },
  {
   "cell_type": "code",
   "execution_count": null,
   "metadata": {},
   "outputs": [],
   "source": [
    "_ = bc.s3(\n",
    "    '<dir_name>'\n",
    "    , bucket_name='<bucket_name>'\n",
    "    , access_key_id='<ACCESS_KEY>'\n",
    "    , secret_key='<SECRET_KEY>'\n",
    "    , region=\"<region>\"\n",
    "    , endpoint_override=\"https://s3.filebase.com\"\n",
    ")"
   ]
  },
  {
   "cell_type": "markdown",
   "metadata": {},
   "source": [
    "#### blazignsql.BlazingContext.gs()"
   ]
  },
  {
   "cell_type": "code",
   "execution_count": null,
   "metadata": {},
   "outputs": [],
   "source": [
    "bc.gs('dir_name', \n",
    "      project_id='<project_id>', \n",
    "      bucket_name='<bucket_name>', \n",
    "      use_default_adc_json_file=False, \n",
    "      adc_json_file='<../file_path_to/credentials.json>')"
   ]
  },
  {
   "cell_type": "markdown",
   "metadata": {},
   "source": [
    "#### blazignsql.BlazingContext.create_table()"
   ]
  },
  {
   "cell_type": "code",
   "execution_count": 15,
   "metadata": {},
   "outputs": [],
   "source": [
    "bc.create_table('df', df)"
   ]
  },
  {
   "cell_type": "code",
   "execution_count": 23,
   "metadata": {},
   "outputs": [],
   "source": [
    "bc.create_table('apache', '../data/apache_sample_head.parquet')"
   ]
  },
  {
   "cell_type": "code",
   "execution_count": 17,
   "metadata": {},
   "outputs": [],
   "source": [
    "bc.create_table('apache', '../data/apache_sample_head.csv')"
   ]
  },
  {
   "cell_type": "code",
   "execution_count": 28,
   "metadata": {},
   "outputs": [],
   "source": [
    "bc.create_table('parking_locations','s3://bsql/data/seattle_parking/parking_locations.parquet/')"
   ]
  },
  {
   "cell_type": "markdown",
   "metadata": {},
   "source": [
    "#### blazignsql.BlazingContext.drop_table()"
   ]
  },
  {
   "cell_type": "code",
   "execution_count": 29,
   "metadata": {},
   "outputs": [],
   "source": [
    "bc.drop_table('apache')"
   ]
  },
  {
   "cell_type": "markdown",
   "metadata": {},
   "source": [
    "#### blazignsql.BlazingContext.list_tables()"
   ]
  },
  {
   "cell_type": "code",
   "execution_count": 21,
   "metadata": {},
   "outputs": [
    {
     "data": {
      "text/plain": [
       "['df']"
      ]
     },
     "execution_count": 21,
     "metadata": {},
     "output_type": "execute_result"
    }
   ],
   "source": [
    "bc.list_tables()"
   ]
  },
  {
   "cell_type": "markdown",
   "metadata": {},
   "source": [
    "#### blazignsql.BlazingContext.describe_table()"
   ]
  },
  {
   "cell_type": "code",
   "execution_count": 30,
   "metadata": {},
   "outputs": [
    {
     "data": {
      "text/plain": [
       "{'SourceElementKey': 'int64',\n",
       " 'BlockfaceName': 'str',\n",
       " 'SideOfStreet': 'str',\n",
       " 'ParkingTimeLimitCategory': 'int64',\n",
       " 'ParkingSpaceCount': 'int64',\n",
       " 'PaidParkingArea': 'str',\n",
       " 'PaidParkingSubArea': 'str',\n",
       " 'ParkingCategory': 'str',\n",
       " 'Location': 'str'}"
      ]
     },
     "execution_count": 30,
     "metadata": {},
     "output_type": "execute_result"
    }
   ],
   "source": [
    "bc.describe_table('parking_locations')"
   ]
  },
  {
   "cell_type": "markdown",
   "metadata": {},
   "source": [
    "#### blazignsql.BlazingContext.sql()"
   ]
  },
  {
   "cell_type": "code",
   "execution_count": 31,
   "metadata": {},
   "outputs": [
    {
     "data": {
      "text/html": [
       "<div>\n",
       "<style scoped>\n",
       "    .dataframe tbody tr th:only-of-type {\n",
       "        vertical-align: middle;\n",
       "    }\n",
       "\n",
       "    .dataframe tbody tr th {\n",
       "        vertical-align: top;\n",
       "    }\n",
       "\n",
       "    .dataframe thead th {\n",
       "        text-align: right;\n",
       "    }\n",
       "</style>\n",
       "<table border=\"1\" class=\"dataframe\">\n",
       "  <thead>\n",
       "    <tr style=\"text-align: right;\">\n",
       "      <th></th>\n",
       "      <th>SourceElementKey</th>\n",
       "      <th>BlockfaceName</th>\n",
       "      <th>SideOfStreet</th>\n",
       "      <th>ParkingTimeLimitCategory</th>\n",
       "      <th>ParkingSpaceCount</th>\n",
       "      <th>PaidParkingArea</th>\n",
       "      <th>PaidParkingSubArea</th>\n",
       "      <th>ParkingCategory</th>\n",
       "      <th>Location</th>\n",
       "    </tr>\n",
       "  </thead>\n",
       "  <tbody>\n",
       "    <tr>\n",
       "      <th>0</th>\n",
       "      <td>1009</td>\n",
       "      <td>1ST AVE BETWEEN MADISON ST AND SPRING ST</td>\n",
       "      <td>SW</td>\n",
       "      <td>30</td>\n",
       "      <td>5</td>\n",
       "      <td>Commercial Core</td>\n",
       "      <td>Waterfront</td>\n",
       "      <td>Paid Parking</td>\n",
       "      <td>POINT (-122.3366575 47.60501765)</td>\n",
       "    </tr>\n",
       "    <tr>\n",
       "      <th>1</th>\n",
       "      <td>1018</td>\n",
       "      <td>1ST AVE BETWEEN STEWART ST AND VIRGINIA ST</td>\n",
       "      <td>NE</td>\n",
       "      <td>120</td>\n",
       "      <td>12</td>\n",
       "      <td>Belltown</td>\n",
       "      <td>South</td>\n",
       "      <td>Paid Parking</td>\n",
       "      <td>POINT (-122.34188878 47.61073498)</td>\n",
       "    </tr>\n",
       "    <tr>\n",
       "      <th>2</th>\n",
       "      <td>1045</td>\n",
       "      <td>1ST AVE N BETWEEN REPUBLICAN ST AND MERCER ST</td>\n",
       "      <td>W</td>\n",
       "      <td>120</td>\n",
       "      <td>11</td>\n",
       "      <td>Uptown</td>\n",
       "      <td>Core</td>\n",
       "      <td>Paid Parking</td>\n",
       "      <td>POINT (-122.35549857 47.62391565)</td>\n",
       "    </tr>\n",
       "  </tbody>\n",
       "</table>\n",
       "</div>"
      ],
      "text/plain": [
       "   SourceElementKey                                  BlockfaceName  \\\n",
       "0              1009       1ST AVE BETWEEN MADISON ST AND SPRING ST   \n",
       "1              1018     1ST AVE BETWEEN STEWART ST AND VIRGINIA ST   \n",
       "2              1045  1ST AVE N BETWEEN REPUBLICAN ST AND MERCER ST   \n",
       "\n",
       "  SideOfStreet  ParkingTimeLimitCategory  ParkingSpaceCount  PaidParkingArea  \\\n",
       "0           SW                        30                  5  Commercial Core   \n",
       "1           NE                       120                 12         Belltown   \n",
       "2            W                       120                 11           Uptown   \n",
       "\n",
       "  PaidParkingSubArea ParkingCategory                           Location  \n",
       "0         Waterfront    Paid Parking   POINT (-122.3366575 47.60501765)  \n",
       "1              South    Paid Parking  POINT (-122.34188878 47.61073498)  \n",
       "2               Core    Paid Parking  POINT (-122.35549857 47.62391565)  "
      ]
     },
     "execution_count": 31,
     "metadata": {},
     "output_type": "execute_result"
    }
   ],
   "source": [
    "bc.sql('SELECT * FROM parking_locations LIMIT 3')"
   ]
  },
  {
   "cell_type": "markdown",
   "metadata": {},
   "source": [
    "#### blazignsql.BlazingContext.explain()"
   ]
  },
  {
   "cell_type": "code",
   "execution_count": 32,
   "metadata": {},
   "outputs": [
    {
     "data": {
      "text/plain": [
       "'LogicalSort(fetch=[3])\\n  LogicalTableScan(table=[[main, parking_locations]])\\n'"
      ]
     },
     "execution_count": 32,
     "metadata": {},
     "output_type": "execute_result"
    }
   ],
   "source": [
    "bc.explain('SELECT * FROM parking_locations LIMIT 3')"
   ]
  },
  {
   "cell_type": "markdown",
   "metadata": {},
   "source": [
    "#### blazignsql.BlazingContext.log()"
   ]
  },
  {
   "cell_type": "code",
   "execution_count": 36,
   "metadata": {},
   "outputs": [
    {
     "data": {
      "text/html": [
       "<div>\n",
       "<style scoped>\n",
       "    .dataframe tbody tr th:only-of-type {\n",
       "        vertical-align: middle;\n",
       "    }\n",
       "\n",
       "    .dataframe tbody tr th {\n",
       "        vertical-align: top;\n",
       "    }\n",
       "\n",
       "    .dataframe thead th {\n",
       "        text-align: right;\n",
       "    }\n",
       "</style>\n",
       "<table border=\"1\" class=\"dataframe\">\n",
       "  <thead>\n",
       "    <tr style=\"text-align: right;\">\n",
       "      <th></th>\n",
       "      <th>log_time</th>\n",
       "      <th>query_id</th>\n",
       "      <th>duration</th>\n",
       "    </tr>\n",
       "  </thead>\n",
       "  <tbody>\n",
       "    <tr>\n",
       "      <th>0</th>\n",
       "      <td>2020-12-05 00:07:12.421</td>\n",
       "      <td>984749867</td>\n",
       "      <td>781.0</td>\n",
       "    </tr>\n",
       "    <tr>\n",
       "      <th>1</th>\n",
       "      <td>2020-12-05 00:07:07.608</td>\n",
       "      <td>1292265483</td>\n",
       "      <td>1156.0</td>\n",
       "    </tr>\n",
       "    <tr>\n",
       "      <th>2</th>\n",
       "      <td>2020-12-05 00:05:05.425</td>\n",
       "      <td>1168405988</td>\n",
       "      <td>1228.0</td>\n",
       "    </tr>\n",
       "  </tbody>\n",
       "</table>\n",
       "</div>"
      ],
      "text/plain": [
       "                 log_time    query_id  duration\n",
       "0 2020-12-05 00:07:12.421   984749867     781.0\n",
       "1 2020-12-05 00:07:07.608  1292265483    1156.0\n",
       "2 2020-12-05 00:05:05.425  1168405988    1228.0"
      ]
     },
     "execution_count": 36,
     "metadata": {},
     "output_type": "execute_result"
    }
   ],
   "source": [
    "bc.log(\"SELECT log_time, query_id, duration FROM bsql_logs WHERE info = 'Query Execution Done' ORDER BY log_time DESC\")"
   ]
  },
  {
   "cell_type": "code",
   "execution_count": null,
   "metadata": {},
   "outputs": [],
   "source": []
  },
  {
   "cell_type": "markdown",
   "metadata": {},
   "source": [
    "SQL\n",
    "#### SELECT#### Yes\n",
    "#### DISTINCT#### Yes\n",
    "#### WHERE#### Yes\n",
    "#### GROUP BY#### Yes\n",
    "#### ORDER BY#### Yes\n",
    "#### CASE#### Yes\n",
    "#### LIKE#### Yes\n",
    "#### CAST#### Yes"
   ]
  },
  {
   "cell_type": "markdown",
   "metadata": {},
   "source": [
    "SQL Joins\n",
    "#### INNER\n",
    "#### FULL OUTER\n",
    "#### LEFT OUTER\n",
    "#### CROSS JOIN"
   ]
  },
  {
   "cell_type": "markdown",
   "metadata": {},
   "source": [
    "SQL Unary Functions\n",
    "#### FLOOR\n",
    "#### CEILING\n",
    "#### SIN\n",
    "#### COS\n",
    "#### ASIN\n",
    "#### ACOS\n",
    "#### TAN\n",
    "#### ATAN\n",
    "#### SQRT\n",
    "#### COTAN\n",
    "#### ABS\n",
    "#### NOT\n",
    "#### LN\n",
    "#### LOG\n",
    "#### RAND\n",
    "#### ROUND\n",
    "#### STDDEV\n",
    "#### STDDEV_POP\n",
    "#### STDDEV_SAMP\n",
    "#### VARIANCE\n",
    "#### VAR_SAMP\n",
    "#### VAR_POP"
   ]
  },
  {
   "cell_type": "markdown",
   "metadata": {},
   "source": [
    "SQL Binary Functions\n",
    "#### Addition\n",
    "#### Subtraction\n",
    "#### Multiplication\n",
    "#### Division\n",
    "#### MOD\n",
    "#### POWER\n",
    "#### EQUAL TO\n",
    "#### NOT EQUAL TO\n",
    "#### LESS THAN\n",
    "#### GREATER THAN\n",
    "#### LESS THAN OR EQUAL TO\n",
    "#### GREATER THAN OR EQUAL TO\n",
    "#### COALESCE"
   ]
  },
  {
   "cell_type": "markdown",
   "metadata": {},
   "source": [
    "SQL DateTime Functions\n",
    "#### YEAR\n",
    "#### MONTH\n",
    "#### DAYOFMONTH\n",
    "#### HOUR\n",
    "#### MINUTE\n",
    "#### SECOND\n",
    "#### DAYOFWEEK\n",
    "#### TO_DATE\n",
    "#### TO_TIMESTAMP"
   ]
  },
  {
   "cell_type": "markdown",
   "metadata": {},
   "source": [
    "SQL String Functions\n",
    "#### CONCAT\n",
    "#### SUBSTRING\n",
    "#### CHAR_LENGTH\n",
    "#### LEFT\n",
    "#### RIGHT\n",
    "#### LTRIM\n",
    "#### RTRIM\n",
    "#### REPLACE\n",
    "#### UPPER\n",
    "#### LOWER\n",
    "#### REVERSE"
   ]
  }
 ],
 "metadata": {
  "kernelspec": {
   "display_name": "Python 3",
   "language": "python",
   "name": "python3"
  },
  "language_info": {
   "codemirror_mode": {
    "name": "ipython",
    "version": 3
   },
   "file_extension": ".py",
   "mimetype": "text/x-python",
   "name": "python",
   "nbconvert_exporter": "python",
   "pygments_lexer": "ipython3",
   "version": "3.8.5"
  }
 },
 "nbformat": 4,
 "nbformat_minor": 4
}
