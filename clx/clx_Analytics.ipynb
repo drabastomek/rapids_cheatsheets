{
 "cells": [
  {
   "cell_type": "markdown",
   "metadata": {},
   "source": [
    "# CLX Cheat Sheets sample code\n",
    "\n",
    "(c) 2020 NVIDIA, Blazing SQL\n",
    "\n",
    "Distributed under Apache License 2.0"
   ]
  },
  {
   "cell_type": "code",
   "execution_count": 1,
   "metadata": {},
   "outputs": [],
   "source": [
    "import cudf\n",
    "import s3fs\n",
    "from os import path\n",
    "\n",
    "from clx.analytics.cybert import Cybert"
   ]
  },
  {
   "cell_type": "markdown",
   "metadata": {},
   "source": [
    "# CyBERT"
   ]
  },
  {
   "cell_type": "markdown",
   "metadata": {},
   "source": [
    "## Model"
   ]
  },
  {
   "cell_type": "code",
   "execution_count": 7,
   "metadata": {},
   "outputs": [],
   "source": [
    "CLX_S3_BASE_PATH = 'rapidsai-data/cyber/clx'\n",
    "HF_S3_BASE_PATH = 'models.huggingface.co/bert/raykallen/cybert_apache_parser'\n",
    "\n",
    "MODEL_DIR = '../models/CyBERT'\n",
    "DATA_DIR = '../data'\n",
    "CONFIG_FILENAME = 'config.json'\n",
    "MODEL_FILENAME = 'pytorch_model.bin'\n",
    "APACHE_SAMPLE_CSV = 'apache_sample_1k.csv'"
   ]
  },
  {
   "cell_type": "code",
   "execution_count": 15,
   "metadata": {},
   "outputs": [],
   "source": [
    "if not path.exists(f'{MODEL_DIR}/{MODEL_FILENAME}'):\n",
    "    fs = s3fs.S3FileSystem(anon=True)\n",
    "    fs.get(\n",
    "          f'{HF_S3_BASE_PATH}/{MODEL_FILENAME}'\n",
    "        , f'{MODEL_DIR}/{MODEL_FILENAME}'\n",
    "    )\n",
    "\n",
    "if not path.exists(f'{MODEL_DIR}/{CONFIG_FILENAME}'):\n",
    "    fs = s3fs.S3FileSystem(anon=True)\n",
    "    fs.get(\n",
    "          f'{HF_S3_BASE_PATH}/{CONFIG_FILENAME}'\n",
    "        , f'{MODEL_DIR}/{CONFIG_FILENAME}'\n",
    "    )\n",
    "    \n",
    "if not path.exists(APACHE_SAMPLE_CSV):\n",
    "    fs = s3fs.S3FileSystem(anon=True)\n",
    "    fs.get(\n",
    "        f'{CLX_S3_BASE_PATH}/{APACHE_SAMPLE_CSV}'\n",
    "        , f'{DATA_DIR}/{APACHE_SAMPLE_CSV}')"
   ]
  },
  {
   "cell_type": "markdown",
   "metadata": {},
   "source": [
    "#### clx.analytics.cybert.Cybert.load_model()"
   ]
  },
  {
   "cell_type": "code",
   "execution_count": 13,
   "metadata": {},
   "outputs": [],
   "source": [
    "cybert = Cybert()\n",
    "cybert.load_model(\n",
    "    f'{MODEL_DIR}/{MODEL_FILENAME}'\n",
    "    , f'{MODEL_DIR}/{CONFIG_FILENAME}'\n",
    ")"
   ]
  },
  {
   "cell_type": "markdown",
   "metadata": {},
   "source": [
    "#### clx.analytics.cybert.Cybert.inference()"
   ]
  },
  {
   "cell_type": "code",
   "execution_count": 17,
   "metadata": {},
   "outputs": [],
   "source": [
    "logs_df = cudf.read_csv(f'{DATA_DIR}/{APACHE_SAMPLE_CSV}')\n",
    "parsed_df, confidence_df = cybert.inference(logs_df[\"raw\"])"
   ]
  },
  {
   "cell_type": "code",
   "execution_count": 19,
   "metadata": {},
   "outputs": [
    {
     "data": {
      "text/html": [
       "<div>\n",
       "<style scoped>\n",
       "    .dataframe tbody tr th:only-of-type {\n",
       "        vertical-align: middle;\n",
       "    }\n",
       "\n",
       "    .dataframe tbody tr th {\n",
       "        vertical-align: top;\n",
       "    }\n",
       "\n",
       "    .dataframe thead th {\n",
       "        text-align: right;\n",
       "    }\n",
       "</style>\n",
       "<table border=\"1\" class=\"dataframe\">\n",
       "  <thead>\n",
       "    <tr style=\"text-align: right;\">\n",
       "      <th></th>\n",
       "      <th>time_received</th>\n",
       "      <th>error_level</th>\n",
       "      <th>error_message</th>\n",
       "      <th>remote_host</th>\n",
       "      <th>other</th>\n",
       "      <th>request_method</th>\n",
       "      <th>request_url</th>\n",
       "      <th>request_http_ver</th>\n",
       "      <th>status</th>\n",
       "      <th>response_bytes_clf</th>\n",
       "      <th>request_header_user_agent</th>\n",
       "      <th>request_header_referer</th>\n",
       "      <th>X</th>\n",
       "    </tr>\n",
       "  </thead>\n",
       "  <tbody>\n",
       "    <tr>\n",
       "      <th>0</th>\n",
       "      <td>[Sun Dec 04 20:22:49 2005]</td>\n",
       "      <td>[notice]</td>\n",
       "      <td>workerEnv.init () ok/etc/httpd/conf/workers2 .</td>\n",
       "      <td>NaN</td>\n",
       "      <td>NaN</td>\n",
       "      <td>NaN</td>\n",
       "      <td>NaN</td>\n",
       "      <td>NaN</td>\n",
       "      <td>NaN</td>\n",
       "      <td>NaN</td>\n",
       "      <td>NaN</td>\n",
       "      <td>NaN</td>\n",
       "      <td>NaN</td>\n",
       "    </tr>\n",
       "    <tr>\n",
       "      <th>1</th>\n",
       "      <td>[01/Sep/2019:03:28:00 +0200]</td>\n",
       "      <td>NaN</td>\n",
       "      <td>NaN</td>\n",
       "      <td>193.106.31.130</td>\n",
       "      <td>---</td>\n",
       "      <td>POST</td>\n",
       "      <td>/administrator/index.php</td>\n",
       "      <td>HTTP/1.0</td>\n",
       "      <td>200</td>\n",
       "      <td>4481</td>\n",
       "      <td>Mozilla/4.0 (compatible.MSIE...; Windows NT...)</td>\n",
       "      <td>NaN</td>\n",
       "      <td>NaN</td>\n",
       "    </tr>\n",
       "    <tr>\n",
       "      <th>2</th>\n",
       "      <td>[29/Sep/2019:19:41:25 +0200]</td>\n",
       "      <td>NaN</td>\n",
       "      <td>NaN</td>\n",
       "      <td>100.1.14.108</td>\n",
       "      <td>---</td>\n",
       "      <td>GET</td>\n",
       "      <td>/components/com.users/dispacher.php</td>\n",
       "      <td>HTTP/1.1</td>\n",
       "      <td>404</td>\n",
       "      <td>240</td>\n",
       "      <td>python-requests/2.22.0</td>\n",
       "      <td>NaN</td>\n",
       "      <td>NaN</td>\n",
       "    </tr>\n",
       "    <tr>\n",
       "      <th>3</th>\n",
       "      <td>[06/Nov/2019:03:15:15 +0100]</td>\n",
       "      <td>NaN</td>\n",
       "      <td>NaN</td>\n",
       "      <td>13.84.43.203</td>\n",
       "      <td>---</td>\n",
       "      <td>GET</td>\n",
       "      <td>//administrator/index.php</td>\n",
       "      <td>HTTP/1.1</td>\n",
       "      <td>200</td>\n",
       "      <td>4270</td>\n",
       "      <td>Mozilla/5.0 (Windows NT 10.0.Win64.x64.rv:65.0...</td>\n",
       "      <td>NaN</td>\n",
       "      <td>NaN</td>\n",
       "    </tr>\n",
       "    <tr>\n",
       "      <th>4</th>\n",
       "      <td>[18/Feb/2016:12:38:21 +0100]</td>\n",
       "      <td>NaN</td>\n",
       "      <td>NaN</td>\n",
       "      <td>90.188.40.9</td>\n",
       "      <td>---</td>\n",
       "      <td>GET</td>\n",
       "      <td>/administrator/</td>\n",
       "      <td>HTTP/1.1</td>\n",
       "      <td>200</td>\n",
       "      <td>4263</td>\n",
       "      <td>Mozilla/5.0 (Windows NT.. 1) AppleWebKit/537.3...</td>\n",
       "      <td>NaN</td>\n",
       "      <td>NaN</td>\n",
       "    </tr>\n",
       "  </tbody>\n",
       "</table>\n",
       "</div>"
      ],
      "text/plain": [
       "                  time_received error_level  \\\n",
       "0    [Sun Dec 04 20:22:49 2005]    [notice]   \n",
       "1  [01/Sep/2019:03:28:00 +0200]         NaN   \n",
       "2  [29/Sep/2019:19:41:25 +0200]         NaN   \n",
       "3  [06/Nov/2019:03:15:15 +0100]         NaN   \n",
       "4  [18/Feb/2016:12:38:21 +0100]         NaN   \n",
       "\n",
       "                                    error_message     remote_host other  \\\n",
       "0  workerEnv.init () ok/etc/httpd/conf/workers2 .             NaN   NaN   \n",
       "1                                             NaN  193.106.31.130   ---   \n",
       "2                                             NaN    100.1.14.108   ---   \n",
       "3                                             NaN    13.84.43.203   ---   \n",
       "4                                             NaN     90.188.40.9   ---   \n",
       "\n",
       "  request_method                          request_url request_http_ver status  \\\n",
       "0            NaN                                  NaN              NaN    NaN   \n",
       "1           POST             /administrator/index.php         HTTP/1.0    200   \n",
       "2            GET  /components/com.users/dispacher.php         HTTP/1.1    404   \n",
       "3            GET            //administrator/index.php         HTTP/1.1    200   \n",
       "4            GET                      /administrator/         HTTP/1.1    200   \n",
       "\n",
       "  response_bytes_clf                          request_header_user_agent  \\\n",
       "0                NaN                                                NaN   \n",
       "1               4481    Mozilla/4.0 (compatible.MSIE...; Windows NT...)   \n",
       "2                240                             python-requests/2.22.0   \n",
       "3               4270  Mozilla/5.0 (Windows NT 10.0.Win64.x64.rv:65.0...   \n",
       "4               4263  Mozilla/5.0 (Windows NT.. 1) AppleWebKit/537.3...   \n",
       "\n",
       "  request_header_referer    X  \n",
       "0                    NaN  NaN  \n",
       "1                    NaN  NaN  \n",
       "2                    NaN  NaN  \n",
       "3                    NaN  NaN  \n",
       "4                    NaN  NaN  "
      ]
     },
     "execution_count": 19,
     "metadata": {},
     "output_type": "execute_result"
    }
   ],
   "source": [
    "parsed_df.head()"
   ]
  },
  {
   "cell_type": "code",
   "execution_count": 20,
   "metadata": {},
   "outputs": [
    {
     "data": {
      "text/html": [
       "<div>\n",
       "<style scoped>\n",
       "    .dataframe tbody tr th:only-of-type {\n",
       "        vertical-align: middle;\n",
       "    }\n",
       "\n",
       "    .dataframe tbody tr th {\n",
       "        vertical-align: top;\n",
       "    }\n",
       "\n",
       "    .dataframe thead th {\n",
       "        text-align: right;\n",
       "    }\n",
       "</style>\n",
       "<table border=\"1\" class=\"dataframe\">\n",
       "  <thead>\n",
       "    <tr style=\"text-align: right;\">\n",
       "      <th></th>\n",
       "      <th>time_received</th>\n",
       "      <th>error_level</th>\n",
       "      <th>error_message</th>\n",
       "      <th>remote_host</th>\n",
       "      <th>other</th>\n",
       "      <th>request_method</th>\n",
       "      <th>request_url</th>\n",
       "      <th>request_http_ver</th>\n",
       "      <th>status</th>\n",
       "      <th>response_bytes_clf</th>\n",
       "      <th>request_header_user_agent</th>\n",
       "      <th>request_header_referer</th>\n",
       "    </tr>\n",
       "  </thead>\n",
       "  <tbody>\n",
       "    <tr>\n",
       "      <th>0</th>\n",
       "      <td>0.999948</td>\n",
       "      <td>0.99959</td>\n",
       "      <td>0.999615</td>\n",
       "      <td>NaN</td>\n",
       "      <td>NaN</td>\n",
       "      <td>NaN</td>\n",
       "      <td>NaN</td>\n",
       "      <td>NaN</td>\n",
       "      <td>NaN</td>\n",
       "      <td>NaN</td>\n",
       "      <td>NaN</td>\n",
       "      <td>NaN</td>\n",
       "    </tr>\n",
       "    <tr>\n",
       "      <th>1</th>\n",
       "      <td>0.999973</td>\n",
       "      <td>NaN</td>\n",
       "      <td>NaN</td>\n",
       "      <td>0.999966</td>\n",
       "      <td>0.999914</td>\n",
       "      <td>0.999903</td>\n",
       "      <td>0.999774</td>\n",
       "      <td>0.999946</td>\n",
       "      <td>0.999914</td>\n",
       "      <td>0.999932</td>\n",
       "      <td>0.999905</td>\n",
       "      <td>NaN</td>\n",
       "    </tr>\n",
       "    <tr>\n",
       "      <th>2</th>\n",
       "      <td>0.999973</td>\n",
       "      <td>NaN</td>\n",
       "      <td>NaN</td>\n",
       "      <td>0.999964</td>\n",
       "      <td>0.999892</td>\n",
       "      <td>0.999912</td>\n",
       "      <td>0.999836</td>\n",
       "      <td>0.999945</td>\n",
       "      <td>0.999920</td>\n",
       "      <td>0.999927</td>\n",
       "      <td>0.999888</td>\n",
       "      <td>NaN</td>\n",
       "    </tr>\n",
       "    <tr>\n",
       "      <th>3</th>\n",
       "      <td>0.999973</td>\n",
       "      <td>NaN</td>\n",
       "      <td>NaN</td>\n",
       "      <td>0.999963</td>\n",
       "      <td>0.999904</td>\n",
       "      <td>0.999903</td>\n",
       "      <td>0.999735</td>\n",
       "      <td>0.999945</td>\n",
       "      <td>0.999900</td>\n",
       "      <td>0.999925</td>\n",
       "      <td>0.999910</td>\n",
       "      <td>NaN</td>\n",
       "    </tr>\n",
       "    <tr>\n",
       "      <th>4</th>\n",
       "      <td>0.999974</td>\n",
       "      <td>NaN</td>\n",
       "      <td>NaN</td>\n",
       "      <td>0.999956</td>\n",
       "      <td>0.999904</td>\n",
       "      <td>0.999911</td>\n",
       "      <td>0.999841</td>\n",
       "      <td>0.999944</td>\n",
       "      <td>0.999892</td>\n",
       "      <td>0.999928</td>\n",
       "      <td>0.999872</td>\n",
       "      <td>NaN</td>\n",
       "    </tr>\n",
       "  </tbody>\n",
       "</table>\n",
       "</div>"
      ],
      "text/plain": [
       "   time_received  error_level  error_message  remote_host     other  \\\n",
       "0       0.999948      0.99959       0.999615          NaN       NaN   \n",
       "1       0.999973          NaN            NaN     0.999966  0.999914   \n",
       "2       0.999973          NaN            NaN     0.999964  0.999892   \n",
       "3       0.999973          NaN            NaN     0.999963  0.999904   \n",
       "4       0.999974          NaN            NaN     0.999956  0.999904   \n",
       "\n",
       "   request_method  request_url  request_http_ver    status  \\\n",
       "0             NaN          NaN               NaN       NaN   \n",
       "1        0.999903     0.999774          0.999946  0.999914   \n",
       "2        0.999912     0.999836          0.999945  0.999920   \n",
       "3        0.999903     0.999735          0.999945  0.999900   \n",
       "4        0.999911     0.999841          0.999944  0.999892   \n",
       "\n",
       "   response_bytes_clf  request_header_user_agent  request_header_referer  \n",
       "0                 NaN                        NaN                     NaN  \n",
       "1            0.999932                   0.999905                     NaN  \n",
       "2            0.999927                   0.999888                     NaN  \n",
       "3            0.999925                   0.999910                     NaN  \n",
       "4            0.999928                   0.999872                     NaN  "
      ]
     },
     "execution_count": 20,
     "metadata": {},
     "output_type": "execute_result"
    }
   ],
   "source": [
    "confidence_df.head()"
   ]
  },
  {
   "cell_type": "markdown",
   "metadata": {},
   "source": [
    "#### clx.analytics.cybert.Cybert.preprocess()"
   ]
  },
  {
   "cell_type": "code",
   "execution_count": 23,
   "metadata": {},
   "outputs": [],
   "source": [
    "logs_df = cudf.read_csv(f'{DATA_DIR}/{APACHE_SAMPLE_CSV}')\n",
    "input_ids, attention_masks, meta = cybert.preprocess(logs_df[\"raw\"])"
   ]
  },
  {
   "cell_type": "code",
   "execution_count": 25,
   "metadata": {},
   "outputs": [
    {
     "data": {
      "text/plain": [
       "tensor([[  164,  3477, 13063,  ...,     0,     0,     0],\n",
       "        [21781,   119,  9920,  ...,     0,     0,     0],\n",
       "        [ 1620,   119,   122,  ...,     0,     0,     0],\n",
       "        ...,\n",
       "        [ 1620,   119,   122,  ...,     0,     0,     0],\n",
       "        [21801,   119,  1851,  ...,     0,     0,     0],\n",
       "        [ 1620,   119,   122,  ...,     0,     0,     0]], device='cuda:0')"
      ]
     },
     "execution_count": 25,
     "metadata": {},
     "output_type": "execute_result"
    }
   ],
   "source": [
    "input_ids"
   ]
  },
  {
   "cell_type": "code",
   "execution_count": 27,
   "metadata": {},
   "outputs": [
    {
     "data": {
      "text/plain": [
       "tensor([[1, 1, 1,  ..., 0, 0, 0],\n",
       "        [1, 1, 1,  ..., 0, 0, 0],\n",
       "        [1, 1, 1,  ..., 0, 0, 0],\n",
       "        ...,\n",
       "        [1, 1, 1,  ..., 0, 0, 0],\n",
       "        [1, 1, 1,  ..., 0, 0, 0],\n",
       "        [1, 1, 1,  ..., 0, 0, 0]], device='cuda:0')"
      ]
     },
     "execution_count": 27,
     "metadata": {},
     "output_type": "execute_result"
    }
   ],
   "source": [
    "attention_masks"
   ]
  },
  {
   "cell_type": "code",
   "execution_count": 28,
   "metadata": {},
   "outputs": [
    {
     "data": {
      "text/plain": [
       "array([[  0,   0,  36],\n",
       "       [  1,   0,  69],\n",
       "       [  2,   0,  61],\n",
       "       ...,\n",
       "       [997,   0,  78],\n",
       "       [998,   0,  48],\n",
       "       [999,   0,  74]], dtype=uint32)"
      ]
     },
     "execution_count": 28,
     "metadata": {},
     "output_type": "execute_result"
    }
   ],
   "source": [
    "meta"
   ]
  },
  {
   "cell_type": "markdown",
   "metadata": {},
   "source": [
    "# DGA Detector"
   ]
  },
  {
   "cell_type": "markdown",
   "metadata": {},
   "source": [
    "## Model"
   ]
  },
  {
   "cell_type": "code",
   "execution_count": 29,
   "metadata": {},
   "outputs": [],
   "source": [
    "import os\n",
    "import wget\n",
    "import time\n",
    "import cudf\n",
    "import torch\n",
    "import shutil\n",
    "import zipfile\n",
    "import numpy as np\n",
    "from datetime import datetime\n",
    "from sklearn.metrics import accuracy_score, average_precision_score\n",
    "from clx.analytics.detector_dataset import DetectorDataset\n",
    "from clx.analytics.dga_detector import DGADetector\n",
    "from cuml.preprocessing.model_selection import train_test_split"
   ]
  },
  {
   "cell_type": "code",
   "execution_count": 37,
   "metadata": {},
   "outputs": [],
   "source": [
    "dga = {\n",
    "    \"source\": \"DGA\",\n",
    "    \"url\": \"https://data.netlab.360.com/feeds/dga/dga.txt\",\n",
    "    \"compression\": None,\n",
    "    \"storage_path\": \"../data/dga_feed\",\n",
    "}\n",
    "benign = {\n",
    "    \"source\": \"Benign\",\n",
    "    \"url\": \"http://s3.amazonaws.com/alexa-static/top-1m.csv.zip\",\n",
    "    \"compression\": \"zip\",\n",
    "    \"storage_path\": \"../data/top-1m\",\n",
    "}"
   ]
  },
  {
   "cell_type": "code",
   "execution_count": 35,
   "metadata": {},
   "outputs": [],
   "source": [
    "def unpack(compression_type, filepath, output_dir):\n",
    "     if compression_type == 'zip':\n",
    "        with zipfile.ZipFile(filepath, 'r') as f:\n",
    "            f.extractall(output_dir)\n",
    "        os.remove(filepath)"
   ]
  },
  {
   "cell_type": "code",
   "execution_count": 55,
   "metadata": {},
   "outputs": [],
   "source": [
    "def download_file(f):\n",
    "    output_dir = f['storage_path']\n",
    "    filepath = f'{output_dir}/{f[\"url\"].split(\"/\")[-1]}'\n",
    "    \n",
    "    if not os.path.exists(filepath):\n",
    "        if not os.path.exists(output_dir):\n",
    "            os.makedirs(output_dir)\n",
    "        print(f'Downloading {f[\"url\"]}...')\n",
    "        filepath = wget.download(f['url'], out=output_dir)\n",
    "        \n",
    "        print(f'Unpacking {filepath}')\n",
    "        unpack(entry['compression'], filepath, output_dir)\n",
    "    print(f'{f[\"source\"]} data is stored to location {output_dir}')"
   ]
  },
  {
   "cell_type": "code",
   "execution_count": 56,
   "metadata": {},
   "outputs": [
    {
     "name": "stdout",
     "output_type": "stream",
     "text": [
      "DGA data is stored to location ../data/dga_feed\n",
      "Benign data is stored to location ../data/top-1m\n"
     ]
    }
   ],
   "source": [
    "download_file(dga)\n",
    "download_file(benign)"
   ]
  },
  {
   "cell_type": "code",
   "execution_count": 65,
   "metadata": {},
   "outputs": [],
   "source": [
    "def load_input_data(dga, benign):\n",
    "    dga_df = cudf.read_csv(\n",
    "        dga['storage_path'] + '/*'\n",
    "        , names=['generator', 'domain', 'dt_from', 'dt_to']\n",
    "        , usecols=['domain']\n",
    "        , skiprows=18\n",
    "        , delimiter='\\t'\n",
    "    )\n",
    "    dga_df['type'] = 0\n",
    "    \n",
    "    benign_df = cudf.read_csv(\n",
    "        benign['storage_path'] + '/*'\n",
    "        , names=[\"line_num\",\"domain\"]\n",
    "        , usecols=['domain']\n",
    "    )\n",
    "    benign_df['type'] = 1\n",
    "    \n",
    "    input_df = cudf.concat([benign_df, dga_df], ignore_index=True)\n",
    "    return input_df\n",
    "\n",
    "def create_df(domain_df, type_series):\n",
    "    df = cudf.DataFrame()\n",
    "    df['domain'] = domain_df['domain'].reset_index(drop=True)\n",
    "    df['type'] = type_series.reset_index(drop=True)\n",
    "    return df\n",
    "\n",
    "def create_dir(dir_path):\n",
    "    print(\"Verify if directory `%s` is already exists.\" % (dir_path))\n",
    "    if not os.path.exists(dir_path):\n",
    "        print(\"Directory `%s` does not exist.\" % (dir_path))\n",
    "        print(\"Creating directory `%s` to store trained models.\" % (dir_path))\n",
    "        os.makedirs(dir_path)\n",
    "        \n",
    "def cleanup_cache():\n",
    "    # release memory.\n",
    "    torch.cuda.empty_cache()"
   ]
  },
  {
   "cell_type": "code",
   "execution_count": 63,
   "metadata": {},
   "outputs": [],
   "source": [
    "input_df = load_input_data(dga, benign)\n",
    "\n",
    "(\n",
    "    domain_train\n",
    "    , domain_test\n",
    "    , type_train\n",
    "    , type_test\n",
    ") = train_test_split(input_df, 'type', train_size=0.7)\n",
    "\n",
    "test_df = create_df(domain_test, type_test)\n",
    "train_df = create_df(domain_train, type_train)"
   ]
  },
  {
   "cell_type": "markdown",
   "metadata": {},
   "source": [
    "#### clx.analytics.dga_detector.DGADetector.init_model()"
   ]
  },
  {
   "cell_type": "code",
   "execution_count": 64,
   "metadata": {},
   "outputs": [],
   "source": [
    "LR = 0.001\n",
    "N_LAYERS = 3\n",
    "CHAR_VOCAB = 128\n",
    "HIDDEN_SIZE = 100\n",
    "N_DOMAIN_TYPE = 2"
   ]
  },
  {
   "cell_type": "code",
   "execution_count": 64,
   "metadata": {},
   "outputs": [],
   "source": [
    "dd = DGADetector(lr=LR)\n",
    "dd.init_model(\n",
    "      n_layers=N_LAYERS\n",
    "    , char_vocab=CHAR_VOCAB\n",
    "    , hidden_size=HIDDEN_SIZE\n",
    "    , n_domain_type=N_DOMAIN_TYPE\n",
    ")"
   ]
  },
  {
   "cell_type": "markdown",
   "metadata": {},
   "source": [
    "#### clx.analytics.dga_detector.DGADetector.train_model()\tYes"
   ]
  },
  {
   "cell_type": "code",
   "execution_count": 66,
   "metadata": {},
   "outputs": [],
   "source": [
    "batch_size = 10000\n",
    "train_dataset = DetectorDataset(train_df, batch_size)\n",
    "test_dataset = DetectorDataset(test_df, batch_size)"
   ]
  },
  {
   "cell_type": "code",
   "execution_count": 67,
   "metadata": {},
   "outputs": [],
   "source": [
    "def train_and_eval(dd, train_dataset, test_dataset, epoch, model_dir):\n",
    "    print(\"Initiating model training\")\n",
    "    create_dir(model_dir)\n",
    "    max_accuracy = 0\n",
    "    prev_model_file_path = \"\"\n",
    "    for i in range(1, epoch + 1):\n",
    "        print(\"---------\")\n",
    "        print(\"Epoch: %s\" % (i))\n",
    "        print(\"---------\")\n",
    "        dd.train_model(train_dataset)\n",
    "        accuracy = dd.evaluate_model(test_dataset)\n",
    "        now = datetime.now()\n",
    "        output_filepath = (\n",
    "            model_dir\n",
    "            + \"/\"\n",
    "            + \"rnn_classifier_{}.pth\".format(now.strftime(\"%Y-%m-%d_%H_%M_%S\"))\n",
    "        )\n",
    "        if accuracy > max_accuracy:\n",
    "            dd.save_model(output_filepath)\n",
    "            max_accuracy = accuracy\n",
    "            if prev_model_file_path:\n",
    "                os.remove(prev_model_file_path)\n",
    "            prev_model_file_path = output_filepath\n",
    "            \n",
    "    print(\"Model with highest accuracy (%s) is stored to location %s\" % (max_accuracy, prev_model_file_path))\n",
    "    return prev_model_file_path"
   ]
  },
  {
   "cell_type": "code",
   "execution_count": 69,
   "metadata": {},
   "outputs": [
    {
     "name": "stdout",
     "output_type": "stream",
     "text": [
      "Initiating model training\n",
      "Verify if directory `../models/DGA_Detector` is already exists.\n",
      "Directory `../models/DGA_Detector` does not exist.\n",
      "Creating directory `../models/DGA_Detector` to store trained models.\n",
      "---------\n",
      "Epoch: 1\n",
      "---------\n",
      "[100000/1345799 (7%)]\tLoss: 1833.18\n",
      "[200000/1345799 (15%)]\tLoss: 1396.65\n",
      "[300000/1345799 (22%)]\tLoss: 1061.58\n",
      "[400000/1345799 (30%)]\tLoss: 1015.04\n",
      "[500000/1345799 (37%)]\tLoss: 934.66\n",
      "[600000/1345799 (45%)]\tLoss: 819.49\n",
      "[700000/1345799 (52%)]\tLoss: 731.67\n",
      "[800000/1345799 (59%)]\tLoss: 663.24\n",
      "[900000/1345799 (67%)]\tLoss: 675.87\n",
      "[1000000/1345799 (74%)]\tLoss: 753.54\n",
      "[1100000/1345799 (82%)]\tLoss: 807.54\n",
      "[1200000/1345799 (89%)]\tLoss: 831.13\n",
      "[1300000/1345799 (97%)]\tLoss: 976.65\n",
      "Test set: Accuracy: 505863/576772 (0.8770588724834076)\n",
      "\n",
      "---------\n",
      "Epoch: 2\n",
      "---------\n",
      "[100000/1345799 (7%)]\tLoss: 2005.44\n",
      "[200000/1345799 (15%)]\tLoss: 1417.90\n",
      "[300000/1345799 (22%)]\tLoss: 1054.55\n",
      "[400000/1345799 (30%)]\tLoss: 923.24\n",
      "[500000/1345799 (37%)]\tLoss: 815.66\n",
      "[600000/1345799 (45%)]\tLoss: 703.12\n",
      "[700000/1345799 (52%)]\tLoss: 619.69\n",
      "[800000/1345799 (59%)]\tLoss: 556.70\n",
      "[900000/1345799 (67%)]\tLoss: 563.56\n",
      "[1000000/1345799 (74%)]\tLoss: 594.11\n",
      "[1100000/1345799 (82%)]\tLoss: 597.76\n",
      "[1200000/1345799 (89%)]\tLoss: 639.12\n",
      "[1300000/1345799 (97%)]\tLoss: 803.00\n",
      "Test set: Accuracy: 552714/576772 (0.9582885438266767)\n",
      "\n",
      "---------\n",
      "Epoch: 3\n",
      "---------\n",
      "[100000/1345799 (7%)]\tLoss: 1075.92\n",
      "[200000/1345799 (15%)]\tLoss: 1124.10\n",
      "[300000/1345799 (22%)]\tLoss: 847.48\n",
      "[400000/1345799 (30%)]\tLoss: 732.01\n",
      "[500000/1345799 (37%)]\tLoss: 649.36\n",
      "[600000/1345799 (45%)]\tLoss: 558.24\n",
      "[700000/1345799 (52%)]\tLoss: 491.19\n",
      "[800000/1345799 (59%)]\tLoss: 441.20\n",
      "[900000/1345799 (67%)]\tLoss: 450.59\n",
      "[1000000/1345799 (74%)]\tLoss: 472.73\n",
      "[1100000/1345799 (82%)]\tLoss: 479.35\n",
      "[1200000/1345799 (89%)]\tLoss: 516.48\n",
      "[1300000/1345799 (97%)]\tLoss: 679.89\n",
      "Test set: Accuracy: 557149/576772 (0.965977890743656)\n",
      "\n",
      "---------\n",
      "Epoch: 4\n",
      "---------\n",
      "[100000/1345799 (7%)]\tLoss: 972.89\n",
      "[200000/1345799 (15%)]\tLoss: 775.10\n",
      "[300000/1345799 (22%)]\tLoss: 596.61\n",
      "[400000/1345799 (30%)]\tLoss: 547.41\n",
      "[500000/1345799 (37%)]\tLoss: 487.70\n",
      "[600000/1345799 (45%)]\tLoss: 419.88\n",
      "[700000/1345799 (52%)]\tLoss: 370.44\n",
      "[800000/1345799 (59%)]\tLoss: 334.00\n",
      "[900000/1345799 (67%)]\tLoss: 349.95\n",
      "[1000000/1345799 (74%)]\tLoss: 375.18\n",
      "[1100000/1345799 (82%)]\tLoss: 385.58\n",
      "[1200000/1345799 (89%)]\tLoss: 421.24\n",
      "[1300000/1345799 (97%)]\tLoss: 574.54\n",
      "Test set: Accuracy: 559021/576772 (0.9692235406711838)\n",
      "\n",
      "---------\n",
      "Epoch: 5\n",
      "---------\n",
      "[100000/1345799 (7%)]\tLoss: 712.38\n",
      "[200000/1345799 (15%)]\tLoss: 481.68\n",
      "[300000/1345799 (22%)]\tLoss: 377.00\n",
      "[400000/1345799 (30%)]\tLoss: 336.07\n",
      "[500000/1345799 (37%)]\tLoss: 308.54\n",
      "[600000/1345799 (45%)]\tLoss: 267.57\n",
      "[700000/1345799 (52%)]\tLoss: 237.40\n",
      "[800000/1345799 (59%)]\tLoss: 216.02\n",
      "[900000/1345799 (67%)]\tLoss: 239.39\n",
      "[1000000/1345799 (74%)]\tLoss: 270.02\n",
      "[1100000/1345799 (82%)]\tLoss: 284.48\n",
      "[1200000/1345799 (89%)]\tLoss: 324.75\n",
      "[1300000/1345799 (97%)]\tLoss: 483.96\n",
      "Test set: Accuracy: 561376/576772 (0.9733066098909101)\n",
      "\n",
      "---------\n",
      "Epoch: 6\n",
      "---------\n",
      "[100000/1345799 (7%)]\tLoss: 562.31\n",
      "[200000/1345799 (15%)]\tLoss: 378.20\n",
      "[300000/1345799 (22%)]\tLoss: 301.25\n",
      "[400000/1345799 (30%)]\tLoss: 272.49\n",
      "[500000/1345799 (37%)]\tLoss: 252.86\n",
      "[600000/1345799 (45%)]\tLoss: 219.68\n",
      "[700000/1345799 (52%)]\tLoss: 195.30\n",
      "[800000/1345799 (59%)]\tLoss: 178.39\n",
      "[900000/1345799 (67%)]\tLoss: 200.99\n",
      "[1000000/1345799 (74%)]\tLoss: 240.83\n",
      "[1100000/1345799 (82%)]\tLoss: 255.22\n",
      "[1200000/1345799 (89%)]\tLoss: 293.83\n",
      "[1300000/1345799 (97%)]\tLoss: 443.57\n",
      "Test set: Accuracy: 557225/576772 (0.9661096585825941)\n",
      "\n",
      "---------\n",
      "Epoch: 7\n",
      "---------\n",
      "[100000/1345799 (7%)]\tLoss: 469.22\n",
      "[200000/1345799 (15%)]\tLoss: 319.99\n",
      "[300000/1345799 (22%)]\tLoss: 256.71\n",
      "[400000/1345799 (30%)]\tLoss: 232.49\n",
      "[500000/1345799 (37%)]\tLoss: 215.89\n",
      "[600000/1345799 (45%)]\tLoss: 187.92\n",
      "[700000/1345799 (52%)]\tLoss: 166.98\n",
      "[800000/1345799 (59%)]\tLoss: 152.88\n",
      "[900000/1345799 (67%)]\tLoss: 173.91\n",
      "[1000000/1345799 (74%)]\tLoss: 204.46\n",
      "[1100000/1345799 (82%)]\tLoss: 218.47\n",
      "[1200000/1345799 (89%)]\tLoss: 256.75\n",
      "[1300000/1345799 (97%)]\tLoss: 399.36\n",
      "Test set: Accuracy: 562147/576772 (0.9746433599411899)\n",
      "\n",
      "---------\n",
      "Epoch: 8\n",
      "---------\n",
      "[100000/1345799 (7%)]\tLoss: 366.08\n",
      "[200000/1345799 (15%)]\tLoss: 266.74\n",
      "[300000/1345799 (22%)]\tLoss: 217.83\n",
      "[400000/1345799 (30%)]\tLoss: 200.14\n",
      "[500000/1345799 (37%)]\tLoss: 186.57\n",
      "[600000/1345799 (45%)]\tLoss: 162.80\n",
      "[700000/1345799 (52%)]\tLoss: 144.86\n",
      "[800000/1345799 (59%)]\tLoss: 133.00\n",
      "[900000/1345799 (67%)]\tLoss: 152.56\n",
      "[1000000/1345799 (74%)]\tLoss: 183.25\n",
      "[1100000/1345799 (82%)]\tLoss: 196.86\n",
      "[1200000/1345799 (89%)]\tLoss: 234.57\n",
      "[1300000/1345799 (97%)]\tLoss: 365.27\n",
      "Test set: Accuracy: 565640/576772 (0.9806994791702788)\n",
      "\n",
      "---------\n",
      "Epoch: 9\n",
      "---------\n",
      "[100000/1345799 (7%)]\tLoss: 664.09\n",
      "[200000/1345799 (15%)]\tLoss: 423.80\n",
      "[300000/1345799 (22%)]\tLoss: 328.05\n",
      "[400000/1345799 (30%)]\tLoss: 343.19\n",
      "[500000/1345799 (37%)]\tLoss: 309.90\n",
      "[600000/1345799 (45%)]\tLoss: 267.37\n",
      "[700000/1345799 (52%)]\tLoss: 235.77\n",
      "[800000/1345799 (59%)]\tLoss: 213.13\n",
      "[900000/1345799 (67%)]\tLoss: 225.86\n",
      "[1000000/1345799 (74%)]\tLoss: 244.41\n",
      "[1100000/1345799 (82%)]\tLoss: 253.28\n",
      "[1200000/1345799 (89%)]\tLoss: 284.27\n",
      "[1300000/1345799 (97%)]\tLoss: 392.07\n",
      "Test set: Accuracy: 567595/576772 (0.9840890334482256)\n",
      "\n",
      "---------\n",
      "Epoch: 10\n",
      "---------\n",
      "[100000/1345799 (7%)]\tLoss: 275.12\n",
      "[200000/1345799 (15%)]\tLoss: 250.59\n",
      "[300000/1345799 (22%)]\tLoss: 203.40\n",
      "[400000/1345799 (30%)]\tLoss: 184.97\n",
      "[500000/1345799 (37%)]\tLoss: 172.61\n",
      "[600000/1345799 (45%)]\tLoss: 150.64\n",
      "[700000/1345799 (52%)]\tLoss: 134.04\n",
      "[800000/1345799 (59%)]\tLoss: 123.09\n",
      "[900000/1345799 (67%)]\tLoss: 141.05\n",
      "[1000000/1345799 (74%)]\tLoss: 163.06\n",
      "[1100000/1345799 (82%)]\tLoss: 175.45\n",
      "[1200000/1345799 (89%)]\tLoss: 213.44\n",
      "[1300000/1345799 (97%)]\tLoss: 329.81\n",
      "Test set: Accuracy: 568288/576772 (0.9852905480848585)\n",
      "\n",
      "---------\n",
      "Epoch: 11\n",
      "---------\n",
      "[100000/1345799 (7%)]\tLoss: 217.64\n",
      "[200000/1345799 (15%)]\tLoss: 169.44\n",
      "[300000/1345799 (22%)]\tLoss: 144.03\n",
      "[400000/1345799 (30%)]\tLoss: 136.42\n",
      "[500000/1345799 (37%)]\tLoss: 130.30\n",
      "[600000/1345799 (45%)]\tLoss: 114.62\n",
      "[700000/1345799 (52%)]\tLoss: 102.36\n",
      "[800000/1345799 (59%)]\tLoss: 94.63\n",
      "[900000/1345799 (67%)]\tLoss: 112.31\n",
      "[1000000/1345799 (74%)]\tLoss: 135.21\n",
      "[1100000/1345799 (82%)]\tLoss: 147.45\n",
      "[1200000/1345799 (89%)]\tLoss: 181.28\n",
      "[1300000/1345799 (97%)]\tLoss: 298.83\n",
      "Test set: Accuracy: 568123/576772 (0.9850044731713745)\n",
      "\n",
      "---------\n",
      "Epoch: 12\n",
      "---------\n",
      "[100000/1345799 (7%)]\tLoss: 184.42\n",
      "[200000/1345799 (15%)]\tLoss: 145.52\n",
      "[300000/1345799 (22%)]\tLoss: 124.93\n",
      "[400000/1345799 (30%)]\tLoss: 119.13\n",
      "[500000/1345799 (37%)]\tLoss: 114.43\n",
      "[600000/1345799 (45%)]\tLoss: 100.90\n",
      "[700000/1345799 (52%)]\tLoss: 90.15\n",
      "[800000/1345799 (59%)]\tLoss: 83.46\n",
      "[900000/1345799 (67%)]\tLoss: 100.07\n",
      "[1000000/1345799 (74%)]\tLoss: 124.02\n",
      "[1100000/1345799 (82%)]\tLoss: 135.22\n",
      "[1200000/1345799 (89%)]\tLoss: 173.75\n",
      "[1300000/1345799 (97%)]\tLoss: 278.67\n",
      "Test set: Accuracy: 569257/576772 (0.9869705880313191)\n",
      "\n",
      "---------\n",
      "Epoch: 13\n",
      "---------\n",
      "[100000/1345799 (7%)]\tLoss: 722.27\n",
      "[200000/1345799 (15%)]\tLoss: 463.52\n",
      "[300000/1345799 (22%)]\tLoss: 351.15\n",
      "[400000/1345799 (30%)]\tLoss: 302.39\n",
      "[500000/1345799 (37%)]\tLoss: 269.21\n",
      "[600000/1345799 (45%)]\tLoss: 231.20\n",
      "[700000/1345799 (52%)]\tLoss: 203.41\n",
      "[800000/1345799 (59%)]\tLoss: 183.61\n",
      "[900000/1345799 (67%)]\tLoss: 194.39\n",
      "[1000000/1345799 (74%)]\tLoss: 210.73\n",
      "[1100000/1345799 (82%)]\tLoss: 217.16\n",
      "[1200000/1345799 (89%)]\tLoss: 240.57\n",
      "[1300000/1345799 (97%)]\tLoss: 319.89\n",
      "Test set: Accuracy: 568297/576772 (0.9853061521710486)\n",
      "\n",
      "---------\n",
      "Epoch: 14\n",
      "---------\n",
      "[100000/1345799 (7%)]\tLoss: 467.97\n",
      "[200000/1345799 (15%)]\tLoss: 300.99\n",
      "[300000/1345799 (22%)]\tLoss: 235.05\n",
      "[400000/1345799 (30%)]\tLoss: 206.42\n",
      "[500000/1345799 (37%)]\tLoss: 187.98\n",
      "[600000/1345799 (45%)]\tLoss: 162.65\n",
      "[700000/1345799 (52%)]\tLoss: 143.81\n",
      "[800000/1345799 (59%)]\tLoss: 130.61\n",
      "[900000/1345799 (67%)]\tLoss: 142.88\n",
      "[1000000/1345799 (74%)]\tLoss: 159.14\n",
      "[1100000/1345799 (82%)]\tLoss: 167.15\n",
      "[1200000/1345799 (89%)]\tLoss: 190.50\n",
      "[1300000/1345799 (97%)]\tLoss: 274.87\n",
      "Test set: Accuracy: 569898/576772 (0.9880819457255207)\n",
      "\n",
      "---------\n",
      "Epoch: 15\n",
      "---------\n",
      "[100000/1345799 (7%)]\tLoss: 171.69\n",
      "[200000/1345799 (15%)]\tLoss: 133.07\n",
      "[300000/1345799 (22%)]\tLoss: 114.04\n",
      "[400000/1345799 (30%)]\tLoss: 107.70\n",
      "[500000/1345799 (37%)]\tLoss: 103.63\n",
      "[600000/1345799 (45%)]\tLoss: 91.22\n",
      "[700000/1345799 (52%)]\tLoss: 81.48\n",
      "[800000/1345799 (59%)]\tLoss: 75.37\n",
      "[900000/1345799 (67%)]\tLoss: 89.99\n",
      "[1000000/1345799 (74%)]\tLoss: 109.02\n",
      "[1100000/1345799 (82%)]\tLoss: 118.60\n",
      "[1200000/1345799 (89%)]\tLoss: 144.13\n",
      "[1300000/1345799 (97%)]\tLoss: 241.91\n",
      "Test set: Accuracy: 570013/576772 (0.9882813312712823)\n",
      "\n",
      "---------\n",
      "Epoch: 16\n",
      "---------\n",
      "[100000/1345799 (7%)]\tLoss: 134.03\n",
      "[200000/1345799 (15%)]\tLoss: 107.22\n",
      "[300000/1345799 (22%)]\tLoss: 94.01\n",
      "[400000/1345799 (30%)]\tLoss: 90.38\n",
      "[500000/1345799 (37%)]\tLoss: 88.05\n",
      "[600000/1345799 (45%)]\tLoss: 77.79\n",
      "[700000/1345799 (52%)]\tLoss: 69.56\n",
      "[800000/1345799 (59%)]\tLoss: 64.66\n",
      "[900000/1345799 (67%)]\tLoss: 79.99\n",
      "[1000000/1345799 (74%)]\tLoss: 98.46\n",
      "[1100000/1345799 (82%)]\tLoss: 107.55\n",
      "[1200000/1345799 (89%)]\tLoss: 132.74\n",
      "[1300000/1345799 (97%)]\tLoss: 231.66\n",
      "Test set: Accuracy: 569814/576772 (0.987936307587747)\n",
      "\n",
      "---------\n",
      "Epoch: 17\n",
      "---------\n",
      "[100000/1345799 (7%)]\tLoss: 125.05\n",
      "[200000/1345799 (15%)]\tLoss: 99.92\n",
      "[300000/1345799 (22%)]\tLoss: 86.88\n",
      "[400000/1345799 (30%)]\tLoss: 83.30\n",
      "[500000/1345799 (37%)]\tLoss: 80.94\n",
      "[600000/1345799 (45%)]\tLoss: 71.52\n",
      "[700000/1345799 (52%)]\tLoss: 63.86\n",
      "[800000/1345799 (59%)]\tLoss: 59.38\n",
      "[900000/1345799 (67%)]\tLoss: 72.60\n",
      "[1000000/1345799 (74%)]\tLoss: 91.70\n",
      "[1100000/1345799 (82%)]\tLoss: 100.00\n",
      "[1200000/1345799 (89%)]\tLoss: 121.85\n",
      "[1300000/1345799 (97%)]\tLoss: 217.12\n",
      "Test set: Accuracy: 569898/576772 (0.9880819457255207)\n",
      "\n",
      "---------\n",
      "Epoch: 18\n",
      "---------\n",
      "[100000/1345799 (7%)]\tLoss: 107.28\n",
      "[200000/1345799 (15%)]\tLoss: 86.41\n",
      "[300000/1345799 (22%)]\tLoss: 75.51\n",
      "[400000/1345799 (30%)]\tLoss: 72.91\n",
      "[500000/1345799 (37%)]\tLoss: 71.37\n",
      "[600000/1345799 (45%)]\tLoss: 63.16\n",
      "[700000/1345799 (52%)]\tLoss: 56.36\n",
      "[800000/1345799 (59%)]\tLoss: 52.54\n",
      "[900000/1345799 (67%)]\tLoss: 66.91\n",
      "[1000000/1345799 (74%)]\tLoss: 80.35\n",
      "[1100000/1345799 (82%)]\tLoss: 88.03\n",
      "[1200000/1345799 (89%)]\tLoss: 114.05\n",
      "[1300000/1345799 (97%)]\tLoss: 200.92\n",
      "Test set: Accuracy: 570176/576772 (0.9885639386100573)\n",
      "\n",
      "---------\n",
      "Epoch: 19\n",
      "---------\n",
      "[100000/1345799 (7%)]\tLoss: 96.56\n",
      "[200000/1345799 (15%)]\tLoss: 76.31\n",
      "[300000/1345799 (22%)]\tLoss: 66.98\n",
      "[400000/1345799 (30%)]\tLoss: 64.74\n",
      "[500000/1345799 (37%)]\tLoss: 63.69\n",
      "[600000/1345799 (45%)]\tLoss: 56.27\n",
      "[700000/1345799 (52%)]\tLoss: 50.16\n",
      "[800000/1345799 (59%)]\tLoss: 46.78\n",
      "[900000/1345799 (67%)]\tLoss: 59.46\n",
      "[1000000/1345799 (74%)]\tLoss: 71.30\n",
      "[1100000/1345799 (82%)]\tLoss: 78.13\n",
      "[1200000/1345799 (89%)]\tLoss: 101.35\n",
      "[1300000/1345799 (97%)]\tLoss: 185.21\n",
      "Test set: Accuracy: 570397/576772 (0.9889471056153905)\n",
      "\n",
      "---------\n",
      "Epoch: 20\n",
      "---------\n",
      "[100000/1345799 (7%)]\tLoss: 118.85\n",
      "[200000/1345799 (15%)]\tLoss: 84.45\n",
      "[300000/1345799 (22%)]\tLoss: 71.00\n",
      "[400000/1345799 (30%)]\tLoss: 66.39\n",
      "[500000/1345799 (37%)]\tLoss: 64.43\n",
      "[600000/1345799 (45%)]\tLoss: 56.60\n",
      "[700000/1345799 (52%)]\tLoss: 50.24\n",
      "[800000/1345799 (59%)]\tLoss: 46.62\n",
      "[900000/1345799 (67%)]\tLoss: 55.39\n",
      "[1000000/1345799 (74%)]\tLoss: 72.46\n",
      "[1100000/1345799 (82%)]\tLoss: 78.24\n",
      "[1200000/1345799 (89%)]\tLoss: 97.72\n",
      "[1300000/1345799 (97%)]\tLoss: 181.64\n",
      "Test set: Accuracy: 568791/576772 (0.9861626431241461)\n",
      "\n",
      "---------\n",
      "Epoch: 21\n",
      "---------\n",
      "[100000/1345799 (7%)]\tLoss: 204.01\n",
      "[200000/1345799 (15%)]\tLoss: 137.68\n",
      "[300000/1345799 (22%)]\tLoss: 110.56\n",
      "[400000/1345799 (30%)]\tLoss: 98.34\n",
      "[500000/1345799 (37%)]\tLoss: 89.72\n",
      "[600000/1345799 (45%)]\tLoss: 77.96\n",
      "[700000/1345799 (52%)]\tLoss: 68.83\n",
      "[800000/1345799 (59%)]\tLoss: 63.00\n",
      "[900000/1345799 (67%)]\tLoss: 69.52\n",
      "[1000000/1345799 (74%)]\tLoss: 79.70\n",
      "[1100000/1345799 (82%)]\tLoss: 84.44\n",
      "[1200000/1345799 (89%)]\tLoss: 100.77\n",
      "[1300000/1345799 (97%)]\tLoss: 173.40\n",
      "Test set: Accuracy: 570880/576772 (0.9897845249075892)\n",
      "\n",
      "---------\n",
      "Epoch: 22\n",
      "---------\n",
      "[100000/1345799 (7%)]\tLoss: 88.42\n",
      "[200000/1345799 (15%)]\tLoss: 64.65\n",
      "[300000/1345799 (22%)]\tLoss: 56.09\n",
      "[400000/1345799 (30%)]\tLoss: 52.80\n",
      "[500000/1345799 (37%)]\tLoss: 51.39\n",
      "[600000/1345799 (45%)]\tLoss: 45.28\n",
      "[700000/1345799 (52%)]\tLoss: 40.27\n",
      "[800000/1345799 (59%)]\tLoss: 37.52\n",
      "[900000/1345799 (67%)]\tLoss: 45.15\n",
      "[1000000/1345799 (74%)]\tLoss: 58.56\n",
      "[1100000/1345799 (82%)]\tLoss: 63.41\n",
      "[1200000/1345799 (89%)]\tLoss: 77.81\n",
      "[1300000/1345799 (97%)]\tLoss: 148.86\n",
      "Test set: Accuracy: 570988/576772 (0.9899717739418695)\n",
      "\n",
      "---------\n",
      "Epoch: 23\n",
      "---------\n",
      "[100000/1345799 (7%)]\tLoss: 67.05\n",
      "[200000/1345799 (15%)]\tLoss: 50.74\n",
      "[300000/1345799 (22%)]\tLoss: 44.82\n",
      "[400000/1345799 (30%)]\tLoss: 42.87\n",
      "[500000/1345799 (37%)]\tLoss: 42.78\n",
      "[600000/1345799 (45%)]\tLoss: 37.72\n",
      "[700000/1345799 (52%)]\tLoss: 33.57\n",
      "[800000/1345799 (59%)]\tLoss: 31.37\n",
      "[900000/1345799 (67%)]\tLoss: 38.08\n",
      "[1000000/1345799 (74%)]\tLoss: 54.95\n",
      "[1100000/1345799 (82%)]\tLoss: 59.00\n",
      "[1200000/1345799 (89%)]\tLoss: 74.16\n",
      "[1300000/1345799 (97%)]\tLoss: 146.27\n",
      "Test set: Accuracy: 570747/576772 (0.9895539311894475)\n",
      "\n",
      "---------\n",
      "Epoch: 24\n",
      "---------\n",
      "[100000/1345799 (7%)]\tLoss: 63.07\n",
      "[200000/1345799 (15%)]\tLoss: 47.42\n",
      "[300000/1345799 (22%)]\tLoss: 41.15\n",
      "[400000/1345799 (30%)]\tLoss: 39.47\n",
      "[500000/1345799 (37%)]\tLoss: 38.61\n",
      "[600000/1345799 (45%)]\tLoss: 34.01\n",
      "[700000/1345799 (52%)]\tLoss: 30.24\n",
      "[800000/1345799 (59%)]\tLoss: 28.18\n",
      "[900000/1345799 (67%)]\tLoss: 41.04\n",
      "[1000000/1345799 (74%)]\tLoss: 52.48\n",
      "[1100000/1345799 (82%)]\tLoss: 56.11\n",
      "[1200000/1345799 (89%)]\tLoss: 69.09\n",
      "[1300000/1345799 (97%)]\tLoss: 134.03\n",
      "Test set: Accuracy: 570739/576772 (0.9895400608906119)\n",
      "\n",
      "---------\n",
      "Epoch: 25\n",
      "---------\n",
      "[100000/1345799 (7%)]\tLoss: 54.61\n",
      "[200000/1345799 (15%)]\tLoss: 40.78\n",
      "[300000/1345799 (22%)]\tLoss: 35.60\n",
      "[400000/1345799 (30%)]\tLoss: 34.17\n",
      "[500000/1345799 (37%)]\tLoss: 33.73\n",
      "[600000/1345799 (45%)]\tLoss: 29.76\n",
      "[700000/1345799 (52%)]\tLoss: 26.42\n",
      "[800000/1345799 (59%)]\tLoss: 24.56\n",
      "[900000/1345799 (67%)]\tLoss: 33.11\n",
      "[1000000/1345799 (74%)]\tLoss: 53.56\n",
      "[1100000/1345799 (82%)]\tLoss: 57.29\n",
      "[1200000/1345799 (89%)]\tLoss: 68.40\n",
      "[1300000/1345799 (97%)]\tLoss: 134.72\n",
      "Test set: Accuracy: 570425/576772 (0.9889956516613151)\n",
      "\n",
      "---------\n",
      "Epoch: 26\n",
      "---------\n",
      "[100000/1345799 (7%)]\tLoss: 70.42\n",
      "[200000/1345799 (15%)]\tLoss: 51.20\n",
      "[300000/1345799 (22%)]\tLoss: 43.07\n",
      "[400000/1345799 (30%)]\tLoss: 40.26\n",
      "[500000/1345799 (37%)]\tLoss: 38.50\n",
      "[600000/1345799 (45%)]\tLoss: 33.74\n",
      "[700000/1345799 (52%)]\tLoss: 29.80\n",
      "[800000/1345799 (59%)]\tLoss: 27.52\n",
      "[900000/1345799 (67%)]\tLoss: 31.73\n",
      "[1000000/1345799 (74%)]\tLoss: 56.16\n",
      "[1100000/1345799 (82%)]\tLoss: 66.70\n",
      "[1200000/1345799 (89%)]\tLoss: 78.92\n",
      "[1300000/1345799 (97%)]\tLoss: 134.73\n",
      "Test set: Accuracy: 570940/576772 (0.9898885521488561)\n",
      "\n",
      "---------\n",
      "Epoch: 27\n",
      "---------\n",
      "[100000/1345799 (7%)]\tLoss: 60.58\n",
      "[200000/1345799 (15%)]\tLoss: 42.70\n",
      "[300000/1345799 (22%)]\tLoss: 36.16\n",
      "[400000/1345799 (30%)]\tLoss: 33.48\n",
      "[500000/1345799 (37%)]\tLoss: 32.04\n",
      "[600000/1345799 (45%)]\tLoss: 28.28\n",
      "[700000/1345799 (52%)]\tLoss: 25.04\n",
      "[800000/1345799 (59%)]\tLoss: 23.20\n",
      "[900000/1345799 (67%)]\tLoss: 27.40\n",
      "[1000000/1345799 (74%)]\tLoss: 34.79\n",
      "[1100000/1345799 (82%)]\tLoss: 38.12\n",
      "[1200000/1345799 (89%)]\tLoss: 47.79\n",
      "[1300000/1345799 (97%)]\tLoss: 111.55\n",
      "Test set: Accuracy: 571492/576772 (0.9908456027685116)\n",
      "\n",
      "---------\n",
      "Epoch: 28\n",
      "---------\n",
      "[100000/1345799 (7%)]\tLoss: 45.02\n",
      "[200000/1345799 (15%)]\tLoss: 33.14\n",
      "[300000/1345799 (22%)]\tLoss: 28.04\n",
      "[400000/1345799 (30%)]\tLoss: 26.16\n",
      "[500000/1345799 (37%)]\tLoss: 25.59\n",
      "[600000/1345799 (45%)]\tLoss: 22.59\n",
      "[700000/1345799 (52%)]\tLoss: 19.98\n",
      "[800000/1345799 (59%)]\tLoss: 18.52\n",
      "[900000/1345799 (67%)]\tLoss: 22.16\n",
      "[1000000/1345799 (74%)]\tLoss: 33.68\n",
      "[1100000/1345799 (82%)]\tLoss: 36.31\n",
      "[1200000/1345799 (89%)]\tLoss: 44.64\n",
      "[1300000/1345799 (97%)]\tLoss: 99.68\n",
      "Test set: Accuracy: 570837/576772 (0.9897099720513478)\n",
      "\n",
      "---------\n",
      "Epoch: 29\n",
      "---------\n",
      "[100000/1345799 (7%)]\tLoss: 38.05\n",
      "[200000/1345799 (15%)]\tLoss: 27.30\n",
      "[300000/1345799 (22%)]\tLoss: 23.34\n",
      "[400000/1345799 (30%)]\tLoss: 21.78\n",
      "[500000/1345799 (37%)]\tLoss: 21.45\n",
      "[600000/1345799 (45%)]\tLoss: 18.86\n",
      "[700000/1345799 (52%)]\tLoss: 16.63\n",
      "[800000/1345799 (59%)]\tLoss: 15.45\n",
      "[900000/1345799 (67%)]\tLoss: 18.64\n",
      "[1000000/1345799 (74%)]\tLoss: 32.28\n",
      "[1100000/1345799 (82%)]\tLoss: 34.76\n",
      "[1200000/1345799 (89%)]\tLoss: 42.61\n",
      "[1300000/1345799 (97%)]\tLoss: 99.83\n",
      "Test set: Accuracy: 570774/576772 (0.9896007434480176)\n",
      "\n",
      "---------\n",
      "Epoch: 30\n",
      "---------\n",
      "[100000/1345799 (7%)]\tLoss: 36.39\n",
      "[200000/1345799 (15%)]\tLoss: 26.01\n",
      "[300000/1345799 (22%)]\tLoss: 21.79\n",
      "[400000/1345799 (30%)]\tLoss: 20.42\n",
      "[500000/1345799 (37%)]\tLoss: 20.05\n",
      "[600000/1345799 (45%)]\tLoss: 17.60\n",
      "[700000/1345799 (52%)]\tLoss: 15.52\n",
      "[800000/1345799 (59%)]\tLoss: 14.36\n",
      "[900000/1345799 (67%)]\tLoss: 20.46\n",
      "[1000000/1345799 (74%)]\tLoss: 30.71\n",
      "[1100000/1345799 (82%)]\tLoss: 32.75\n",
      "[1200000/1345799 (89%)]\tLoss: 41.42\n",
      "[1300000/1345799 (97%)]\tLoss: 88.58\n",
      "Test set: Accuracy: 569612/576772 (0.9875860825421484)\n",
      "\n",
      "Model with highest accuracy (0.9908456027685116) is stored to location ../models/DGA_Detector/rnn_classifier_2020-11-30_02_50_46.pth\n",
      "CPU times: user 29min 26s, sys: 26min 17s, total: 55min 44s\n",
      "Wall time: 9min 37s\n"
     ]
    }
   ],
   "source": [
    "%%time\n",
    "epoch = 30\n",
    "model_dir='../models/DGA_Detector'\n",
    "model_filepath = train_and_eval(dd, train_dataset, test_dataset, epoch, model_dir)\n",
    "cleanup_cache()"
   ]
  },
  {
   "cell_type": "markdown",
   "metadata": {},
   "source": [
    "#### clx.analytics.dga_detector.DGADetector.evaluate_model()"
   ]
  },
  {
   "cell_type": "code",
   "execution_count": 70,
   "metadata": {},
   "outputs": [
    {
     "name": "stdout",
     "output_type": "stream",
     "text": [
      "Test set: Accuracy: 569612/576772 (0.9875860825421484)\n",
      "\n"
     ]
    }
   ],
   "source": [
    "accuracy = dd.evaluate_model(test_dataset)"
   ]
  },
  {
   "cell_type": "markdown",
   "metadata": {},
   "source": [
    "#### clx.analytics.dga_detector.DGADetector.predict()"
   ]
  },
  {
   "cell_type": "code",
   "execution_count": 71,
   "metadata": {},
   "outputs": [
    {
     "name": "stdout",
     "output_type": "stream",
     "text": [
      "Model accuracy: 0.9908456027685116\n"
     ]
    }
   ],
   "source": [
    "dd = DGADetector()\n",
    "dd.load_model('<model_path>')\n",
    "\n",
    "pred_results = []\n",
    "true_results = []\n",
    "for partition in test_dataset.partitioned_dfs:\n",
    "    pred_results.append(list(dd.predict(partition['domain']).values_host))\n",
    "    true_results.append(list(partition['type'].values_host))\n",
    "pred_results = np.concatenate(pred_results)\n",
    "true_results = np.concatenate(true_results)\n",
    "accuracy_score = accuracy_score(pred_results, true_results)\n",
    "print('Model accuracy: %s'%(accuracy_score))\n",
    "cleanup_cache()"
   ]
  },
  {
   "cell_type": "markdown",
   "metadata": {},
   "source": [
    "# Phishing Detector"
   ]
  },
  {
   "cell_type": "markdown",
   "metadata": {},
   "source": [
    "## Model"
   ]
  },
  {
   "cell_type": "code",
   "execution_count": 72,
   "metadata": {},
   "outputs": [],
   "source": [
    "import cudf;\n",
    "from cuml.preprocessing.model_selection import train_test_split;\n",
    "from clx.analytics.phishing_detector import PhishingDetector;\n",
    "import s3fs;\n",
    "from os import path"
   ]
  },
  {
   "cell_type": "code",
   "execution_count": 75,
   "metadata": {},
   "outputs": [],
   "source": [
    "DATA_DIR = '../data/phishing'\n",
    "CLAIR_TSV = \"Phishing_Dataset_Clair_Collection.tsv\"\n",
    "SPAM_TSV = \"spam_assassin_spam_200_20021010.tsv\"\n",
    "EASY_HAM_TSV = \"spam_assassin_easyham_200_20021010.tsv\"\n",
    "HARD_HAM_TSV = \"spam_assassin_hardham_200_20021010.tsv\"\n",
    "ENRON_TSV = \"enron_10000.tsv\"\n",
    "\n",
    "S3_BASE_PATH = \"rapidsai-data/cyber/clx\""
   ]
  },
  {
   "cell_type": "code",
   "execution_count": 77,
   "metadata": {},
   "outputs": [],
   "source": [
    "def maybe_download(f, output_dir):\n",
    "    if not path.exists(f'{output_dir}/{f}'):\n",
    "        print(f'Downloading: {f}')\n",
    "        fs = s3fs.S3FileSystem(anon=True)\n",
    "        fs.get(S3_BASE_PATH + \"/\" + f, f'{output_dir}/{f}')\n",
    "        \n",
    "def read_dataset(f, data_dir):\n",
    "    maybe_download(f, data_dir)\n",
    "    return cudf.read_csv(\n",
    "        f'{data_dir}/{f}'\n",
    "        , delimiter='\\t'\n",
    "        , header=None\n",
    "        , names=['label', 'email']\n",
    "    )"
   ]
  },
  {
   "cell_type": "code",
   "execution_count": 82,
   "metadata": {},
   "outputs": [
    {
     "name": "stdout",
     "output_type": "stream",
     "text": [
      "Downloading: spam_assassin_spam_200_20021010.tsv\n",
      "Downloading: spam_assassin_easyham_200_20021010.tsv\n",
      "Downloading: spam_assassin_hardham_200_20021010.tsv\n",
      "Downloading: enron_10000.tsv\n"
     ]
    }
   ],
   "source": [
    "dfclair = read_dataset(CLAIR_TSV, DATA_DIR)\n",
    "dfspam = read_dataset(SPAM_TSV, DATA_DIR)\n",
    "dfeasyham = read_dataset(EASY_HAM_TSV, DATA_DIR)\n",
    "dfhardham = read_dataset(HARD_HAM_TSV, DATA_DIR)\n",
    "dfenron = read_dataset(ENRON_TSV, DATA_DIR)"
   ]
  },
  {
   "cell_type": "markdown",
   "metadata": {},
   "source": [
    "#### clx.analytics.phishing_detector.PhishingDetector.init_model()"
   ]
  },
  {
   "cell_type": "code",
   "execution_count": 83,
   "metadata": {},
   "outputs": [
    {
     "data": {
      "application/vnd.jupyter.widget-view+json": {
       "model_id": "ca90fbbfc8e146e7a2da064499b434b6",
       "version_major": 2,
       "version_minor": 0
      },
      "text/plain": [
       "HBox(children=(HTML(value='Downloading'), FloatProgress(value=0.0, max=433.0), HTML(value='')))"
      ]
     },
     "metadata": {},
     "output_type": "display_data"
    },
    {
     "name": "stdout",
     "output_type": "stream",
     "text": [
      "\n"
     ]
    },
    {
     "data": {
      "application/vnd.jupyter.widget-view+json": {
       "model_id": "0299d918afbf4feb9fb0b62abe48e0c4",
       "version_major": 2,
       "version_minor": 0
      },
      "text/plain": [
       "HBox(children=(HTML(value='Downloading'), FloatProgress(value=0.0, max=440473133.0), HTML(value='')))"
      ]
     },
     "metadata": {},
     "output_type": "display_data"
    },
    {
     "name": "stdout",
     "output_type": "stream",
     "text": [
      "\n"
     ]
    },
    {
     "name": "stderr",
     "output_type": "stream",
     "text": [
      "Some weights of the model checkpoint at bert-base-uncased were not used when initializing BertForSequenceClassification: ['cls.predictions.bias', 'cls.predictions.transform.dense.weight', 'cls.predictions.transform.dense.bias', 'cls.predictions.decoder.weight', 'cls.seq_relationship.weight', 'cls.seq_relationship.bias', 'cls.predictions.transform.LayerNorm.weight', 'cls.predictions.transform.LayerNorm.bias']\n",
      "- This IS expected if you are initializing BertForSequenceClassification from the checkpoint of a model trained on another task or with another architecture (e.g. initializing a BertForSequenceClassification model from a BertForPreTraining model).\n",
      "- This IS NOT expected if you are initializing BertForSequenceClassification from the checkpoint of a model that you expect to be exactly identical (initializing a BertForSequenceClassification model from a BertForSequenceClassification model).\n",
      "Some weights of BertForSequenceClassification were not initialized from the model checkpoint at bert-base-uncased and are newly initialized: ['classifier.weight', 'classifier.bias']\n",
      "You should probably TRAIN this model on a down-stream task to be able to use it for predictions and inference.\n"
     ]
    }
   ],
   "source": [
    "phish_detect = PhishingDetector()\n",
    "phish_detect.init_model(model_or_path='bert-base-uncased')"
   ]
  },
  {
   "cell_type": "markdown",
   "metadata": {},
   "source": [
    "#### clx.analytics.phishing_detector.PhishingDetector.train_model()"
   ]
  },
  {
   "cell_type": "code",
   "execution_count": 85,
   "metadata": {},
   "outputs": [
    {
     "name": "stderr",
     "output_type": "stream",
     "text": [
      "Epoch:   0%|          | 0/1 [00:00<?, ?it/s]"
     ]
    },
    {
     "name": "stdout",
     "output_type": "stream",
     "text": [
      "Train loss: 0.06393363227627452\n"
     ]
    },
    {
     "name": "stderr",
     "output_type": "stream",
     "text": [
      "Epoch: 100%|██████████| 1/1 [02:02<00:00, 122.57s/it]"
     ]
    },
    {
     "name": "stdout",
     "output_type": "stream",
     "text": [
      "Validation Accuracy: 0.9950787401574803\n"
     ]
    },
    {
     "name": "stderr",
     "output_type": "stream",
     "text": [
      "\n"
     ]
    }
   ],
   "source": [
    "df_all = cudf.concat([\n",
    "    dfclair\n",
    "    , dfspam\n",
    "    , dfeasyham\n",
    "    , dfhardham\n",
    "    , dfenron\n",
    "])\n",
    "\n",
    "(\n",
    "    X_train\n",
    "    , X_test\n",
    "    , y_train\n",
    "    , y_test\n",
    ") = train_test_split(df_all, 'label', train_size=0.8)\n",
    "\n",
    "phish_detect.train_model(X_train, y_train, epochs=1)"
   ]
  },
  {
   "cell_type": "markdown",
   "metadata": {},
   "source": [
    "#### clx.analytics.phishing_detector.PhishingDetector.evaluate_model()"
   ]
  },
  {
   "cell_type": "code",
   "execution_count": 87,
   "metadata": {},
   "outputs": [
    {
     "data": {
      "text/plain": [
       "0.9950455806579469"
      ]
     },
     "execution_count": 87,
     "metadata": {},
     "output_type": "execute_result"
    }
   ],
   "source": [
    "phish_detect.evaluate_model(X_test, y_test)"
   ]
  },
  {
   "cell_type": "markdown",
   "metadata": {},
   "source": [
    "#### clx.analytics.phishing_detector.PhishingDetector.save_model()"
   ]
  },
  {
   "cell_type": "code",
   "execution_count": 90,
   "metadata": {},
   "outputs": [],
   "source": [
    "phish_detect.save_model('../models/phishing')"
   ]
  },
  {
   "cell_type": "markdown",
   "metadata": {},
   "source": [
    "#### clx.analytics.phishing_detector.PhishingDetector.predict()"
   ]
  },
  {
   "cell_type": "code",
   "execution_count": 91,
   "metadata": {},
   "outputs": [
    {
     "data": {
      "text/plain": [
       "0       0\n",
       "1       0\n",
       "2       1\n",
       "3       0\n",
       "4       0\n",
       "       ..\n",
       "5041    0\n",
       "5042    0\n",
       "5043    0\n",
       "5044    1\n",
       "5045    0\n",
       "Length: 5046, dtype: int64"
      ]
     },
     "execution_count": 91,
     "metadata": {},
     "output_type": "execute_result"
    }
   ],
   "source": [
    "phish_detect_trained = PhishingDetector()\n",
    "phish_detect_trained.init_model(model_or_path='../models/phishing')\n",
    "\n",
    "phish_detect_trained.predict(X_test)"
   ]
  },
  {
   "cell_type": "markdown",
   "metadata": {},
   "source": [
    "#### clx.analytics.model.rnn_classifier.RNNClassifier()\t"
   ]
  },
  {
   "cell_type": "code",
   "execution_count": null,
   "metadata": {},
   "outputs": [],
   "source": []
  },
  {
   "cell_type": "markdown",
   "metadata": {},
   "source": [
    "#### clx.analytics.stats.rzscore()\t"
   ]
  },
  {
   "cell_type": "code",
   "execution_count": null,
   "metadata": {},
   "outputs": [],
   "source": []
  },
  {
   "cell_type": "markdown",
   "metadata": {},
   "source": [
    "# Tokenize"
   ]
  },
  {
   "cell_type": "markdown",
   "metadata": {},
   "source": [
    "#### clx.analytics.tokenizer.tokenize_df()\t"
   ]
  },
  {
   "cell_type": "code",
   "execution_count": null,
   "metadata": {},
   "outputs": [],
   "source": []
  },
  {
   "cell_type": "markdown",
   "metadata": {},
   "source": [
    "#### clx.analytics.tokenizer.tokenize_file()\t"
   ]
  },
  {
   "cell_type": "code",
   "execution_count": null,
   "metadata": {},
   "outputs": [],
   "source": []
  }
 ],
 "metadata": {
  "kernelspec": {
   "display_name": "Python 3",
   "language": "python",
   "name": "python3"
  },
  "language_info": {
   "codemirror_mode": {
    "name": "ipython",
    "version": 3
   },
   "file_extension": ".py",
   "mimetype": "text/x-python",
   "name": "python",
   "nbconvert_exporter": "python",
   "pygments_lexer": "ipython3",
   "version": "3.8.6"
  }
 },
 "nbformat": 4,
 "nbformat_minor": 4
}
