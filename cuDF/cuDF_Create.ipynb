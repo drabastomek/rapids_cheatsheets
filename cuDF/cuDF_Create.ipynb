{
 "cells": [
  {
   "cell_type": "markdown",
   "metadata": {},
   "source": [
    "# cuDF Cheat Sheets sample code\n",
    "\n",
    "(c) 2020 NVIDIA, Blazing SQL\n",
    "\n",
    "Distributed under Apache License 2.0"
   ]
  },
  {
   "cell_type": "markdown",
   "metadata": {},
   "source": [
    "### Imports"
   ]
  },
  {
   "cell_type": "code",
   "execution_count": 25,
   "metadata": {},
   "outputs": [],
   "source": [
    "import cudf\n",
    "import numpy as np\n",
    "import pandas as pd"
   ]
  },
  {
   "cell_type": "markdown",
   "metadata": {},
   "source": [
    "### Sample DataFrame"
   ]
  },
  {
   "cell_type": "code",
   "execution_count": 2,
   "metadata": {},
   "outputs": [],
   "source": [
    "df = cudf.DataFrame(\n",
    "    [\n",
    "          (39, 6.88, np.datetime64('2020-10-08T12:12:01'), np.timedelta64(14378,'s'), 'C', 'D', 'data'\n",
    "            , 'RAPIDS.ai is a suite of open-source libraries that allow you to run your end to end data science and analytics pipelines on GPUs.')\n",
    "        , (11, 4.21, None,                                 None                     , 'A', 'D', 'cuDF'\n",
    "            , 'cuDF is a Python GPU DataFrame (built on the Apache Arrow columnar memory format)')\n",
    "        , (31, 4.71, np.datetime64('2020-10-10T09:26:43'), np.timedelta64(12909,'s'), 'U', 'D', 'memory'\n",
    "            , 'cuDF allows for loading, joining, aggregating, filtering, and otherwise manipulating tabular data using a DataFrame style API.')\n",
    "        , (40, 0.93, np.datetime64('2020-10-11T17:10:00'), np.timedelta64(10466,'s'), 'P', 'B', 'tabular'\n",
    "            , '''If your workflow is fast enough on a single GPU or your data comfortably fits in memory on \n",
    "                 a single GPU, you would want to use cuDF.''')\n",
    "        , (33, 9.26, np.datetime64('2020-10-15T10:58:02'), np.timedelta64(35558,'s'), 'O', 'D', 'parallel'\n",
    "            , '''If you want to distribute your workflow across multiple GPUs or have more data than you can fit \n",
    "                 in memory on a single GPU you would want to use Dask-cuDF''')\n",
    "        , (42, 4.21, np.datetime64('2020-10-01T10:02:23'), np.timedelta64(20480,'s'), 'U', 'C', 'GPUs'\n",
    "            , 'BlazingSQL provides a high-performance distributed SQL engine in Python')\n",
    "        , (36, 3.01, np.datetime64('2020-09-30T14:36:26'), np.timedelta64(24409,'s'), 'T', 'D', None\n",
    "            , 'BlazingSQL is built on the RAPIDS GPU data science ecosystem')\n",
    "        , (38, 6.44, np.datetime64('2020-10-10T08:34:36'), np.timedelta64(90171,'s'), 'X', 'B', 'csv'\n",
    "            , 'BlazingSQL lets you ETL raw data directly into GPU memory as a GPU DataFrame (GDF)')\n",
    "        , (17, 5.28, np.datetime64('2020-10-09T08:34:40'), np.timedelta64(30532,'s'), 'P', 'D', 'dataframes'\n",
    "            , 'Dask is a flexible library for parallel computing in Python')\n",
    "        , (10, 8.28, np.datetime64('2020-10-03T03:31:21'), np.timedelta64(23552,'s'), 'W', 'B', 'python'\n",
    "            , None)\n",
    "    ]\n",
    "    , columns = ['num', 'float', 'datetime', 'timedelta', 'char', 'category', 'word', 'string']\n",
    ")\n",
    "df['category'] = df['category'].astype('category')"
   ]
  },
  {
   "cell_type": "markdown",
   "metadata": {},
   "source": [
    "---\n",
    "\n",
    "# Object creation\n",
    "\n",
    "---"
   ]
  },
  {
   "cell_type": "code",
   "execution_count": 14,
   "metadata": {},
   "outputs": [
    {
     "data": {
      "text/html": [
       "<div>\n",
       "<style scoped>\n",
       "    .dataframe tbody tr th:only-of-type {\n",
       "        vertical-align: middle;\n",
       "    }\n",
       "\n",
       "    .dataframe tbody tr th {\n",
       "        vertical-align: top;\n",
       "    }\n",
       "\n",
       "    .dataframe thead th {\n",
       "        text-align: right;\n",
       "    }\n",
       "</style>\n",
       "<table border=\"1\" class=\"dataframe\">\n",
       "  <thead>\n",
       "    <tr style=\"text-align: right;\">\n",
       "      <th></th>\n",
       "      <th>ints</th>\n",
       "    </tr>\n",
       "  </thead>\n",
       "  <tbody>\n",
       "    <tr>\n",
       "      <th>0</th>\n",
       "      <td>1</td>\n",
       "    </tr>\n",
       "    <tr>\n",
       "      <th>1</th>\n",
       "      <td>2</td>\n",
       "    </tr>\n",
       "    <tr>\n",
       "      <th>2</th>\n",
       "      <td>3</td>\n",
       "    </tr>\n",
       "    <tr>\n",
       "      <th>3</th>\n",
       "      <td>4</td>\n",
       "    </tr>\n",
       "  </tbody>\n",
       "</table>\n",
       "</div>"
      ],
      "text/plain": [
       "   ints\n",
       "0     1\n",
       "1     2\n",
       "2     3\n",
       "3     4"
      ]
     },
     "execution_count": 14,
     "metadata": {},
     "output_type": "execute_result"
    }
   ],
   "source": [
    "cudf.DataFrame([1,2,3,4], columns=['ints'])"
   ]
  },
  {
   "cell_type": "code",
   "execution_count": 21,
   "metadata": {},
   "outputs": [
    {
     "data": {
      "text/html": [
       "<div>\n",
       "<style scoped>\n",
       "    .dataframe tbody tr th:only-of-type {\n",
       "        vertical-align: middle;\n",
       "    }\n",
       "\n",
       "    .dataframe tbody tr th {\n",
       "        vertical-align: top;\n",
       "    }\n",
       "\n",
       "    .dataframe thead th {\n",
       "        text-align: right;\n",
       "    }\n",
       "</style>\n",
       "<table border=\"1\" class=\"dataframe\">\n",
       "  <thead>\n",
       "    <tr style=\"text-align: right;\">\n",
       "      <th></th>\n",
       "      <th>ints</th>\n",
       "      <th>strings</th>\n",
       "    </tr>\n",
       "  </thead>\n",
       "  <tbody>\n",
       "    <tr>\n",
       "      <th>0</th>\n",
       "      <td>1</td>\n",
       "      <td>a</td>\n",
       "    </tr>\n",
       "    <tr>\n",
       "      <th>1</th>\n",
       "      <td>2</td>\n",
       "      <td>b</td>\n",
       "    </tr>\n",
       "    <tr>\n",
       "      <th>2</th>\n",
       "      <td>3</td>\n",
       "      <td>c</td>\n",
       "    </tr>\n",
       "    <tr>\n",
       "      <th>3</th>\n",
       "      <td>4</td>\n",
       "      <td>&lt;NA&gt;</td>\n",
       "    </tr>\n",
       "  </tbody>\n",
       "</table>\n",
       "</div>"
      ],
      "text/plain": [
       "   ints strings\n",
       "0     1       a\n",
       "1     2       b\n",
       "2     3       c\n",
       "3     4    <NA>"
      ]
     },
     "execution_count": 21,
     "metadata": {},
     "output_type": "execute_result"
    }
   ],
   "source": [
    "cudf.DataFrame({'ints': [1,2,3,4], 'strings': ['a','b','c',None]})"
   ]
  },
  {
   "cell_type": "code",
   "execution_count": 22,
   "metadata": {},
   "outputs": [
    {
     "data": {
      "text/html": [
       "<div>\n",
       "<style scoped>\n",
       "    .dataframe tbody tr th:only-of-type {\n",
       "        vertical-align: middle;\n",
       "    }\n",
       "\n",
       "    .dataframe tbody tr th {\n",
       "        vertical-align: top;\n",
       "    }\n",
       "\n",
       "    .dataframe thead th {\n",
       "        text-align: right;\n",
       "    }\n",
       "</style>\n",
       "<table border=\"1\" class=\"dataframe\">\n",
       "  <thead>\n",
       "    <tr style=\"text-align: right;\">\n",
       "      <th></th>\n",
       "      <th>ints</th>\n",
       "      <th>strings</th>\n",
       "    </tr>\n",
       "  </thead>\n",
       "  <tbody>\n",
       "    <tr>\n",
       "      <th>0</th>\n",
       "      <td>1</td>\n",
       "      <td>a</td>\n",
       "    </tr>\n",
       "    <tr>\n",
       "      <th>1</th>\n",
       "      <td>2</td>\n",
       "      <td>b</td>\n",
       "    </tr>\n",
       "    <tr>\n",
       "      <th>2</th>\n",
       "      <td>3</td>\n",
       "      <td>c</td>\n",
       "    </tr>\n",
       "    <tr>\n",
       "      <th>3</th>\n",
       "      <td>4</td>\n",
       "      <td>&lt;NA&gt;</td>\n",
       "    </tr>\n",
       "  </tbody>\n",
       "</table>\n",
       "</div>"
      ],
      "text/plain": [
       "   ints strings\n",
       "0     1       a\n",
       "1     2       b\n",
       "2     3       c\n",
       "3     4    <NA>"
      ]
     },
     "execution_count": 22,
     "metadata": {},
     "output_type": "execute_result"
    }
   ],
   "source": [
    "df_sample = cudf.DataFrame()\n",
    "df_sample['ints'] = [1,2,3,4]\n",
    "df_sample['strings'] = ['a','b','c',None]\n",
    "df_sample"
   ]
  },
  {
   "cell_type": "code",
   "execution_count": 23,
   "metadata": {},
   "outputs": [
    {
     "data": {
      "text/html": [
       "<div>\n",
       "<style scoped>\n",
       "    .dataframe tbody tr th:only-of-type {\n",
       "        vertical-align: middle;\n",
       "    }\n",
       "\n",
       "    .dataframe tbody tr th {\n",
       "        vertical-align: top;\n",
       "    }\n",
       "\n",
       "    .dataframe thead th {\n",
       "        text-align: right;\n",
       "    }\n",
       "</style>\n",
       "<table border=\"1\" class=\"dataframe\">\n",
       "  <thead>\n",
       "    <tr style=\"text-align: right;\">\n",
       "      <th></th>\n",
       "      <th>ints</th>\n",
       "      <th>strings</th>\n",
       "    </tr>\n",
       "  </thead>\n",
       "  <tbody>\n",
       "    <tr>\n",
       "      <th>0</th>\n",
       "      <td>1</td>\n",
       "      <td>a</td>\n",
       "    </tr>\n",
       "    <tr>\n",
       "      <th>1</th>\n",
       "      <td>2</td>\n",
       "      <td>b</td>\n",
       "    </tr>\n",
       "    <tr>\n",
       "      <th>2</th>\n",
       "      <td>3</td>\n",
       "      <td>c</td>\n",
       "    </tr>\n",
       "    <tr>\n",
       "      <th>3</th>\n",
       "      <td>4</td>\n",
       "      <td>&lt;NA&gt;</td>\n",
       "    </tr>\n",
       "  </tbody>\n",
       "</table>\n",
       "</div>"
      ],
      "text/plain": [
       "   ints strings\n",
       "0     1       a\n",
       "1     2       b\n",
       "2     3       c\n",
       "3     4    <NA>"
      ]
     },
     "execution_count": 23,
     "metadata": {},
     "output_type": "execute_result"
    }
   ],
   "source": [
    "cudf.DataFrame([\n",
    "    (1, 'a')\n",
    "    , (2, 'b')\n",
    "    , (3, 'c')\n",
    "    , (4, None)\n",
    "], columns=['ints', 'strings'])"
   ]
  },
  {
   "cell_type": "markdown",
   "metadata": {},
   "source": [
    "## <span style=\"color:blue\">DataFrame</span>"
   ]
  },
  {
   "cell_type": "markdown",
   "metadata": {},
   "source": [
    "#### cudf.core.dataframe.DataFrame.as_gpu_matrix()"
   ]
  },
  {
   "cell_type": "code",
   "execution_count": 5,
   "metadata": {},
   "outputs": [
    {
     "data": {
      "text/plain": [
       "<numba.cuda.cudadrv.devicearray.DeviceNDArray at 0x7f9b45db2d50>"
      ]
     },
     "execution_count": 5,
     "metadata": {},
     "output_type": "execute_result"
    }
   ],
   "source": [
    "## ONLY NUMERIC COLUMNS AT THE MOMENT\n",
    "df[['num', 'float']].as_gpu_matrix()"
   ]
  },
  {
   "cell_type": "markdown",
   "metadata": {},
   "source": [
    "#### cudf.core.dataframe.DataFrame.as_matrix()"
   ]
  },
  {
   "cell_type": "code",
   "execution_count": 7,
   "metadata": {},
   "outputs": [
    {
     "data": {
      "text/plain": [
       "array([[39.  ,  6.88],\n",
       "       [11.  ,  4.21],\n",
       "       [31.  ,  4.71],\n",
       "       [40.  ,  0.93],\n",
       "       [33.  ,  9.26],\n",
       "       [42.  ,  4.21],\n",
       "       [36.  ,  3.01],\n",
       "       [38.  ,  6.44],\n",
       "       [17.  ,  5.28],\n",
       "       [10.  ,  8.28]])"
      ]
     },
     "execution_count": 7,
     "metadata": {},
     "output_type": "execute_result"
    }
   ],
   "source": [
    "## ONLY NUMERIC COLUMNS\n",
    "df[['num', 'float']].as_matrix()"
   ]
  },
  {
   "cell_type": "markdown",
   "metadata": {},
   "source": [
    "#### cudf.core.dataframe.DataFrame.from_arrow()"
   ]
  },
  {
   "cell_type": "code",
   "execution_count": 10,
   "metadata": {},
   "outputs": [
    {
     "data": {
      "text/html": [
       "<div>\n",
       "<style scoped>\n",
       "    .dataframe tbody tr th:only-of-type {\n",
       "        vertical-align: middle;\n",
       "    }\n",
       "\n",
       "    .dataframe tbody tr th {\n",
       "        vertical-align: top;\n",
       "    }\n",
       "\n",
       "    .dataframe thead th {\n",
       "        text-align: right;\n",
       "    }\n",
       "</style>\n",
       "<table border=\"1\" class=\"dataframe\">\n",
       "  <thead>\n",
       "    <tr style=\"text-align: right;\">\n",
       "      <th></th>\n",
       "      <th>num</th>\n",
       "      <th>float</th>\n",
       "      <th>datetime</th>\n",
       "      <th>timedelta</th>\n",
       "      <th>char</th>\n",
       "      <th>category</th>\n",
       "      <th>word</th>\n",
       "      <th>string</th>\n",
       "    </tr>\n",
       "  </thead>\n",
       "  <tbody>\n",
       "    <tr>\n",
       "      <th>0</th>\n",
       "      <td>39</td>\n",
       "      <td>6.88</td>\n",
       "      <td>2020-10-08 12:12:01</td>\n",
       "      <td>0 days 03:59:38</td>\n",
       "      <td>C</td>\n",
       "      <td>D</td>\n",
       "      <td>data</td>\n",
       "      <td>RAPIDS.ai is a suite of open-source libraries ...</td>\n",
       "    </tr>\n",
       "    <tr>\n",
       "      <th>1</th>\n",
       "      <td>11</td>\n",
       "      <td>4.21</td>\n",
       "      <td>&lt;NA&gt;</td>\n",
       "      <td>&lt;NA&gt;</td>\n",
       "      <td>A</td>\n",
       "      <td>D</td>\n",
       "      <td>cuDF</td>\n",
       "      <td>cuDF is a Python GPU DataFrame (built on the A...</td>\n",
       "    </tr>\n",
       "    <tr>\n",
       "      <th>2</th>\n",
       "      <td>31</td>\n",
       "      <td>4.71</td>\n",
       "      <td>2020-10-10 09:26:43</td>\n",
       "      <td>0 days 03:35:09</td>\n",
       "      <td>U</td>\n",
       "      <td>D</td>\n",
       "      <td>memory</td>\n",
       "      <td>cuDF allows for loading, joining, aggregating,...</td>\n",
       "    </tr>\n",
       "    <tr>\n",
       "      <th>3</th>\n",
       "      <td>40</td>\n",
       "      <td>0.93</td>\n",
       "      <td>2020-10-11 17:10:00</td>\n",
       "      <td>0 days 02:54:26</td>\n",
       "      <td>P</td>\n",
       "      <td>B</td>\n",
       "      <td>tabular</td>\n",
       "      <td>If your workflow is fast enough on a single GP...</td>\n",
       "    </tr>\n",
       "    <tr>\n",
       "      <th>4</th>\n",
       "      <td>33</td>\n",
       "      <td>9.26</td>\n",
       "      <td>2020-10-15 10:58:02</td>\n",
       "      <td>0 days 09:52:38</td>\n",
       "      <td>O</td>\n",
       "      <td>D</td>\n",
       "      <td>parallel</td>\n",
       "      <td>If you want to distribute your workflow across...</td>\n",
       "    </tr>\n",
       "    <tr>\n",
       "      <th>5</th>\n",
       "      <td>42</td>\n",
       "      <td>4.21</td>\n",
       "      <td>2020-10-01 10:02:23</td>\n",
       "      <td>0 days 05:41:20</td>\n",
       "      <td>U</td>\n",
       "      <td>C</td>\n",
       "      <td>GPUs</td>\n",
       "      <td>BlazingSQL provides a high-performance distrib...</td>\n",
       "    </tr>\n",
       "    <tr>\n",
       "      <th>6</th>\n",
       "      <td>36</td>\n",
       "      <td>3.01</td>\n",
       "      <td>2020-09-30 14:36:26</td>\n",
       "      <td>0 days 06:46:49</td>\n",
       "      <td>T</td>\n",
       "      <td>D</td>\n",
       "      <td>&lt;NA&gt;</td>\n",
       "      <td>BlazingSQL is built on the RAPIDS GPU data sci...</td>\n",
       "    </tr>\n",
       "    <tr>\n",
       "      <th>7</th>\n",
       "      <td>38</td>\n",
       "      <td>6.44</td>\n",
       "      <td>2020-10-10 08:34:36</td>\n",
       "      <td>1 days 01:02:51</td>\n",
       "      <td>X</td>\n",
       "      <td>B</td>\n",
       "      <td>csv</td>\n",
       "      <td>BlazingSQL lets you ETL raw data directly into...</td>\n",
       "    </tr>\n",
       "    <tr>\n",
       "      <th>8</th>\n",
       "      <td>17</td>\n",
       "      <td>5.28</td>\n",
       "      <td>2020-10-09 08:34:40</td>\n",
       "      <td>0 days 08:28:52</td>\n",
       "      <td>P</td>\n",
       "      <td>D</td>\n",
       "      <td>dataframes</td>\n",
       "      <td>Dask is a flexible library for parallel comput...</td>\n",
       "    </tr>\n",
       "    <tr>\n",
       "      <th>9</th>\n",
       "      <td>10</td>\n",
       "      <td>8.28</td>\n",
       "      <td>2020-10-03 03:31:21</td>\n",
       "      <td>0 days 06:32:32</td>\n",
       "      <td>W</td>\n",
       "      <td>B</td>\n",
       "      <td>python</td>\n",
       "      <td>&lt;NA&gt;</td>\n",
       "    </tr>\n",
       "  </tbody>\n",
       "</table>\n",
       "</div>"
      ],
      "text/plain": [
       "   num  float             datetime        timedelta char category        word  \\\n",
       "0   39   6.88  2020-10-08 12:12:01  0 days 03:59:38    C        D        data   \n",
       "1   11   4.21                 <NA>             <NA>    A        D        cuDF   \n",
       "2   31   4.71  2020-10-10 09:26:43  0 days 03:35:09    U        D      memory   \n",
       "3   40   0.93  2020-10-11 17:10:00  0 days 02:54:26    P        B     tabular   \n",
       "4   33   9.26  2020-10-15 10:58:02  0 days 09:52:38    O        D    parallel   \n",
       "5   42   4.21  2020-10-01 10:02:23  0 days 05:41:20    U        C        GPUs   \n",
       "6   36   3.01  2020-09-30 14:36:26  0 days 06:46:49    T        D        <NA>   \n",
       "7   38   6.44  2020-10-10 08:34:36  1 days 01:02:51    X        B         csv   \n",
       "8   17   5.28  2020-10-09 08:34:40  0 days 08:28:52    P        D  dataframes   \n",
       "9   10   8.28  2020-10-03 03:31:21  0 days 06:32:32    W        B      python   \n",
       "\n",
       "                                              string  \n",
       "0  RAPIDS.ai is a suite of open-source libraries ...  \n",
       "1  cuDF is a Python GPU DataFrame (built on the A...  \n",
       "2  cuDF allows for loading, joining, aggregating,...  \n",
       "3  If your workflow is fast enough on a single GP...  \n",
       "4  If you want to distribute your workflow across...  \n",
       "5  BlazingSQL provides a high-performance distrib...  \n",
       "6  BlazingSQL is built on the RAPIDS GPU data sci...  \n",
       "7  BlazingSQL lets you ETL raw data directly into...  \n",
       "8  Dask is a flexible library for parallel comput...  \n",
       "9                                               <NA>  "
      ]
     },
     "execution_count": 10,
     "metadata": {},
     "output_type": "execute_result"
    }
   ],
   "source": [
    "cudf.DataFrame.from_arrow(df.to_arrow())"
   ]
  },
  {
   "cell_type": "markdown",
   "metadata": {},
   "source": [
    "#### cudf.core.dataframe.DataFrame.from_gpu_matrix()"
   ]
  },
  {
   "cell_type": "code",
   "execution_count": 12,
   "metadata": {},
   "outputs": [
    {
     "data": {
      "text/html": [
       "<div>\n",
       "<style scoped>\n",
       "    .dataframe tbody tr th:only-of-type {\n",
       "        vertical-align: middle;\n",
       "    }\n",
       "\n",
       "    .dataframe tbody tr th {\n",
       "        vertical-align: top;\n",
       "    }\n",
       "\n",
       "    .dataframe thead th {\n",
       "        text-align: right;\n",
       "    }\n",
       "</style>\n",
       "<table border=\"1\" class=\"dataframe\">\n",
       "  <thead>\n",
       "    <tr style=\"text-align: right;\">\n",
       "      <th></th>\n",
       "      <th>0</th>\n",
       "      <th>1</th>\n",
       "    </tr>\n",
       "  </thead>\n",
       "  <tbody>\n",
       "    <tr>\n",
       "      <th>0</th>\n",
       "      <td>39.0</td>\n",
       "      <td>6.88</td>\n",
       "    </tr>\n",
       "    <tr>\n",
       "      <th>1</th>\n",
       "      <td>11.0</td>\n",
       "      <td>4.21</td>\n",
       "    </tr>\n",
       "    <tr>\n",
       "      <th>2</th>\n",
       "      <td>31.0</td>\n",
       "      <td>4.71</td>\n",
       "    </tr>\n",
       "    <tr>\n",
       "      <th>3</th>\n",
       "      <td>40.0</td>\n",
       "      <td>0.93</td>\n",
       "    </tr>\n",
       "    <tr>\n",
       "      <th>4</th>\n",
       "      <td>33.0</td>\n",
       "      <td>9.26</td>\n",
       "    </tr>\n",
       "    <tr>\n",
       "      <th>5</th>\n",
       "      <td>42.0</td>\n",
       "      <td>4.21</td>\n",
       "    </tr>\n",
       "    <tr>\n",
       "      <th>6</th>\n",
       "      <td>36.0</td>\n",
       "      <td>3.01</td>\n",
       "    </tr>\n",
       "    <tr>\n",
       "      <th>7</th>\n",
       "      <td>38.0</td>\n",
       "      <td>6.44</td>\n",
       "    </tr>\n",
       "    <tr>\n",
       "      <th>8</th>\n",
       "      <td>17.0</td>\n",
       "      <td>5.28</td>\n",
       "    </tr>\n",
       "    <tr>\n",
       "      <th>9</th>\n",
       "      <td>10.0</td>\n",
       "      <td>8.28</td>\n",
       "    </tr>\n",
       "  </tbody>\n",
       "</table>\n",
       "</div>"
      ],
      "text/plain": [
       "      0     1\n",
       "0  39.0  6.88\n",
       "1  11.0  4.21\n",
       "2  31.0  4.71\n",
       "3  40.0  0.93\n",
       "4  33.0  9.26\n",
       "5  42.0  4.21\n",
       "6  36.0  3.01\n",
       "7  38.0  6.44\n",
       "8  17.0  5.28\n",
       "9  10.0  8.28"
      ]
     },
     "execution_count": 12,
     "metadata": {},
     "output_type": "execute_result"
    }
   ],
   "source": [
    "#### THIS SEEMS TO BE DEPRECATED CALL AND I THINK WE SHOULD REMOVE IT\n",
    "cudf.DataFrame(df[['num', 'float']].as_gpu_matrix())"
   ]
  },
  {
   "cell_type": "markdown",
   "metadata": {},
   "source": [
    "#### cudf.core.dataframe.DataFrame.from_pandas()"
   ]
  },
  {
   "cell_type": "code",
   "execution_count": 27,
   "metadata": {},
   "outputs": [
    {
     "data": {
      "text/html": [
       "<div>\n",
       "<style scoped>\n",
       "    .dataframe tbody tr th:only-of-type {\n",
       "        vertical-align: middle;\n",
       "    }\n",
       "\n",
       "    .dataframe tbody tr th {\n",
       "        vertical-align: top;\n",
       "    }\n",
       "\n",
       "    .dataframe thead th {\n",
       "        text-align: right;\n",
       "    }\n",
       "</style>\n",
       "<table border=\"1\" class=\"dataframe\">\n",
       "  <thead>\n",
       "    <tr style=\"text-align: right;\">\n",
       "      <th></th>\n",
       "      <th>ints</th>\n",
       "    </tr>\n",
       "  </thead>\n",
       "  <tbody>\n",
       "    <tr>\n",
       "      <th>0</th>\n",
       "      <td>1</td>\n",
       "    </tr>\n",
       "    <tr>\n",
       "      <th>1</th>\n",
       "      <td>2</td>\n",
       "    </tr>\n",
       "    <tr>\n",
       "      <th>2</th>\n",
       "      <td>3</td>\n",
       "    </tr>\n",
       "    <tr>\n",
       "      <th>3</th>\n",
       "      <td>4</td>\n",
       "    </tr>\n",
       "  </tbody>\n",
       "</table>\n",
       "</div>"
      ],
      "text/plain": [
       "   ints\n",
       "0     1\n",
       "1     2\n",
       "2     3\n",
       "3     4"
      ]
     },
     "execution_count": 27,
     "metadata": {},
     "output_type": "execute_result"
    }
   ],
   "source": [
    "cudf.DataFrame.from_pandas(pd.DataFrame([1,2,3,4], columns=['ints']))"
   ]
  },
  {
   "cell_type": "markdown",
   "metadata": {},
   "source": [
    "#### cudf.core.dataframe.DataFrame.from_records()"
   ]
  },
  {
   "cell_type": "code",
   "execution_count": 32,
   "metadata": {},
   "outputs": [
    {
     "data": {
      "text/html": [
       "<div>\n",
       "<style scoped>\n",
       "    .dataframe tbody tr th:only-of-type {\n",
       "        vertical-align: middle;\n",
       "    }\n",
       "\n",
       "    .dataframe tbody tr th {\n",
       "        vertical-align: top;\n",
       "    }\n",
       "\n",
       "    .dataframe thead th {\n",
       "        text-align: right;\n",
       "    }\n",
       "</style>\n",
       "<table border=\"1\" class=\"dataframe\">\n",
       "  <thead>\n",
       "    <tr style=\"text-align: right;\">\n",
       "      <th></th>\n",
       "      <th>index</th>\n",
       "      <th>num</th>\n",
       "      <th>float</th>\n",
       "    </tr>\n",
       "  </thead>\n",
       "  <tbody>\n",
       "    <tr>\n",
       "      <th>0</th>\n",
       "      <td>0</td>\n",
       "      <td>39</td>\n",
       "      <td>6.88</td>\n",
       "    </tr>\n",
       "    <tr>\n",
       "      <th>1</th>\n",
       "      <td>1</td>\n",
       "      <td>11</td>\n",
       "      <td>4.21</td>\n",
       "    </tr>\n",
       "    <tr>\n",
       "      <th>2</th>\n",
       "      <td>2</td>\n",
       "      <td>31</td>\n",
       "      <td>4.71</td>\n",
       "    </tr>\n",
       "    <tr>\n",
       "      <th>3</th>\n",
       "      <td>3</td>\n",
       "      <td>40</td>\n",
       "      <td>0.93</td>\n",
       "    </tr>\n",
       "    <tr>\n",
       "      <th>4</th>\n",
       "      <td>4</td>\n",
       "      <td>33</td>\n",
       "      <td>9.26</td>\n",
       "    </tr>\n",
       "    <tr>\n",
       "      <th>5</th>\n",
       "      <td>5</td>\n",
       "      <td>42</td>\n",
       "      <td>4.21</td>\n",
       "    </tr>\n",
       "    <tr>\n",
       "      <th>6</th>\n",
       "      <td>6</td>\n",
       "      <td>36</td>\n",
       "      <td>3.01</td>\n",
       "    </tr>\n",
       "    <tr>\n",
       "      <th>7</th>\n",
       "      <td>7</td>\n",
       "      <td>38</td>\n",
       "      <td>6.44</td>\n",
       "    </tr>\n",
       "    <tr>\n",
       "      <th>8</th>\n",
       "      <td>8</td>\n",
       "      <td>17</td>\n",
       "      <td>5.28</td>\n",
       "    </tr>\n",
       "    <tr>\n",
       "      <th>9</th>\n",
       "      <td>9</td>\n",
       "      <td>10</td>\n",
       "      <td>8.28</td>\n",
       "    </tr>\n",
       "  </tbody>\n",
       "</table>\n",
       "</div>"
      ],
      "text/plain": [
       "   index  num  float\n",
       "0      0   39   6.88\n",
       "1      1   11   4.21\n",
       "2      2   31   4.71\n",
       "3      3   40   0.93\n",
       "4      4   33   9.26\n",
       "5      5   42   4.21\n",
       "6      6   36   3.01\n",
       "7      7   38   6.44\n",
       "8      8   17   5.28\n",
       "9      9   10   8.28"
      ]
     },
     "execution_count": 32,
     "metadata": {},
     "output_type": "execute_result"
    }
   ],
   "source": [
    "cudf.DataFrame.from_records(df[['num', 'float']].to_records())"
   ]
  },
  {
   "cell_type": "markdown",
   "metadata": {},
   "source": [
    "#### cudf.core.dataframe.DataFrame.to_arrow()"
   ]
  },
  {
   "cell_type": "code",
   "execution_count": 33,
   "metadata": {},
   "outputs": [
    {
     "data": {
      "text/plain": [
       "pyarrow.Table\n",
       "num: int64\n",
       "float: double\n",
       "datetime: timestamp[s]\n",
       "timedelta: duration[s]\n",
       "char: string\n",
       "category: dictionary<values=string, indices=int8, ordered=0>\n",
       "word: string\n",
       "string: string"
      ]
     },
     "execution_count": 33,
     "metadata": {},
     "output_type": "execute_result"
    }
   ],
   "source": [
    "df.to_arrow()"
   ]
  },
  {
   "cell_type": "markdown",
   "metadata": {},
   "source": [
    "#### cudf.core.dataframe.DataFrame.to_csv()"
   ]
  },
  {
   "cell_type": "code",
   "execution_count": 36,
   "metadata": {},
   "outputs": [],
   "source": [
    "df.to_csv('../results/df_with_index.csv')"
   ]
  },
  {
   "cell_type": "code",
   "execution_count": 37,
   "metadata": {},
   "outputs": [],
   "source": [
    "df.to_csv('../results/df_no_index_no_header.csv', index=False, header=False)"
   ]
  },
  {
   "cell_type": "code",
   "execution_count": 44,
   "metadata": {},
   "outputs": [],
   "source": [
    "df.to_csv('../results/df_tab_sep.tsv', sep='\\t')"
   ]
  },
  {
   "cell_type": "code",
   "execution_count": 46,
   "metadata": {},
   "outputs": [],
   "source": [
    "with open('../results/df_buffer.csv', 'w') as f:\n",
    "    df.to_csv(f)"
   ]
  },
  {
   "cell_type": "markdown",
   "metadata": {},
   "source": [
    "#### cudf.core.dataframe.DataFrame.to_dlpack()"
   ]
  },
  {
   "cell_type": "code",
   "execution_count": 51,
   "metadata": {},
   "outputs": [
    {
     "data": {
      "text/plain": [
       "<capsule object \"dltensor\" at 0x7f9b45570c30>"
      ]
     },
     "execution_count": 51,
     "metadata": {},
     "output_type": "execute_result"
    }
   ],
   "source": [
    "df[['num']].to_dlpack()"
   ]
  },
  {
   "cell_type": "markdown",
   "metadata": {},
   "source": [
    "#### cudf.core.dataframe.DataFrame.to_feather()"
   ]
  },
  {
   "cell_type": "code",
   "execution_count": null,
   "metadata": {},
   "outputs": [],
   "source": []
  },
  {
   "cell_type": "markdown",
   "metadata": {},
   "source": [
    "#### cudf.core.dataframe.DataFrame.to_gpu_matrix()"
   ]
  },
  {
   "cell_type": "code",
   "execution_count": null,
   "metadata": {},
   "outputs": [],
   "source": []
  },
  {
   "cell_type": "markdown",
   "metadata": {},
   "source": [
    "#### cudf.core.dataframe.DataFrame.to_hdf()"
   ]
  },
  {
   "cell_type": "code",
   "execution_count": null,
   "metadata": {},
   "outputs": [],
   "source": []
  },
  {
   "cell_type": "markdown",
   "metadata": {},
   "source": [
    "#### cudf.core.dataframe.DataFrame.to_json()"
   ]
  },
  {
   "cell_type": "code",
   "execution_count": 110,
   "metadata": {},
   "outputs": [],
   "source": [
    "df.to_json('../results/df_default.json')"
   ]
  },
  {
   "cell_type": "code",
   "execution_count": 111,
   "metadata": {},
   "outputs": [],
   "source": [
    "df.to_json('../results/df_records.json', orient='records', lines=True)"
   ]
  },
  {
   "cell_type": "code",
   "execution_count": 56,
   "metadata": {},
   "outputs": [],
   "source": [
    "df.to_json('../results/df_iso_dttm.json', date_format='iso')"
   ]
  },
  {
   "cell_type": "markdown",
   "metadata": {},
   "source": [
    "#### cudf.core.dataframe.DataFrame.to_orc()"
   ]
  },
  {
   "cell_type": "code",
   "execution_count": null,
   "metadata": {},
   "outputs": [],
   "source": []
  },
  {
   "cell_type": "markdown",
   "metadata": {},
   "source": [
    "#### cudf.core.dataframe.DataFrame.to_pandas()"
   ]
  },
  {
   "cell_type": "code",
   "execution_count": 57,
   "metadata": {},
   "outputs": [
    {
     "data": {
      "text/html": [
       "<div>\n",
       "<style scoped>\n",
       "    .dataframe tbody tr th:only-of-type {\n",
       "        vertical-align: middle;\n",
       "    }\n",
       "\n",
       "    .dataframe tbody tr th {\n",
       "        vertical-align: top;\n",
       "    }\n",
       "\n",
       "    .dataframe thead th {\n",
       "        text-align: right;\n",
       "    }\n",
       "</style>\n",
       "<table border=\"1\" class=\"dataframe\">\n",
       "  <thead>\n",
       "    <tr style=\"text-align: right;\">\n",
       "      <th></th>\n",
       "      <th>num</th>\n",
       "      <th>float</th>\n",
       "      <th>datetime</th>\n",
       "      <th>timedelta</th>\n",
       "      <th>char</th>\n",
       "      <th>category</th>\n",
       "      <th>word</th>\n",
       "      <th>string</th>\n",
       "    </tr>\n",
       "    <tr>\n",
       "      <th></th>\n",
       "      <th></th>\n",
       "      <th></th>\n",
       "      <th></th>\n",
       "      <th></th>\n",
       "      <th></th>\n",
       "      <th></th>\n",
       "      <th></th>\n",
       "      <th></th>\n",
       "    </tr>\n",
       "  </thead>\n",
       "  <tbody>\n",
       "    <tr>\n",
       "      <th>0</th>\n",
       "      <td>39</td>\n",
       "      <td>6.88</td>\n",
       "      <td>2020-10-08 12:12:01</td>\n",
       "      <td>0 days 03:59:38</td>\n",
       "      <td>C</td>\n",
       "      <td>D</td>\n",
       "      <td>data</td>\n",
       "      <td>RAPIDS.ai is a suite of open-source libraries ...</td>\n",
       "    </tr>\n",
       "    <tr>\n",
       "      <th>1</th>\n",
       "      <td>11</td>\n",
       "      <td>4.21</td>\n",
       "      <td>NaT</td>\n",
       "      <td>NaT</td>\n",
       "      <td>A</td>\n",
       "      <td>D</td>\n",
       "      <td>cuDF</td>\n",
       "      <td>cuDF is a Python GPU DataFrame (built on the A...</td>\n",
       "    </tr>\n",
       "    <tr>\n",
       "      <th>2</th>\n",
       "      <td>31</td>\n",
       "      <td>4.71</td>\n",
       "      <td>2020-10-10 09:26:43</td>\n",
       "      <td>0 days 03:35:09</td>\n",
       "      <td>U</td>\n",
       "      <td>D</td>\n",
       "      <td>memory</td>\n",
       "      <td>cuDF allows for loading, joining, aggregating,...</td>\n",
       "    </tr>\n",
       "    <tr>\n",
       "      <th>3</th>\n",
       "      <td>40</td>\n",
       "      <td>0.93</td>\n",
       "      <td>2020-10-11 17:10:00</td>\n",
       "      <td>0 days 02:54:26</td>\n",
       "      <td>P</td>\n",
       "      <td>B</td>\n",
       "      <td>tabular</td>\n",
       "      <td>If your workflow is fast enough on a single GP...</td>\n",
       "    </tr>\n",
       "    <tr>\n",
       "      <th>4</th>\n",
       "      <td>33</td>\n",
       "      <td>9.26</td>\n",
       "      <td>2020-10-15 10:58:02</td>\n",
       "      <td>0 days 09:52:38</td>\n",
       "      <td>O</td>\n",
       "      <td>D</td>\n",
       "      <td>parallel</td>\n",
       "      <td>If you want to distribute your workflow across...</td>\n",
       "    </tr>\n",
       "    <tr>\n",
       "      <th>5</th>\n",
       "      <td>42</td>\n",
       "      <td>4.21</td>\n",
       "      <td>2020-10-01 10:02:23</td>\n",
       "      <td>0 days 05:41:20</td>\n",
       "      <td>U</td>\n",
       "      <td>C</td>\n",
       "      <td>GPUs</td>\n",
       "      <td>BlazingSQL provides a high-performance distrib...</td>\n",
       "    </tr>\n",
       "    <tr>\n",
       "      <th>6</th>\n",
       "      <td>36</td>\n",
       "      <td>3.01</td>\n",
       "      <td>2020-09-30 14:36:26</td>\n",
       "      <td>0 days 06:46:49</td>\n",
       "      <td>T</td>\n",
       "      <td>D</td>\n",
       "      <td>None</td>\n",
       "      <td>BlazingSQL is built on the RAPIDS GPU data sci...</td>\n",
       "    </tr>\n",
       "    <tr>\n",
       "      <th>7</th>\n",
       "      <td>38</td>\n",
       "      <td>6.44</td>\n",
       "      <td>2020-10-10 08:34:36</td>\n",
       "      <td>1 days 01:02:51</td>\n",
       "      <td>X</td>\n",
       "      <td>B</td>\n",
       "      <td>csv</td>\n",
       "      <td>BlazingSQL lets you ETL raw data directly into...</td>\n",
       "    </tr>\n",
       "    <tr>\n",
       "      <th>8</th>\n",
       "      <td>17</td>\n",
       "      <td>5.28</td>\n",
       "      <td>2020-10-09 08:34:40</td>\n",
       "      <td>0 days 08:28:52</td>\n",
       "      <td>P</td>\n",
       "      <td>D</td>\n",
       "      <td>dataframes</td>\n",
       "      <td>Dask is a flexible library for parallel comput...</td>\n",
       "    </tr>\n",
       "    <tr>\n",
       "      <th>9</th>\n",
       "      <td>10</td>\n",
       "      <td>8.28</td>\n",
       "      <td>2020-10-03 03:31:21</td>\n",
       "      <td>0 days 06:32:32</td>\n",
       "      <td>W</td>\n",
       "      <td>B</td>\n",
       "      <td>python</td>\n",
       "      <td>None</td>\n",
       "    </tr>\n",
       "  </tbody>\n",
       "</table>\n",
       "</div>"
      ],
      "text/plain": [
       "   num  float            datetime       timedelta char category        word  \\\n",
       "                                                                              \n",
       "0   39   6.88 2020-10-08 12:12:01 0 days 03:59:38    C        D        data   \n",
       "1   11   4.21                 NaT             NaT    A        D        cuDF   \n",
       "2   31   4.71 2020-10-10 09:26:43 0 days 03:35:09    U        D      memory   \n",
       "3   40   0.93 2020-10-11 17:10:00 0 days 02:54:26    P        B     tabular   \n",
       "4   33   9.26 2020-10-15 10:58:02 0 days 09:52:38    O        D    parallel   \n",
       "5   42   4.21 2020-10-01 10:02:23 0 days 05:41:20    U        C        GPUs   \n",
       "6   36   3.01 2020-09-30 14:36:26 0 days 06:46:49    T        D        None   \n",
       "7   38   6.44 2020-10-10 08:34:36 1 days 01:02:51    X        B         csv   \n",
       "8   17   5.28 2020-10-09 08:34:40 0 days 08:28:52    P        D  dataframes   \n",
       "9   10   8.28 2020-10-03 03:31:21 0 days 06:32:32    W        B      python   \n",
       "\n",
       "                                              string  \n",
       "                                                      \n",
       "0  RAPIDS.ai is a suite of open-source libraries ...  \n",
       "1  cuDF is a Python GPU DataFrame (built on the A...  \n",
       "2  cuDF allows for loading, joining, aggregating,...  \n",
       "3  If your workflow is fast enough on a single GP...  \n",
       "4  If you want to distribute your workflow across...  \n",
       "5  BlazingSQL provides a high-performance distrib...  \n",
       "6  BlazingSQL is built on the RAPIDS GPU data sci...  \n",
       "7  BlazingSQL lets you ETL raw data directly into...  \n",
       "8  Dask is a flexible library for parallel comput...  \n",
       "9                                               None  "
      ]
     },
     "execution_count": 57,
     "metadata": {},
     "output_type": "execute_result"
    }
   ],
   "source": [
    "df.to_pandas()"
   ]
  },
  {
   "cell_type": "markdown",
   "metadata": {},
   "source": [
    "#### cudf.core.dataframe.DataFrame.to_parquet()"
   ]
  },
  {
   "cell_type": "code",
   "execution_count": 62,
   "metadata": {},
   "outputs": [],
   "source": [
    "df_parquet = df\n",
    "df_parquet['category'] = df_parquet['category'].astype('str')"
   ]
  },
  {
   "cell_type": "code",
   "execution_count": 63,
   "metadata": {},
   "outputs": [],
   "source": [
    "df_parquet.to_parquet('../results/df_default.parquet')"
   ]
  },
  {
   "cell_type": "code",
   "execution_count": 67,
   "metadata": {},
   "outputs": [],
   "source": [
    "df_parquet.to_parquet('../results/df_partitioned.parquet', partition_cols=['category'], partition_file_name='cat_part')"
   ]
  },
  {
   "cell_type": "markdown",
   "metadata": {},
   "source": [
    "#### cudf.core.dataframe.DataFrame.to_records()"
   ]
  },
  {
   "cell_type": "code",
   "execution_count": null,
   "metadata": {},
   "outputs": [],
   "source": []
  },
  {
   "cell_type": "markdown",
   "metadata": {},
   "source": [
    "#### cudf.core.dataframe.DataFrame.to_string()"
   ]
  },
  {
   "cell_type": "code",
   "execution_count": null,
   "metadata": {},
   "outputs": [],
   "source": []
  },
  {
   "cell_type": "markdown",
   "metadata": {},
   "source": [
    "#### cudf.io.avro.read_avro()"
   ]
  },
  {
   "cell_type": "code",
   "execution_count": null,
   "metadata": {},
   "outputs": [],
   "source": []
  },
  {
   "cell_type": "markdown",
   "metadata": {},
   "source": [
    "#### cudf.io.csv.read_csv()"
   ]
  },
  {
   "cell_type": "code",
   "execution_count": 145,
   "metadata": {},
   "outputs": [
    {
     "data": {
      "text/html": [
       "<div>\n",
       "<style scoped>\n",
       "    .dataframe tbody tr th:only-of-type {\n",
       "        vertical-align: middle;\n",
       "    }\n",
       "\n",
       "    .dataframe tbody tr th {\n",
       "        vertical-align: top;\n",
       "    }\n",
       "\n",
       "    .dataframe thead th {\n",
       "        text-align: right;\n",
       "    }\n",
       "</style>\n",
       "<table border=\"1\" class=\"dataframe\">\n",
       "  <thead>\n",
       "    <tr style=\"text-align: right;\">\n",
       "      <th></th>\n",
       "      <th>Unnamed: 0</th>\n",
       "      <th>num</th>\n",
       "      <th>float</th>\n",
       "      <th>datetime</th>\n",
       "      <th>timedelta</th>\n",
       "      <th>char</th>\n",
       "      <th>category</th>\n",
       "      <th>word</th>\n",
       "      <th>string</th>\n",
       "    </tr>\n",
       "  </thead>\n",
       "  <tbody>\n",
       "    <tr>\n",
       "      <th>0</th>\n",
       "      <td>0</td>\n",
       "      <td>39</td>\n",
       "      <td>6.88</td>\n",
       "      <td>2020-10-08T12:12:01Z</td>\n",
       "      <td>0 days 03:59:38.000000000</td>\n",
       "      <td>C</td>\n",
       "      <td>2</td>\n",
       "      <td>data</td>\n",
       "      <td>RAPIDS.ai is a suite of open-source libraries ...</td>\n",
       "    </tr>\n",
       "    <tr>\n",
       "      <th>1</th>\n",
       "      <td>1</td>\n",
       "      <td>11</td>\n",
       "      <td>4.21</td>\n",
       "      <td>&lt;NA&gt;</td>\n",
       "      <td>&lt;NA&gt;</td>\n",
       "      <td>A</td>\n",
       "      <td>2</td>\n",
       "      <td>cuDF</td>\n",
       "      <td>cuDF is a Python GPU DataFrame (built on the A...</td>\n",
       "    </tr>\n",
       "    <tr>\n",
       "      <th>2</th>\n",
       "      <td>2</td>\n",
       "      <td>31</td>\n",
       "      <td>4.71</td>\n",
       "      <td>2020-10-10T09:26:43Z</td>\n",
       "      <td>0 days 03:35:09.000000000</td>\n",
       "      <td>U</td>\n",
       "      <td>2</td>\n",
       "      <td>memory</td>\n",
       "      <td>cuDF allows for loading</td>\n",
       "    </tr>\n",
       "    <tr>\n",
       "      <th>3</th>\n",
       "      <td>3</td>\n",
       "      <td>40</td>\n",
       "      <td>0.93</td>\n",
       "      <td>2020-10-11T17:10:00Z</td>\n",
       "      <td>0 days 02:54:26.000000000</td>\n",
       "      <td>P</td>\n",
       "      <td>0</td>\n",
       "      <td>tabular</td>\n",
       "      <td>If your workflow is fast enough on a single GP...</td>\n",
       "    </tr>\n",
       "    <tr>\n",
       "      <th>4</th>\n",
       "      <td>4</td>\n",
       "      <td>33</td>\n",
       "      <td>9.26</td>\n",
       "      <td>2020-10-15T10:58:02Z</td>\n",
       "      <td>0 days 09:52:38.000000000</td>\n",
       "      <td>O</td>\n",
       "      <td>2</td>\n",
       "      <td>parallel</td>\n",
       "      <td>If you want to distribute your workflow across...</td>\n",
       "    </tr>\n",
       "  </tbody>\n",
       "</table>\n",
       "</div>"
      ],
      "text/plain": [
       "   Unnamed: 0  num  float              datetime                  timedelta  \\\n",
       "0           0   39   6.88  2020-10-08T12:12:01Z  0 days 03:59:38.000000000   \n",
       "1           1   11   4.21                  <NA>                       <NA>   \n",
       "2           2   31   4.71  2020-10-10T09:26:43Z  0 days 03:35:09.000000000   \n",
       "3           3   40   0.93  2020-10-11T17:10:00Z  0 days 02:54:26.000000000   \n",
       "4           4   33   9.26  2020-10-15T10:58:02Z  0 days 09:52:38.000000000   \n",
       "\n",
       "  char  category      word                                             string  \n",
       "0    C         2      data  RAPIDS.ai is a suite of open-source libraries ...  \n",
       "1    A         2      cuDF  cuDF is a Python GPU DataFrame (built on the A...  \n",
       "2    U         2    memory                            cuDF allows for loading  \n",
       "3    P         0   tabular  If your workflow is fast enough on a single GP...  \n",
       "4    O         2  parallel  If you want to distribute your workflow across...  "
      ]
     },
     "execution_count": 145,
     "metadata": {},
     "output_type": "execute_result"
    }
   ],
   "source": [
    "df_csv_read = cudf.read_csv('../results/df_with_index.csv')\n",
    "df_csv_read.head()"
   ]
  },
  {
   "cell_type": "code",
   "execution_count": 146,
   "metadata": {},
   "outputs": [
    {
     "data": {
      "text/html": [
       "<div>\n",
       "<style scoped>\n",
       "    .dataframe tbody tr th:only-of-type {\n",
       "        vertical-align: middle;\n",
       "    }\n",
       "\n",
       "    .dataframe tbody tr th {\n",
       "        vertical-align: top;\n",
       "    }\n",
       "\n",
       "    .dataframe thead th {\n",
       "        text-align: right;\n",
       "    }\n",
       "</style>\n",
       "<table border=\"1\" class=\"dataframe\">\n",
       "  <thead>\n",
       "    <tr style=\"text-align: right;\">\n",
       "      <th></th>\n",
       "      <th>Unnamed: 0</th>\n",
       "      <th>num</th>\n",
       "      <th>float</th>\n",
       "      <th>datetime</th>\n",
       "      <th>timedelta</th>\n",
       "      <th>char</th>\n",
       "      <th>category</th>\n",
       "      <th>word</th>\n",
       "      <th>string</th>\n",
       "    </tr>\n",
       "  </thead>\n",
       "  <tbody>\n",
       "    <tr>\n",
       "      <th>0</th>\n",
       "      <td>0</td>\n",
       "      <td>39</td>\n",
       "      <td>6.88</td>\n",
       "      <td>2020-10-08T12:12:01Z</td>\n",
       "      <td>0 days 03:59:38.000000000</td>\n",
       "      <td>C</td>\n",
       "      <td>2</td>\n",
       "      <td>data</td>\n",
       "      <td>RAPIDS.ai is a suite of open-source libraries ...</td>\n",
       "    </tr>\n",
       "    <tr>\n",
       "      <th>1</th>\n",
       "      <td>1</td>\n",
       "      <td>11</td>\n",
       "      <td>4.21</td>\n",
       "      <td>&lt;NA&gt;</td>\n",
       "      <td>&lt;NA&gt;</td>\n",
       "      <td>A</td>\n",
       "      <td>2</td>\n",
       "      <td>cuDF</td>\n",
       "      <td>cuDF is a Python GPU DataFrame (built on the A...</td>\n",
       "    </tr>\n",
       "  </tbody>\n",
       "</table>\n",
       "</div>"
      ],
      "text/plain": [
       "   Unnamed: 0  num  float              datetime                  timedelta  \\\n",
       "0           0   39   6.88  2020-10-08T12:12:01Z  0 days 03:59:38.000000000   \n",
       "1           1   11   4.21                  <NA>                       <NA>   \n",
       "\n",
       "  char  category  word                                             string  \n",
       "0    C         2  data  RAPIDS.ai is a suite of open-source libraries ...  \n",
       "1    A         2  cuDF  cuDF is a Python GPU DataFrame (built on the A...  "
      ]
     },
     "execution_count": 146,
     "metadata": {},
     "output_type": "execute_result"
    }
   ],
   "source": [
    "df_csv_read = cudf.read_csv('../results/df_with_index.csv', nrows=2)\n",
    "df_csv_read.head()"
   ]
  },
  {
   "cell_type": "code",
   "execution_count": 75,
   "metadata": {},
   "outputs": [
    {
     "data": {
      "text/html": [
       "<div>\n",
       "<style scoped>\n",
       "    .dataframe tbody tr th:only-of-type {\n",
       "        vertical-align: middle;\n",
       "    }\n",
       "\n",
       "    .dataframe tbody tr th {\n",
       "        vertical-align: top;\n",
       "    }\n",
       "\n",
       "    .dataframe thead th {\n",
       "        text-align: right;\n",
       "    }\n",
       "</style>\n",
       "<table border=\"1\" class=\"dataframe\">\n",
       "  <thead>\n",
       "    <tr style=\"text-align: right;\">\n",
       "      <th></th>\n",
       "      <th>Index</th>\n",
       "      <th>num</th>\n",
       "      <th>float</th>\n",
       "      <th>datetime</th>\n",
       "      <th>timedelta</th>\n",
       "      <th>char</th>\n",
       "      <th>category</th>\n",
       "      <th>word</th>\n",
       "      <th>string</th>\n",
       "    </tr>\n",
       "  </thead>\n",
       "  <tbody>\n",
       "    <tr>\n",
       "      <th>0</th>\n",
       "      <td>0</td>\n",
       "      <td>39</td>\n",
       "      <td>6.88</td>\n",
       "      <td>2020-10-08T12:12:01Z</td>\n",
       "      <td>0 days 03:59:38.000000000</td>\n",
       "      <td>C</td>\n",
       "      <td>2</td>\n",
       "      <td>data</td>\n",
       "      <td>RAPIDS.ai is a suite of open-source libraries ...</td>\n",
       "    </tr>\n",
       "    <tr>\n",
       "      <th>1</th>\n",
       "      <td>1</td>\n",
       "      <td>11</td>\n",
       "      <td>4.21</td>\n",
       "      <td>&lt;NA&gt;</td>\n",
       "      <td>&lt;NA&gt;</td>\n",
       "      <td>A</td>\n",
       "      <td>2</td>\n",
       "      <td>cuDF</td>\n",
       "      <td>cuDF is a Python GPU DataFrame (built on the A...</td>\n",
       "    </tr>\n",
       "    <tr>\n",
       "      <th>2</th>\n",
       "      <td>2</td>\n",
       "      <td>31</td>\n",
       "      <td>4.71</td>\n",
       "      <td>2020-10-10T09:26:43Z</td>\n",
       "      <td>0 days 03:35:09.000000000</td>\n",
       "      <td>U</td>\n",
       "      <td>2</td>\n",
       "      <td>memory</td>\n",
       "      <td>cuDF allows for loading</td>\n",
       "    </tr>\n",
       "    <tr>\n",
       "      <th>3</th>\n",
       "      <td>3</td>\n",
       "      <td>40</td>\n",
       "      <td>0.93</td>\n",
       "      <td>2020-10-11T17:10:00Z</td>\n",
       "      <td>0 days 02:54:26.000000000</td>\n",
       "      <td>P</td>\n",
       "      <td>0</td>\n",
       "      <td>tabular</td>\n",
       "      <td>If your workflow is fast enough on a single GP...</td>\n",
       "    </tr>\n",
       "    <tr>\n",
       "      <th>4</th>\n",
       "      <td>4</td>\n",
       "      <td>33</td>\n",
       "      <td>9.26</td>\n",
       "      <td>2020-10-15T10:58:02Z</td>\n",
       "      <td>0 days 09:52:38.000000000</td>\n",
       "      <td>O</td>\n",
       "      <td>2</td>\n",
       "      <td>parallel</td>\n",
       "      <td>If you want to distribute your workflow across...</td>\n",
       "    </tr>\n",
       "  </tbody>\n",
       "</table>\n",
       "</div>"
      ],
      "text/plain": [
       "   Index  num  float              datetime                  timedelta char  \\\n",
       "0      0   39   6.88  2020-10-08T12:12:01Z  0 days 03:59:38.000000000    C   \n",
       "1      1   11   4.21                  <NA>                       <NA>    A   \n",
       "2      2   31   4.71  2020-10-10T09:26:43Z  0 days 03:35:09.000000000    U   \n",
       "3      3   40   0.93  2020-10-11T17:10:00Z  0 days 02:54:26.000000000    P   \n",
       "4      4   33   9.26  2020-10-15T10:58:02Z  0 days 09:52:38.000000000    O   \n",
       "\n",
       "   category      word                                             string  \n",
       "0         2      data  RAPIDS.ai is a suite of open-source libraries ...  \n",
       "1         2      cuDF  cuDF is a Python GPU DataFrame (built on the A...  \n",
       "2         2    memory                            cuDF allows for loading  \n",
       "3         0   tabular  If your workflow is fast enough on a single GP...  \n",
       "4         2  parallel  If you want to distribute your workflow across...  "
      ]
     },
     "execution_count": 75,
     "metadata": {},
     "output_type": "execute_result"
    }
   ],
   "source": [
    "df_csv_read = cudf.read_csv(\n",
    "    '../results/df_with_index.csv'\n",
    "    , skiprows=1\n",
    "    , names=['Index', 'num', 'float', 'datetime', 'timedelta', 'char',\n",
    "       'category', 'word', 'string'])\n",
    "df_csv_read.head()"
   ]
  },
  {
   "cell_type": "code",
   "execution_count": 144,
   "metadata": {},
   "outputs": [
    {
     "data": {
      "text/html": [
       "<div>\n",
       "<style scoped>\n",
       "    .dataframe tbody tr th:only-of-type {\n",
       "        vertical-align: middle;\n",
       "    }\n",
       "\n",
       "    .dataframe tbody tr th {\n",
       "        vertical-align: top;\n",
       "    }\n",
       "\n",
       "    .dataframe thead th {\n",
       "        text-align: right;\n",
       "    }\n",
       "</style>\n",
       "<table border=\"1\" class=\"dataframe\">\n",
       "  <thead>\n",
       "    <tr style=\"text-align: right;\">\n",
       "      <th></th>\n",
       "      <th>num</th>\n",
       "      <th>float</th>\n",
       "    </tr>\n",
       "  </thead>\n",
       "  <tbody>\n",
       "    <tr>\n",
       "      <th>0</th>\n",
       "      <td>39</td>\n",
       "      <td>6.88</td>\n",
       "    </tr>\n",
       "    <tr>\n",
       "      <th>1</th>\n",
       "      <td>11</td>\n",
       "      <td>4.21</td>\n",
       "    </tr>\n",
       "    <tr>\n",
       "      <th>2</th>\n",
       "      <td>31</td>\n",
       "      <td>4.71</td>\n",
       "    </tr>\n",
       "    <tr>\n",
       "      <th>3</th>\n",
       "      <td>40</td>\n",
       "      <td>0.93</td>\n",
       "    </tr>\n",
       "    <tr>\n",
       "      <th>4</th>\n",
       "      <td>33</td>\n",
       "      <td>9.26</td>\n",
       "    </tr>\n",
       "  </tbody>\n",
       "</table>\n",
       "</div>"
      ],
      "text/plain": [
       "   num  float\n",
       "0   39   6.88\n",
       "1   11   4.21\n",
       "2   31   4.71\n",
       "3   40   0.93\n",
       "4   33   9.26"
      ]
     },
     "execution_count": 144,
     "metadata": {},
     "output_type": "execute_result"
    }
   ],
   "source": [
    "df_csv_read = cudf.read_csv('../results/df_tab_sep.tsv', delimiter='\\t', usecols=['num', 'float'])\n",
    "df_csv_read.head()"
   ]
  },
  {
   "cell_type": "markdown",
   "metadata": {},
   "source": [
    "#### cudf.io.dlpack.from_dlpack()"
   ]
  },
  {
   "cell_type": "code",
   "execution_count": null,
   "metadata": {},
   "outputs": [],
   "source": []
  },
  {
   "cell_type": "markdown",
   "metadata": {},
   "source": [
    "#### cudf.io.feather.read_feather()"
   ]
  },
  {
   "cell_type": "code",
   "execution_count": null,
   "metadata": {},
   "outputs": [],
   "source": []
  },
  {
   "cell_type": "markdown",
   "metadata": {},
   "source": [
    "#### cudf.io.hdf.read_hdf()"
   ]
  },
  {
   "cell_type": "code",
   "execution_count": null,
   "metadata": {},
   "outputs": [],
   "source": []
  },
  {
   "cell_type": "markdown",
   "metadata": {},
   "source": [
    "#### cudf.io.hdf.to_hdf()"
   ]
  },
  {
   "cell_type": "code",
   "execution_count": null,
   "metadata": {},
   "outputs": [],
   "source": []
  },
  {
   "cell_type": "markdown",
   "metadata": {},
   "source": [
    "#### cudf.io.json.read_json()"
   ]
  },
  {
   "cell_type": "code",
   "execution_count": 117,
   "metadata": {},
   "outputs": [
    {
     "name": "stderr",
     "output_type": "stream",
     "text": [
      "/opt/conda/envs/rapids/lib/python3.7/site-packages/cudf/io/json.py:44: UserWarning: Using CPU via Pandas to read JSON dataset, this may be GPU accelerated in the future\n",
      "  \"Using CPU via Pandas to read JSON dataset, this may \"\n"
     ]
    },
    {
     "data": {
      "text/html": [
       "<div>\n",
       "<style scoped>\n",
       "    .dataframe tbody tr th:only-of-type {\n",
       "        vertical-align: middle;\n",
       "    }\n",
       "\n",
       "    .dataframe tbody tr th {\n",
       "        vertical-align: top;\n",
       "    }\n",
       "\n",
       "    .dataframe thead th {\n",
       "        text-align: right;\n",
       "    }\n",
       "</style>\n",
       "<table border=\"1\" class=\"dataframe\">\n",
       "  <thead>\n",
       "    <tr style=\"text-align: right;\">\n",
       "      <th></th>\n",
       "      <th>num</th>\n",
       "      <th>float</th>\n",
       "      <th>datetime</th>\n",
       "      <th>timedelta</th>\n",
       "      <th>char</th>\n",
       "      <th>category</th>\n",
       "      <th>word</th>\n",
       "      <th>string</th>\n",
       "    </tr>\n",
       "  </thead>\n",
       "  <tbody>\n",
       "    <tr>\n",
       "      <th>0</th>\n",
       "      <td>39</td>\n",
       "      <td>6.88</td>\n",
       "      <td>2020-10-08 12:12:01.000000000</td>\n",
       "      <td>0 days 03:59:38</td>\n",
       "      <td>C</td>\n",
       "      <td>D</td>\n",
       "      <td>data</td>\n",
       "      <td>RAPIDS.ai is a suite of open-source libraries ...</td>\n",
       "    </tr>\n",
       "    <tr>\n",
       "      <th>1</th>\n",
       "      <td>11</td>\n",
       "      <td>4.21</td>\n",
       "      <td>&lt;NA&gt;</td>\n",
       "      <td>&lt;NA&gt;</td>\n",
       "      <td>A</td>\n",
       "      <td>D</td>\n",
       "      <td>cuDF</td>\n",
       "      <td>cuDF is a Python GPU DataFrame (built on the A...</td>\n",
       "    </tr>\n",
       "    <tr>\n",
       "      <th>2</th>\n",
       "      <td>31</td>\n",
       "      <td>4.71</td>\n",
       "      <td>2020-10-10 09:26:43.000000000</td>\n",
       "      <td>0 days 03:35:09</td>\n",
       "      <td>U</td>\n",
       "      <td>D</td>\n",
       "      <td>memory</td>\n",
       "      <td>cuDF allows for loading, joining, aggregating,...</td>\n",
       "    </tr>\n",
       "    <tr>\n",
       "      <th>3</th>\n",
       "      <td>40</td>\n",
       "      <td>0.93</td>\n",
       "      <td>2020-10-11 17:10:00.000000000</td>\n",
       "      <td>0 days 02:54:26</td>\n",
       "      <td>P</td>\n",
       "      <td>B</td>\n",
       "      <td>tabular</td>\n",
       "      <td>If your workflow is fast enough on a single GP...</td>\n",
       "    </tr>\n",
       "    <tr>\n",
       "      <th>4</th>\n",
       "      <td>33</td>\n",
       "      <td>9.26</td>\n",
       "      <td>2020-10-15 10:58:02.000000000</td>\n",
       "      <td>0 days 09:52:38</td>\n",
       "      <td>O</td>\n",
       "      <td>D</td>\n",
       "      <td>parallel</td>\n",
       "      <td>If you want to distribute your workflow across...</td>\n",
       "    </tr>\n",
       "  </tbody>\n",
       "</table>\n",
       "</div>"
      ],
      "text/plain": [
       "   num  float                       datetime        timedelta char category  \\\n",
       "0   39   6.88  2020-10-08 12:12:01.000000000  0 days 03:59:38    C        D   \n",
       "1   11   4.21                           <NA>             <NA>    A        D   \n",
       "2   31   4.71  2020-10-10 09:26:43.000000000  0 days 03:35:09    U        D   \n",
       "3   40   0.93  2020-10-11 17:10:00.000000000  0 days 02:54:26    P        B   \n",
       "4   33   9.26  2020-10-15 10:58:02.000000000  0 days 09:52:38    O        D   \n",
       "\n",
       "       word                                             string  \n",
       "0      data  RAPIDS.ai is a suite of open-source libraries ...  \n",
       "1      cuDF  cuDF is a Python GPU DataFrame (built on the A...  \n",
       "2    memory  cuDF allows for loading, joining, aggregating,...  \n",
       "3   tabular  If your workflow is fast enough on a single GP...  \n",
       "4  parallel  If you want to distribute your workflow across...  "
      ]
     },
     "execution_count": 117,
     "metadata": {},
     "output_type": "execute_result"
    }
   ],
   "source": [
    "df_json_read = cudf.read_json('../results/df_default.json')\n",
    "df_json_read['timedelta'] = df_json_read['timedelta'].astype('timedelta64[ms]').head()\n",
    "df_json_read.head()"
   ]
  },
  {
   "cell_type": "code",
   "execution_count": 114,
   "metadata": {},
   "outputs": [
    {
     "data": {
      "text/html": [
       "<div>\n",
       "<style scoped>\n",
       "    .dataframe tbody tr th:only-of-type {\n",
       "        vertical-align: middle;\n",
       "    }\n",
       "\n",
       "    .dataframe tbody tr th {\n",
       "        vertical-align: top;\n",
       "    }\n",
       "\n",
       "    .dataframe thead th {\n",
       "        text-align: right;\n",
       "    }\n",
       "</style>\n",
       "<table border=\"1\" class=\"dataframe\">\n",
       "  <thead>\n",
       "    <tr style=\"text-align: right;\">\n",
       "      <th></th>\n",
       "      <th>num</th>\n",
       "      <th>float</th>\n",
       "      <th>datetime</th>\n",
       "      <th>timedelta</th>\n",
       "      <th>char</th>\n",
       "      <th>category</th>\n",
       "      <th>word</th>\n",
       "      <th>string</th>\n",
       "    </tr>\n",
       "  </thead>\n",
       "  <tbody>\n",
       "    <tr>\n",
       "      <th>0</th>\n",
       "      <td>39</td>\n",
       "      <td>6.88</td>\n",
       "      <td>1.602159121e+12</td>\n",
       "      <td>14378000.0</td>\n",
       "      <td>C</td>\n",
       "      <td>D</td>\n",
       "      <td>data</td>\n",
       "      <td>RAPIDS.ai is a suite of open-source libraries ...</td>\n",
       "    </tr>\n",
       "    <tr>\n",
       "      <th>1</th>\n",
       "      <td>11</td>\n",
       "      <td>4.21</td>\n",
       "      <td>&lt;NA&gt;</td>\n",
       "      <td>&lt;NA&gt;</td>\n",
       "      <td>A</td>\n",
       "      <td>D</td>\n",
       "      <td>cuDF</td>\n",
       "      <td>cuDF is a Python GPU DataFrame (built on the A...</td>\n",
       "    </tr>\n",
       "    <tr>\n",
       "      <th>2</th>\n",
       "      <td>31</td>\n",
       "      <td>4.71</td>\n",
       "      <td>1.602322003e+12</td>\n",
       "      <td>12909000.0</td>\n",
       "      <td>U</td>\n",
       "      <td>D</td>\n",
       "      <td>memory</td>\n",
       "      <td>cuDF allows for loading, joining, aggregating,...</td>\n",
       "    </tr>\n",
       "    <tr>\n",
       "      <th>3</th>\n",
       "      <td>40</td>\n",
       "      <td>0.93</td>\n",
       "      <td>1.6024362e+12</td>\n",
       "      <td>10466000.0</td>\n",
       "      <td>P</td>\n",
       "      <td>B</td>\n",
       "      <td>tabular</td>\n",
       "      <td>If your workflow is fast enough on a single GP...</td>\n",
       "    </tr>\n",
       "    <tr>\n",
       "      <th>4</th>\n",
       "      <td>33</td>\n",
       "      <td>9.26</td>\n",
       "      <td>1.602759482e+12</td>\n",
       "      <td>35558000.0</td>\n",
       "      <td>O</td>\n",
       "      <td>D</td>\n",
       "      <td>parallel</td>\n",
       "      <td>If you want to distribute your workflow across...</td>\n",
       "    </tr>\n",
       "  </tbody>\n",
       "</table>\n",
       "</div>"
      ],
      "text/plain": [
       "   num  float         datetime   timedelta char category      word  \\\n",
       "0   39   6.88  1.602159121e+12  14378000.0    C        D      data   \n",
       "1   11   4.21             <NA>        <NA>    A        D      cuDF   \n",
       "2   31   4.71  1.602322003e+12  12909000.0    U        D    memory   \n",
       "3   40   0.93    1.6024362e+12  10466000.0    P        B   tabular   \n",
       "4   33   9.26  1.602759482e+12  35558000.0    O        D  parallel   \n",
       "\n",
       "                                              string  \n",
       "0  RAPIDS.ai is a suite of open-source libraries ...  \n",
       "1  cuDF is a Python GPU DataFrame (built on the A...  \n",
       "2  cuDF allows for loading, joining, aggregating,...  \n",
       "3  If your workflow is fast enough on a single GP...  \n",
       "4  If you want to distribute your workflow across...  "
      ]
     },
     "execution_count": 114,
     "metadata": {},
     "output_type": "execute_result"
    }
   ],
   "source": [
    "df_json_read = cudf.read_json('../results/df_records.json', lines=True, engine='cudf')\n",
    "df_json_read.head()"
   ]
  },
  {
   "cell_type": "markdown",
   "metadata": {},
   "source": [
    "#### cudf.io.orc.read_orc_metadata()"
   ]
  },
  {
   "cell_type": "code",
   "execution_count": null,
   "metadata": {},
   "outputs": [],
   "source": []
  },
  {
   "cell_type": "markdown",
   "metadata": {},
   "source": [
    "#### cudf.io.orc.read_orc()"
   ]
  },
  {
   "cell_type": "code",
   "execution_count": null,
   "metadata": {},
   "outputs": [],
   "source": []
  },
  {
   "cell_type": "markdown",
   "metadata": {},
   "source": [
    "#### cudf.io.orc.to_orc()"
   ]
  },
  {
   "cell_type": "code",
   "execution_count": null,
   "metadata": {},
   "outputs": [],
   "source": []
  },
  {
   "cell_type": "markdown",
   "metadata": {},
   "source": [
    "#### cudf.io.parquet.merge_parquet_filemetadata()"
   ]
  },
  {
   "cell_type": "code",
   "execution_count": null,
   "metadata": {},
   "outputs": [],
   "source": []
  },
  {
   "cell_type": "markdown",
   "metadata": {},
   "source": [
    "#### cudf.io.parquet.read_parquet_metadata()"
   ]
  },
  {
   "cell_type": "code",
   "execution_count": null,
   "metadata": {},
   "outputs": [],
   "source": []
  },
  {
   "cell_type": "markdown",
   "metadata": {},
   "source": [
    "#### cudf.io.parquet.read_parquet()"
   ]
  },
  {
   "cell_type": "code",
   "execution_count": 140,
   "metadata": {},
   "outputs": [
    {
     "data": {
      "text/html": [
       "<div>\n",
       "<style scoped>\n",
       "    .dataframe tbody tr th:only-of-type {\n",
       "        vertical-align: middle;\n",
       "    }\n",
       "\n",
       "    .dataframe tbody tr th {\n",
       "        vertical-align: top;\n",
       "    }\n",
       "\n",
       "    .dataframe thead th {\n",
       "        text-align: right;\n",
       "    }\n",
       "</style>\n",
       "<table border=\"1\" class=\"dataframe\">\n",
       "  <thead>\n",
       "    <tr style=\"text-align: right;\">\n",
       "      <th></th>\n",
       "      <th></th>\n",
       "      <th>num</th>\n",
       "      <th>float</th>\n",
       "      <th>datetime</th>\n",
       "      <th>timedelta</th>\n",
       "      <th>char</th>\n",
       "      <th>category</th>\n",
       "      <th>word</th>\n",
       "      <th>string</th>\n",
       "    </tr>\n",
       "  </thead>\n",
       "  <tbody>\n",
       "    <tr>\n",
       "      <th>0</th>\n",
       "      <td>0</td>\n",
       "      <td>39</td>\n",
       "      <td>6.88</td>\n",
       "      <td>2020-10-08 12:12:01.000</td>\n",
       "      <td>0 days 03:59:38</td>\n",
       "      <td>C</td>\n",
       "      <td>D</td>\n",
       "      <td>data</td>\n",
       "      <td>RAPIDS.ai is a suite of open-source libraries ...</td>\n",
       "    </tr>\n",
       "    <tr>\n",
       "      <th>1</th>\n",
       "      <td>1</td>\n",
       "      <td>11</td>\n",
       "      <td>4.21</td>\n",
       "      <td>&lt;NA&gt;</td>\n",
       "      <td>&lt;NA&gt;</td>\n",
       "      <td>A</td>\n",
       "      <td>D</td>\n",
       "      <td>cuDF</td>\n",
       "      <td>cuDF is a Python GPU DataFrame (built on the A...</td>\n",
       "    </tr>\n",
       "    <tr>\n",
       "      <th>2</th>\n",
       "      <td>2</td>\n",
       "      <td>31</td>\n",
       "      <td>4.71</td>\n",
       "      <td>2020-10-10 09:26:43.000</td>\n",
       "      <td>0 days 03:35:09</td>\n",
       "      <td>U</td>\n",
       "      <td>D</td>\n",
       "      <td>memory</td>\n",
       "      <td>cuDF allows for loading, joining, aggregating,...</td>\n",
       "    </tr>\n",
       "    <tr>\n",
       "      <th>3</th>\n",
       "      <td>3</td>\n",
       "      <td>40</td>\n",
       "      <td>0.93</td>\n",
       "      <td>2020-10-11 17:10:00.000</td>\n",
       "      <td>0 days 02:54:26</td>\n",
       "      <td>P</td>\n",
       "      <td>B</td>\n",
       "      <td>tabular</td>\n",
       "      <td>If your workflow is fast enough on a single GP...</td>\n",
       "    </tr>\n",
       "    <tr>\n",
       "      <th>4</th>\n",
       "      <td>4</td>\n",
       "      <td>33</td>\n",
       "      <td>9.26</td>\n",
       "      <td>2020-10-15 10:58:02.000</td>\n",
       "      <td>0 days 09:52:38</td>\n",
       "      <td>O</td>\n",
       "      <td>D</td>\n",
       "      <td>parallel</td>\n",
       "      <td>If you want to distribute your workflow across...</td>\n",
       "    </tr>\n",
       "  </tbody>\n",
       "</table>\n",
       "</div>"
      ],
      "text/plain": [
       "      num  float                 datetime        timedelta char category  \\\n",
       "0  0   39   6.88  2020-10-08 12:12:01.000  0 days 03:59:38    C        D   \n",
       "1  1   11   4.21                     <NA>             <NA>    A        D   \n",
       "2  2   31   4.71  2020-10-10 09:26:43.000  0 days 03:35:09    U        D   \n",
       "3  3   40   0.93  2020-10-11 17:10:00.000  0 days 02:54:26    P        B   \n",
       "4  4   33   9.26  2020-10-15 10:58:02.000  0 days 09:52:38    O        D   \n",
       "\n",
       "       word                                             string  \n",
       "0      data  RAPIDS.ai is a suite of open-source libraries ...  \n",
       "1      cuDF  cuDF is a Python GPU DataFrame (built on the A...  \n",
       "2    memory  cuDF allows for loading, joining, aggregating,...  \n",
       "3   tabular  If your workflow is fast enough on a single GP...  \n",
       "4  parallel  If you want to distribute your workflow across...  "
      ]
     },
     "execution_count": 140,
     "metadata": {},
     "output_type": "execute_result"
    }
   ],
   "source": [
    "df_parquet = cudf.read_parquet('../results/df_default.parquet')\n",
    "df_parquet.head()"
   ]
  },
  {
   "cell_type": "code",
   "execution_count": 141,
   "metadata": {},
   "outputs": [
    {
     "data": {
      "text/html": [
       "<div>\n",
       "<style scoped>\n",
       "    .dataframe tbody tr th:only-of-type {\n",
       "        vertical-align: middle;\n",
       "    }\n",
       "\n",
       "    .dataframe tbody tr th {\n",
       "        vertical-align: top;\n",
       "    }\n",
       "\n",
       "    .dataframe thead th {\n",
       "        text-align: right;\n",
       "    }\n",
       "</style>\n",
       "<table border=\"1\" class=\"dataframe\">\n",
       "  <thead>\n",
       "    <tr style=\"text-align: right;\">\n",
       "      <th></th>\n",
       "      <th>num</th>\n",
       "      <th>float</th>\n",
       "    </tr>\n",
       "  </thead>\n",
       "  <tbody>\n",
       "    <tr>\n",
       "      <th>0</th>\n",
       "      <td>39</td>\n",
       "      <td>6.88</td>\n",
       "    </tr>\n",
       "    <tr>\n",
       "      <th>1</th>\n",
       "      <td>11</td>\n",
       "      <td>4.21</td>\n",
       "    </tr>\n",
       "    <tr>\n",
       "      <th>2</th>\n",
       "      <td>31</td>\n",
       "      <td>4.71</td>\n",
       "    </tr>\n",
       "    <tr>\n",
       "      <th>3</th>\n",
       "      <td>40</td>\n",
       "      <td>0.93</td>\n",
       "    </tr>\n",
       "    <tr>\n",
       "      <th>4</th>\n",
       "      <td>33</td>\n",
       "      <td>9.26</td>\n",
       "    </tr>\n",
       "  </tbody>\n",
       "</table>\n",
       "</div>"
      ],
      "text/plain": [
       "   num  float\n",
       "0   39   6.88\n",
       "1   11   4.21\n",
       "2   31   4.71\n",
       "3   40   0.93\n",
       "4   33   9.26"
      ]
     },
     "execution_count": 141,
     "metadata": {},
     "output_type": "execute_result"
    }
   ],
   "source": [
    "df_parquet = cudf.read_parquet('../results/df_default.parquet', columns=['num', 'float'])\n",
    "df_parquet.head()"
   ]
  },
  {
   "cell_type": "code",
   "execution_count": 139,
   "metadata": {},
   "outputs": [
    {
     "data": {
      "text/html": [
       "<div>\n",
       "<style scoped>\n",
       "    .dataframe tbody tr th:only-of-type {\n",
       "        vertical-align: middle;\n",
       "    }\n",
       "\n",
       "    .dataframe tbody tr th {\n",
       "        vertical-align: top;\n",
       "    }\n",
       "\n",
       "    .dataframe thead th {\n",
       "        text-align: right;\n",
       "    }\n",
       "</style>\n",
       "<table border=\"1\" class=\"dataframe\">\n",
       "  <thead>\n",
       "    <tr style=\"text-align: right;\">\n",
       "      <th></th>\n",
       "      <th>num</th>\n",
       "      <th>float</th>\n",
       "      <th>datetime</th>\n",
       "      <th>timedelta</th>\n",
       "      <th>char</th>\n",
       "      <th>word</th>\n",
       "      <th>string</th>\n",
       "    </tr>\n",
       "  </thead>\n",
       "  <tbody>\n",
       "    <tr>\n",
       "      <th>0</th>\n",
       "      <td>39</td>\n",
       "      <td>6.88</td>\n",
       "      <td>2020-10-08 12:12:01</td>\n",
       "      <td>0 days 03:59:38</td>\n",
       "      <td>C</td>\n",
       "      <td>data</td>\n",
       "      <td>RAPIDS.ai is a suite of open-source libraries ...</td>\n",
       "    </tr>\n",
       "    <tr>\n",
       "      <th>1</th>\n",
       "      <td>11</td>\n",
       "      <td>4.21</td>\n",
       "      <td>1970-01-01 00:00:00</td>\n",
       "      <td>0 days 00:00:00</td>\n",
       "      <td>A</td>\n",
       "      <td>cuDF</td>\n",
       "      <td>cuDF is a Python GPU DataFrame (built on the A...</td>\n",
       "    </tr>\n",
       "    <tr>\n",
       "      <th>2</th>\n",
       "      <td>31</td>\n",
       "      <td>4.71</td>\n",
       "      <td>2020-10-10 09:26:43</td>\n",
       "      <td>0 days 03:35:09</td>\n",
       "      <td>U</td>\n",
       "      <td>memory</td>\n",
       "      <td>&lt;NA&gt;</td>\n",
       "    </tr>\n",
       "    <tr>\n",
       "      <th>3</th>\n",
       "      <td>33</td>\n",
       "      <td>9.26</td>\n",
       "      <td>2020-10-15 10:58:02</td>\n",
       "      <td>0 days 09:52:38</td>\n",
       "      <td>O</td>\n",
       "      <td>parallel</td>\n",
       "      <td>If you want to distribute your workflow across...</td>\n",
       "    </tr>\n",
       "    <tr>\n",
       "      <th>4</th>\n",
       "      <td>36</td>\n",
       "      <td>3.01</td>\n",
       "      <td>2020-09-30 14:36:26</td>\n",
       "      <td>0 days 06:46:49</td>\n",
       "      <td>T</td>\n",
       "      <td></td>\n",
       "      <td>BlazingSQL is built on the RAPIDS GPU data sci...</td>\n",
       "    </tr>\n",
       "  </tbody>\n",
       "</table>\n",
       "</div>"
      ],
      "text/plain": [
       "   num  float            datetime       timedelta char      word  \\\n",
       "0   39   6.88 2020-10-08 12:12:01 0 days 03:59:38    C      data   \n",
       "1   11   4.21 1970-01-01 00:00:00 0 days 00:00:00    A      cuDF   \n",
       "2   31   4.71 2020-10-10 09:26:43 0 days 03:35:09    U    memory   \n",
       "3   33   9.26 2020-10-15 10:58:02 0 days 09:52:38    O  parallel   \n",
       "4   36   3.01 2020-09-30 14:36:26 0 days 06:46:49    T             \n",
       "\n",
       "                                              string  \n",
       "0  RAPIDS.ai is a suite of open-source libraries ...  \n",
       "1  cuDF is a Python GPU DataFrame (built on the A...  \n",
       "2                                               <NA>  \n",
       "3  If you want to distribute your workflow across...  \n",
       "4  BlazingSQL is built on the RAPIDS GPU data sci...  "
      ]
     },
     "execution_count": 139,
     "metadata": {},
     "output_type": "execute_result"
    }
   ],
   "source": [
    "import os\n",
    "\n",
    "parq_file = '../results/df_partitioned.parquet'\n",
    "[f'{parq_file}/{d}/{f}' for d in [d for d in os.listdir(parq_file)] for f in os.listdir(os.path.join(parq_file, d))]\n",
    "df_parquet = cudf.read_parquet(\n",
    "    [f'{parq_file}/{d}/{f}' \n",
    "     for d in [d for d in os.listdir(parq_file)] \n",
    "     for f in os.listdir(os.path.join(parq_file, d))]\n",
    ")\n",
    "df_parquet.head()"
   ]
  },
  {
   "cell_type": "code",
   "execution_count": null,
   "metadata": {},
   "outputs": [],
   "source": []
  },
  {
   "cell_type": "markdown",
   "metadata": {},
   "source": [
    "#### cudf.io.parquet.write_to_dataset()"
   ]
  },
  {
   "cell_type": "code",
   "execution_count": null,
   "metadata": {},
   "outputs": [],
   "source": []
  },
  {
   "cell_type": "markdown",
   "metadata": {},
   "source": [
    "## <span style=\"color:blue\">Series</span>"
   ]
  },
  {
   "cell_type": "markdown",
   "metadata": {},
   "source": [
    "#### cudf.core.series.Series.from_arrow()"
   ]
  },
  {
   "cell_type": "code",
   "execution_count": null,
   "metadata": {},
   "outputs": [],
   "source": []
  },
  {
   "cell_type": "markdown",
   "metadata": {},
   "source": [
    "#### cudf.core.series.Series.from_categorical()"
   ]
  },
  {
   "cell_type": "code",
   "execution_count": null,
   "metadata": {},
   "outputs": [],
   "source": []
  },
  {
   "cell_type": "markdown",
   "metadata": {},
   "source": [
    "#### cudf.core.series.Series.from_masked_array()"
   ]
  },
  {
   "cell_type": "code",
   "execution_count": null,
   "metadata": {},
   "outputs": [],
   "source": []
  },
  {
   "cell_type": "markdown",
   "metadata": {},
   "source": [
    "#### cudf.core.series.Series.from_pandas()"
   ]
  },
  {
   "cell_type": "code",
   "execution_count": 154,
   "metadata": {},
   "outputs": [
    {
     "data": {
      "text/plain": [
       "0    1\n",
       "1    2\n",
       "2    3\n",
       "3    4\n",
       "dtype: int64"
      ]
     },
     "execution_count": 154,
     "metadata": {},
     "output_type": "execute_result"
    }
   ],
   "source": [
    "cudf.from_pandas(pd.Series([1,2,3,4]))"
   ]
  },
  {
   "cell_type": "markdown",
   "metadata": {},
   "source": [
    "#### cudf.core.series.Series.to_array()"
   ]
  },
  {
   "cell_type": "code",
   "execution_count": null,
   "metadata": {},
   "outputs": [],
   "source": []
  },
  {
   "cell_type": "markdown",
   "metadata": {},
   "source": [
    "#### cudf.core.series.Series.to_arrow()"
   ]
  },
  {
   "cell_type": "code",
   "execution_count": null,
   "metadata": {},
   "outputs": [],
   "source": []
  },
  {
   "cell_type": "markdown",
   "metadata": {},
   "source": [
    "#### cudf.core.series.Series.to_dlpack()"
   ]
  },
  {
   "cell_type": "code",
   "execution_count": 151,
   "metadata": {},
   "outputs": [
    {
     "data": {
      "text/plain": [
       "<capsule object \"dltensor\" at 0x7f9b44bc3510>"
      ]
     },
     "execution_count": 151,
     "metadata": {},
     "output_type": "execute_result"
    }
   ],
   "source": [
    "df['num'].to_dlpack()"
   ]
  },
  {
   "cell_type": "markdown",
   "metadata": {},
   "source": [
    "#### cudf.core.series.Series.to_frame()"
   ]
  },
  {
   "cell_type": "code",
   "execution_count": null,
   "metadata": {},
   "outputs": [],
   "source": []
  },
  {
   "cell_type": "markdown",
   "metadata": {},
   "source": [
    "#### cudf.core.series.Series.to_gpu_array()"
   ]
  },
  {
   "cell_type": "code",
   "execution_count": null,
   "metadata": {},
   "outputs": [],
   "source": []
  },
  {
   "cell_type": "markdown",
   "metadata": {},
   "source": [
    "#### cudf.core.series.Series.to_hdf()"
   ]
  },
  {
   "cell_type": "code",
   "execution_count": null,
   "metadata": {},
   "outputs": [],
   "source": []
  },
  {
   "cell_type": "markdown",
   "metadata": {},
   "source": [
    "#### cudf.core.series.Series.to_json()"
   ]
  },
  {
   "cell_type": "code",
   "execution_count": 155,
   "metadata": {},
   "outputs": [
    {
     "name": "stderr",
     "output_type": "stream",
     "text": [
      "/opt/conda/envs/rapids/lib/python3.7/site-packages/cudf/io/json.py:74: UserWarning: Using CPU via Pandas to write JSON dataset, this may be GPU accelerated in the future\n",
      "  \"Using CPU via Pandas to write JSON dataset, this may \"\n"
     ]
    }
   ],
   "source": [
    "df['num'].to_json('../results/series_num.json')"
   ]
  },
  {
   "cell_type": "markdown",
   "metadata": {},
   "source": [
    "#### cudf.core.series.Series.to_pandas()"
   ]
  },
  {
   "cell_type": "code",
   "execution_count": 171,
   "metadata": {},
   "outputs": [
    {
     "data": {
      "text/plain": [
       "\n",
       "0    39\n",
       "1    11\n",
       "2    31\n",
       "3    40\n",
       "4    33\n",
       "5    42\n",
       "6    36\n",
       "7    38\n",
       "8    17\n",
       "9    10\n",
       "Name: num, dtype: int64"
      ]
     },
     "execution_count": 171,
     "metadata": {},
     "output_type": "execute_result"
    }
   ],
   "source": [
    "df['num'].to_pandas()"
   ]
  },
  {
   "cell_type": "markdown",
   "metadata": {},
   "source": [
    "#### cudf.core.series.Series.to_string()"
   ]
  },
  {
   "cell_type": "code",
   "execution_count": null,
   "metadata": {},
   "outputs": [],
   "source": []
  },
  {
   "cell_type": "markdown",
   "metadata": {},
   "source": [
    "#### cudf.core.series.Series.values_host()"
   ]
  }
 ],
 "metadata": {
  "kernelspec": {
   "display_name": "Python 3",
   "language": "python",
   "name": "python3"
  },
  "language_info": {
   "codemirror_mode": {
    "name": "ipython",
    "version": 3
   },
   "file_extension": ".py",
   "mimetype": "text/x-python",
   "name": "python",
   "nbconvert_exporter": "python",
   "pygments_lexer": "ipython3",
   "version": "3.7.8"
  }
 },
 "nbformat": 4,
 "nbformat_minor": 4
}
