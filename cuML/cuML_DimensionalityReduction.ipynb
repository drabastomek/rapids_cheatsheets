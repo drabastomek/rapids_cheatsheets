{
 "cells": [
  {
   "cell_type": "markdown",
   "metadata": {},
   "source": [
    "# cuML Cheat Sheets sample code\n",
    "\n",
    "(c) 2020 NVIDIA, Blazing SQL\n",
    "\n",
    "Distributed under Apache License 2.0"
   ]
  },
  {
   "cell_type": "markdown",
   "metadata": {},
   "source": [
    "## Imports"
   ]
  },
  {
   "cell_type": "code",
   "execution_count": 2,
   "metadata": {},
   "outputs": [],
   "source": [
    "import cudf\n",
    "import cuml\n",
    "import numpy as np\n",
    "import cupy as cp"
   ]
  },
  {
   "cell_type": "markdown",
   "metadata": {},
   "source": [
    "## Create high-dimensional dataset"
   ]
  },
  {
   "cell_type": "code",
   "execution_count": 29,
   "metadata": {},
   "outputs": [
    {
     "data": {
      "text/html": [
       "<div>\n",
       "<style scoped>\n",
       "    .dataframe tbody tr th:only-of-type {\n",
       "        vertical-align: middle;\n",
       "    }\n",
       "\n",
       "    .dataframe tbody tr th {\n",
       "        vertical-align: top;\n",
       "    }\n",
       "\n",
       "    .dataframe thead th {\n",
       "        text-align: right;\n",
       "    }\n",
       "</style>\n",
       "<table border=\"1\" class=\"dataframe\">\n",
       "  <thead>\n",
       "    <tr style=\"text-align: right;\">\n",
       "      <th></th>\n",
       "      <th>feat_0</th>\n",
       "      <th>feat_1</th>\n",
       "      <th>feat_2</th>\n",
       "      <th>feat_3</th>\n",
       "      <th>feat_4</th>\n",
       "      <th>feat_5</th>\n",
       "      <th>feat_6</th>\n",
       "      <th>feat_7</th>\n",
       "      <th>feat_8</th>\n",
       "      <th>feat_9</th>\n",
       "      <th>...</th>\n",
       "      <th>feat_40</th>\n",
       "      <th>feat_41</th>\n",
       "      <th>feat_42</th>\n",
       "      <th>feat_43</th>\n",
       "      <th>feat_44</th>\n",
       "      <th>feat_45</th>\n",
       "      <th>feat_46</th>\n",
       "      <th>feat_47</th>\n",
       "      <th>feat_48</th>\n",
       "      <th>feat_49</th>\n",
       "    </tr>\n",
       "  </thead>\n",
       "  <tbody>\n",
       "    <tr>\n",
       "      <th>0</th>\n",
       "      <td>0.041045</td>\n",
       "      <td>-10.292640</td>\n",
       "      <td>1.177966</td>\n",
       "      <td>-1.414663</td>\n",
       "      <td>8.241033</td>\n",
       "      <td>9.567411</td>\n",
       "      <td>3.553962</td>\n",
       "      <td>1.284245</td>\n",
       "      <td>-11.168552</td>\n",
       "      <td>-7.020938</td>\n",
       "      <td>...</td>\n",
       "      <td>-3.165452</td>\n",
       "      <td>-1.904541</td>\n",
       "      <td>-1.719124</td>\n",
       "      <td>-7.981952</td>\n",
       "      <td>-7.365884</td>\n",
       "      <td>9.653520</td>\n",
       "      <td>3.520129</td>\n",
       "      <td>-2.637268</td>\n",
       "      <td>-5.470366</td>\n",
       "      <td>6.645054</td>\n",
       "    </tr>\n",
       "    <tr>\n",
       "      <th>1</th>\n",
       "      <td>-1.107130</td>\n",
       "      <td>-9.553808</td>\n",
       "      <td>3.025451</td>\n",
       "      <td>-2.190838</td>\n",
       "      <td>8.798642</td>\n",
       "      <td>10.366919</td>\n",
       "      <td>5.056868</td>\n",
       "      <td>1.332000</td>\n",
       "      <td>-9.634288</td>\n",
       "      <td>-8.842068</td>\n",
       "      <td>...</td>\n",
       "      <td>-2.655200</td>\n",
       "      <td>-0.999501</td>\n",
       "      <td>-4.603571</td>\n",
       "      <td>-9.941814</td>\n",
       "      <td>-9.669714</td>\n",
       "      <td>9.226473</td>\n",
       "      <td>3.474322</td>\n",
       "      <td>-3.016164</td>\n",
       "      <td>-3.289551</td>\n",
       "      <td>5.047598</td>\n",
       "    </tr>\n",
       "    <tr>\n",
       "      <th>2</th>\n",
       "      <td>1.913321</td>\n",
       "      <td>-6.092017</td>\n",
       "      <td>2.842950</td>\n",
       "      <td>-9.065559</td>\n",
       "      <td>-6.982090</td>\n",
       "      <td>5.009421</td>\n",
       "      <td>-8.959929</td>\n",
       "      <td>-0.895974</td>\n",
       "      <td>-9.100878</td>\n",
       "      <td>-9.163316</td>\n",
       "      <td>...</td>\n",
       "      <td>1.188745</td>\n",
       "      <td>9.619443</td>\n",
       "      <td>5.666514</td>\n",
       "      <td>5.758489</td>\n",
       "      <td>-3.356171</td>\n",
       "      <td>7.564854</td>\n",
       "      <td>8.930353</td>\n",
       "      <td>0.989178</td>\n",
       "      <td>-4.742434</td>\n",
       "      <td>5.760899</td>\n",
       "    </tr>\n",
       "    <tr>\n",
       "      <th>3</th>\n",
       "      <td>2.672096</td>\n",
       "      <td>-3.784406</td>\n",
       "      <td>7.022588</td>\n",
       "      <td>-5.444439</td>\n",
       "      <td>4.835794</td>\n",
       "      <td>5.305421</td>\n",
       "      <td>1.340389</td>\n",
       "      <td>4.141407</td>\n",
       "      <td>5.150586</td>\n",
       "      <td>8.920522</td>\n",
       "      <td>...</td>\n",
       "      <td>7.643090</td>\n",
       "      <td>-9.356540</td>\n",
       "      <td>-6.937361</td>\n",
       "      <td>2.654076</td>\n",
       "      <td>6.578782</td>\n",
       "      <td>-3.204956</td>\n",
       "      <td>-5.548830</td>\n",
       "      <td>-4.360249</td>\n",
       "      <td>-2.436038</td>\n",
       "      <td>6.139272</td>\n",
       "    </tr>\n",
       "    <tr>\n",
       "      <th>4</th>\n",
       "      <td>2.360255</td>\n",
       "      <td>-5.390627</td>\n",
       "      <td>6.070533</td>\n",
       "      <td>-5.594465</td>\n",
       "      <td>6.115510</td>\n",
       "      <td>6.034058</td>\n",
       "      <td>1.563060</td>\n",
       "      <td>5.955231</td>\n",
       "      <td>5.120157</td>\n",
       "      <td>8.057615</td>\n",
       "      <td>...</td>\n",
       "      <td>7.079655</td>\n",
       "      <td>-9.188068</td>\n",
       "      <td>-7.107814</td>\n",
       "      <td>3.721409</td>\n",
       "      <td>6.104794</td>\n",
       "      <td>-3.953266</td>\n",
       "      <td>-4.642387</td>\n",
       "      <td>-4.384284</td>\n",
       "      <td>-3.194549</td>\n",
       "      <td>5.097012</td>\n",
       "    </tr>\n",
       "  </tbody>\n",
       "</table>\n",
       "<p>5 rows × 50 columns</p>\n",
       "</div>"
      ],
      "text/plain": [
       "     feat_0     feat_1    feat_2    feat_3    feat_4     feat_5    feat_6  \\\n",
       "0  0.041045 -10.292640  1.177966 -1.414663  8.241033   9.567411  3.553962   \n",
       "1 -1.107130  -9.553808  3.025451 -2.190838  8.798642  10.366919  5.056868   \n",
       "2  1.913321  -6.092017  2.842950 -9.065559 -6.982090   5.009421 -8.959929   \n",
       "3  2.672096  -3.784406  7.022588 -5.444439  4.835794   5.305421  1.340389   \n",
       "4  2.360255  -5.390627  6.070533 -5.594465  6.115510   6.034058  1.563060   \n",
       "\n",
       "     feat_7     feat_8    feat_9  ...   feat_40   feat_41   feat_42   feat_43  \\\n",
       "0  1.284245 -11.168552 -7.020938  ... -3.165452 -1.904541 -1.719124 -7.981952   \n",
       "1  1.332000  -9.634288 -8.842068  ... -2.655200 -0.999501 -4.603571 -9.941814   \n",
       "2 -0.895974  -9.100878 -9.163316  ...  1.188745  9.619443  5.666514  5.758489   \n",
       "3  4.141407   5.150586  8.920522  ...  7.643090 -9.356540 -6.937361  2.654076   \n",
       "4  5.955231   5.120157  8.057615  ...  7.079655 -9.188068 -7.107814  3.721409   \n",
       "\n",
       "    feat_44   feat_45   feat_46   feat_47   feat_48   feat_49  \n",
       "0 -7.365884  9.653520  3.520129 -2.637268 -5.470366  6.645054  \n",
       "1 -9.669714  9.226473  3.474322 -3.016164 -3.289551  5.047598  \n",
       "2 -3.356171  7.564854  8.930353  0.989178 -4.742434  5.760899  \n",
       "3  6.578782 -3.204956 -5.548830 -4.360249 -2.436038  6.139272  \n",
       "4  6.104794 -3.953266 -4.642387 -4.384284 -3.194549  5.097012  \n",
       "\n",
       "[5 rows x 50 columns]"
      ]
     },
     "execution_count": 29,
     "metadata": {},
     "output_type": "execute_result"
    }
   ],
   "source": [
    "X, y = cuml.make_blobs(n_samples=1000, centers=4, n_features=50, random_state=np.random.randint(1e9))\n",
    "\n",
    "df = cudf.DataFrame(X, columns=[f'feat_{i}' for i in range(50)])\n",
    "df.head()"
   ]
  },
  {
   "cell_type": "markdown",
   "metadata": {},
   "source": [
    "---\n",
    "\n",
    "# Dimensionality reduction\n",
    "\n",
    "---"
   ]
  },
  {
   "cell_type": "markdown",
   "metadata": {},
   "source": [
    "#### PCA()"
   ]
  },
  {
   "cell_type": "code",
   "execution_count": 30,
   "metadata": {},
   "outputs": [],
   "source": [
    "pca = cuml.PCA(\n",
    "    n_components=2\n",
    ")"
   ]
  },
  {
   "cell_type": "code",
   "execution_count": 31,
   "metadata": {},
   "outputs": [
    {
     "data": {
      "text/plain": [
       "PCA(copy=True, handle=<cuml.raft.common.handle.Handle object at 0x7fb7500f6c70>, iterated_power=15, n_components=2, random_state=None, svd_solver='auto', tol=1e-07, verbose=4, whiten=False, output_type='cudf')"
      ]
     },
     "execution_count": 31,
     "metadata": {},
     "output_type": "execute_result"
    }
   ],
   "source": [
    "pca.fit(df)"
   ]
  },
  {
   "cell_type": "code",
   "execution_count": 32,
   "metadata": {},
   "outputs": [
    {
     "data": {
      "text/plain": [
       "<AxesSubplot:xlabel='0', ylabel='1'>"
      ]
     },
     "execution_count": 32,
     "metadata": {},
     "output_type": "execute_result"
    },
    {
     "data": {
      "image/png": "[encoded data removed]",
      "text/plain": [
       "<Figure size 432x288 with 1 Axes>"
      ]
     },
     "metadata": {
      "needs_background": "light"
     },
     "output_type": "display_data"
    }
   ],
   "source": [
    "pca.fit_transform(df).to_pandas().plot(kind='scatter', x=0, y=1)"
   ]
  },
  {
   "cell_type": "code",
   "execution_count": 33,
   "metadata": {},
   "outputs": [
    {
     "data": {
      "text/html": [
       "<div>\n",
       "<style scoped>\n",
       "    .dataframe tbody tr th:only-of-type {\n",
       "        vertical-align: middle;\n",
       "    }\n",
       "\n",
       "    .dataframe tbody tr th {\n",
       "        vertical-align: top;\n",
       "    }\n",
       "\n",
       "    .dataframe thead th {\n",
       "        text-align: right;\n",
       "    }\n",
       "</style>\n",
       "<table border=\"1\" class=\"dataframe\">\n",
       "  <thead>\n",
       "    <tr style=\"text-align: right;\">\n",
       "      <th></th>\n",
       "      <th>0</th>\n",
       "      <th>1</th>\n",
       "      <th>2</th>\n",
       "      <th>3</th>\n",
       "      <th>4</th>\n",
       "      <th>5</th>\n",
       "      <th>6</th>\n",
       "      <th>7</th>\n",
       "      <th>8</th>\n",
       "      <th>9</th>\n",
       "      <th>...</th>\n",
       "      <th>40</th>\n",
       "      <th>41</th>\n",
       "      <th>42</th>\n",
       "      <th>43</th>\n",
       "      <th>44</th>\n",
       "      <th>45</th>\n",
       "      <th>46</th>\n",
       "      <th>47</th>\n",
       "      <th>48</th>\n",
       "      <th>49</th>\n",
       "    </tr>\n",
       "  </thead>\n",
       "  <tbody>\n",
       "    <tr>\n",
       "      <th>0</th>\n",
       "      <td>0.725112</td>\n",
       "      <td>-9.588043</td>\n",
       "      <td>5.038851</td>\n",
       "      <td>-4.872053</td>\n",
       "      <td>3.842266</td>\n",
       "      <td>9.714378</td>\n",
       "      <td>-1.537457</td>\n",
       "      <td>2.549830</td>\n",
       "      <td>-6.991890</td>\n",
       "      <td>-4.673177</td>\n",
       "      <td>...</td>\n",
       "      <td>-0.315739</td>\n",
       "      <td>1.450073</td>\n",
       "      <td>-0.189838</td>\n",
       "      <td>-1.341072</td>\n",
       "      <td>-2.795422</td>\n",
       "      <td>7.964781</td>\n",
       "      <td>4.778957</td>\n",
       "      <td>-3.895780</td>\n",
       "      <td>-6.803757</td>\n",
       "      <td>5.808375</td>\n",
       "    </tr>\n",
       "    <tr>\n",
       "      <th>1</th>\n",
       "      <td>0.772591</td>\n",
       "      <td>-9.384712</td>\n",
       "      <td>4.943092</td>\n",
       "      <td>-4.932828</td>\n",
       "      <td>3.644960</td>\n",
       "      <td>9.476523</td>\n",
       "      <td>-1.530872</td>\n",
       "      <td>2.411443</td>\n",
       "      <td>-7.052958</td>\n",
       "      <td>-4.817812</td>\n",
       "      <td>...</td>\n",
       "      <td>-0.302932</td>\n",
       "      <td>1.459326</td>\n",
       "      <td>-0.112179</td>\n",
       "      <td>-1.279587</td>\n",
       "      <td>-2.927255</td>\n",
       "      <td>7.860913</td>\n",
       "      <td>4.776723</td>\n",
       "      <td>-3.732181</td>\n",
       "      <td>-6.617837</td>\n",
       "      <td>5.728395</td>\n",
       "    </tr>\n",
       "    <tr>\n",
       "      <th>2</th>\n",
       "      <td>1.712822</td>\n",
       "      <td>-5.475718</td>\n",
       "      <td>2.130891</td>\n",
       "      <td>-6.474120</td>\n",
       "      <td>-2.344845</td>\n",
       "      <td>4.044728</td>\n",
       "      <td>-2.687101</td>\n",
       "      <td>-1.406783</td>\n",
       "      <td>-11.155085</td>\n",
       "      <td>-11.467000</td>\n",
       "      <td>...</td>\n",
       "      <td>-1.637623</td>\n",
       "      <td>4.841012</td>\n",
       "      <td>4.049664</td>\n",
       "      <td>0.223823</td>\n",
       "      <td>-7.849844</td>\n",
       "      <td>7.997010</td>\n",
       "      <td>7.342571</td>\n",
       "      <td>0.998406</td>\n",
       "      <td>-2.811345</td>\n",
       "      <td>3.860308</td>\n",
       "    </tr>\n",
       "    <tr>\n",
       "      <th>3</th>\n",
       "      <td>2.071546</td>\n",
       "      <td>-3.329226</td>\n",
       "      <td>6.160923</td>\n",
       "      <td>-5.180347</td>\n",
       "      <td>6.972909</td>\n",
       "      <td>5.992517</td>\n",
       "      <td>4.040334</td>\n",
       "      <td>3.141182</td>\n",
       "      <td>3.397191</td>\n",
       "      <td>7.084309</td>\n",
       "      <td>...</td>\n",
       "      <td>6.702528</td>\n",
       "      <td>-11.689180</td>\n",
       "      <td>-8.981960</td>\n",
       "      <td>-0.795111</td>\n",
       "      <td>3.152833</td>\n",
       "      <td>-4.169516</td>\n",
       "      <td>-6.220767</td>\n",
       "      <td>-5.502997</td>\n",
       "      <td>-2.053860</td>\n",
       "      <td>4.731121</td>\n",
       "    </tr>\n",
       "    <tr>\n",
       "      <th>4</th>\n",
       "      <td>1.965170</td>\n",
       "      <td>-3.800935</td>\n",
       "      <td>6.249681</td>\n",
       "      <td>-5.090568</td>\n",
       "      <td>7.128959</td>\n",
       "      <td>6.426331</td>\n",
       "      <td>3.848877</td>\n",
       "      <td>3.303222</td>\n",
       "      <td>3.136725</td>\n",
       "      <td>6.888545</td>\n",
       "      <td>...</td>\n",
       "      <td>6.455700</td>\n",
       "      <td>-11.270643</td>\n",
       "      <td>-8.795589</td>\n",
       "      <td>-0.893611</td>\n",
       "      <td>3.130697</td>\n",
       "      <td>-3.635618</td>\n",
       "      <td>-5.857297</td>\n",
       "      <td>-5.664792</td>\n",
       "      <td>-2.453286</td>\n",
       "      <td>4.871284</td>\n",
       "    </tr>\n",
       "    <tr>\n",
       "      <th>...</th>\n",
       "      <td>...</td>\n",
       "      <td>...</td>\n",
       "      <td>...</td>\n",
       "      <td>...</td>\n",
       "      <td>...</td>\n",
       "      <td>...</td>\n",
       "      <td>...</td>\n",
       "      <td>...</td>\n",
       "      <td>...</td>\n",
       "      <td>...</td>\n",
       "      <td>...</td>\n",
       "      <td>...</td>\n",
       "      <td>...</td>\n",
       "      <td>...</td>\n",
       "      <td>...</td>\n",
       "      <td>...</td>\n",
       "      <td>...</td>\n",
       "      <td>...</td>\n",
       "      <td>...</td>\n",
       "      <td>...</td>\n",
       "      <td>...</td>\n",
       "    </tr>\n",
       "    <tr>\n",
       "      <th>995</th>\n",
       "      <td>0.790765</td>\n",
       "      <td>-9.286106</td>\n",
       "      <td>5.068258</td>\n",
       "      <td>-4.896418</td>\n",
       "      <td>3.937378</td>\n",
       "      <td>9.512960</td>\n",
       "      <td>-1.301028</td>\n",
       "      <td>2.548887</td>\n",
       "      <td>-6.565237</td>\n",
       "      <td>-4.204449</td>\n",
       "      <td>...</td>\n",
       "      <td>-0.017407</td>\n",
       "      <td>0.897765</td>\n",
       "      <td>-0.546051</td>\n",
       "      <td>-1.306553</td>\n",
       "      <td>-2.569257</td>\n",
       "      <td>7.433694</td>\n",
       "      <td>4.314717</td>\n",
       "      <td>-3.932958</td>\n",
       "      <td>-6.568702</td>\n",
       "      <td>5.747994</td>\n",
       "    </tr>\n",
       "    <tr>\n",
       "      <th>996</th>\n",
       "      <td>4.955929</td>\n",
       "      <td>8.897364</td>\n",
       "      <td>-0.636971</td>\n",
       "      <td>-9.234073</td>\n",
       "      <td>-7.243036</td>\n",
       "      <td>-9.229742</td>\n",
       "      <td>3.062959</td>\n",
       "      <td>-6.419688</td>\n",
       "      <td>-3.409656</td>\n",
       "      <td>-5.754428</td>\n",
       "      <td>...</td>\n",
       "      <td>5.780178</td>\n",
       "      <td>-7.702928</td>\n",
       "      <td>-1.454996</td>\n",
       "      <td>3.246102</td>\n",
       "      <td>-7.331153</td>\n",
       "      <td>-8.131809</td>\n",
       "      <td>-3.562220</td>\n",
       "      <td>6.031754</td>\n",
       "      <td>9.374400</td>\n",
       "      <td>-0.432045</td>\n",
       "    </tr>\n",
       "    <tr>\n",
       "      <th>997</th>\n",
       "      <td>1.748463</td>\n",
       "      <td>-5.313700</td>\n",
       "      <td>2.132116</td>\n",
       "      <td>-6.492782</td>\n",
       "      <td>-2.326725</td>\n",
       "      <td>3.923774</td>\n",
       "      <td>-2.579458</td>\n",
       "      <td>-1.424638</td>\n",
       "      <td>-10.970022</td>\n",
       "      <td>-11.273455</td>\n",
       "      <td>...</td>\n",
       "      <td>-1.501229</td>\n",
       "      <td>4.592655</td>\n",
       "      <td>3.898515</td>\n",
       "      <td>0.247162</td>\n",
       "      <td>-7.764272</td>\n",
       "      <td>7.743994</td>\n",
       "      <td>7.132555</td>\n",
       "      <td>1.002215</td>\n",
       "      <td>-2.681735</td>\n",
       "      <td>3.822956</td>\n",
       "    </tr>\n",
       "    <tr>\n",
       "      <th>998</th>\n",
       "      <td>0.856873</td>\n",
       "      <td>-9.013056</td>\n",
       "      <td>4.856564</td>\n",
       "      <td>-5.009937</td>\n",
       "      <td>3.484474</td>\n",
       "      <td>9.120045</td>\n",
       "      <td>-1.401944</td>\n",
       "      <td>2.263991</td>\n",
       "      <td>-6.897773</td>\n",
       "      <td>-4.729675</td>\n",
       "      <td>...</td>\n",
       "      <td>-0.135470</td>\n",
       "      <td>1.184307</td>\n",
       "      <td>-0.213416</td>\n",
       "      <td>-1.196488</td>\n",
       "      <td>-2.950621</td>\n",
       "      <td>7.476706</td>\n",
       "      <td>4.534925</td>\n",
       "      <td>-3.577613</td>\n",
       "      <td>-6.299164</td>\n",
       "      <td>5.612314</td>\n",
       "    </tr>\n",
       "    <tr>\n",
       "      <th>999</th>\n",
       "      <td>4.932965</td>\n",
       "      <td>8.790960</td>\n",
       "      <td>-0.653456</td>\n",
       "      <td>-9.227837</td>\n",
       "      <td>-7.290397</td>\n",
       "      <td>-9.164175</td>\n",
       "      <td>2.971556</td>\n",
       "      <td>-6.426652</td>\n",
       "      <td>-3.578464</td>\n",
       "      <td>-5.943991</td>\n",
       "      <td>...</td>\n",
       "      <td>5.665082</td>\n",
       "      <td>-7.488101</td>\n",
       "      <td>-1.312646</td>\n",
       "      <td>3.235963</td>\n",
       "      <td>-7.425905</td>\n",
       "      <td>-7.931210</td>\n",
       "      <td>-3.382178</td>\n",
       "      <td>6.054848</td>\n",
       "      <td>9.293030</td>\n",
       "      <td>-0.412849</td>\n",
       "    </tr>\n",
       "  </tbody>\n",
       "</table>\n",
       "<p>1000 rows × 50 columns</p>\n",
       "</div>"
      ],
      "text/plain": [
       "           0         1         2         3         4         5         6   \\\n",
       "0    0.725112 -9.588043  5.038851 -4.872053  3.842266  9.714378 -1.537457   \n",
       "1    0.772591 -9.384712  4.943092 -4.932828  3.644960  9.476523 -1.530872   \n",
       "2    1.712822 -5.475718  2.130891 -6.474120 -2.344845  4.044728 -2.687101   \n",
       "3    2.071546 -3.329226  6.160923 -5.180347  6.972909  5.992517  4.040334   \n",
       "4    1.965170 -3.800935  6.249681 -5.090568  7.128959  6.426331  3.848877   \n",
       "..        ...       ...       ...       ...       ...       ...       ...   \n",
       "995  0.790765 -9.286106  5.068258 -4.896418  3.937378  9.512960 -1.301028   \n",
       "996  4.955929  8.897364 -0.636971 -9.234073 -7.243036 -9.229742  3.062959   \n",
       "997  1.748463 -5.313700  2.132116 -6.492782 -2.326725  3.923774 -2.579458   \n",
       "998  0.856873 -9.013056  4.856564 -5.009937  3.484474  9.120045 -1.401944   \n",
       "999  4.932965  8.790960 -0.653456 -9.227837 -7.290397 -9.164175  2.971556   \n",
       "\n",
       "           7          8          9   ...        40         41        42  \\\n",
       "0    2.549830  -6.991890  -4.673177  ... -0.315739   1.450073 -0.189838   \n",
       "1    2.411443  -7.052958  -4.817812  ... -0.302932   1.459326 -0.112179   \n",
       "2   -1.406783 -11.155085 -11.467000  ... -1.637623   4.841012  4.049664   \n",
       "3    3.141182   3.397191   7.084309  ...  6.702528 -11.689180 -8.981960   \n",
       "4    3.303222   3.136725   6.888545  ...  6.455700 -11.270643 -8.795589   \n",
       "..        ...        ...        ...  ...       ...        ...       ...   \n",
       "995  2.548887  -6.565237  -4.204449  ... -0.017407   0.897765 -0.546051   \n",
       "996 -6.419688  -3.409656  -5.754428  ...  5.780178  -7.702928 -1.454996   \n",
       "997 -1.424638 -10.970022 -11.273455  ... -1.501229   4.592655  3.898515   \n",
       "998  2.263991  -6.897773  -4.729675  ... -0.135470   1.184307 -0.213416   \n",
       "999 -6.426652  -3.578464  -5.943991  ...  5.665082  -7.488101 -1.312646   \n",
       "\n",
       "           43        44        45        46        47        48        49  \n",
       "0   -1.341072 -2.795422  7.964781  4.778957 -3.895780 -6.803757  5.808375  \n",
       "1   -1.279587 -2.927255  7.860913  4.776723 -3.732181 -6.617837  5.728395  \n",
       "2    0.223823 -7.849844  7.997010  7.342571  0.998406 -2.811345  3.860308  \n",
       "3   -0.795111  3.152833 -4.169516 -6.220767 -5.502997 -2.053860  4.731121  \n",
       "4   -0.893611  3.130697 -3.635618 -5.857297 -5.664792 -2.453286  4.871284  \n",
       "..        ...       ...       ...       ...       ...       ...       ...  \n",
       "995 -1.306553 -2.569257  7.433694  4.314717 -3.932958 -6.568702  5.747994  \n",
       "996  3.246102 -7.331153 -8.131809 -3.562220  6.031754  9.374400 -0.432045  \n",
       "997  0.247162 -7.764272  7.743994  7.132555  1.002215 -2.681735  3.822956  \n",
       "998 -1.196488 -2.950621  7.476706  4.534925 -3.577613 -6.299164  5.612314  \n",
       "999  3.235963 -7.425905 -7.931210 -3.382178  6.054848  9.293030 -0.412849  \n",
       "\n",
       "[1000 rows x 50 columns]"
      ]
     },
     "execution_count": 33,
     "metadata": {},
     "output_type": "execute_result"
    }
   ],
   "source": [
    "pca.inverse_transform(pca.fit_transform(df))"
   ]
  },
  {
   "cell_type": "code",
   "execution_count": 34,
   "metadata": {},
   "outputs": [
    {
     "data": {
      "text/plain": [
       "0    531.021606\n",
       "1    469.632111\n",
       "dtype: float32"
      ]
     },
     "execution_count": 34,
     "metadata": {},
     "output_type": "execute_result"
    }
   ],
   "source": [
    "pca.explained_variance_"
   ]
  },
  {
   "cell_type": "code",
   "execution_count": 35,
   "metadata": {},
   "outputs": [
    {
     "data": {
      "text/plain": [
       "0    0.388050\n",
       "1    0.343189\n",
       "dtype: float32"
      ]
     },
     "execution_count": 35,
     "metadata": {},
     "output_type": "execute_result"
    }
   ],
   "source": [
    "pca.explained_variance_ratio_"
   ]
  },
  {
   "cell_type": "markdown",
   "metadata": {},
   "source": [
    "#### TruncatedSVD()"
   ]
  },
  {
   "cell_type": "code",
   "execution_count": null,
   "metadata": {},
   "outputs": [],
   "source": []
  },
  {
   "cell_type": "markdown",
   "metadata": {},
   "source": [
    "#### UMAP()"
   ]
  },
  {
   "cell_type": "code",
   "execution_count": 36,
   "metadata": {},
   "outputs": [],
   "source": [
    "umap = cuml.UMAP(\n",
    "    n_neighbors=10\n",
    "    , n_components=2\n",
    ")"
   ]
  },
  {
   "cell_type": "code",
   "execution_count": 37,
   "metadata": {},
   "outputs": [
    {
     "data": {
      "text/plain": [
       "UMAP(n_neighbors=10, n_components=2, n_epochs=0, learning_rate=1.0, min_dist=0.1, spread=1.0, set_op_mix_ratio=1.0, local_connectivity=1.0, repulsion_strength=1.0, negative_sample_rate=5, transform_queue_size=4.0, init='spectral', verbose=4, a=1.576943460405378, b=0.8950608781227859, target_n_neighbors=-1, target_weights=0.5, target_metric='categorical', handle=<cuml.raft.common.handle.Handle object at 0x7fb742a56210>, hash_input=False, random_state=1393637605190297794, optim_batch_size=0, callback=None, output_type='cudf')"
      ]
     },
     "execution_count": 37,
     "metadata": {},
     "output_type": "execute_result"
    }
   ],
   "source": [
    "umap.fit(df)"
   ]
  },
  {
   "cell_type": "code",
   "execution_count": 38,
   "metadata": {},
   "outputs": [
    {
     "data": {
      "text/html": [
       "<div>\n",
       "<style scoped>\n",
       "    .dataframe tbody tr th:only-of-type {\n",
       "        vertical-align: middle;\n",
       "    }\n",
       "\n",
       "    .dataframe tbody tr th {\n",
       "        vertical-align: top;\n",
       "    }\n",
       "\n",
       "    .dataframe thead th {\n",
       "        text-align: right;\n",
       "    }\n",
       "</style>\n",
       "<table border=\"1\" class=\"dataframe\">\n",
       "  <thead>\n",
       "    <tr style=\"text-align: right;\">\n",
       "      <th></th>\n",
       "      <th>0</th>\n",
       "      <th>1</th>\n",
       "    </tr>\n",
       "  </thead>\n",
       "  <tbody>\n",
       "    <tr>\n",
       "      <th>0</th>\n",
       "      <td>10.183125</td>\n",
       "      <td>4.072691</td>\n",
       "    </tr>\n",
       "    <tr>\n",
       "      <th>1</th>\n",
       "      <td>10.116483</td>\n",
       "      <td>3.770130</td>\n",
       "    </tr>\n",
       "    <tr>\n",
       "      <th>2</th>\n",
       "      <td>-3.144757</td>\n",
       "      <td>9.555979</td>\n",
       "    </tr>\n",
       "    <tr>\n",
       "      <th>3</th>\n",
       "      <td>1.890769</td>\n",
       "      <td>-11.296057</td>\n",
       "    </tr>\n",
       "    <tr>\n",
       "      <th>4</th>\n",
       "      <td>1.283907</td>\n",
       "      <td>-12.013746</td>\n",
       "    </tr>\n",
       "    <tr>\n",
       "      <th>...</th>\n",
       "      <td>...</td>\n",
       "      <td>...</td>\n",
       "    </tr>\n",
       "    <tr>\n",
       "      <th>995</th>\n",
       "      <td>9.849273</td>\n",
       "      <td>4.022923</td>\n",
       "    </tr>\n",
       "    <tr>\n",
       "      <th>996</th>\n",
       "      <td>-8.671739</td>\n",
       "      <td>-2.531447</td>\n",
       "    </tr>\n",
       "    <tr>\n",
       "      <th>997</th>\n",
       "      <td>-3.930853</td>\n",
       "      <td>9.266230</td>\n",
       "    </tr>\n",
       "    <tr>\n",
       "      <th>998</th>\n",
       "      <td>8.357706</td>\n",
       "      <td>3.212104</td>\n",
       "    </tr>\n",
       "    <tr>\n",
       "      <th>999</th>\n",
       "      <td>-9.551281</td>\n",
       "      <td>-2.640850</td>\n",
       "    </tr>\n",
       "  </tbody>\n",
       "</table>\n",
       "<p>1000 rows × 2 columns</p>\n",
       "</div>"
      ],
      "text/plain": [
       "             0          1\n",
       "0    10.183125   4.072691\n",
       "1    10.116483   3.770130\n",
       "2    -3.144757   9.555979\n",
       "3     1.890769 -11.296057\n",
       "4     1.283907 -12.013746\n",
       "..         ...        ...\n",
       "995   9.849273   4.022923\n",
       "996  -8.671739  -2.531447\n",
       "997  -3.930853   9.266230\n",
       "998   8.357706   3.212104\n",
       "999  -9.551281  -2.640850\n",
       "\n",
       "[1000 rows x 2 columns]"
      ]
     },
     "execution_count": 38,
     "metadata": {},
     "output_type": "execute_result"
    }
   ],
   "source": [
    "umap.fit_transform(df)"
   ]
  },
  {
   "cell_type": "code",
   "execution_count": 39,
   "metadata": {},
   "outputs": [
    {
     "data": {
      "text/plain": [
       "<AxesSubplot:xlabel='0', ylabel='1'>"
      ]
     },
     "execution_count": 39,
     "metadata": {},
     "output_type": "execute_result"
    },
    {
     "data": {
      "image/png": "[encoded data removed]",
      "text/plain": [
       "<Figure size 432x288 with 1 Axes>"
      ]
     },
     "metadata": {
      "needs_background": "light"
     },
     "output_type": "display_data"
    }
   ],
   "source": [
    "umap.fit_transform(df).to_pandas().plot(kind='scatter', x=0, y=1)"
   ]
  },
  {
   "cell_type": "code",
   "execution_count": 40,
   "metadata": {},
   "outputs": [
    {
     "data": {
      "text/html": [
       "<div>\n",
       "<style scoped>\n",
       "    .dataframe tbody tr th:only-of-type {\n",
       "        vertical-align: middle;\n",
       "    }\n",
       "\n",
       "    .dataframe tbody tr th {\n",
       "        vertical-align: top;\n",
       "    }\n",
       "\n",
       "    .dataframe thead th {\n",
       "        text-align: right;\n",
       "    }\n",
       "</style>\n",
       "<table border=\"1\" class=\"dataframe\">\n",
       "  <thead>\n",
       "    <tr style=\"text-align: right;\">\n",
       "      <th></th>\n",
       "      <th>0</th>\n",
       "      <th>1</th>\n",
       "    </tr>\n",
       "  </thead>\n",
       "  <tbody>\n",
       "    <tr>\n",
       "      <th>0</th>\n",
       "      <td>8.568121</td>\n",
       "      <td>2.468226</td>\n",
       "    </tr>\n",
       "    <tr>\n",
       "      <th>1</th>\n",
       "      <td>7.865261</td>\n",
       "      <td>2.236109</td>\n",
       "    </tr>\n",
       "    <tr>\n",
       "      <th>2</th>\n",
       "      <td>-4.006587</td>\n",
       "      <td>9.616974</td>\n",
       "    </tr>\n",
       "    <tr>\n",
       "      <th>3</th>\n",
       "      <td>-0.519939</td>\n",
       "      <td>-12.914607</td>\n",
       "    </tr>\n",
       "    <tr>\n",
       "      <th>4</th>\n",
       "      <td>-0.742726</td>\n",
       "      <td>-13.155347</td>\n",
       "    </tr>\n",
       "    <tr>\n",
       "      <th>...</th>\n",
       "      <td>...</td>\n",
       "      <td>...</td>\n",
       "    </tr>\n",
       "    <tr>\n",
       "      <th>995</th>\n",
       "      <td>7.136212</td>\n",
       "      <td>4.101074</td>\n",
       "    </tr>\n",
       "    <tr>\n",
       "      <th>996</th>\n",
       "      <td>-5.956302</td>\n",
       "      <td>-2.255173</td>\n",
       "    </tr>\n",
       "    <tr>\n",
       "      <th>997</th>\n",
       "      <td>-5.533774</td>\n",
       "      <td>9.990584</td>\n",
       "    </tr>\n",
       "    <tr>\n",
       "      <th>998</th>\n",
       "      <td>7.439633</td>\n",
       "      <td>4.398200</td>\n",
       "    </tr>\n",
       "    <tr>\n",
       "      <th>999</th>\n",
       "      <td>-7.140538</td>\n",
       "      <td>-2.798729</td>\n",
       "    </tr>\n",
       "  </tbody>\n",
       "</table>\n",
       "<p>1000 rows × 2 columns</p>\n",
       "</div>"
      ],
      "text/plain": [
       "            0          1\n",
       "0    8.568121   2.468226\n",
       "1    7.865261   2.236109\n",
       "2   -4.006587   9.616974\n",
       "3   -0.519939 -12.914607\n",
       "4   -0.742726 -13.155347\n",
       "..        ...        ...\n",
       "995  7.136212   4.101074\n",
       "996 -5.956302  -2.255173\n",
       "997 -5.533774   9.990584\n",
       "998  7.439633   4.398200\n",
       "999 -7.140538  -2.798729\n",
       "\n",
       "[1000 rows x 2 columns]"
      ]
     },
     "execution_count": 40,
     "metadata": {},
     "output_type": "execute_result"
    }
   ],
   "source": [
    "umap.transform(df)"
   ]
  },
  {
   "cell_type": "markdown",
   "metadata": {},
   "source": [
    "#### TSNE()"
   ]
  },
  {
   "cell_type": "code",
   "execution_count": 41,
   "metadata": {},
   "outputs": [],
   "source": [
    "tsne = cuml.TSNE(\n",
    "    n_components=2\n",
    "    , perplexity=10\n",
    "    , learning_rate=200\n",
    ")"
   ]
  },
  {
   "cell_type": "code",
   "execution_count": 42,
   "metadata": {},
   "outputs": [
    {
     "data": {
      "text/plain": [
       "TSNE(n_components=2, perplexity=10.0, early_exaggeration=12.0, learning_rate=200.0, n_iter=1000, n_iter_without_progress=300, min_grad_norm=1.0000000116860974e-07, metric='euclidean', init='random', verbose=0, random_state=None, method='barnes_hut', angle=0.5, learning_rate_method='adaptive', n_neighbors=90, perplexity_max_iter=100, exaggeration_iter=250, pre_momentum=0.5, post_momentum=0.800000011920929, handle=<cuml.raft.common.handle.Handle object at 0x7fb74294ae90>)"
      ]
     },
     "execution_count": 42,
     "metadata": {},
     "output_type": "execute_result"
    }
   ],
   "source": [
    "tsne.fit(df)"
   ]
  },
  {
   "cell_type": "code",
   "execution_count": 50,
   "metadata": {},
   "outputs": [
    {
     "data": {
      "text/plain": [
       "<AxesSubplot:xlabel='0', ylabel='1'>"
      ]
     },
     "execution_count": 50,
     "metadata": {},
     "output_type": "execute_result"
    },
    {
     "data": {
      "image/png": "[encoded data removed]",
      "text/plain": [
       "<Figure size 432x288 with 1 Axes>"
      ]
     },
     "metadata": {
      "needs_background": "light"
     },
     "output_type": "display_data"
    }
   ],
   "source": [
    "tsne.fit_transform(df).to_pandas().plot(kind='scatter', x=0, y=1)"
   ]
  }
 ],
 "metadata": {
  "kernelspec": {
   "display_name": "Python 3",
   "language": "python",
   "name": "python3"
  },
  "language_info": {
   "codemirror_mode": {
    "name": "ipython",
    "version": 3
   },
   "file_extension": ".py",
   "mimetype": "text/x-python",
   "name": "python",
   "nbconvert_exporter": "python",
   "pygments_lexer": "ipython3",
   "version": "3.7.8"
  }
 },
 "nbformat": 4,
 "nbformat_minor": 4
}
