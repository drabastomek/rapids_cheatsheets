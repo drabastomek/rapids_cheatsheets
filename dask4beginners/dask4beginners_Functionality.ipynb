{
 "cells": [
  {
   "cell_type": "markdown",
   "metadata": {},
   "source": [
    "# Dask for beginners Cheat Sheets sample code\n",
    "\n",
    "(c) 2020 NVIDIA, Blazing SQL\n",
    "\n",
    "Distributed under Apache License 2.0"
   ]
  },
  {
   "cell_type": "markdown",
   "metadata": {},
   "source": [
    "### Imports"
   ]
  },
  {
   "cell_type": "code",
   "execution_count": 1,
   "metadata": {},
   "outputs": [],
   "source": [
    "import cudf\n",
    "import numpy as np\n",
    "import dask_cudf\n",
    "from dask_cuda import LocalCUDACluster\n",
    "from dask.distributed import Client\n",
    "from dask.delayed import delayed\n",
    "import dask.distributed"
   ]
  },
  {
   "cell_type": "markdown",
   "metadata": {},
   "source": [
    "### Sample DataFrame"
   ]
  },
  {
   "cell_type": "code",
   "execution_count": 2,
   "metadata": {},
   "outputs": [],
   "source": [
    "df = cudf.DataFrame(\n",
    "    [\n",
    "          (39, 6.88, np.datetime64('2020-10-08T12:12:01'), 'C', 'D', 'data'\n",
    "            , 'RAPIDS.ai is a suite of open-source libraries that allow you to run your end to end data science and analytics pipelines on GPUs.')\n",
    "        , (11, 4.21, None,                                 'A', 'D', 'cuDF'\n",
    "            , 'cuDF is a Python GPU DataFrame (built on the Apache Arrow columnar memory format)')\n",
    "        , (31, 4.71, np.datetime64('2020-10-10T09:26:43'), 'U', 'D', 'memory'\n",
    "            , 'cuDF allows for loading, joining, aggregating, filtering, and otherwise manipulating tabular data using a DataFrame style API.')\n",
    "        , (40, 0.93, np.datetime64('2020-10-11T17:10:00'), 'P', 'B', 'tabular'\n",
    "            , '''If your workflow is fast enough on a single GPU or your data comfortably fits in memory on \n",
    "                 a single GPU, you would want to use cuDF.''')\n",
    "        , (33, 9.26, np.datetime64('2020-10-15T10:58:02'), 'O', 'D', 'parallel'\n",
    "            , '''If you want to distribute your workflow across multiple GPUs or have more data than you can fit \n",
    "                 in memory on a single GPU you would want to use Dask-cuDF''')\n",
    "        , (42, 4.21, np.datetime64('2020-10-01T10:02:23'), 'U', 'C', 'GPUs'\n",
    "            , 'BlazingSQL provides a high-performance distributed SQL engine in Python')\n",
    "        , (36, 3.01, np.datetime64('2020-09-30T14:36:26'), 'T', 'D', None\n",
    "            , 'BlazingSQL is built on the RAPIDS GPU data science ecosystem')\n",
    "        , (38, 6.44, np.datetime64('2020-10-10T08:34:36'), 'X', 'B', 'csv'\n",
    "            , 'BlazingSQL lets you ETL raw data directly into GPU memory as a GPU DataFrame (GDF)')\n",
    "        , (17, 5.28, np.datetime64('2020-10-09T08:34:40'), 'P', 'D', 'dataframes'\n",
    "            , 'Dask is a flexible library for parallel computing in Python')\n",
    "        , (10, 8.28, np.datetime64('2020-10-03T03:31:21'), 'W', 'B', 'python'\n",
    "            , None)\n",
    "    ]\n",
    "    , columns = ['number', 'float_number', 'datetime', 'letter', 'category', 'word', 'string']\n",
    ")"
   ]
  },
  {
   "cell_type": "markdown",
   "metadata": {},
   "source": [
    "## Cluster and client setup"
   ]
  },
  {
   "cell_type": "code",
   "execution_count": 3,
   "metadata": {},
   "outputs": [
    {
     "data": {
      "text/html": [
       "<table style=\"border: 2px solid white;\">\n",
       "<tr>\n",
       "<td style=\"vertical-align: top; border: 0px solid white\">\n",
       "<h3 style=\"text-align: left;\">Client</h3>\n",
       "<ul style=\"text-align: left; list-style: none; margin: 0; padding: 0;\">\n",
       "  <li><b>Scheduler: </b>tcp://127.0.0.1:44401</li>\n",
       "  <li><b>Dashboard: </b><a href='http://127.0.0.1:8787/status' target='_blank'>http://127.0.0.1:8787/status</a></li>\n",
       "</ul>\n",
       "</td>\n",
       "<td style=\"vertical-align: top; border: 0px solid white\">\n",
       "<h3 style=\"text-align: left;\">Cluster</h3>\n",
       "<ul style=\"text-align: left; list-style:none; margin: 0; padding: 0;\">\n",
       "  <li><b>Workers: </b>1</li>\n",
       "  <li><b>Cores: </b>1</li>\n",
       "  <li><b>Memory: </b>67.48 GB</li>\n",
       "</ul>\n",
       "</td>\n",
       "</tr>\n",
       "</table>"
      ],
      "text/plain": [
       "<Client: 'tcp://127.0.0.1:44401' processes=1 threads=1, memory=67.48 GB>"
      ]
     },
     "execution_count": 3,
     "metadata": {},
     "output_type": "execute_result"
    }
   ],
   "source": [
    "cluster = LocalCUDACluster(\n",
    "    n_workers=1\n",
    "    , threads_per_worker=1\n",
    "    , CUDA_VISIBLE_DEVICES=\"0\"\n",
    "    , rmm_managed_memory=True\n",
    "    , rmm_pool_size=\"20GB\"\n",
    ")\n",
    "\n",
    "client = Client(cluster)\n",
    "client"
   ]
  },
  {
   "cell_type": "markdown",
   "metadata": {},
   "source": [
    "# DataFrame"
   ]
  },
  {
   "cell_type": "markdown",
   "metadata": {},
   "source": [
    "#### dask_cudf.DataFrame.from_cudf"
   ]
  },
  {
   "cell_type": "code",
   "execution_count": 4,
   "metadata": {},
   "outputs": [
    {
     "data": {
      "text/html": [
       "<div>\n",
       "<style scoped>\n",
       "    .dataframe tbody tr th:only-of-type {\n",
       "        vertical-align: middle;\n",
       "    }\n",
       "\n",
       "    .dataframe tbody tr th {\n",
       "        vertical-align: top;\n",
       "    }\n",
       "\n",
       "    .dataframe thead th {\n",
       "        text-align: right;\n",
       "    }\n",
       "</style>\n",
       "<table border=\"1\" class=\"dataframe\">\n",
       "  <thead>\n",
       "    <tr style=\"text-align: right;\">\n",
       "      <th></th>\n",
       "      <th>number</th>\n",
       "      <th>float_number</th>\n",
       "      <th>datetime</th>\n",
       "      <th>letter</th>\n",
       "      <th>category</th>\n",
       "      <th>word</th>\n",
       "      <th>string</th>\n",
       "    </tr>\n",
       "  </thead>\n",
       "  <tbody>\n",
       "    <tr>\n",
       "      <th>0</th>\n",
       "      <td>39</td>\n",
       "      <td>6.88</td>\n",
       "      <td>2020-10-08 12:12:01</td>\n",
       "      <td>C</td>\n",
       "      <td>D</td>\n",
       "      <td>data</td>\n",
       "      <td>RAPIDS.ai is a suite of open-source libraries ...</td>\n",
       "    </tr>\n",
       "    <tr>\n",
       "      <th>1</th>\n",
       "      <td>11</td>\n",
       "      <td>4.21</td>\n",
       "      <td>&lt;NA&gt;</td>\n",
       "      <td>A</td>\n",
       "      <td>D</td>\n",
       "      <td>cuDF</td>\n",
       "      <td>cuDF is a Python GPU DataFrame (built on the A...</td>\n",
       "    </tr>\n",
       "    <tr>\n",
       "      <th>2</th>\n",
       "      <td>31</td>\n",
       "      <td>4.71</td>\n",
       "      <td>2020-10-10 09:26:43</td>\n",
       "      <td>U</td>\n",
       "      <td>D</td>\n",
       "      <td>memory</td>\n",
       "      <td>cuDF allows for loading, joining, aggregating,...</td>\n",
       "    </tr>\n",
       "    <tr>\n",
       "      <th>3</th>\n",
       "      <td>40</td>\n",
       "      <td>0.93</td>\n",
       "      <td>2020-10-11 17:10:00</td>\n",
       "      <td>P</td>\n",
       "      <td>B</td>\n",
       "      <td>tabular</td>\n",
       "      <td>If your workflow is fast enough on a single GP...</td>\n",
       "    </tr>\n",
       "    <tr>\n",
       "      <th>4</th>\n",
       "      <td>33</td>\n",
       "      <td>9.26</td>\n",
       "      <td>2020-10-15 10:58:02</td>\n",
       "      <td>O</td>\n",
       "      <td>D</td>\n",
       "      <td>parallel</td>\n",
       "      <td>If you want to distribute your workflow across...</td>\n",
       "    </tr>\n",
       "  </tbody>\n",
       "</table>\n",
       "</div>"
      ],
      "text/plain": [
       "   number  float_number             datetime letter category      word  \\\n",
       "0      39          6.88  2020-10-08 12:12:01      C        D      data   \n",
       "1      11          4.21                 <NA>      A        D      cuDF   \n",
       "2      31          4.71  2020-10-10 09:26:43      U        D    memory   \n",
       "3      40          0.93  2020-10-11 17:10:00      P        B   tabular   \n",
       "4      33          9.26  2020-10-15 10:58:02      O        D  parallel   \n",
       "\n",
       "                                              string  \n",
       "0  RAPIDS.ai is a suite of open-source libraries ...  \n",
       "1  cuDF is a Python GPU DataFrame (built on the A...  \n",
       "2  cuDF allows for loading, joining, aggregating,...  \n",
       "3  If your workflow is fast enough on a single GP...  \n",
       "4  If you want to distribute your workflow across...  "
      ]
     },
     "execution_count": 4,
     "metadata": {},
     "output_type": "execute_result"
    }
   ],
   "source": [
    "ddf = dask_cudf.from_cudf(df, npartitions=2)\n",
    "ddf.head()"
   ]
  },
  {
   "cell_type": "code",
   "execution_count": 5,
   "metadata": {},
   "outputs": [
    {
     "data": {
      "text/plain": [
       "5"
      ]
     },
     "execution_count": 5,
     "metadata": {},
     "output_type": "execute_result"
    }
   ],
   "source": [
    "ddf = dask_cudf.from_cudf(df, chunksize=2)\n",
    "ddf.npartitions"
   ]
  },
  {
   "cell_type": "markdown",
   "metadata": {},
   "source": [
    "#### dask_cudf.DataFrame.map_partitions"
   ]
  },
  {
   "cell_type": "code",
   "execution_count": 6,
   "metadata": {},
   "outputs": [
    {
     "data": {
      "text/html": [
       "<div>\n",
       "<style scoped>\n",
       "    .dataframe tbody tr th:only-of-type {\n",
       "        vertical-align: middle;\n",
       "    }\n",
       "\n",
       "    .dataframe tbody tr th {\n",
       "        vertical-align: top;\n",
       "    }\n",
       "\n",
       "    .dataframe thead th {\n",
       "        text-align: right;\n",
       "    }\n",
       "</style>\n",
       "<table border=\"1\" class=\"dataframe\">\n",
       "  <thead>\n",
       "    <tr style=\"text-align: right;\">\n",
       "      <th></th>\n",
       "      <th>number</th>\n",
       "      <th>float_number</th>\n",
       "      <th>datetime</th>\n",
       "      <th>letter</th>\n",
       "      <th>category</th>\n",
       "      <th>word</th>\n",
       "      <th>string</th>\n",
       "      <th>num_inc</th>\n",
       "    </tr>\n",
       "  </thead>\n",
       "  <tbody>\n",
       "    <tr>\n",
       "      <th>0</th>\n",
       "      <td>39</td>\n",
       "      <td>6.88</td>\n",
       "      <td>2020-10-08 12:12:01</td>\n",
       "      <td>C</td>\n",
       "      <td>D</td>\n",
       "      <td>data</td>\n",
       "      <td>RAPIDS.ai is a suite of open-source libraries ...</td>\n",
       "      <td>49</td>\n",
       "    </tr>\n",
       "    <tr>\n",
       "      <th>1</th>\n",
       "      <td>11</td>\n",
       "      <td>4.21</td>\n",
       "      <td>&lt;NA&gt;</td>\n",
       "      <td>A</td>\n",
       "      <td>D</td>\n",
       "      <td>cuDF</td>\n",
       "      <td>cuDF is a Python GPU DataFrame (built on the A...</td>\n",
       "      <td>21</td>\n",
       "    </tr>\n",
       "  </tbody>\n",
       "</table>\n",
       "</div>"
      ],
      "text/plain": [
       "   number  float_number             datetime letter category  word  \\\n",
       "0      39          6.88  2020-10-08 12:12:01      C        D  data   \n",
       "1      11          4.21                 <NA>      A        D  cuDF   \n",
       "\n",
       "                                              string  num_inc  \n",
       "0  RAPIDS.ai is a suite of open-source libraries ...       49  \n",
       "1  cuDF is a Python GPU DataFrame (built on the A...       21  "
      ]
     },
     "execution_count": 6,
     "metadata": {},
     "output_type": "execute_result"
    }
   ],
   "source": [
    "def process_frame(df):\n",
    "    df['num_inc'] = df['number'] + 10\n",
    "    \n",
    "    return df\n",
    "    \n",
    "ddf.map_partitions(process_frame).head()"
   ]
  },
  {
   "cell_type": "code",
   "execution_count": 7,
   "metadata": {},
   "outputs": [
    {
     "data": {
      "text/plain": [
       "0    268.32\n",
       "1     46.31\n",
       "Name: mult, dtype: float64"
      ]
     },
     "execution_count": 7,
     "metadata": {},
     "output_type": "execute_result"
    }
   ],
   "source": [
    "def multiply(a, b, mult):\n",
    "    for i, (aa, bb) in enumerate(zip(a, b)):\n",
    "        mult[i] = aa * bb\n",
    "\n",
    "def process_frame_mul(df):\n",
    "    df = df.apply_rows(\n",
    "        multiply\n",
    "        , incols = {'number': 'a', 'float_number': 'b'}\n",
    "        , outcols = {'mult': np.float64}\n",
    "        , kwargs = {}\n",
    "    )\n",
    "    \n",
    "    return df['mult']\n",
    "\n",
    "ddf.map_partitions(process_frame_mul).head()"
   ]
  },
  {
   "cell_type": "code",
   "execution_count": 8,
   "metadata": {},
   "outputs": [
    {
     "data": {
      "text/html": [
       "<div>\n",
       "<style scoped>\n",
       "    .dataframe tbody tr th:only-of-type {\n",
       "        vertical-align: middle;\n",
       "    }\n",
       "\n",
       "    .dataframe tbody tr th {\n",
       "        vertical-align: top;\n",
       "    }\n",
       "\n",
       "    .dataframe thead th {\n",
       "        text-align: right;\n",
       "    }\n",
       "</style>\n",
       "<table border=\"1\" class=\"dataframe\">\n",
       "  <thead>\n",
       "    <tr style=\"text-align: right;\">\n",
       "      <th></th>\n",
       "      <th>number</th>\n",
       "      <th>float_number</th>\n",
       "      <th>datetime</th>\n",
       "      <th>letter</th>\n",
       "      <th>category</th>\n",
       "      <th>word</th>\n",
       "      <th>string</th>\n",
       "      <th>div_number</th>\n",
       "      <th>div_float</th>\n",
       "    </tr>\n",
       "  </thead>\n",
       "  <tbody>\n",
       "    <tr>\n",
       "      <th>0</th>\n",
       "      <td>39</td>\n",
       "      <td>6.88</td>\n",
       "      <td>2020-10-08 12:12:01</td>\n",
       "      <td>C</td>\n",
       "      <td>D</td>\n",
       "      <td>data</td>\n",
       "      <td>RAPIDS.ai is a suite of open-source libraries ...</td>\n",
       "      <td>3.9</td>\n",
       "      <td>1.376</td>\n",
       "    </tr>\n",
       "    <tr>\n",
       "      <th>1</th>\n",
       "      <td>11</td>\n",
       "      <td>4.21</td>\n",
       "      <td>&lt;NA&gt;</td>\n",
       "      <td>A</td>\n",
       "      <td>D</td>\n",
       "      <td>cuDF</td>\n",
       "      <td>cuDF is a Python GPU DataFrame (built on the A...</td>\n",
       "      <td>1.1</td>\n",
       "      <td>0.842</td>\n",
       "    </tr>\n",
       "  </tbody>\n",
       "</table>\n",
       "</div>"
      ],
      "text/plain": [
       "   number  float_number             datetime letter category  word  \\\n",
       "0      39          6.88  2020-10-08 12:12:01      C        D  data   \n",
       "1      11          4.21                 <NA>      A        D  cuDF   \n",
       "\n",
       "                                              string  div_number  div_float  \n",
       "0  RAPIDS.ai is a suite of open-source libraries ...         3.9      1.376  \n",
       "1  cuDF is a Python GPU DataFrame (built on the A...         1.1      0.842  "
      ]
     },
     "execution_count": 8,
     "metadata": {},
     "output_type": "execute_result"
    }
   ],
   "source": [
    "def multiply(a, div, b):\n",
    "    for i, aa in enumerate(a):\n",
    "        div[i] = aa / b\n",
    "\n",
    "def process_frame_div(df, col_a, val_divide):\n",
    "    df = df.apply_rows(\n",
    "        multiply\n",
    "        , incols = {col_a: 'a'}\n",
    "        , outcols = {'div': np.float64}\n",
    "        , kwargs = {'b': val_divide}\n",
    "    )\n",
    "    \n",
    "    return df['div']\n",
    "\n",
    "ddf['div_number'] = ddf.map_partitions(process_frame_div, 'number', 10.0)\n",
    "ddf['div_float']  = ddf.map_partitions(process_frame_div, 'float_number', 5.0)\n",
    "\n",
    "ddf.head()"
   ]
  },
  {
   "cell_type": "code",
   "execution_count": 11,
   "metadata": {},
   "outputs": [],
   "source": [
    "ddf['div_number'] = ddf.map_partitions(lambda df: process_frame_div(df, 'number', 10.0))\n",
    "ddf['div_float']  = ddf.map_partitions(lambda df: process_frame_div(df, 'float_number', 5.0))"
   ]
  },
  {
   "cell_type": "markdown",
   "metadata": {},
   "source": [
    "#### dask_cudf.compute"
   ]
  },
  {
   "cell_type": "code",
   "execution_count": 9,
   "metadata": {},
   "outputs": [
    {
     "data": {
      "text/html": [
       "<div><strong>Dask DataFrame Structure:</strong></div>\n",
       "<div>\n",
       "<style scoped>\n",
       "    .dataframe tbody tr th:only-of-type {\n",
       "        vertical-align: middle;\n",
       "    }\n",
       "\n",
       "    .dataframe tbody tr th {\n",
       "        vertical-align: top;\n",
       "    }\n",
       "\n",
       "    .dataframe thead th {\n",
       "        text-align: right;\n",
       "    }\n",
       "</style>\n",
       "<table border=\"1\" class=\"dataframe\">\n",
       "  <thead>\n",
       "    <tr style=\"text-align: right;\">\n",
       "      <th></th>\n",
       "      <th>number</th>\n",
       "      <th>float_number</th>\n",
       "      <th>datetime</th>\n",
       "      <th>letter</th>\n",
       "      <th>category</th>\n",
       "      <th>word</th>\n",
       "      <th>string</th>\n",
       "      <th>div_number</th>\n",
       "      <th>div_float</th>\n",
       "    </tr>\n",
       "    <tr>\n",
       "      <th>npartitions=5</th>\n",
       "      <th></th>\n",
       "      <th></th>\n",
       "      <th></th>\n",
       "      <th></th>\n",
       "      <th></th>\n",
       "      <th></th>\n",
       "      <th></th>\n",
       "      <th></th>\n",
       "      <th></th>\n",
       "    </tr>\n",
       "  </thead>\n",
       "  <tbody>\n",
       "    <tr>\n",
       "      <th>0</th>\n",
       "      <td>int64</td>\n",
       "      <td>float64</td>\n",
       "      <td>datetime64[s]</td>\n",
       "      <td>object</td>\n",
       "      <td>object</td>\n",
       "      <td>object</td>\n",
       "      <td>object</td>\n",
       "      <td>float64</td>\n",
       "      <td>float64</td>\n",
       "    </tr>\n",
       "    <tr>\n",
       "      <th>2</th>\n",
       "      <td>...</td>\n",
       "      <td>...</td>\n",
       "      <td>...</td>\n",
       "      <td>...</td>\n",
       "      <td>...</td>\n",
       "      <td>...</td>\n",
       "      <td>...</td>\n",
       "      <td>...</td>\n",
       "      <td>...</td>\n",
       "    </tr>\n",
       "    <tr>\n",
       "      <th>...</th>\n",
       "      <td>...</td>\n",
       "      <td>...</td>\n",
       "      <td>...</td>\n",
       "      <td>...</td>\n",
       "      <td>...</td>\n",
       "      <td>...</td>\n",
       "      <td>...</td>\n",
       "      <td>...</td>\n",
       "      <td>...</td>\n",
       "    </tr>\n",
       "    <tr>\n",
       "      <th>8</th>\n",
       "      <td>...</td>\n",
       "      <td>...</td>\n",
       "      <td>...</td>\n",
       "      <td>...</td>\n",
       "      <td>...</td>\n",
       "      <td>...</td>\n",
       "      <td>...</td>\n",
       "      <td>...</td>\n",
       "      <td>...</td>\n",
       "    </tr>\n",
       "    <tr>\n",
       "      <th>9</th>\n",
       "      <td>...</td>\n",
       "      <td>...</td>\n",
       "      <td>...</td>\n",
       "      <td>...</td>\n",
       "      <td>...</td>\n",
       "      <td>...</td>\n",
       "      <td>...</td>\n",
       "      <td>...</td>\n",
       "      <td>...</td>\n",
       "    </tr>\n",
       "  </tbody>\n",
       "</table>\n",
       "</div>\n",
       "<div>Dask Name: assign, 25 tasks</div>"
      ],
      "text/plain": [
       "<dask_cudf.DataFrame | 25 tasks | 5 npartitions>"
      ]
     },
     "execution_count": 9,
     "metadata": {},
     "output_type": "execute_result"
    }
   ],
   "source": [
    "ddf"
   ]
  },
  {
   "cell_type": "code",
   "execution_count": 51,
   "metadata": {},
   "outputs": [
    {
     "data": {
      "text/html": [
       "<div>\n",
       "<style scoped>\n",
       "    .dataframe tbody tr th:only-of-type {\n",
       "        vertical-align: middle;\n",
       "    }\n",
       "\n",
       "    .dataframe tbody tr th {\n",
       "        vertical-align: top;\n",
       "    }\n",
       "\n",
       "    .dataframe thead th {\n",
       "        text-align: right;\n",
       "    }\n",
       "</style>\n",
       "<table border=\"1\" class=\"dataframe\">\n",
       "  <thead>\n",
       "    <tr style=\"text-align: right;\">\n",
       "      <th></th>\n",
       "      <th>number</th>\n",
       "      <th>float_number</th>\n",
       "      <th>datetime</th>\n",
       "      <th>letter</th>\n",
       "      <th>category</th>\n",
       "      <th>word</th>\n",
       "      <th>string</th>\n",
       "      <th>div_number</th>\n",
       "      <th>div_float</th>\n",
       "    </tr>\n",
       "  </thead>\n",
       "  <tbody>\n",
       "    <tr>\n",
       "      <th>0</th>\n",
       "      <td>39</td>\n",
       "      <td>6.88</td>\n",
       "      <td>2020-10-08 12:12:01</td>\n",
       "      <td>C</td>\n",
       "      <td>D</td>\n",
       "      <td>data</td>\n",
       "      <td>RAPIDS.ai is a suite of open-source libraries ...</td>\n",
       "      <td>3.9</td>\n",
       "      <td>1.376</td>\n",
       "    </tr>\n",
       "    <tr>\n",
       "      <th>1</th>\n",
       "      <td>11</td>\n",
       "      <td>4.21</td>\n",
       "      <td>&lt;NA&gt;</td>\n",
       "      <td>A</td>\n",
       "      <td>D</td>\n",
       "      <td>cuDF</td>\n",
       "      <td>cuDF is a Python GPU DataFrame (built on the A...</td>\n",
       "      <td>1.1</td>\n",
       "      <td>0.842</td>\n",
       "    </tr>\n",
       "    <tr>\n",
       "      <th>2</th>\n",
       "      <td>31</td>\n",
       "      <td>4.71</td>\n",
       "      <td>2020-10-10 09:26:43</td>\n",
       "      <td>U</td>\n",
       "      <td>D</td>\n",
       "      <td>memory</td>\n",
       "      <td>cuDF allows for loading, joining, aggregating,...</td>\n",
       "      <td>3.1</td>\n",
       "      <td>0.942</td>\n",
       "    </tr>\n",
       "    <tr>\n",
       "      <th>3</th>\n",
       "      <td>40</td>\n",
       "      <td>0.93</td>\n",
       "      <td>2020-10-11 17:10:00</td>\n",
       "      <td>P</td>\n",
       "      <td>B</td>\n",
       "      <td>tabular</td>\n",
       "      <td>If your workflow is fast enough on a single GP...</td>\n",
       "      <td>4.0</td>\n",
       "      <td>0.186</td>\n",
       "    </tr>\n",
       "    <tr>\n",
       "      <th>4</th>\n",
       "      <td>33</td>\n",
       "      <td>9.26</td>\n",
       "      <td>2020-10-15 10:58:02</td>\n",
       "      <td>O</td>\n",
       "      <td>D</td>\n",
       "      <td>parallel</td>\n",
       "      <td>If you want to distribute your workflow across...</td>\n",
       "      <td>3.3</td>\n",
       "      <td>1.852</td>\n",
       "    </tr>\n",
       "    <tr>\n",
       "      <th>5</th>\n",
       "      <td>42</td>\n",
       "      <td>4.21</td>\n",
       "      <td>2020-10-01 10:02:23</td>\n",
       "      <td>U</td>\n",
       "      <td>C</td>\n",
       "      <td>GPUs</td>\n",
       "      <td>BlazingSQL provides a high-performance distrib...</td>\n",
       "      <td>4.2</td>\n",
       "      <td>0.842</td>\n",
       "    </tr>\n",
       "    <tr>\n",
       "      <th>6</th>\n",
       "      <td>36</td>\n",
       "      <td>3.01</td>\n",
       "      <td>2020-09-30 14:36:26</td>\n",
       "      <td>T</td>\n",
       "      <td>D</td>\n",
       "      <td>&lt;NA&gt;</td>\n",
       "      <td>BlazingSQL is built on the RAPIDS GPU data sci...</td>\n",
       "      <td>3.6</td>\n",
       "      <td>0.602</td>\n",
       "    </tr>\n",
       "    <tr>\n",
       "      <th>7</th>\n",
       "      <td>38</td>\n",
       "      <td>6.44</td>\n",
       "      <td>2020-10-10 08:34:36</td>\n",
       "      <td>X</td>\n",
       "      <td>B</td>\n",
       "      <td>csv</td>\n",
       "      <td>BlazingSQL lets you ETL raw data directly into...</td>\n",
       "      <td>3.8</td>\n",
       "      <td>1.288</td>\n",
       "    </tr>\n",
       "    <tr>\n",
       "      <th>8</th>\n",
       "      <td>17</td>\n",
       "      <td>5.28</td>\n",
       "      <td>2020-10-09 08:34:40</td>\n",
       "      <td>P</td>\n",
       "      <td>D</td>\n",
       "      <td>dataframes</td>\n",
       "      <td>Dask is a flexible library for parallel comput...</td>\n",
       "      <td>1.7</td>\n",
       "      <td>1.056</td>\n",
       "    </tr>\n",
       "    <tr>\n",
       "      <th>9</th>\n",
       "      <td>10</td>\n",
       "      <td>8.28</td>\n",
       "      <td>2020-10-03 03:31:21</td>\n",
       "      <td>W</td>\n",
       "      <td>B</td>\n",
       "      <td>python</td>\n",
       "      <td>&lt;NA&gt;</td>\n",
       "      <td>1.0</td>\n",
       "      <td>1.656</td>\n",
       "    </tr>\n",
       "  </tbody>\n",
       "</table>\n",
       "</div>"
      ],
      "text/plain": [
       "   number  float_number             datetime letter category        word  \\\n",
       "0      39          6.88  2020-10-08 12:12:01      C        D        data   \n",
       "1      11          4.21                 <NA>      A        D        cuDF   \n",
       "2      31          4.71  2020-10-10 09:26:43      U        D      memory   \n",
       "3      40          0.93  2020-10-11 17:10:00      P        B     tabular   \n",
       "4      33          9.26  2020-10-15 10:58:02      O        D    parallel   \n",
       "5      42          4.21  2020-10-01 10:02:23      U        C        GPUs   \n",
       "6      36          3.01  2020-09-30 14:36:26      T        D        <NA>   \n",
       "7      38          6.44  2020-10-10 08:34:36      X        B         csv   \n",
       "8      17          5.28  2020-10-09 08:34:40      P        D  dataframes   \n",
       "9      10          8.28  2020-10-03 03:31:21      W        B      python   \n",
       "\n",
       "                                              string  div_number  div_float  \n",
       "0  RAPIDS.ai is a suite of open-source libraries ...         3.9      1.376  \n",
       "1  cuDF is a Python GPU DataFrame (built on the A...         1.1      0.842  \n",
       "2  cuDF allows for loading, joining, aggregating,...         3.1      0.942  \n",
       "3  If your workflow is fast enough on a single GP...         4.0      0.186  \n",
       "4  If you want to distribute your workflow across...         3.3      1.852  \n",
       "5  BlazingSQL provides a high-performance distrib...         4.2      0.842  \n",
       "6  BlazingSQL is built on the RAPIDS GPU data sci...         3.6      0.602  \n",
       "7  BlazingSQL lets you ETL raw data directly into...         3.8      1.288  \n",
       "8  Dask is a flexible library for parallel comput...         1.7      1.056  \n",
       "9                                               <NA>         1.0      1.656  "
      ]
     },
     "execution_count": 51,
     "metadata": {},
     "output_type": "execute_result"
    }
   ],
   "source": [
    "ddf.compute()"
   ]
  },
  {
   "cell_type": "markdown",
   "metadata": {},
   "source": [
    "#### client.compute"
   ]
  },
  {
   "cell_type": "code",
   "execution_count": 53,
   "metadata": {},
   "outputs": [],
   "source": [
    "computation = client.compute(ddf)"
   ]
  },
  {
   "cell_type": "code",
   "execution_count": 58,
   "metadata": {},
   "outputs": [
    {
     "data": {
      "text/html": [
       "<div>\n",
       "<style scoped>\n",
       "    .dataframe tbody tr th:only-of-type {\n",
       "        vertical-align: middle;\n",
       "    }\n",
       "\n",
       "    .dataframe tbody tr th {\n",
       "        vertical-align: top;\n",
       "    }\n",
       "\n",
       "    .dataframe thead th {\n",
       "        text-align: right;\n",
       "    }\n",
       "</style>\n",
       "<table border=\"1\" class=\"dataframe\">\n",
       "  <thead>\n",
       "    <tr style=\"text-align: right;\">\n",
       "      <th></th>\n",
       "      <th>number</th>\n",
       "      <th>float_number</th>\n",
       "      <th>datetime</th>\n",
       "      <th>letter</th>\n",
       "      <th>category</th>\n",
       "      <th>word</th>\n",
       "      <th>string</th>\n",
       "      <th>div_number</th>\n",
       "      <th>div_float</th>\n",
       "    </tr>\n",
       "  </thead>\n",
       "  <tbody>\n",
       "    <tr>\n",
       "      <th>0</th>\n",
       "      <td>39</td>\n",
       "      <td>6.88</td>\n",
       "      <td>2020-10-08 12:12:01</td>\n",
       "      <td>C</td>\n",
       "      <td>D</td>\n",
       "      <td>data</td>\n",
       "      <td>RAPIDS.ai is a suite of open-source libraries ...</td>\n",
       "      <td>3.9</td>\n",
       "      <td>1.376</td>\n",
       "    </tr>\n",
       "    <tr>\n",
       "      <th>1</th>\n",
       "      <td>11</td>\n",
       "      <td>4.21</td>\n",
       "      <td>&lt;NA&gt;</td>\n",
       "      <td>A</td>\n",
       "      <td>D</td>\n",
       "      <td>cuDF</td>\n",
       "      <td>cuDF is a Python GPU DataFrame (built on the A...</td>\n",
       "      <td>1.1</td>\n",
       "      <td>0.842</td>\n",
       "    </tr>\n",
       "    <tr>\n",
       "      <th>2</th>\n",
       "      <td>31</td>\n",
       "      <td>4.71</td>\n",
       "      <td>2020-10-10 09:26:43</td>\n",
       "      <td>U</td>\n",
       "      <td>D</td>\n",
       "      <td>memory</td>\n",
       "      <td>cuDF allows for loading, joining, aggregating,...</td>\n",
       "      <td>3.1</td>\n",
       "      <td>0.942</td>\n",
       "    </tr>\n",
       "    <tr>\n",
       "      <th>3</th>\n",
       "      <td>40</td>\n",
       "      <td>0.93</td>\n",
       "      <td>2020-10-11 17:10:00</td>\n",
       "      <td>P</td>\n",
       "      <td>B</td>\n",
       "      <td>tabular</td>\n",
       "      <td>If your workflow is fast enough on a single GP...</td>\n",
       "      <td>4.0</td>\n",
       "      <td>0.186</td>\n",
       "    </tr>\n",
       "    <tr>\n",
       "      <th>4</th>\n",
       "      <td>33</td>\n",
       "      <td>9.26</td>\n",
       "      <td>2020-10-15 10:58:02</td>\n",
       "      <td>O</td>\n",
       "      <td>D</td>\n",
       "      <td>parallel</td>\n",
       "      <td>If you want to distribute your workflow across...</td>\n",
       "      <td>3.3</td>\n",
       "      <td>1.852</td>\n",
       "    </tr>\n",
       "  </tbody>\n",
       "</table>\n",
       "</div>"
      ],
      "text/plain": [
       "   number  float_number             datetime letter category      word  \\\n",
       "0      39          6.88  2020-10-08 12:12:01      C        D      data   \n",
       "1      11          4.21                 <NA>      A        D      cuDF   \n",
       "2      31          4.71  2020-10-10 09:26:43      U        D    memory   \n",
       "3      40          0.93  2020-10-11 17:10:00      P        B   tabular   \n",
       "4      33          9.26  2020-10-15 10:58:02      O        D  parallel   \n",
       "\n",
       "                                              string  div_number  div_float  \n",
       "0  RAPIDS.ai is a suite of open-source libraries ...         3.9      1.376  \n",
       "1  cuDF is a Python GPU DataFrame (built on the A...         1.1      0.842  \n",
       "2  cuDF allows for loading, joining, aggregating,...         3.1      0.942  \n",
       "3  If your workflow is fast enough on a single GP...         4.0      0.186  \n",
       "4  If you want to distribute your workflow across...         3.3      1.852  "
      ]
     },
     "execution_count": 58,
     "metadata": {},
     "output_type": "execute_result"
    }
   ],
   "source": [
    "computation.result().head()"
   ]
  },
  {
   "cell_type": "code",
   "execution_count": 61,
   "metadata": {},
   "outputs": [
    {
     "data": {
      "text/html": [
       "<div>\n",
       "<style scoped>\n",
       "    .dataframe tbody tr th:only-of-type {\n",
       "        vertical-align: middle;\n",
       "    }\n",
       "\n",
       "    .dataframe tbody tr th {\n",
       "        vertical-align: top;\n",
       "    }\n",
       "\n",
       "    .dataframe thead th {\n",
       "        text-align: right;\n",
       "    }\n",
       "</style>\n",
       "<table border=\"1\" class=\"dataframe\">\n",
       "  <thead>\n",
       "    <tr style=\"text-align: right;\">\n",
       "      <th></th>\n",
       "      <th>number</th>\n",
       "      <th>float_number</th>\n",
       "      <th>datetime</th>\n",
       "      <th>letter</th>\n",
       "      <th>category</th>\n",
       "      <th>word</th>\n",
       "      <th>string</th>\n",
       "      <th>div_number</th>\n",
       "      <th>div_float</th>\n",
       "    </tr>\n",
       "  </thead>\n",
       "  <tbody>\n",
       "    <tr>\n",
       "      <th>0</th>\n",
       "      <td>39</td>\n",
       "      <td>6.88</td>\n",
       "      <td>2020-10-08 12:12:01</td>\n",
       "      <td>C</td>\n",
       "      <td>D</td>\n",
       "      <td>data</td>\n",
       "      <td>RAPIDS.ai is a suite of open-source libraries ...</td>\n",
       "      <td>3.9</td>\n",
       "      <td>1.376</td>\n",
       "    </tr>\n",
       "    <tr>\n",
       "      <th>1</th>\n",
       "      <td>11</td>\n",
       "      <td>4.21</td>\n",
       "      <td>&lt;NA&gt;</td>\n",
       "      <td>A</td>\n",
       "      <td>D</td>\n",
       "      <td>cuDF</td>\n",
       "      <td>cuDF is a Python GPU DataFrame (built on the A...</td>\n",
       "      <td>1.1</td>\n",
       "      <td>0.842</td>\n",
       "    </tr>\n",
       "    <tr>\n",
       "      <th>2</th>\n",
       "      <td>31</td>\n",
       "      <td>4.71</td>\n",
       "      <td>2020-10-10 09:26:43</td>\n",
       "      <td>U</td>\n",
       "      <td>D</td>\n",
       "      <td>memory</td>\n",
       "      <td>cuDF allows for loading, joining, aggregating,...</td>\n",
       "      <td>3.1</td>\n",
       "      <td>0.942</td>\n",
       "    </tr>\n",
       "    <tr>\n",
       "      <th>3</th>\n",
       "      <td>40</td>\n",
       "      <td>0.93</td>\n",
       "      <td>2020-10-11 17:10:00</td>\n",
       "      <td>P</td>\n",
       "      <td>B</td>\n",
       "      <td>tabular</td>\n",
       "      <td>If your workflow is fast enough on a single GP...</td>\n",
       "      <td>4.0</td>\n",
       "      <td>0.186</td>\n",
       "    </tr>\n",
       "    <tr>\n",
       "      <th>4</th>\n",
       "      <td>33</td>\n",
       "      <td>9.26</td>\n",
       "      <td>2020-10-15 10:58:02</td>\n",
       "      <td>O</td>\n",
       "      <td>D</td>\n",
       "      <td>parallel</td>\n",
       "      <td>If you want to distribute your workflow across...</td>\n",
       "      <td>3.3</td>\n",
       "      <td>1.852</td>\n",
       "    </tr>\n",
       "  </tbody>\n",
       "</table>\n",
       "</div>"
      ],
      "text/plain": [
       "   number  float_number             datetime letter category      word  \\\n",
       "0      39          6.88  2020-10-08 12:12:01      C        D      data   \n",
       "1      11          4.21                 <NA>      A        D      cuDF   \n",
       "2      31          4.71  2020-10-10 09:26:43      U        D    memory   \n",
       "3      40          0.93  2020-10-11 17:10:00      P        B   tabular   \n",
       "4      33          9.26  2020-10-15 10:58:02      O        D  parallel   \n",
       "\n",
       "                                              string  div_number  div_float  \n",
       "0  RAPIDS.ai is a suite of open-source libraries ...         3.9      1.376  \n",
       "1  cuDF is a Python GPU DataFrame (built on the A...         1.1      0.842  \n",
       "2  cuDF allows for loading, joining, aggregating,...         3.1      0.942  \n",
       "3  If your workflow is fast enough on a single GP...         4.0      0.186  \n",
       "4  If you want to distribute your workflow across...         3.3      1.852  "
      ]
     },
     "execution_count": 61,
     "metadata": {},
     "output_type": "execute_result"
    }
   ],
   "source": [
    "computation = client.compute(ddf, optimize_graph=True, workers='0')\n",
    "computation.result().head()"
   ]
  },
  {
   "cell_type": "markdown",
   "metadata": {},
   "source": [
    "#### dask_cudf.persist"
   ]
  },
  {
   "cell_type": "code",
   "execution_count": 62,
   "metadata": {},
   "outputs": [
    {
     "data": {
      "text/html": [
       "<div><strong>Dask DataFrame Structure:</strong></div>\n",
       "<div>\n",
       "<style scoped>\n",
       "    .dataframe tbody tr th:only-of-type {\n",
       "        vertical-align: middle;\n",
       "    }\n",
       "\n",
       "    .dataframe tbody tr th {\n",
       "        vertical-align: top;\n",
       "    }\n",
       "\n",
       "    .dataframe thead th {\n",
       "        text-align: right;\n",
       "    }\n",
       "</style>\n",
       "<table border=\"1\" class=\"dataframe\">\n",
       "  <thead>\n",
       "    <tr style=\"text-align: right;\">\n",
       "      <th></th>\n",
       "      <th>number</th>\n",
       "      <th>float_number</th>\n",
       "      <th>datetime</th>\n",
       "      <th>letter</th>\n",
       "      <th>category</th>\n",
       "      <th>word</th>\n",
       "      <th>string</th>\n",
       "      <th>div_number</th>\n",
       "      <th>div_float</th>\n",
       "    </tr>\n",
       "    <tr>\n",
       "      <th>npartitions=2</th>\n",
       "      <th></th>\n",
       "      <th></th>\n",
       "      <th></th>\n",
       "      <th></th>\n",
       "      <th></th>\n",
       "      <th></th>\n",
       "      <th></th>\n",
       "      <th></th>\n",
       "      <th></th>\n",
       "    </tr>\n",
       "  </thead>\n",
       "  <tbody>\n",
       "    <tr>\n",
       "      <th>0</th>\n",
       "      <td>int64</td>\n",
       "      <td>float64</td>\n",
       "      <td>datetime64[s]</td>\n",
       "      <td>object</td>\n",
       "      <td>object</td>\n",
       "      <td>object</td>\n",
       "      <td>object</td>\n",
       "      <td>float64</td>\n",
       "      <td>float64</td>\n",
       "    </tr>\n",
       "    <tr>\n",
       "      <th>5</th>\n",
       "      <td>...</td>\n",
       "      <td>...</td>\n",
       "      <td>...</td>\n",
       "      <td>...</td>\n",
       "      <td>...</td>\n",
       "      <td>...</td>\n",
       "      <td>...</td>\n",
       "      <td>...</td>\n",
       "      <td>...</td>\n",
       "    </tr>\n",
       "    <tr>\n",
       "      <th>9</th>\n",
       "      <td>...</td>\n",
       "      <td>...</td>\n",
       "      <td>...</td>\n",
       "      <td>...</td>\n",
       "      <td>...</td>\n",
       "      <td>...</td>\n",
       "      <td>...</td>\n",
       "      <td>...</td>\n",
       "      <td>...</td>\n",
       "    </tr>\n",
       "  </tbody>\n",
       "</table>\n",
       "</div>\n",
       "<div>Dask Name: assign, 2 tasks</div>"
      ],
      "text/plain": [
       "<dask_cudf.DataFrame | 2 tasks | 2 npartitions>"
      ]
     },
     "execution_count": 62,
     "metadata": {},
     "output_type": "execute_result"
    }
   ],
   "source": [
    "ddf.persist()"
   ]
  },
  {
   "cell_type": "markdown",
   "metadata": {},
   "source": [
    "# Delayed"
   ]
  },
  {
   "cell_type": "markdown",
   "metadata": {},
   "source": [
    "#### dask.delayed.delayed"
   ]
  },
  {
   "cell_type": "code",
   "execution_count": 12,
   "metadata": {},
   "outputs": [
    {
     "data": {
      "text/plain": [
       "[<Future: pending, key: delayed_task-d25d078f-ac98-4b93-908f-cbe572f55a17>,\n",
       " <Future: pending, key: delayed_task-78524eac-968f-46fe-97bc-4c0d01b47d5a>]"
      ]
     },
     "execution_count": 12,
     "metadata": {},
     "output_type": "execute_result"
    }
   ],
   "source": [
    "import cupy as cp\n",
    "\n",
    "def delayed_task(n):\n",
    "    df = cudf.DataFrame({'random': cp.random.rand(n)})\n",
    "    df['rand_scaled'] = df['random'] * 3\n",
    "    return df\n",
    "\n",
    "tasks = [delayed(delayed_task)(10) for _ in range(2)]\n",
    "computation = client.compute(tasks, optimize_graph=True)\n",
    "computation"
   ]
  },
  {
   "cell_type": "code",
   "execution_count": 13,
   "metadata": {},
   "outputs": [
    {
     "data": {
      "text/plain": [
       "[<Future: pending, key: delayed_task-de252d78-fa6f-47bd-b949-b40e9a9c8256>,\n",
       " <Future: pending, key: delayed_task-dd6740e4-4b89-4114-8dda-22e11dc65050>]"
      ]
     },
     "execution_count": 13,
     "metadata": {},
     "output_type": "execute_result"
    }
   ],
   "source": [
    "import cupy as cp\n",
    "\n",
    "@delayed\n",
    "def delayed_task(n):\n",
    "    df = cudf.DataFrame({'random': cp.random.rand(n)})\n",
    "    df['rand_scaled'] = df['random'] * 3\n",
    "    return df\n",
    "\n",
    "tasks = [delayed_task(10) for _ in range(2)]\n",
    "computation = client.compute(tasks, optimize_graph=True)\n",
    "computation"
   ]
  },
  {
   "cell_type": "code",
   "execution_count": 70,
   "metadata": {},
   "outputs": [
    {
     "data": {
      "text/html": [
       "<div>\n",
       "<style scoped>\n",
       "    .dataframe tbody tr th:only-of-type {\n",
       "        vertical-align: middle;\n",
       "    }\n",
       "\n",
       "    .dataframe tbody tr th {\n",
       "        vertical-align: top;\n",
       "    }\n",
       "\n",
       "    .dataframe thead th {\n",
       "        text-align: right;\n",
       "    }\n",
       "</style>\n",
       "<table border=\"1\" class=\"dataframe\">\n",
       "  <thead>\n",
       "    <tr style=\"text-align: right;\">\n",
       "      <th></th>\n",
       "      <th>random</th>\n",
       "      <th>rand_scaled</th>\n",
       "    </tr>\n",
       "  </thead>\n",
       "  <tbody>\n",
       "    <tr>\n",
       "      <th>0</th>\n",
       "      <td>0.126264</td>\n",
       "      <td>0.378792</td>\n",
       "    </tr>\n",
       "    <tr>\n",
       "      <th>1</th>\n",
       "      <td>0.200792</td>\n",
       "      <td>0.602375</td>\n",
       "    </tr>\n",
       "    <tr>\n",
       "      <th>2</th>\n",
       "      <td>0.732750</td>\n",
       "      <td>2.198249</td>\n",
       "    </tr>\n",
       "    <tr>\n",
       "      <th>3</th>\n",
       "      <td>0.156914</td>\n",
       "      <td>0.470743</td>\n",
       "    </tr>\n",
       "    <tr>\n",
       "      <th>4</th>\n",
       "      <td>0.598553</td>\n",
       "      <td>1.795659</td>\n",
       "    </tr>\n",
       "  </tbody>\n",
       "</table>\n",
       "</div>"
      ],
      "text/plain": [
       "     random  rand_scaled\n",
       "0  0.126264     0.378792\n",
       "1  0.200792     0.602375\n",
       "2  0.732750     2.198249\n",
       "3  0.156914     0.470743\n",
       "4  0.598553     1.795659"
      ]
     },
     "execution_count": 70,
     "metadata": {},
     "output_type": "execute_result"
    }
   ],
   "source": [
    "cudf.concat([f.result() for f in computation]).head()"
   ]
  },
  {
   "cell_type": "markdown",
   "metadata": {},
   "source": [
    "#### dask_cudf.DataFrame.to_delayed"
   ]
  },
  {
   "cell_type": "code",
   "execution_count": 14,
   "metadata": {},
   "outputs": [],
   "source": [
    "def process_frame_delayed(df):\n",
    "    return df['number'] + 10\n",
    "    \n",
    "ddf_delayed_add = dask_cudf.from_delayed([\n",
    "    process_frame_delayed(df) \n",
    "    for df \n",
    "    in ddf.to_delayed()\n",
    "])"
   ]
  },
  {
   "cell_type": "code",
   "execution_count": 15,
   "metadata": {},
   "outputs": [
    {
     "data": {
      "text/plain": [
       "0    49\n",
       "1    21\n",
       "2    41\n",
       "3    50\n",
       "4    43\n",
       "5    52\n",
       "6    46\n",
       "7    48\n",
       "8    27\n",
       "9    20\n",
       "Name: number, dtype: int64"
      ]
     },
     "execution_count": 15,
     "metadata": {},
     "output_type": "execute_result"
    }
   ],
   "source": [
    "ddf_delayed_add.compute()"
   ]
  },
  {
   "cell_type": "markdown",
   "metadata": {},
   "source": [
    "#### dask_cudf.DataFrame.from_delayed"
   ]
  },
  {
   "cell_type": "code",
   "execution_count": 18,
   "metadata": {},
   "outputs": [
    {
     "data": {
      "text/plain": [
       "0    4.9\n",
       "1    2.1\n",
       "2    4.1\n",
       "3    5.0\n",
       "4    4.3\n",
       "Name: number, dtype: float64"
      ]
     },
     "execution_count": 18,
     "metadata": {},
     "output_type": "execute_result"
    }
   ],
   "source": [
    "def process_frame_delayed(df, divide):\n",
    "    added = df['number'] + 10\n",
    "    \n",
    "    return added / divide\n",
    "    \n",
    "ddf_delayed_div = dask_cudf.from_delayed([\n",
    "    process_frame_delayed(df, 10.0) \n",
    "    for df \n",
    "    in ddf.to_delayed()\n",
    "])\n",
    "\n",
    "ddf_delayed_div.head()"
   ]
  },
  {
   "cell_type": "markdown",
   "metadata": {},
   "source": [
    "# Futures"
   ]
  },
  {
   "cell_type": "markdown",
   "metadata": {},
   "source": [
    "#### client.persist"
   ]
  },
  {
   "cell_type": "code",
   "execution_count": 19,
   "metadata": {},
   "outputs": [
    {
     "data": {
      "text/html": [
       "<div><strong>Dask DataFrame Structure:</strong></div>\n",
       "<div>\n",
       "<style scoped>\n",
       "    .dataframe tbody tr th:only-of-type {\n",
       "        vertical-align: middle;\n",
       "    }\n",
       "\n",
       "    .dataframe tbody tr th {\n",
       "        vertical-align: top;\n",
       "    }\n",
       "\n",
       "    .dataframe thead th {\n",
       "        text-align: right;\n",
       "    }\n",
       "</style>\n",
       "<table border=\"1\" class=\"dataframe\">\n",
       "  <thead>\n",
       "    <tr style=\"text-align: right;\">\n",
       "      <th></th>\n",
       "      <th>number</th>\n",
       "      <th>float_number</th>\n",
       "      <th>datetime</th>\n",
       "      <th>letter</th>\n",
       "      <th>category</th>\n",
       "      <th>word</th>\n",
       "      <th>string</th>\n",
       "    </tr>\n",
       "    <tr>\n",
       "      <th>npartitions=2</th>\n",
       "      <th></th>\n",
       "      <th></th>\n",
       "      <th></th>\n",
       "      <th></th>\n",
       "      <th></th>\n",
       "      <th></th>\n",
       "      <th></th>\n",
       "    </tr>\n",
       "  </thead>\n",
       "  <tbody>\n",
       "    <tr>\n",
       "      <th>0</th>\n",
       "      <td>int64</td>\n",
       "      <td>float64</td>\n",
       "      <td>datetime64[s]</td>\n",
       "      <td>object</td>\n",
       "      <td>object</td>\n",
       "      <td>object</td>\n",
       "      <td>object</td>\n",
       "    </tr>\n",
       "    <tr>\n",
       "      <th>5</th>\n",
       "      <td>...</td>\n",
       "      <td>...</td>\n",
       "      <td>...</td>\n",
       "      <td>...</td>\n",
       "      <td>...</td>\n",
       "      <td>...</td>\n",
       "      <td>...</td>\n",
       "    </tr>\n",
       "    <tr>\n",
       "      <th>9</th>\n",
       "      <td>...</td>\n",
       "      <td>...</td>\n",
       "      <td>...</td>\n",
       "      <td>...</td>\n",
       "      <td>...</td>\n",
       "      <td>...</td>\n",
       "      <td>...</td>\n",
       "    </tr>\n",
       "  </tbody>\n",
       "</table>\n",
       "</div>\n",
       "<div>Dask Name: from_cudf, 2 tasks</div>"
      ],
      "text/plain": [
       "<dask_cudf.DataFrame | 2 tasks | 2 npartitions>"
      ]
     },
     "execution_count": 19,
     "metadata": {},
     "output_type": "execute_result"
    }
   ],
   "source": [
    "client.persist(ddf)"
   ]
  },
  {
   "cell_type": "markdown",
   "metadata": {},
   "source": [
    "#### client.submit"
   ]
  },
  {
   "cell_type": "code",
   "execution_count": 54,
   "metadata": {},
   "outputs": [],
   "source": [
    "def first_computation(df):\n",
    "    return df['number'] + 10\n",
    "\n",
    "def second_computation(result):\n",
    "    return result / 10.0\n",
    "\n",
    "computation_1 = client.submit(first_computation, ddf)\n",
    "computation_2 = client.submit(second_computation, computation_1)"
   ]
  },
  {
   "cell_type": "code",
   "execution_count": 55,
   "metadata": {},
   "outputs": [
    {
     "data": {
      "text/html": [
       "<b>Future: first_computation</b> <font color=\"gray\">status: </font><font color=\"black\">finished</font>, <font color=\"gray\">type: </font>dask_cudf.Series, <font color=\"gray\">key: </font>first_computation-3c27180bf4664a4738bdc4a1b5638efc"
      ],
      "text/plain": [
       "<Future: finished, type: dask_cudf.Series, key: first_computation-3c27180bf4664a4738bdc4a1b5638efc>"
      ]
     },
     "execution_count": 55,
     "metadata": {},
     "output_type": "execute_result"
    }
   ],
   "source": [
    "computation_1"
   ]
  },
  {
   "cell_type": "code",
   "execution_count": 56,
   "metadata": {},
   "outputs": [
    {
     "data": {
      "text/plain": [
       "0    4.9\n",
       "1    2.1\n",
       "2    4.1\n",
       "3    5.0\n",
       "4    4.3\n",
       "5    5.2\n",
       "6    4.6\n",
       "7    4.8\n",
       "8    2.7\n",
       "9    2.0\n",
       "Name: number, dtype: float64"
      ]
     },
     "execution_count": 56,
     "metadata": {},
     "output_type": "execute_result"
    }
   ],
   "source": [
    "computation_2.result().compute()"
   ]
  },
  {
   "cell_type": "markdown",
   "metadata": {},
   "source": [
    "#### dask.distributed.wait"
   ]
  },
  {
   "cell_type": "code",
   "execution_count": 78,
   "metadata": {},
   "outputs": [
    {
     "data": {
      "text/html": [
       "<div>\n",
       "<style scoped>\n",
       "    .dataframe tbody tr th:only-of-type {\n",
       "        vertical-align: middle;\n",
       "    }\n",
       "\n",
       "    .dataframe tbody tr th {\n",
       "        vertical-align: top;\n",
       "    }\n",
       "\n",
       "    .dataframe thead th {\n",
       "        text-align: right;\n",
       "    }\n",
       "</style>\n",
       "<table border=\"1\" class=\"dataframe\">\n",
       "  <thead>\n",
       "    <tr style=\"text-align: right;\">\n",
       "      <th></th>\n",
       "      <th>random</th>\n",
       "      <th>rand_scaled</th>\n",
       "    </tr>\n",
       "  </thead>\n",
       "  <tbody>\n",
       "    <tr>\n",
       "      <th>0</th>\n",
       "      <td>0.126264</td>\n",
       "      <td>0.378792</td>\n",
       "    </tr>\n",
       "    <tr>\n",
       "      <th>1</th>\n",
       "      <td>0.200792</td>\n",
       "      <td>0.602375</td>\n",
       "    </tr>\n",
       "    <tr>\n",
       "      <th>2</th>\n",
       "      <td>0.732750</td>\n",
       "      <td>2.198249</td>\n",
       "    </tr>\n",
       "    <tr>\n",
       "      <th>3</th>\n",
       "      <td>0.156914</td>\n",
       "      <td>0.470743</td>\n",
       "    </tr>\n",
       "    <tr>\n",
       "      <th>4</th>\n",
       "      <td>0.598553</td>\n",
       "      <td>1.795659</td>\n",
       "    </tr>\n",
       "  </tbody>\n",
       "</table>\n",
       "</div>"
      ],
      "text/plain": [
       "     random  rand_scaled\n",
       "0  0.126264     0.378792\n",
       "1  0.200792     0.602375\n",
       "2  0.732750     2.198249\n",
       "3  0.156914     0.470743\n",
       "4  0.598553     1.795659"
      ]
     },
     "execution_count": 78,
     "metadata": {},
     "output_type": "execute_result"
    }
   ],
   "source": [
    "computation = client.compute(tasks, optimize_graph=True)\n",
    "dask.distributed.wait(computation)\n",
    "\n",
    "### this object only gets created one all computations are finished\n",
    "results = dask_cudf.from_delayed(computation)\n",
    "results.head()"
   ]
  },
  {
   "cell_type": "markdown",
   "metadata": {},
   "source": [
    "#### dask.distributed.as_completed"
   ]
  },
  {
   "cell_type": "code",
   "execution_count": 85,
   "metadata": {},
   "outputs": [
    {
     "name": "stdout",
     "output_type": "stream",
     "text": [
      "     random  rand_scaled\n",
      "0  0.126264     0.378792\n",
      "1  0.200792     0.602375\n",
      "2  0.732750     2.198249\n",
      "3  0.156914     0.470743\n",
      "4  0.598553     1.795659\n",
      "5  0.785085     2.355256\n",
      "6  0.592523     1.777569\n",
      "7  0.237564     0.712691\n",
      "8  0.351258     1.053773\n",
      "9  0.544141     1.632422\n",
      "     random  rand_scaled\n",
      "0  0.634716     1.904149\n",
      "1  0.233698     0.701095\n",
      "2  0.040242     0.120725\n",
      "3  0.261856     0.785568\n",
      "4  0.910627     2.731881\n",
      "5  0.597355     1.792064\n",
      "6  0.843589     2.530766\n",
      "7  0.829203     2.487609\n",
      "8  0.864137     2.592410\n",
      "9  0.278736     0.836207\n"
     ]
    }
   ],
   "source": [
    "computation = client.compute(tasks, optimize_graph=True)\n",
    "\n",
    "for part in dask.distributed.as_completed(computation):\n",
    "    print(part.result())"
   ]
  },
  {
   "cell_type": "markdown",
   "metadata": {},
   "source": [
    "#### Future.result"
   ]
  },
  {
   "cell_type": "code",
   "execution_count": 110,
   "metadata": {},
   "outputs": [],
   "source": [
    "def first_computation(df):\n",
    "    return df['number'] + 10\n",
    "\n",
    "computation_1 = client.submit(first_computation, ddf)"
   ]
  },
  {
   "cell_type": "code",
   "execution_count": 113,
   "metadata": {},
   "outputs": [
    {
     "data": {
      "text/plain": [
       "0    49\n",
       "1    21\n",
       "2    41\n",
       "3    50\n",
       "4    43\n",
       "5    52\n",
       "6    46\n",
       "7    48\n",
       "8    27\n",
       "9    20\n",
       "Name: number, dtype: int64"
      ]
     },
     "execution_count": 113,
     "metadata": {},
     "output_type": "execute_result"
    }
   ],
   "source": [
    "computation_1.result().compute()"
   ]
  },
  {
   "cell_type": "markdown",
   "metadata": {},
   "source": [
    "#### Future.done"
   ]
  },
  {
   "cell_type": "code",
   "execution_count": 114,
   "metadata": {},
   "outputs": [
    {
     "name": "stdout",
     "output_type": "stream",
     "text": [
      "True\n"
     ]
    }
   ],
   "source": [
    "print(computation_1.done())"
   ]
  },
  {
   "cell_type": "markdown",
   "metadata": {},
   "source": [
    "#### client.gather"
   ]
  },
  {
   "cell_type": "code",
   "execution_count": 116,
   "metadata": {},
   "outputs": [
    {
     "data": {
      "text/plain": [
       "0    49\n",
       "1    21\n",
       "2    41\n",
       "3    50\n",
       "4    43\n",
       "5    52\n",
       "6    46\n",
       "7    48\n",
       "8    27\n",
       "9    20\n",
       "Name: number, dtype: int64"
      ]
     },
     "execution_count": 116,
     "metadata": {},
     "output_type": "execute_result"
    }
   ],
   "source": [
    "client.gather(computation_1).compute()"
   ]
  },
  {
   "cell_type": "markdown",
   "metadata": {},
   "source": [
    "#### client.scatter"
   ]
  },
  {
   "cell_type": "code",
   "execution_count": 120,
   "metadata": {},
   "outputs": [],
   "source": [
    "data = client.gather(computation_1).compute()\n",
    "distributed = client.scatter(data)"
   ]
  },
  {
   "cell_type": "markdown",
   "metadata": {},
   "source": [
    "#### client.cancel"
   ]
  },
  {
   "cell_type": "code",
   "execution_count": 121,
   "metadata": {},
   "outputs": [],
   "source": [
    "computation_1.cancel()"
   ]
  }
 ],
 "metadata": {
  "kernelspec": {
   "display_name": "Python 3",
   "language": "python",
   "name": "python3"
  },
  "language_info": {
   "codemirror_mode": {
    "name": "ipython",
    "version": 3
   },
   "file_extension": ".py",
   "mimetype": "text/x-python",
   "name": "python",
   "nbconvert_exporter": "python",
   "pygments_lexer": "ipython3",
   "version": "3.8.5"
  }
 },
 "nbformat": 4,
 "nbformat_minor": 4
}
